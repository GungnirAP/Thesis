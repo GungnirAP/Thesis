{
 "cells": [
  {
   "cell_type": "code",
   "execution_count": 1,
   "id": "dc021320",
   "metadata": {},
   "outputs": [
    {
     "data": {
      "application/javascript": [
       "IPython.notebook.set_autosave_interval(60000)"
      ]
     },
     "metadata": {},
     "output_type": "display_data"
    },
    {
     "name": "stdout",
     "output_type": "stream",
     "text": [
      "Autosaving every 60 seconds\n"
     ]
    }
   ],
   "source": [
    "%autosave 60\n",
    "%matplotlib inline\n",
    "\n",
    "import python_preamble"
   ]
  },
  {
   "cell_type": "markdown",
   "id": "41071a0e",
   "metadata": {},
   "source": [
    "# Descriptive stats"
   ]
  },
  {
   "cell_type": "code",
   "execution_count": null,
   "id": "38d9a863",
   "metadata": {},
   "outputs": [],
   "source": [
    "from nltk.tokenize import sent_tokenize\n",
    "from nltk.tokenize import word_tokenize"
   ]
  },
  {
   "cell_type": "code",
   "execution_count": null,
   "id": "cd908f0a",
   "metadata": {},
   "outputs": [],
   "source": [
    "df = pd.read_csv(os.path.join(data_folder + \"/input/main_upd4.csv\"), encoding=\"utf-8\", sep=\";\")\n",
    "df.date = pd.to_datetime(df.date).dt.date\n",
    "df = df[df.date < datetime.date(2022, 1, 1)]\n",
    "df.type = df.type.str.replace(\"Пресс-релиз\", \"0\").str.replace(\"Выступление\", \"1\").astype(int)\n",
    "df.tail()"
   ]
  },
  {
   "cell_type": "code",
   "execution_count": null,
   "id": "5a595478",
   "metadata": {},
   "outputs": [],
   "source": [
    "# pd.set_option('display.precision', 1)\n",
    "df['text_len'] = df.text.str.len()\n",
    "df_stats = df.groupby([\"type\", \"rate_flag\"])['text_len'].agg([\"count\",\"mean\",'min', 'max']).reset_index()\n",
    "df_stats.type = df_stats.type.astype(str).str.replace(\"0\",\"Press-release\").str.replace(\"1\",\"Statement\")\n",
    "df_stats.rate_flag = df_stats.rate_flag.astype(str).str.replace(\"0\",\"Other\").str.replace(\"1\",\"On rate\")\n",
    "df_stats2 = df.groupby([\"type\"])['text_len'].agg([\"count\",\"mean\",'min', 'max']).reset_index()\n",
    "df_stats2.type = df_stats2.type.astype(str).str.replace(\"0\",\"Press-release\").str.replace(\"1\",\"Statement\")\n",
    "df_stats2['rate_flag'] =\"\"\n",
    "df_stats2 = df_stats2[df_stats.columns]\n",
    "df_stats.columns = ['type', 'rate_flag', 'Num of obs.', 'Average num of symbols', \n",
    "                    'Minimum num of symbols', 'Maximum num of symbols']\n",
    "df_stats2.columns = df_stats.columns"
   ]
  },
  {
   "cell_type": "code",
   "execution_count": null,
   "id": "951fe2b1",
   "metadata": {},
   "outputs": [],
   "source": [
    "stats = []\n",
    "for i, text in zip(df.index, df.text):\n",
    "    stats.append([len(sent_tokenize(text)), len(word_tokenize(text))])\n",
    "df[\"numsent\"] = np.array(stats).T[0]\n",
    "df[\"numwords\"] = np.array(stats).T[1]"
   ]
  },
  {
   "cell_type": "code",
   "execution_count": null,
   "id": "72734925",
   "metadata": {},
   "outputs": [],
   "source": [
    "df_stats['Average num of sententences'] = df.groupby([\"type\", \"rate_flag\"])['numsent'].agg([\"mean\"]).reset_index()['mean']\n",
    "df_stats['Average num of words'] = df.groupby([\"type\", \"rate_flag\"])['numwords'].agg([\"mean\"]).reset_index()['mean']\n",
    "df_stats2['Average num of sententences'] = df.groupby([\"type\"])['numsent'].agg([\"mean\"]).reset_index()['mean']\n",
    "df_stats2['Average num of words'] = df.groupby([\"type\"])['numwords'].agg([\"mean\"]).reset_index()['mean']\n",
    "df_stats_fin = pd.concat([df_stats2, df_stats]).sort_values(by=['type'])\n",
    "print(df_stats_fin.to_latex(index=False).replace(\"\\t\", \" \"))"
   ]
  },
  {
   "cell_type": "code",
   "execution_count": null,
   "id": "c134469c",
   "metadata": {},
   "outputs": [],
   "source": [
    "df_temp = df[(df.type == 0) & (df.rate_flag == 0) & (df.text_len < 2000)]\n",
    "sns.histplot(df_temp.text_len)"
   ]
  },
  {
   "cell_type": "markdown",
   "id": "b7998836",
   "metadata": {},
   "source": [
    "## Dictionary-based \n",
    "(HOLD)"
   ]
  },
  {
   "cell_type": "markdown",
   "id": "21f2a65a",
   "metadata": {},
   "source": [
    "## Dostoevsky\n",
    "https://pypi.org/project/dostoevsky/"
   ]
  },
  {
   "cell_type": "code",
   "execution_count": 2,
   "id": "103a93d5",
   "metadata": {},
   "outputs": [],
   "source": [
    "# pip install dostoevsky"
   ]
  },
  {
   "cell_type": "code",
   "execution_count": null,
   "id": "4bdd076e",
   "metadata": {},
   "outputs": [],
   "source": [
    "import dostoevsky\n",
    "from dostoevsky.tokenization import RegexTokenizer\n",
    "from dostoevsky.models import FastTextSocialNetworkModel\n",
    "\n",
    "tokenizer = RegexTokenizer()\n",
    "model = FastTextSocialNetworkModel(tokenizer=tokenizer)\n",
    "\n",
    "def metrics_vec(results):\n",
    "    metrics = [[i['negative'], i['positive'], i['neutral']] for i in results]\n",
    "    metrics = np.array(metrics)\n",
    "    metrics_sum = metrics.sum(axis=1)\n",
    "    return (metrics / metrics_sum[:, np.newaxis]).T"
   ]
  },
  {
   "cell_type": "code",
   "execution_count": null,
   "id": "cc85b4dd",
   "metadata": {},
   "outputs": [],
   "source": [
    "%%time \n",
    "# 42.1 sec\n",
    "messages = df.text.tolist()\n",
    "\n",
    "allresults = model.predict(messages, k=5)"
   ]
  },
  {
   "cell_type": "code",
   "execution_count": null,
   "id": "a0009b6e",
   "metadata": {},
   "outputs": [],
   "source": [
    "metrics = metrics_vec(allresults)\n",
    "df['negative'] = metrics[0]\n",
    "df['positive'] = metrics[1]\n",
    "df['tone'] = (df['positive'] - df['negative'])"
   ]
  },
  {
   "cell_type": "code",
   "execution_count": null,
   "id": "7462a7b9",
   "metadata": {},
   "outputs": [],
   "source": [
    "sns.histplot(df.tone)\n",
    "plt.show()"
   ]
  },
  {
   "cell_type": "code",
   "execution_count": null,
   "id": "ec586331",
   "metadata": {},
   "outputs": [],
   "source": [
    "# overall\n",
    "\n",
    "fig, ax = plt.subplots(1, 1, figsize=(15, 7))\n",
    "\n",
    "sns.scatterplot(x = df.date, y = df.tone, alpha=0.5, color='b', label='All texts')\n",
    "sns.scatterplot(x = df[df.rate_flag == 1].date, y = df[df.rate_flag == 1].tone, alpha=1, color='r', \n",
    "                label='Press releases\\non the rate')\n",
    "sns.scatterplot(x = df[df.type == 1].date, y = df[df.type == 1].tone, alpha=1, color='g', \n",
    "                label='Press conferences\\non the rate')\n",
    "\n",
    "    \n",
    "# sns.lineplot(x = df_rates.date, y = df_rates.rate_real, color = 'black',label=\"Current rate\", alpha=0.8, linewidth=2)\n",
    "plt.xlim((datetime.date(2009, 12, 1), datetime.date(2022, 3, 1)))\n",
    "\n",
    "\n",
    "ax.set_xlabel('Date', fontsize=13)\n",
    "ax.set_ylabel('Tone Sentiment', fontsize=13)\n",
    "\n",
    "legend = plt.legend(loc=\"upper right\", edgecolor=\"grey\", fontsize=15)\n",
    "legend.get_frame().set_alpha(None)\n",
    "\n",
    "fig.patch.set_facecolor('white')\n",
    "ax.set_xticks([datetime.date(2010, 1, 1) + relativedelta(years=i) for i in range(0, 13)])\n",
    "ax.set_xticklabels([(datetime.date(2010, 1, 1) + relativedelta(years=i)).strftime(\"%Y-%m\") for i in range(0, 14)])\n",
    "plt.xticks(fontsize=13)\n",
    "plt.yticks(fontsize=13)\n",
    "\n",
    "# locs, labels = xticks()  # Get the current locations and labels.\n",
    "# xticks(np.arange(73042, 738157, 730/2))  # Set text labels.\n",
    "plt.show()"
   ]
  },
  {
   "cell_type": "code",
   "execution_count": null,
   "id": "58763211",
   "metadata": {},
   "outputs": [],
   "source": [
    "# overall\n",
    "\n",
    "fig, ax = plt.subplots(1, 1, figsize=(15, 7))\n",
    "\n",
    "df_temp = df[(df.date > datetime.date(2015, 12, 31)) & (df.date < datetime.date(2016, 12, 31))]\n",
    "\n",
    "sns.scatterplot(x = df_temp.date, y = df_temp.tone, alpha=0.5, color='b', label='All texts')\n",
    "sns.scatterplot(x = df_temp[df_temp.rate_flag == 1].date, y = df_temp[df_temp.rate_flag == 1].tone, s=100, alpha=1, color='r', \n",
    "                label='Press releases\\non the rate')\n",
    "sns.scatterplot(x = df_temp[df_temp.type == 1].date, y = df_temp[df_temp.type == 1].tone, alpha=1, s=100, color='g', \n",
    "                label='Press conferences\\non the rate')\n",
    "\n",
    "    \n",
    "plt.xlim(df_temp.date.min() - relativedelta(days=5), df_temp.date.max() + relativedelta(days=5))\n",
    "\n",
    "\n",
    "ax.set_xlabel('Date', fontsize=13)\n",
    "ax.set_ylabel('Tone Sentiment', fontsize=13)\n",
    "\n",
    "legend = plt.legend(loc=\"upper right\", edgecolor=\"grey\", fontsize=15)\n",
    "legend.get_frame().set_alpha(None)\n",
    "\n",
    "fig.patch.set_facecolor('white')\n",
    "plt.xticks(fontsize=13)\n",
    "plt.yticks(fontsize=13)\n",
    "\n",
    "plt.show()"
   ]
  },
  {
   "cell_type": "code",
   "execution_count": null,
   "id": "88b91414",
   "metadata": {},
   "outputs": [],
   "source": [
    "sns.scatterplot(x = df.text_len, y = df.tone)\n",
    "plt.show()"
   ]
  },
  {
   "cell_type": "code",
   "execution_count": null,
   "id": "fa109911",
   "metadata": {},
   "outputs": [],
   "source": [
    "df.to_csv(\"main_upd5.csv\", encoding=\"utf-8\", sep=\";\", index=False)"
   ]
  },
  {
   "cell_type": "code",
   "execution_count": null,
   "id": "976411b3",
   "metadata": {},
   "outputs": [],
   "source": [
    "df[df.rate_flag ==1].groupby(\"type\")['date'].count()"
   ]
  },
  {
   "cell_type": "markdown",
   "id": "328723ae",
   "metadata": {},
   "source": [
    "# Продвинутые метрики\n",
    "(HOLD)"
   ]
  }
 ],
 "metadata": {
  "kernelspec": {
   "display_name": "Python 3 (ipykernel)",
   "language": "python",
   "name": "python3"
  },
  "language_info": {
   "codemirror_mode": {
    "name": "ipython",
    "version": 3
   },
   "file_extension": ".py",
   "mimetype": "text/x-python",
   "name": "python",
   "nbconvert_exporter": "python",
   "pygments_lexer": "ipython3",
   "version": "3.9.12"
  }
 },
 "nbformat": 4,
 "nbformat_minor": 5
}
