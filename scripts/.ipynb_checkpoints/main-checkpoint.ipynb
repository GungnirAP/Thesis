{
 "cells": [
  {
   "cell_type": "code",
   "execution_count": 2,
   "metadata": {},
   "outputs": [
    {
     "data": {
      "application/javascript": [
       "IPython.notebook.set_autosave_interval(60000)"
      ]
     },
     "metadata": {},
     "output_type": "display_data"
    },
    {
     "name": "stdout",
     "output_type": "stream",
     "text": [
      "Autosaving every 60 seconds\n"
     ]
    }
   ],
   "source": [
    "%autosave 60\n",
    "%matplotlib inline\n",
    "\n",
    "import python_preamble"
   ]
  },
  {
   "cell_type": "code",
   "execution_count": 20,
   "metadata": {},
   "outputs": [
    {
     "data": {
      "text/html": [
       "<div>\n",
       "<style scoped>\n",
       "    .dataframe tbody tr th:only-of-type {\n",
       "        vertical-align: middle;\n",
       "    }\n",
       "\n",
       "    .dataframe tbody tr th {\n",
       "        vertical-align: top;\n",
       "    }\n",
       "\n",
       "    .dataframe thead th {\n",
       "        text-align: right;\n",
       "    }\n",
       "</style>\n",
       "<table border=\"1\" class=\"dataframe\">\n",
       "  <thead>\n",
       "    <tr style=\"text-align: right;\">\n",
       "      <th></th>\n",
       "      <th>date</th>\n",
       "      <th>type</th>\n",
       "      <th>header</th>\n",
       "      <th>text</th>\n",
       "      <th>url</th>\n",
       "      <th>rate_flag</th>\n",
       "      <th>splittext</th>\n",
       "      <th>text_len</th>\n",
       "      <th>numsent</th>\n",
       "      <th>numwords</th>\n",
       "      <th>negative</th>\n",
       "      <th>positive</th>\n",
       "      <th>tone</th>\n",
       "    </tr>\n",
       "  </thead>\n",
       "  <tbody>\n",
       "    <tr>\n",
       "      <th>0</th>\n",
       "      <td>2010-01-11</td>\n",
       "      <td>0</td>\n",
       "      <td>О результатах мониторинга максимальных процент...</td>\n",
       "      <td>Департамент внешних и общественных связей Банк...</td>\n",
       "      <td>http://www.cbr.ru/press/PR/?file=100111_133902...</td>\n",
       "      <td>0</td>\n",
       "      <td>NaN</td>\n",
       "      <td>801</td>\n",
       "      <td>3</td>\n",
       "      <td>137</td>\n",
       "      <td>0.094714</td>\n",
       "      <td>0.013910</td>\n",
       "      <td>-0.080804</td>\n",
       "    </tr>\n",
       "    <tr>\n",
       "      <th>1</th>\n",
       "      <td>2010-01-11</td>\n",
       "      <td>0</td>\n",
       "      <td>Об условиях проведения Банком России 11.01.201...</td>\n",
       "      <td>Департамент внешних и общественных связей Банк...</td>\n",
       "      <td>http://www.cbr.ru/press/PR/?file=100111_104827...</td>\n",
       "      <td>0</td>\n",
       "      <td>NaN</td>\n",
       "      <td>553</td>\n",
       "      <td>2</td>\n",
       "      <td>77</td>\n",
       "      <td>0.181789</td>\n",
       "      <td>0.076406</td>\n",
       "      <td>-0.105383</td>\n",
       "    </tr>\n",
       "    <tr>\n",
       "      <th>2</th>\n",
       "      <td>2010-01-11</td>\n",
       "      <td>0</td>\n",
       "      <td>О проведении ломбардных кредитных аукционов</td>\n",
       "      <td>Департамент внешних и общественных связей Банк...</td>\n",
       "      <td>http://www.cbr.ru/press/PR/?file=100111_161453...</td>\n",
       "      <td>0</td>\n",
       "      <td>NaN</td>\n",
       "      <td>322</td>\n",
       "      <td>1</td>\n",
       "      <td>48</td>\n",
       "      <td>0.149605</td>\n",
       "      <td>0.085060</td>\n",
       "      <td>-0.064544</td>\n",
       "    </tr>\n",
       "    <tr>\n",
       "      <th>3</th>\n",
       "      <td>2010-01-12</td>\n",
       "      <td>0</td>\n",
       "      <td>Об условиях проведения Банком России 12.01.201...</td>\n",
       "      <td>Департамент внешних и общественных связей Банк...</td>\n",
       "      <td>http://www.cbr.ru/press/PR/?file=100112_112503...</td>\n",
       "      <td>0</td>\n",
       "      <td>NaN</td>\n",
       "      <td>553</td>\n",
       "      <td>2</td>\n",
       "      <td>77</td>\n",
       "      <td>0.183338</td>\n",
       "      <td>0.077057</td>\n",
       "      <td>-0.106281</td>\n",
       "    </tr>\n",
       "    <tr>\n",
       "      <th>4</th>\n",
       "      <td>2010-01-12</td>\n",
       "      <td>0</td>\n",
       "      <td>Об итогах проведения ломбардных кредитных аукц...</td>\n",
       "      <td>Департамент внешних и общественных связей Банк...</td>\n",
       "      <td>http://www.cbr.ru/press/PR/?file=100112_181233...</td>\n",
       "      <td>0</td>\n",
       "      <td>NaN</td>\n",
       "      <td>1726</td>\n",
       "      <td>6</td>\n",
       "      <td>281</td>\n",
       "      <td>0.250569</td>\n",
       "      <td>0.055870</td>\n",
       "      <td>-0.194700</td>\n",
       "    </tr>\n",
       "  </tbody>\n",
       "</table>\n",
       "</div>"
      ],
      "text/plain": [
       "         date  type                                             header  \\\n",
       "0  2010-01-11     0  О результатах мониторинга максимальных процент...   \n",
       "1  2010-01-11     0  Об условиях проведения Банком России 11.01.201...   \n",
       "2  2010-01-11     0        О проведении ломбардных кредитных аукционов   \n",
       "3  2010-01-12     0  Об условиях проведения Банком России 12.01.201...   \n",
       "4  2010-01-12     0  Об итогах проведения ломбардных кредитных аукц...   \n",
       "\n",
       "                                                text  \\\n",
       "0  Департамент внешних и общественных связей Банк...   \n",
       "1  Департамент внешних и общественных связей Банк...   \n",
       "2  Департамент внешних и общественных связей Банк...   \n",
       "3  Департамент внешних и общественных связей Банк...   \n",
       "4  Департамент внешних и общественных связей Банк...   \n",
       "\n",
       "                                                 url  rate_flag splittext  \\\n",
       "0  http://www.cbr.ru/press/PR/?file=100111_133902...          0       NaN   \n",
       "1  http://www.cbr.ru/press/PR/?file=100111_104827...          0       NaN   \n",
       "2  http://www.cbr.ru/press/PR/?file=100111_161453...          0       NaN   \n",
       "3  http://www.cbr.ru/press/PR/?file=100112_112503...          0       NaN   \n",
       "4  http://www.cbr.ru/press/PR/?file=100112_181233...          0       NaN   \n",
       "\n",
       "   text_len  numsent  numwords  negative  positive      tone  \n",
       "0       801        3       137  0.094714  0.013910 -0.080804  \n",
       "1       553        2        77  0.181789  0.076406 -0.105383  \n",
       "2       322        1        48  0.149605  0.085060 -0.064544  \n",
       "3       553        2        77  0.183338  0.077057 -0.106281  \n",
       "4      1726        6       281  0.250569  0.055870 -0.194700  "
      ]
     },
     "execution_count": 20,
     "metadata": {},
     "output_type": "execute_result"
    }
   ],
   "source": [
    "df = pd.read_csv(os.path.join(data_folder + \"/input/main_upd5.csv\"), encoding=\"utf-8\", sep=\";\")\n",
    "df.date = pd.to_datetime(df.date).dt.date\n",
    "df.head()"
   ]
  },
  {
   "cell_type": "markdown",
   "metadata": {},
   "source": [
    "# Добавляем остальные переменные метрики"
   ]
  },
  {
   "cell_type": "code",
   "execution_count": 21,
   "metadata": {},
   "outputs": [],
   "source": [
    "# df_temp = df[df.rate_flag == 1]\n",
    "# plt.scatter(df_temp.date, df_temp['positive'] / (df_temp['positive'] + df_temp['negative']) )\n",
    "# df_temp = df[(df.rate_flag == 1) & (df.type == 1)]\n",
    "# plt.scatter(df_temp.date, df_temp['positive'] / (df_temp['positive'] + df_temp['negative']) )"
   ]
  },
  {
   "cell_type": "markdown",
   "metadata": {},
   "source": [
    "## Ключевая ставка"
   ]
  },
  {
   "cell_type": "code",
   "execution_count": 22,
   "metadata": {},
   "outputs": [],
   "source": [
    "months = {\"января\": \"01\",\n",
    "\"февраля\": \"02\",\n",
    "\"марта\": \"03\",\n",
    "\"апреля\": \"04\",\n",
    "\"мая\": \"05\",\n",
    "\"июня\": \"06\",\n",
    "\"июля\": \"07\",\n",
    "\"августа\": \"08\",\n",
    "\"сентября\": \"09\",\n",
    "\"октября\": \"10\",\n",
    "\"ноября\": \"11\",\n",
    "\"декабря\": \"12\"}"
   ]
  },
  {
   "cell_type": "code",
   "execution_count": 23,
   "metadata": {},
   "outputs": [],
   "source": [
    "df_rate = pd.read_csv(os.path.join(data_folder + \"/input/key_rate.csv\"))\n",
    "df_rate['announced_date'] = pd.to_datetime(df_rate['announced_date'], format=\"%d.%m.%Y\").dt.date\n",
    "dates = []\n",
    "for i in df_rate.actual_date:\n",
    "    l = i.split()\n",
    "    dates.append(l[0]+\".\"+months[l[1]]+\".\"+l[2])\n",
    "df_rate['actual_date'] = dates\n",
    "df_rate['actual_date'] = pd.to_datetime(df_rate['actual_date'], format=\"%d.%m.%Y\").dt.date\n",
    "df_rate['rate'] = df_rate['rate'].str.replace(\",\",\".\").astype(float)"
   ]
  },
  {
   "cell_type": "code",
   "execution_count": 24,
   "metadata": {},
   "outputs": [
    {
     "data": {
      "text/html": [
       "<div>\n",
       "<style scoped>\n",
       "    .dataframe tbody tr th:only-of-type {\n",
       "        vertical-align: middle;\n",
       "    }\n",
       "\n",
       "    .dataframe tbody tr th {\n",
       "        vertical-align: top;\n",
       "    }\n",
       "\n",
       "    .dataframe thead th {\n",
       "        text-align: right;\n",
       "    }\n",
       "</style>\n",
       "<table border=\"1\" class=\"dataframe\">\n",
       "  <thead>\n",
       "    <tr style=\"text-align: right;\">\n",
       "      <th></th>\n",
       "      <th>date</th>\n",
       "      <th>type</th>\n",
       "      <th>header</th>\n",
       "      <th>text</th>\n",
       "      <th>url</th>\n",
       "      <th>rate_flag</th>\n",
       "      <th>splittext</th>\n",
       "      <th>text_len</th>\n",
       "      <th>numsent</th>\n",
       "      <th>numwords</th>\n",
       "      <th>negative</th>\n",
       "      <th>positive</th>\n",
       "      <th>tone</th>\n",
       "      <th>rate_announced</th>\n",
       "      <th>rate_real</th>\n",
       "      <th>rate_shock_abs</th>\n",
       "      <th>rate_shock_rel</th>\n",
       "    </tr>\n",
       "  </thead>\n",
       "  <tbody>\n",
       "    <tr>\n",
       "      <th>108</th>\n",
       "      <td>2021-10-22</td>\n",
       "      <td>0</td>\n",
       "      <td>Банк России принял решение повысить ключевую с...</td>\n",
       "      <td>Совет директоров Банка России 22 октября 2021 ...</td>\n",
       "      <td>https://www.cbr.ru/press/pr/?file=22102021_133...</td>\n",
       "      <td>1</td>\n",
       "      <td>NaN</td>\n",
       "      <td>9046</td>\n",
       "      <td>71</td>\n",
       "      <td>1276</td>\n",
       "      <td>0.187382</td>\n",
       "      <td>0.061726</td>\n",
       "      <td>-0.125656</td>\n",
       "      <td>7.5</td>\n",
       "      <td>6.75</td>\n",
       "      <td>0.75</td>\n",
       "      <td>0.111111</td>\n",
       "    </tr>\n",
       "    <tr>\n",
       "      <th>109</th>\n",
       "      <td>2021-12-17</td>\n",
       "      <td>1</td>\n",
       "      <td>Заявление Председателя Банка России Эльвиры На...</td>\n",
       "      <td>Добрый день! Мы приняли решение повысить ключе...</td>\n",
       "      <td>https://www.cbr.ru/press/event/?id=12542</td>\n",
       "      <td>1</td>\n",
       "      <td>Добрый день! Мы приняли решение повысить ключе...</td>\n",
       "      <td>25807</td>\n",
       "      <td>228</td>\n",
       "      <td>4279</td>\n",
       "      <td>0.243268</td>\n",
       "      <td>0.092965</td>\n",
       "      <td>-0.150303</td>\n",
       "      <td>8.5</td>\n",
       "      <td>7.50</td>\n",
       "      <td>1.00</td>\n",
       "      <td>0.133333</td>\n",
       "    </tr>\n",
       "    <tr>\n",
       "      <th>110</th>\n",
       "      <td>2021-12-17</td>\n",
       "      <td>0</td>\n",
       "      <td>Банк России принял решение повысить ключевую с...</td>\n",
       "      <td>Совет директоров Банка России 17 декабря 2021 ...</td>\n",
       "      <td>https://www.cbr.ru/press/pr/?file=17122021_133...</td>\n",
       "      <td>1</td>\n",
       "      <td>NaN</td>\n",
       "      <td>8486</td>\n",
       "      <td>65</td>\n",
       "      <td>1188</td>\n",
       "      <td>0.202485</td>\n",
       "      <td>0.058289</td>\n",
       "      <td>-0.144196</td>\n",
       "      <td>8.5</td>\n",
       "      <td>7.50</td>\n",
       "      <td>1.00</td>\n",
       "      <td>0.133333</td>\n",
       "    </tr>\n",
       "  </tbody>\n",
       "</table>\n",
       "</div>"
      ],
      "text/plain": [
       "           date  type                                             header  \\\n",
       "108  2021-10-22     0  Банк России принял решение повысить ключевую с...   \n",
       "109  2021-12-17     1  Заявление Председателя Банка России Эльвиры На...   \n",
       "110  2021-12-17     0  Банк России принял решение повысить ключевую с...   \n",
       "\n",
       "                                                  text  \\\n",
       "108  Совет директоров Банка России 22 октября 2021 ...   \n",
       "109  Добрый день! Мы приняли решение повысить ключе...   \n",
       "110  Совет директоров Банка России 17 декабря 2021 ...   \n",
       "\n",
       "                                                   url  rate_flag  \\\n",
       "108  https://www.cbr.ru/press/pr/?file=22102021_133...          1   \n",
       "109           https://www.cbr.ru/press/event/?id=12542          1   \n",
       "110  https://www.cbr.ru/press/pr/?file=17122021_133...          1   \n",
       "\n",
       "                                             splittext  text_len  numsent  \\\n",
       "108                                                NaN      9046       71   \n",
       "109  Добрый день! Мы приняли решение повысить ключе...     25807      228   \n",
       "110                                                NaN      8486       65   \n",
       "\n",
       "     numwords  negative  positive      tone  rate_announced  rate_real  \\\n",
       "108      1276  0.187382  0.061726 -0.125656             7.5       6.75   \n",
       "109      4279  0.243268  0.092965 -0.150303             8.5       7.50   \n",
       "110      1188  0.202485  0.058289 -0.144196             8.5       7.50   \n",
       "\n",
       "     rate_shock_abs  rate_shock_rel  \n",
       "108            0.75        0.111111  \n",
       "109            1.00        0.133333  \n",
       "110            1.00        0.133333  "
      ]
     },
     "execution_count": 24,
     "metadata": {},
     "output_type": "execute_result"
    }
   ],
   "source": [
    "df_short = df[(df.date >= datetime.date(2013, 9, 13)) & (df.rate_flag == 1)].reset_index(drop=True)\n",
    "\n",
    "announced_rates = dict(df_rate[['announced_date','rate']].to_numpy())\n",
    "# df_short.date.apply(lambda x: announced_rates[x])\n",
    "all_dates = pd.DataFrame(np.arange(df_short.date.min(), df_short.date.max()+datetime.timedelta(1)), columns = ['date'])\n",
    "df_announced_rates = all_dates.copy()\n",
    "\n",
    "curmin = min(list(announced_rates.keys()))\n",
    "r = [announced_rates.pop(curmin)]\n",
    "for d in all_dates.date[1:]:\n",
    "    curmin2 = min(list(announced_rates.keys()))\n",
    "    if d >= curmin2:\n",
    "        curmin = curmin2\n",
    "        r.append(announced_rates.pop(curmin))\n",
    "    else:\n",
    "        r.append(r[-1])\n",
    "df_announced_rates['rate'] = r\n",
    "\n",
    "actual_rates = dict(df_rate[['actual_date','rate']].to_numpy())\n",
    "df_real_rates = all_dates.copy()\n",
    "curmin = min(list(actual_rates.keys()))\n",
    "r = [actual_rates.pop(curmin)]\n",
    "for d in all_dates.date[1:]:\n",
    "    curmin2 = min(list(actual_rates.keys()))\n",
    "    if d >= curmin2:\n",
    "        curmin = curmin2\n",
    "        r.append(actual_rates.pop(curmin))\n",
    "    else:\n",
    "        r.append(r[-1])\n",
    "df_real_rates['rate'] = r\n",
    "\n",
    "df_rates = pd.merge(df_announced_rates, df_real_rates, left_on=\"date\", right_on='date', suffixes=(\"_announced\", \"_real\"))\n",
    "df_rates['date'] = df_rates['date'].dt.date\n",
    "df_rates.tail()\n",
    "\n",
    "df_short = pd.merge(df_short, df_rates, how=\"left\", left_on=\"date\", right_on='date')\n",
    "df_short['rate_shock_abs'] = df_short.rate_announced - df_short.rate_real\n",
    "df_short['rate_shock_rel'] = df_short.rate_shock_abs / df_short.rate_real\n",
    "# df_short = df_short[(df_short.date > datetime.date(2013, 9, 13))].reset_index(drop=True)\n",
    "df_short.tail(3)"
   ]
  },
  {
   "cell_type": "code",
   "execution_count": 25,
   "metadata": {},
   "outputs": [],
   "source": [
    "df_short.loc[(df_short.date == datetime.date(2013, 9, 13)), \"rate_shock_abs\"] = \\\n",
    "    df_short.loc[(df_short.date == datetime.date(2013, 9, 13)), \"rate_real\"]"
   ]
  },
  {
   "cell_type": "code",
   "execution_count": 26,
   "metadata": {},
   "outputs": [
    {
     "data": {
      "text/plain": [
       "type\n",
       "0    70\n",
       "1    41\n",
       "Name: date, dtype: int64"
      ]
     },
     "execution_count": 26,
     "metadata": {},
     "output_type": "execute_result"
    }
   ],
   "source": [
    "df_short[df_short.rate_flag ==1].groupby(\"type\")['date'].count()"
   ]
  },
  {
   "cell_type": "code",
   "execution_count": 27,
   "metadata": {},
   "outputs": [
    {
     "data": {
      "text/plain": [
       "array([ 5.5 ,  0.  ,  0.5 ,  1.5 ,  1.  , -2.  , -1.  , -1.5 , -0.5 ,\n",
       "       -0.25,  0.25,  0.75])"
      ]
     },
     "execution_count": 27,
     "metadata": {},
     "output_type": "execute_result"
    }
   ],
   "source": [
    "df_short.rate_shock_abs.unique()"
   ]
  },
  {
   "cell_type": "code",
   "execution_count": 28,
   "metadata": {},
   "outputs": [
    {
     "data": {
      "image/png": "[encoded data removed]",
      "text/plain": [
       "<Figure size 1080x360 with 1 Axes>"
      ]
     },
     "metadata": {},
     "output_type": "display_data"
    }
   ],
   "source": [
    "# font = FontProperties()\n",
    "# font.set_family('serif')\n",
    "# font.set_name('Calibri')\n",
    "# font.set_style('italic')\n",
    "\n",
    "fig, ax = plt.subplots(1, 1, figsize=(15, 5))\n",
    "\n",
    "\n",
    "# y_ver = np.arange(2, 16)\n",
    "y_ver = np.arange(0.5, 17.1, 0.01)\n",
    "ax.scatter([datetime.date(2013, 9, 13)],[5.5], color='black', label='Announced rate', marker=\"x\")\n",
    "ax.plot([datetime.date(2013, 9, 13)] * y_ver.shape[0], y_ver, color = 'r', alpha=0.5, linestyle=\"--\", \n",
    "        label='Press conference')\n",
    "for i, j in  df_short[df_short.type == 1][[\"date\", \"rate_announced\"]].to_numpy():\n",
    "    ax.plot([i] * y_ver.shape[0], y_ver, color = 'r', alpha=0.7, linestyle=\"--\")\n",
    "    ax.scatter([i],[j], color='black', marker=\"x\")\n",
    "    \n",
    "sns.lineplot(x = df_rates.date, y = df_rates.rate_real, color = 'black',label=\"Current rate\", alpha=0.8, linewidth=2)\n",
    "\n",
    "ax.set_xlabel('Date', fontsize=13)\n",
    "ax.set_ylabel('Key rate (%)', fontsize=13)\n",
    "plt.xlim((datetime.date(2013, 8, 1), datetime.date(2022, 2, 1)))\n",
    "plt.ylim(0, 18)\n",
    "ax.yaxis.set_ticks(np.arange(0, 17, 2))\n",
    "ax.set_xticks([datetime.date(2014, 1, 1) + relativedelta(years=i) for i in range(0, 9)])\n",
    "ax.set_xticklabels([(datetime.date(2014, 1, 1) + relativedelta(years=i)).strftime(\"%Y-%m\") for i in range(0, 9)])\n",
    "\n",
    "legend = plt.legend(loc=\"upper right\", edgecolor=\"grey\", fontsize=15)\n",
    "legend.get_frame().set_alpha(None)\n",
    "# legend.get_frame().set_facecolor((0, 0, 1, 0.1))\n",
    "plt.xticks(fontsize=13)\n",
    "plt.yticks(fontsize=13)\n",
    "\n",
    "ax.grid(axis='y', alpha=0.3)\n",
    "fig.patch.set_facecolor('white')\n",
    "plt.show()"
   ]
  },
  {
   "cell_type": "code",
   "execution_count": 29,
   "metadata": {},
   "outputs": [
    {
     "name": "stderr",
     "output_type": "stream",
     "text": [
      "D:\\Users\\User\\anaconda3\\lib\\site-packages\\seaborn\\relational.py:608: UserWarning: You passed a edgecolor/edgecolors ('none') for an unfilled marker ('x').  Matplotlib is ignoring the edgecolor in favor of the facecolor.  This behavior may change in the future.\n",
      "  scout = ax.scatter(scout_x, scout_y, **kws)\n",
      "D:\\Users\\User\\anaconda3\\lib\\site-packages\\seaborn\\relational.py:658: UserWarning: You passed a edgecolor/edgecolors ('none') for an unfilled marker ('x').  Matplotlib is ignoring the edgecolor in favor of the facecolor.  This behavior may change in the future.\n",
      "  points = ax.scatter(*args, **kws)\n"
     ]
    },
    {
     "data": {
      "image/png": "[encoded data removed]",
      "text/plain": [
       "<Figure size 864x360 with 1 Axes>"
      ]
     },
     "metadata": {},
     "output_type": "display_data"
    }
   ],
   "source": [
    "# события - первая версия\n",
    "\n",
    "fig, ax = plt.subplots(1, 1, figsize=(12, 5))\n",
    "df_temp = df_short[(df_short.date > datetime.date(2013, 9, 13)) & (df_short.type==0)]\n",
    "sns.scatterplot(x = df_temp.date, y = df_temp.tone, alpha=1, s=400, color='r', linewidth=3, marker=\"*\", \n",
    "                label='Press releases', edgecolors='none')\n",
    "df_temp = df_short[(df_short.date > datetime.date(2013, 9, 13)) & (df_short.type==1)]\n",
    "sns.scatterplot(x = df_temp.date, y = df_temp.tone, alpha=1, s=50, color='g', linewidth=3, marker=\"x\",\n",
    "                label='Press conferences', edgecolors='none')\n",
    "\n",
    "ax.set_xlabel('Date', fontsize=13)\n",
    "ax.set_ylabel('Tone Sentiment', fontsize=13)\n",
    "\n",
    "legend = plt.legend(loc=\"upper right\", edgecolor=\"grey\", fontsize=15)\n",
    "legend.get_frame().set_alpha(None)\n",
    "\n",
    "fig.patch.set_facecolor('white')\n",
    "\n",
    "plt.xlim((datetime.date(2013, 6, 1), datetime.date(2022, 2, 1)))\n",
    "plt.ylim((-0.19, -0.04))\n",
    "\n",
    "ax.set_xticks([datetime.date(2014, 1, 1) + relativedelta(years=i) for i in range(0, 9)])\n",
    "ax.set_xticklabels([(datetime.date(2014, 1, 1) + relativedelta(years=i)).strftime(\"%Y-%m\") for i in range(0, 9)])\n",
    "\n",
    "plt.xticks(fontsize=13)\n",
    "plt.yticks(fontsize=13)\n",
    "\n",
    "# ax.grid(axis='y', alpha=0.3)\n",
    "plt.show()"
   ]
  },
  {
   "cell_type": "code",
   "execution_count": 30,
   "metadata": {},
   "outputs": [
    {
     "data": {
      "image/png": "[encoded data removed]",
      "text/plain": [
       "<Figure size 864x360 with 1 Axes>"
      ]
     },
     "metadata": {},
     "output_type": "display_data"
    }
   ],
   "source": [
    "# события - вторая версия\n",
    "\n",
    "fig, ax = plt.subplots(1, 1, figsize=(12, 5))\n",
    "\n",
    "\n",
    "df_temp = df_short[(df_short.date > datetime.date(2013, 9, 13)) & (df_short.type==0)]\n",
    "plt.plot(df_temp.date, df_temp.tone, '*', markersize=10, markerfacecolor='red',\n",
    "         markeredgecolor='black', markeredgewidth=0.0,label='Press releases',)\n",
    "\n",
    "df_temp = df_short[(df_short.date > datetime.date(2013, 9, 13)) & (df_short.type==1)]\n",
    "plt.plot(df_temp.date, df_temp.tone, 'x', markersize=7, markerfacecolor='green',\n",
    "         markeredgecolor='green', markeredgewidth=2.5,label='Press conferences',)\n",
    "\n",
    "# sns.scatterplot(, alpha=1, s=400, color='r', linewidth=3, marker=\"*\", \n",
    "#                 label='Press releases', edgecolors='none')\n",
    "# sns.scatterplot(x = df_temp.date, y = df_temp.tone, alpha=1, s=50, color='g', linewidth=3, marker=\"x\",\n",
    "#                 label='Press conferences', edgecolors='none')\n",
    "\n",
    "ax.set_xlabel('Date', fontsize=13)\n",
    "ax.set_ylabel('Tone Sentiment', fontsize=13)\n",
    "\n",
    "legend = plt.legend(loc=\"upper right\", edgecolor=\"grey\", fontsize=15)\n",
    "legend.get_frame().set_alpha(None)\n",
    "\n",
    "fig.patch.set_facecolor('white')\n",
    "\n",
    "plt.xlim((datetime.date(2013, 6, 1), datetime.date(2022, 2, 1)))\n",
    "plt.ylim((-0.19, -0.04))\n",
    "\n",
    "ax.set_xticks([datetime.date(2014, 1, 1) + relativedelta(years=i) for i in range(0, 9)])\n",
    "ax.set_xticklabels([(datetime.date(2014, 1, 1) + relativedelta(years=i)).strftime(\"%Y-%m\") for i in range(0, 9)])\n",
    "\n",
    "plt.xticks(fontsize=13)\n",
    "plt.yticks(fontsize=13)\n",
    "\n",
    "# ax.grid(axis='y', alpha=0.3)\n",
    "plt.savefig(os.path.join(materials_folder + \"/pics/pic4.png\"), dpi=300)\n",
    "plt.show()"
   ]
  },
  {
   "cell_type": "markdown",
   "metadata": {},
   "source": [
    "## Добавляем контроль на доверие и трансперенси \n",
    "(клеим к конкретному датасету/ спецификации)"
   ]
  },
  {
   "cell_type": "code",
   "execution_count": 31,
   "metadata": {},
   "outputs": [
    {
     "data": {
      "text/html": [
       "<div>\n",
       "<style scoped>\n",
       "    .dataframe tbody tr th:only-of-type {\n",
       "        vertical-align: middle;\n",
       "    }\n",
       "\n",
       "    .dataframe tbody tr th {\n",
       "        vertical-align: top;\n",
       "    }\n",
       "\n",
       "    .dataframe thead th {\n",
       "        text-align: right;\n",
       "    }\n",
       "</style>\n",
       "<table border=\"1\" class=\"dataframe\">\n",
       "  <thead>\n",
       "    <tr style=\"text-align: right;\">\n",
       "      <th></th>\n",
       "      <th>year</th>\n",
       "      <th>skip</th>\n",
       "      <th>idk</th>\n",
       "      <th>not</th>\n",
       "      <th>do</th>\n",
       "    </tr>\n",
       "  </thead>\n",
       "  <tbody>\n",
       "    <tr>\n",
       "      <th>0</th>\n",
       "      <td>2014</td>\n",
       "      <td>30</td>\n",
       "      <td>20</td>\n",
       "      <td>14</td>\n",
       "      <td>36</td>\n",
       "    </tr>\n",
       "  </tbody>\n",
       "</table>\n",
       "</div>"
      ],
      "text/plain": [
       "   year  skip  idk  not  do\n",
       "0  2014    30   20   14  36"
      ]
     },
     "execution_count": 31,
     "metadata": {},
     "output_type": "execute_result"
    }
   ],
   "source": [
    "dftrust = pd.read_csv(os.path.join(data_folder + \"/input/trust.csv\"))\n",
    "dftrust.columns = ['year', 'skip', 'idk', 'not', 'do']\n",
    "dftrust.head(1)"
   ]
  },
  {
   "cell_type": "code",
   "execution_count": 32,
   "metadata": {},
   "outputs": [
    {
     "data": {
      "text/html": [
       "<div>\n",
       "<style scoped>\n",
       "    .dataframe tbody tr th:only-of-type {\n",
       "        vertical-align: middle;\n",
       "    }\n",
       "\n",
       "    .dataframe tbody tr th {\n",
       "        vertical-align: top;\n",
       "    }\n",
       "\n",
       "    .dataframe thead th {\n",
       "        text-align: right;\n",
       "    }\n",
       "</style>\n",
       "<table border=\"1\" class=\"dataframe\">\n",
       "  <thead>\n",
       "    <tr style=\"text-align: right;\">\n",
       "      <th></th>\n",
       "      <th>year</th>\n",
       "      <th>index</th>\n",
       "    </tr>\n",
       "  </thead>\n",
       "  <tbody>\n",
       "    <tr>\n",
       "      <th>0</th>\n",
       "      <td>2013</td>\n",
       "      <td>3.5</td>\n",
       "    </tr>\n",
       "  </tbody>\n",
       "</table>\n",
       "</div>"
      ],
      "text/plain": [
       "   year  index\n",
       "0  2013    3.5"
      ]
     },
     "execution_count": 32,
     "metadata": {},
     "output_type": "execute_result"
    }
   ],
   "source": [
    "dftrans = pd.read_csv(os.path.join(data_folder + \"/input/CBT-IT.csv\"))\n",
    "dftrans.head(1)"
   ]
  },
  {
   "cell_type": "code",
   "execution_count": 33,
   "metadata": {},
   "outputs": [
    {
     "data": {
      "text/html": [
       "<div>\n",
       "<style scoped>\n",
       "    .dataframe tbody tr th:only-of-type {\n",
       "        vertical-align: middle;\n",
       "    }\n",
       "\n",
       "    .dataframe tbody tr th {\n",
       "        vertical-align: top;\n",
       "    }\n",
       "\n",
       "    .dataframe thead th {\n",
       "        text-align: right;\n",
       "    }\n",
       "</style>\n",
       "<table border=\"1\" class=\"dataframe\">\n",
       "  <thead>\n",
       "    <tr style=\"text-align: right;\">\n",
       "      <th></th>\n",
       "      <th>date</th>\n",
       "      <th>type</th>\n",
       "      <th>header</th>\n",
       "      <th>text</th>\n",
       "      <th>url</th>\n",
       "      <th>rate_flag</th>\n",
       "      <th>splittext</th>\n",
       "      <th>text_len</th>\n",
       "      <th>numsent</th>\n",
       "      <th>numwords</th>\n",
       "      <th>negative</th>\n",
       "      <th>positive</th>\n",
       "      <th>tone</th>\n",
       "      <th>rate_announced</th>\n",
       "      <th>rate_real</th>\n",
       "      <th>rate_shock_abs</th>\n",
       "      <th>rate_shock_rel</th>\n",
       "    </tr>\n",
       "  </thead>\n",
       "  <tbody>\n",
       "    <tr>\n",
       "      <th>0</th>\n",
       "      <td>2013-09-13</td>\n",
       "      <td>1</td>\n",
       "      <td>Информация по итогам брифинга Председателя Бан...</td>\n",
       "      <td>Добрый день, уважаемые коллеги. Я хочу рассказ...</td>\n",
       "      <td>https://www.cbr.ru/press/event/?id=5196</td>\n",
       "      <td>1</td>\n",
       "      <td>Добрый день, уважаемые коллеги. Я хочу рассказ...</td>\n",
       "      <td>32388</td>\n",
       "      <td>285</td>\n",
       "      <td>5406</td>\n",
       "      <td>0.208317</td>\n",
       "      <td>0.08475</td>\n",
       "      <td>-0.123568</td>\n",
       "      <td>5.5</td>\n",
       "      <td>5.5</td>\n",
       "      <td>5.5</td>\n",
       "      <td>0.0</td>\n",
       "    </tr>\n",
       "  </tbody>\n",
       "</table>\n",
       "</div>"
      ],
      "text/plain": [
       "         date  type                                             header  \\\n",
       "0  2013-09-13     1  Информация по итогам брифинга Председателя Бан...   \n",
       "\n",
       "                                                text  \\\n",
       "0  Добрый день, уважаемые коллеги. Я хочу рассказ...   \n",
       "\n",
       "                                       url  rate_flag  \\\n",
       "0  https://www.cbr.ru/press/event/?id=5196          1   \n",
       "\n",
       "                                           splittext  text_len  numsent  \\\n",
       "0  Добрый день, уважаемые коллеги. Я хочу рассказ...     32388      285   \n",
       "\n",
       "   numwords  negative  positive      tone  rate_announced  rate_real  \\\n",
       "0      5406  0.208317   0.08475 -0.123568             5.5        5.5   \n",
       "\n",
       "   rate_shock_abs  rate_shock_rel  \n",
       "0             5.5             0.0  "
      ]
     },
     "execution_count": 33,
     "metadata": {},
     "output_type": "execute_result"
    }
   ],
   "source": [
    "df_short.head(1)"
   ]
  },
  {
   "cell_type": "code",
   "execution_count": 34,
   "metadata": {},
   "outputs": [
    {
     "data": {
      "image/png": "[encoded data removed]",
      "text/plain": [
       "<Figure size 864x504 with 1 Axes>"
      ]
     },
     "metadata": {},
     "output_type": "display_data"
    }
   ],
   "source": [
    "# chart\n",
    "sns.set(style='white')\n",
    "\n",
    "fig, ax = plt.subplots(1, 1, figsize=(12, 7))\n",
    "\n",
    "width = 0.55\n",
    "p = ax.bar(dftrust.year, dftrust.do, width, label='do trust', color='#6aa84f',edgecolor=None)\n",
    "ax.bar_label(p, labels = [str(i) +'%' for i in p.datavalues],\n",
    "            label_type='center', fontsize=14)\n",
    "\n",
    "p = ax.bar(dftrust.year, dftrust['not'], width, bottom=dftrust.do, label='do not trust', \n",
    "           color='#e06666', edgecolor=None)\n",
    "ax.bar_label(p, labels = [str(i) +'%' for i in p.datavalues],\n",
    "            label_type='center', fontsize=14)\n",
    "\n",
    "p = ax.bar(dftrust.year, dftrust.idk, width, bottom=dftrust.do+dftrust['not'], label='difficult to answer', \n",
    "           color='#fbbc04', edgecolor=None)\n",
    "ax.bar_label(p, labels = [str(i) +'%' for i in p.datavalues],\n",
    "            label_type='center', fontsize=14)\n",
    "\n",
    "p = ax.bar(dftrust.year, dftrust.skip, width, bottom=dftrust.do+dftrust['not']+dftrust.idk,\n",
    "           label='question was not asked', color='#b7b7b7', edgecolor=None)\n",
    "ax.bar_label(p, labels = [str(i) +'%' for i in p.datavalues],\n",
    "             label_type='center', fontsize=14)\n",
    "\n",
    "# ax.set_xlabel('Date', fontsize=13)\n",
    "# ax.set_ylabel('Tone Sentiment', fontsize=13)\n",
    "\n",
    "legend = plt.legend(bbox_to_anchor=(1, -.04),loc=\"upper right\",\n",
    "                    edgecolor=\"w\", fontsize=15, ncol=len(dftrust.columns))\n",
    "legend.get_frame().set_alpha(None)\n",
    "\n",
    "\n",
    "plt.xticks(fontsize=13)\n",
    "plt.yticks(fontsize=13)\n",
    "\n",
    "ax.set_yticks([i*25 for i in range(0, 5)])\n",
    "ax.set_yticklabels([f'{i*25}%' for i in range(0, 5)])\n",
    "\n",
    "ax.grid(axis='y', alpha=0.6)\n",
    "plt.savefig(os.path.join(materials_folder + \"/pics/chart.png\"), dpi=300)\n",
    "plt.show()"
   ]
  },
  {
   "cell_type": "markdown",
   "metadata": {},
   "source": [
    "## Outcome Variables"
   ]
  },
  {
   "cell_type": "markdown",
   "metadata": {},
   "source": [
    "#### MOEX"
   ]
  },
  {
   "cell_type": "code",
   "execution_count": 86,
   "metadata": {
    "scrolled": false
   },
   "outputs": [
    {
     "data": {
      "text/html": [
       "<div>\n",
       "<style scoped>\n",
       "    .dataframe tbody tr th:only-of-type {\n",
       "        vertical-align: middle;\n",
       "    }\n",
       "\n",
       "    .dataframe tbody tr th {\n",
       "        vertical-align: top;\n",
       "    }\n",
       "\n",
       "    .dataframe thead th {\n",
       "        text-align: right;\n",
       "    }\n",
       "</style>\n",
       "<table border=\"1\" class=\"dataframe\">\n",
       "  <thead>\n",
       "    <tr style=\"text-align: right;\">\n",
       "      <th></th>\n",
       "      <th>BOARDID</th>\n",
       "      <th>SECID</th>\n",
       "      <th>TRADEDATE</th>\n",
       "      <th>SHORTNAME</th>\n",
       "      <th>NAME</th>\n",
       "      <th>CLOSE</th>\n",
       "      <th>OPEN</th>\n",
       "      <th>HIGH</th>\n",
       "      <th>LOW</th>\n",
       "      <th>VALUE</th>\n",
       "    </tr>\n",
       "  </thead>\n",
       "  <tbody>\n",
       "    <tr>\n",
       "      <th>0</th>\n",
       "      <td>SNDX</td>\n",
       "      <td>IMOEX</td>\n",
       "      <td>2010-01-11</td>\n",
       "      <td>Индекс МосБиржи</td>\n",
       "      <td>Индекс МосБиржи</td>\n",
       "      <td>1444.78</td>\n",
       "      <td>1370.30</td>\n",
       "      <td>1456.78</td>\n",
       "      <td>1370.30</td>\n",
       "      <td>5.205232e+10</td>\n",
       "    </tr>\n",
       "    <tr>\n",
       "      <th>1</th>\n",
       "      <td>SNDX</td>\n",
       "      <td>IMOEX</td>\n",
       "      <td>2010-01-12</td>\n",
       "      <td>Индекс МосБиржи</td>\n",
       "      <td>Индекс МосБиржи</td>\n",
       "      <td>1427.67</td>\n",
       "      <td>1444.78</td>\n",
       "      <td>1445.70</td>\n",
       "      <td>1424.73</td>\n",
       "      <td>3.882154e+10</td>\n",
       "    </tr>\n",
       "    <tr>\n",
       "      <th>2</th>\n",
       "      <td>SNDX</td>\n",
       "      <td>IMOEX</td>\n",
       "      <td>2010-01-13</td>\n",
       "      <td>Индекс МосБиржи</td>\n",
       "      <td>Индекс МосБиржи</td>\n",
       "      <td>1435.01</td>\n",
       "      <td>1427.62</td>\n",
       "      <td>1444.86</td>\n",
       "      <td>1412.87</td>\n",
       "      <td>4.222875e+10</td>\n",
       "    </tr>\n",
       "    <tr>\n",
       "      <th>3</th>\n",
       "      <td>SNDX</td>\n",
       "      <td>IMOEX</td>\n",
       "      <td>2010-01-14</td>\n",
       "      <td>Индекс МосБиржи</td>\n",
       "      <td>Индекс МосБиржи</td>\n",
       "      <td>1455.65</td>\n",
       "      <td>1435.01</td>\n",
       "      <td>1456.34</td>\n",
       "      <td>1435.01</td>\n",
       "      <td>4.451159e+10</td>\n",
       "    </tr>\n",
       "    <tr>\n",
       "      <th>4</th>\n",
       "      <td>SNDX</td>\n",
       "      <td>IMOEX</td>\n",
       "      <td>2010-01-15</td>\n",
       "      <td>Индекс МосБиржи</td>\n",
       "      <td>Индекс МосБиржи</td>\n",
       "      <td>1452.67</td>\n",
       "      <td>1455.47</td>\n",
       "      <td>1469.55</td>\n",
       "      <td>1448.68</td>\n",
       "      <td>4.267554e+10</td>\n",
       "    </tr>\n",
       "  </tbody>\n",
       "</table>\n",
       "</div>"
      ],
      "text/plain": [
       "  BOARDID  SECID   TRADEDATE        SHORTNAME             NAME    CLOSE  \\\n",
       "0    SNDX  IMOEX  2010-01-11  Индекс МосБиржи  Индекс МосБиржи  1444.78   \n",
       "1    SNDX  IMOEX  2010-01-12  Индекс МосБиржи  Индекс МосБиржи  1427.67   \n",
       "2    SNDX  IMOEX  2010-01-13  Индекс МосБиржи  Индекс МосБиржи  1435.01   \n",
       "3    SNDX  IMOEX  2010-01-14  Индекс МосБиржи  Индекс МосБиржи  1455.65   \n",
       "4    SNDX  IMOEX  2010-01-15  Индекс МосБиржи  Индекс МосБиржи  1452.67   \n",
       "\n",
       "      OPEN     HIGH      LOW         VALUE  \n",
       "0  1370.30  1456.78  1370.30  5.205232e+10  \n",
       "1  1444.78  1445.70  1424.73  3.882154e+10  \n",
       "2  1427.62  1444.86  1412.87  4.222875e+10  \n",
       "3  1435.01  1456.34  1435.01  4.451159e+10  \n",
       "4  1455.47  1469.55  1448.68  4.267554e+10  "
      ]
     },
     "execution_count": 86,
     "metadata": {},
     "output_type": "execute_result"
    }
   ],
   "source": [
    "dfm = pd.read_csv(os.path.join(data_folder + \"/input/imoex.csv\"))\n",
    "dfm['TRADEDATE'] = pd.to_datetime(dfm['TRADEDATE'], format=\"%d.%m.%Y\").dt.date\n",
    "dfm = dfm.sort_values(by='TRADEDATE')\n",
    "\n",
    "for col in dfm.columns[-5:]:\n",
    "    dfm[col] = dfm[col].str.replace(\",\", \".\").astype(float)\n",
    "\n",
    "# dfm.CLOSE = dfm.CLOSE / dfm.OPEN[0]    \n",
    "# dfm.OPEN = dfm.OPEN / dfm.OPEN[0]\n",
    "dfm.head()"
   ]
  },
  {
   "cell_type": "code",
   "execution_count": 87,
   "metadata": {},
   "outputs": [
    {
     "data": {
      "text/plain": [
       "BOARDID      False\n",
       "SECID        False\n",
       "TRADEDATE    False\n",
       "SHORTNAME    False\n",
       "NAME         False\n",
       "CLOSE        False\n",
       "OPEN         False\n",
       "HIGH         False\n",
       "LOW          False\n",
       "VALUE        False\n",
       "dtype: bool"
      ]
     },
     "execution_count": 87,
     "metadata": {},
     "output_type": "execute_result"
    }
   ],
   "source": [
    "dfm.isna().any()"
   ]
  },
  {
   "cell_type": "code",
   "execution_count": 88,
   "metadata": {},
   "outputs": [
    {
     "data": {
      "text/plain": [
       "CLOSE    False\n",
       "OPEN     False\n",
       "HIGH     False\n",
       "LOW      False\n",
       "VALUE     True\n",
       "dtype: bool"
      ]
     },
     "execution_count": 88,
     "metadata": {},
     "output_type": "execute_result"
    }
   ],
   "source": [
    "(dfm.iloc[:, -5:] == 0).any()"
   ]
  },
  {
   "cell_type": "code",
   "execution_count": 89,
   "metadata": {},
   "outputs": [
    {
     "data": {
      "image/png": "[encoded data removed]",
      "text/plain": [
       "<Figure size 432x288 with 1 Axes>"
      ]
     },
     "metadata": {},
     "output_type": "display_data"
    }
   ],
   "source": [
    "# SPREAD СЛАБО ПОДХОДИТ!\n",
    "dfm['SPREAD'] = dfm['CLOSE'] - dfm['OPEN']\n",
    "plt.plot(dfm.TRADEDATE, dfm.SPREAD)\n",
    "plt.show()"
   ]
  },
  {
   "cell_type": "code",
   "execution_count": 90,
   "metadata": {},
   "outputs": [
    {
     "data": {
      "image/png": "[encoded data removed]",
      "text/plain": [
       "<Figure size 432x288 with 1 Axes>"
      ]
     },
     "metadata": {},
     "output_type": "display_data"
    }
   ],
   "source": [
    "df_temp = df[(df.rate_flag == 1) & (df.type == 1)]\n",
    "df_temp = pd.merge(df_temp, dfm[[\"TRADEDATE\", \"OPEN\", \"CLOSE\", \"SPREAD\"]], \n",
    "                   how='left', left_on='date', right_on='TRADEDATE')\n",
    "# df_temp.groupby(\"date\")['url'].count().sort_values()\n",
    "df_temp.head(3)\n",
    "a = df_temp.CLOSE.tolist()[:-1]\n",
    "df_temp = df_temp.iloc[1:]\n",
    "df_temp['CLOSE_1'] = a\n",
    "df_temp['CLOSE_SPREAD'] = df_temp['CLOSE'] - df_temp['CLOSE_1']\n",
    "plt.plot(df_temp.TRADEDATE, df_temp.CLOSE_SPREAD)\n",
    "plt.show()"
   ]
  },
  {
   "cell_type": "code",
   "execution_count": 91,
   "metadata": {},
   "outputs": [],
   "source": [
    "# model = smf.ols('CLOSE ~ tone', data=df_temp).fit()\n",
    "# print(model.summary())"
   ]
  },
  {
   "cell_type": "code",
   "execution_count": 92,
   "metadata": {},
   "outputs": [
    {
     "data": {
      "image/png": "[encoded data removed]",
      "text/plain": [
       "<Figure size 432x288 with 1 Axes>"
      ]
     },
     "metadata": {},
     "output_type": "display_data"
    }
   ],
   "source": [
    "# важн\n",
    "Y = df_temp['CLOSE']\n",
    "X = df_temp.tone\n",
    "plt.scatter(X, Y)\n",
    "plt.show()"
   ]
  },
  {
   "cell_type": "code",
   "execution_count": 93,
   "metadata": {},
   "outputs": [],
   "source": [
    "# df_short1 = pd.merge(df_short, dfm[[\"TRADEDATE\", \"OPEN\", \"CLOSE\", \"SPREAD\"]], \n",
    "#          how='left', left_on='date', right_on='TRADEDATE').drop(columns=['TRADEDATE'])\n",
    "# df_short1 = df_short1.rename(columns={\"OPEN\":\"moex_open\",\"CLOSE\":\"moex_close\",\"SPREAD\":\"moex_spread\"})\n",
    "# df_short1.head(1)"
   ]
  },
  {
   "cell_type": "code",
   "execution_count": 94,
   "metadata": {},
   "outputs": [],
   "source": [
    "# model = smf.ols('moex_close ~ tone', data=df_short1).fit()\n",
    "# # print(model.summary())"
   ]
  },
  {
   "cell_type": "code",
   "execution_count": 95,
   "metadata": {},
   "outputs": [],
   "source": [
    "# # важн\n",
    "# Y = df_short1['moex_close']\n",
    "# X = df_short1.tone\n",
    "# sns.scatterplot(X, Y)\n",
    "# plt.show()"
   ]
  },
  {
   "cell_type": "code",
   "execution_count": 96,
   "metadata": {},
   "outputs": [],
   "source": [
    "# # тональность не зависит от шока!\n",
    "# # но немного зависит от анонсированной ставки...\n",
    "# sns.scatterplot(x=df_short.tone, y=df_short.rate_shock_abs)\n",
    "# model = smf.ols('tone ~ rate_announced', data=df_short).fit()\n",
    "# print(model.summary())\n",
    "# plt.show()"
   ]
  },
  {
   "cell_type": "markdown",
   "metadata": {},
   "source": [
    "#### RTS"
   ]
  },
  {
   "cell_type": "code",
   "execution_count": 97,
   "metadata": {},
   "outputs": [
    {
     "data": {
      "text/html": [
       "<div>\n",
       "<style scoped>\n",
       "    .dataframe tbody tr th:only-of-type {\n",
       "        vertical-align: middle;\n",
       "    }\n",
       "\n",
       "    .dataframe tbody tr th {\n",
       "        vertical-align: top;\n",
       "    }\n",
       "\n",
       "    .dataframe thead th {\n",
       "        text-align: right;\n",
       "    }\n",
       "</style>\n",
       "<table border=\"1\" class=\"dataframe\">\n",
       "  <thead>\n",
       "    <tr style=\"text-align: right;\">\n",
       "      <th></th>\n",
       "      <th>BOARDID</th>\n",
       "      <th>SECID</th>\n",
       "      <th>TRADEDATE</th>\n",
       "      <th>SHORTNAME</th>\n",
       "      <th>NAME</th>\n",
       "      <th>CLOSE</th>\n",
       "      <th>OPEN</th>\n",
       "      <th>HIGH</th>\n",
       "      <th>LOW</th>\n",
       "      <th>VALUE</th>\n",
       "    </tr>\n",
       "  </thead>\n",
       "  <tbody>\n",
       "    <tr>\n",
       "      <th>0</th>\n",
       "      <td>RTSI</td>\n",
       "      <td>RTSI</td>\n",
       "      <td>2010-01-11</td>\n",
       "      <td>Индекс РТС</td>\n",
       "      <td>Индекс РТС</td>\n",
       "      <td>1553.06</td>\n",
       "      <td>1444.70</td>\n",
       "      <td>1561.80</td>\n",
       "      <td>1444.70</td>\n",
       "      <td>3.201883e+08</td>\n",
       "    </tr>\n",
       "    <tr>\n",
       "      <th>1</th>\n",
       "      <td>RTSI</td>\n",
       "      <td>RTSI</td>\n",
       "      <td>2010-01-12</td>\n",
       "      <td>Индекс РТС</td>\n",
       "      <td>Индекс РТС</td>\n",
       "      <td>1535.78</td>\n",
       "      <td>1550.20</td>\n",
       "      <td>1559.75</td>\n",
       "      <td>1528.09</td>\n",
       "      <td>3.482365e+08</td>\n",
       "    </tr>\n",
       "    <tr>\n",
       "      <th>2</th>\n",
       "      <td>RTSI</td>\n",
       "      <td>RTSI</td>\n",
       "      <td>2010-01-13</td>\n",
       "      <td>Индекс РТС</td>\n",
       "      <td>Индекс РТС</td>\n",
       "      <td>1538.43</td>\n",
       "      <td>1535.78</td>\n",
       "      <td>1548.46</td>\n",
       "      <td>1512.81</td>\n",
       "      <td>3.408507e+08</td>\n",
       "    </tr>\n",
       "    <tr>\n",
       "      <th>3</th>\n",
       "      <td>RTSI</td>\n",
       "      <td>RTSI</td>\n",
       "      <td>2010-01-14</td>\n",
       "      <td>Индекс РТС</td>\n",
       "      <td>Индекс РТС</td>\n",
       "      <td>1561.91</td>\n",
       "      <td>1538.37</td>\n",
       "      <td>1561.91</td>\n",
       "      <td>1538.22</td>\n",
       "      <td>2.945995e+08</td>\n",
       "    </tr>\n",
       "    <tr>\n",
       "      <th>4</th>\n",
       "      <td>RTSI</td>\n",
       "      <td>RTSI</td>\n",
       "      <td>2010-01-15</td>\n",
       "      <td>Индекс РТС</td>\n",
       "      <td>Индекс РТС</td>\n",
       "      <td>1559.25</td>\n",
       "      <td>1561.91</td>\n",
       "      <td>1573.90</td>\n",
       "      <td>1553.83</td>\n",
       "      <td>3.889666e+08</td>\n",
       "    </tr>\n",
       "  </tbody>\n",
       "</table>\n",
       "</div>"
      ],
      "text/plain": [
       "  BOARDID SECID   TRADEDATE   SHORTNAME        NAME    CLOSE     OPEN  \\\n",
       "0    RTSI  RTSI  2010-01-11  Индекс РТС  Индекс РТС  1553.06  1444.70   \n",
       "1    RTSI  RTSI  2010-01-12  Индекс РТС  Индекс РТС  1535.78  1550.20   \n",
       "2    RTSI  RTSI  2010-01-13  Индекс РТС  Индекс РТС  1538.43  1535.78   \n",
       "3    RTSI  RTSI  2010-01-14  Индекс РТС  Индекс РТС  1561.91  1538.37   \n",
       "4    RTSI  RTSI  2010-01-15  Индекс РТС  Индекс РТС  1559.25  1561.91   \n",
       "\n",
       "      HIGH      LOW         VALUE  \n",
       "0  1561.80  1444.70  3.201883e+08  \n",
       "1  1559.75  1528.09  3.482365e+08  \n",
       "2  1548.46  1512.81  3.408507e+08  \n",
       "3  1561.91  1538.22  2.945995e+08  \n",
       "4  1573.90  1553.83  3.889666e+08  "
      ]
     },
     "execution_count": 97,
     "metadata": {},
     "output_type": "execute_result"
    }
   ],
   "source": [
    "dfr = pd.read_csv(os.path.join(data_folder + \"/input/rtsi.csv\"))\n",
    "dfr['TRADEDATE'] = pd.to_datetime(dfr['TRADEDATE'], format=\"%d.%m.%Y\").dt.date\n",
    "dfr = dfr.sort_values(by='TRADEDATE')\n",
    "\n",
    "for col in dfr.columns[-5:]:\n",
    "    dfr[col] = dfr[col].str.replace(\",\", \".\").astype(float)\n",
    "\n",
    "# dfr.CLOSE = dfr.CLOSE / dfr.OPEN[0]    \n",
    "# dfr.OPEN = dfr.OPEN / dfr.OPEN[0]\n",
    "dfr.head()"
   ]
  },
  {
   "cell_type": "code",
   "execution_count": 98,
   "metadata": {},
   "outputs": [
    {
     "data": {
      "text/plain": [
       "(BOARDID      False\n",
       " SECID        False\n",
       " TRADEDATE    False\n",
       " SHORTNAME    False\n",
       " NAME         False\n",
       " CLOSE        False\n",
       " OPEN         False\n",
       " HIGH         False\n",
       " LOW          False\n",
       " VALUE        False\n",
       " dtype: bool,\n",
       " CLOSE    False\n",
       " OPEN     False\n",
       " HIGH     False\n",
       " LOW      False\n",
       " VALUE    False\n",
       " dtype: bool)"
      ]
     },
     "execution_count": 98,
     "metadata": {},
     "output_type": "execute_result"
    }
   ],
   "source": [
    "# # SPREAD СЛАБО ПОДХОДИТ!\n",
    "# dfr['SPREAD'] = dfr['CLOSE'] - dfr['OPEN']\n",
    "# plt.plot(dfr.TRADEDATE, dfr.SPREAD)\n",
    "# plt.show()\n",
    "\n",
    "dfr.isna().any(), (dfr.iloc[:, -5:] == 0).any()"
   ]
  },
  {
   "cell_type": "code",
   "execution_count": 99,
   "metadata": {},
   "outputs": [],
   "source": [
    "# df_temp = df[(df.rate_flag == 1) & (df.type == 1)]\n",
    "# df_temp = pd.merge(df_temp, dfr[[\"TRADEDATE\", \"OPEN\", \"CLOSE\", \"SPREAD\"]], how='left', left_on='date', right_on='TRADEDATE')\n",
    "# # df_temp.groupby(\"date\")['url'].count().sort_values()\n",
    "# df_temp.head(3)"
   ]
  },
  {
   "cell_type": "code",
   "execution_count": 100,
   "metadata": {},
   "outputs": [],
   "source": [
    "# model = smf.ols('CLOSE ~ tone', data=df_temp).fit()\n",
    "# print(model.summary())"
   ]
  },
  {
   "cell_type": "code",
   "execution_count": 101,
   "metadata": {},
   "outputs": [],
   "source": [
    "# df_short2 = pd.merge(df_short1, dfm[[\"TRADEDATE\", \"OPEN\", \"CLOSE\", \"SPREAD\"]], \n",
    "#          how='left', left_on='date', right_on='TRADEDATE').drop(columns=['TRADEDATE'])\n",
    "# df_short2 = df_short2.rename(columns={\"OPEN\":\"rts_open\",\"CLOSE\":\"rts_close\",\"SPREAD\":\"rts_spread\"})\n",
    "# df_short2.head(1)"
   ]
  },
  {
   "cell_type": "code",
   "execution_count": 102,
   "metadata": {},
   "outputs": [],
   "source": [
    "# df_short2.to_csv(\"final01.csv\", encoding=\"utf-8\", sep=\";\", index=False)"
   ]
  },
  {
   "cell_type": "markdown",
   "metadata": {},
   "source": [
    "#### FXGD"
   ]
  },
  {
   "cell_type": "code",
   "execution_count": 103,
   "metadata": {},
   "outputs": [
    {
     "data": {
      "text/html": [
       "<div>\n",
       "<style scoped>\n",
       "    .dataframe tbody tr th:only-of-type {\n",
       "        vertical-align: middle;\n",
       "    }\n",
       "\n",
       "    .dataframe tbody tr th {\n",
       "        vertical-align: top;\n",
       "    }\n",
       "\n",
       "    .dataframe thead th {\n",
       "        text-align: right;\n",
       "    }\n",
       "</style>\n",
       "<table border=\"1\" class=\"dataframe\">\n",
       "  <thead>\n",
       "    <tr style=\"text-align: right;\">\n",
       "      <th></th>\n",
       "      <th>date</th>\n",
       "      <th>OPEN</th>\n",
       "      <th>MIN</th>\n",
       "      <th>MAX</th>\n",
       "      <th>CLOSE</th>\n",
       "      <th>VOLUME, RUB</th>\n",
       "      <th>NAV, USD</th>\n",
       "    </tr>\n",
       "  </thead>\n",
       "  <tbody>\n",
       "    <tr>\n",
       "      <th>0</th>\n",
       "      <td>2013-12-16</td>\n",
       "      <td>29.15</td>\n",
       "      <td>29.15</td>\n",
       "      <td>29.24</td>\n",
       "      <td>29.24</td>\n",
       "      <td>17534.7</td>\n",
       "      <td>3707016.01</td>\n",
       "    </tr>\n",
       "    <tr>\n",
       "      <th>1</th>\n",
       "      <td>2013-12-17</td>\n",
       "      <td>29.47</td>\n",
       "      <td>29.22</td>\n",
       "      <td>29.47</td>\n",
       "      <td>29.26</td>\n",
       "      <td>117289.8</td>\n",
       "      <td>3730346.36</td>\n",
       "    </tr>\n",
       "    <tr>\n",
       "      <th>2</th>\n",
       "      <td>2013-12-18</td>\n",
       "      <td>29.26</td>\n",
       "      <td>29.20</td>\n",
       "      <td>29.26</td>\n",
       "      <td>29.20</td>\n",
       "      <td>195823.8</td>\n",
       "      <td>3718235.31</td>\n",
       "    </tr>\n",
       "    <tr>\n",
       "      <th>3</th>\n",
       "      <td>2013-12-19</td>\n",
       "      <td>29.14</td>\n",
       "      <td>28.48</td>\n",
       "      <td>29.14</td>\n",
       "      <td>28.55</td>\n",
       "      <td>4560176.1</td>\n",
       "      <td>3633734.05</td>\n",
       "    </tr>\n",
       "    <tr>\n",
       "      <th>4</th>\n",
       "      <td>2013-12-20</td>\n",
       "      <td>28.46</td>\n",
       "      <td>28.37</td>\n",
       "      <td>28.46</td>\n",
       "      <td>28.43</td>\n",
       "      <td>482856.9</td>\n",
       "      <td>3602772.54</td>\n",
       "    </tr>\n",
       "  </tbody>\n",
       "</table>\n",
       "</div>"
      ],
      "text/plain": [
       "         date   OPEN    MIN    MAX  CLOSE  VOLUME, RUB    NAV, USD\n",
       "0  2013-12-16  29.15  29.15  29.24  29.24      17534.7  3707016.01\n",
       "1  2013-12-17  29.47  29.22  29.47  29.26     117289.8  3730346.36\n",
       "2  2013-12-18  29.26  29.20  29.26  29.20     195823.8  3718235.31\n",
       "3  2013-12-19  29.14  28.48  29.14  28.55    4560176.1  3633734.05\n",
       "4  2013-12-20  28.46  28.37  28.46  28.43     482856.9  3602772.54"
      ]
     },
     "execution_count": 103,
     "metadata": {},
     "output_type": "execute_result"
    }
   ],
   "source": [
    "dfg = pd.read_csv(os.path.join(data_folder + \"/input/FXGD.csv\"))\n",
    "dfg['date'] = dfg['date'].str.replace(\" \",\"-\")\n",
    "dfg['date'] = [i[:6] + \"20\" + i[6:] for i in dfg['date']]\n",
    "dfg['date'] = pd.to_datetime(dfg['date'], format=\"%d-%m-%Y\").dt.date\n",
    "dfg = dfg.sort_values(by='date').reset_index(drop=True)\n",
    "\n",
    "for col in dfg.columns[1:]:\n",
    "    dfg[col] = dfg[col].str.replace(\",\", \".\").str.replace(\"-\", \"0\").astype(float)\n",
    "\n",
    "# dfg['CLOSE_norm'] = dfg.CLOSE / dfg.OPEN[0]    \n",
    "# dfg.OPEN = dfg.OPEN / dfg.OPEN[0]\n",
    "dfg.head()"
   ]
  },
  {
   "cell_type": "code",
   "execution_count": 104,
   "metadata": {},
   "outputs": [
    {
     "data": {
      "image/png": "[encoded data removed]",
      "text/plain": [
       "<Figure size 1080x504 with 1 Axes>"
      ]
     },
     "metadata": {},
     "output_type": "display_data"
    }
   ],
   "source": [
    "fig, ax = plt.subplots(1, 1, figsize=(15, 7))\n",
    "\n",
    "\n",
    "sns.lineplot(x = dfg[dfg.date < datetime.date(2022, 1, 1)].date, \n",
    "             y = dfg[dfg.date < datetime.date(2022, 1, 1)].CLOSE, color = 'black', alpha=1, linewidth=1.2)\n",
    "\n",
    "ax.set_xlabel('Date', fontsize=13)\n",
    "ax.set_ylabel('', fontsize=13)\n",
    "plt.xlim((datetime.date(2013, 11, 1), datetime.date(2022, 2, 1)))\n",
    "\n",
    "ax.set_xticks([datetime.date(2014, 1, 1) + relativedelta(years=i) for i in range(0, 9)])\n",
    "ax.set_xticklabels([(datetime.date(2014, 1, 1) + relativedelta(years=i)).strftime(\"%Y-%m\") for i in range(0, 9)])\n",
    "\n",
    "# legend = plt.legend(loc=\"upper right\", edgecolor=\"grey\", fontsize=15)\n",
    "# legend.get_frame().set_alpha(None)\n",
    "# # legend.get_frame().set_facecolor((0, 0, 1, 0.1))\n",
    "plt.xticks(fontsize=13)\n",
    "plt.yticks(fontsize=13)\n",
    "\n",
    "ax.grid(axis='y', alpha=0.3)\n",
    "fig.patch.set_facecolor('white')\n",
    "plt.show()\n",
    "\n",
    "# df_short3 = pd.merge(df_short2, dfg[[\"date\", \"CLOSE_norm\", ]], \n",
    "#          how='left', left_on='date', right_on='date')\n",
    "# df_short3 = df_short3.rename(columns={\"CLOSE_norm\":\"gold_close\",})"
   ]
  },
  {
   "cell_type": "markdown",
   "metadata": {},
   "source": [
    "### Bonds"
   ]
  },
  {
   "cell_type": "markdown",
   "metadata": {},
   "source": [
    "#### RGBITR & RUCBITR"
   ]
  },
  {
   "cell_type": "code",
   "execution_count": 105,
   "metadata": {},
   "outputs": [
    {
     "data": {
      "text/html": [
       "<div>\n",
       "<style scoped>\n",
       "    .dataframe tbody tr th:only-of-type {\n",
       "        vertical-align: middle;\n",
       "    }\n",
       "\n",
       "    .dataframe tbody tr th {\n",
       "        vertical-align: top;\n",
       "    }\n",
       "\n",
       "    .dataframe thead th {\n",
       "        text-align: right;\n",
       "    }\n",
       "</style>\n",
       "<table border=\"1\" class=\"dataframe\">\n",
       "  <thead>\n",
       "    <tr style=\"text-align: right;\">\n",
       "      <th></th>\n",
       "      <th>date</th>\n",
       "      <th>OPEN</th>\n",
       "      <th>MAX</th>\n",
       "      <th>MIN</th>\n",
       "      <th>CLOSE</th>\n",
       "      <th>VOLUME</th>\n",
       "      <th>CAP</th>\n",
       "      <th>DURATION</th>\n",
       "      <th>YIELD</th>\n",
       "    </tr>\n",
       "  </thead>\n",
       "  <tbody>\n",
       "    <tr>\n",
       "      <th>0</th>\n",
       "      <td>2013-01-08</td>\n",
       "      <td>313.36</td>\n",
       "      <td>313.36</td>\n",
       "      <td>312.91</td>\n",
       "      <td>312.91</td>\n",
       "      <td>7 258</td>\n",
       "      <td>0.00</td>\n",
       "      <td>0.00</td>\n",
       "      <td>6.79</td>\n",
       "    </tr>\n",
       "    <tr>\n",
       "      <th>1</th>\n",
       "      <td>2013-01-09</td>\n",
       "      <td>312.10</td>\n",
       "      <td>314.60</td>\n",
       "      <td>311.91</td>\n",
       "      <td>314.60</td>\n",
       "      <td>1 304 425 877</td>\n",
       "      <td>0.00</td>\n",
       "      <td>0.00</td>\n",
       "      <td>6.54</td>\n",
       "    </tr>\n",
       "    <tr>\n",
       "      <th>2</th>\n",
       "      <td>2013-01-10</td>\n",
       "      <td>315.01</td>\n",
       "      <td>317.48</td>\n",
       "      <td>314.99</td>\n",
       "      <td>317.48</td>\n",
       "      <td>2 935 642 331</td>\n",
       "      <td>0.00</td>\n",
       "      <td>0.00</td>\n",
       "      <td>6.36</td>\n",
       "    </tr>\n",
       "  </tbody>\n",
       "</table>\n",
       "</div>"
      ],
      "text/plain": [
       "         date    OPEN     MAX     MIN   CLOSE         VOLUME   CAP DURATION  \\\n",
       "0  2013-01-08  313.36  313.36  312.91  312.91          7 258  0.00     0.00   \n",
       "1  2013-01-09  312.10  314.60  311.91  314.60  1 304 425 877  0.00     0.00   \n",
       "2  2013-01-10  315.01  317.48  314.99  317.48  2 935 642 331  0.00     0.00   \n",
       "\n",
       "   YIELD  \n",
       "0   6.79  \n",
       "1   6.54  \n",
       "2   6.36  "
      ]
     },
     "execution_count": 105,
     "metadata": {},
     "output_type": "execute_result"
    }
   ],
   "source": [
    "df_rgbitr = pd.read_csv(os.path.join(data_folder + \"/input/bonds - RGBITR.csv\"), sep=\",\")\n",
    "df_rgbitr['date'] = df_rgbitr['date'].str.replace(\" \",\"-\")\n",
    "df_rgbitr['date'] = [i[:6] + \"20\" + i[6:] for i in df_rgbitr['date']]\n",
    "df_rgbitr['date'] = pd.to_datetime(df_rgbitr['date'], format=\"%d-%m-%Y\").dt.date\n",
    "df_rgbitr = df_rgbitr.sort_values(by='date').reset_index(drop=True)\n",
    "df_rgbitr.head(3)"
   ]
  },
  {
   "cell_type": "code",
   "execution_count": 106,
   "metadata": {},
   "outputs": [
    {
     "data": {
      "text/html": [
       "<div>\n",
       "<style scoped>\n",
       "    .dataframe tbody tr th:only-of-type {\n",
       "        vertical-align: middle;\n",
       "    }\n",
       "\n",
       "    .dataframe tbody tr th {\n",
       "        vertical-align: top;\n",
       "    }\n",
       "\n",
       "    .dataframe thead th {\n",
       "        text-align: right;\n",
       "    }\n",
       "</style>\n",
       "<table border=\"1\" class=\"dataframe\">\n",
       "  <thead>\n",
       "    <tr style=\"text-align: right;\">\n",
       "      <th></th>\n",
       "      <th>date</th>\n",
       "      <th>OPEN</th>\n",
       "      <th>MAX</th>\n",
       "      <th>MIN</th>\n",
       "      <th>CLOSE</th>\n",
       "      <th>VOLUME</th>\n",
       "      <th>CAP</th>\n",
       "      <th>DURATION</th>\n",
       "      <th>YIELD</th>\n",
       "    </tr>\n",
       "  </thead>\n",
       "  <tbody>\n",
       "    <tr>\n",
       "      <th>0</th>\n",
       "      <td>2013-01-08</td>\n",
       "      <td>224.60</td>\n",
       "      <td>224.60</td>\n",
       "      <td>224.54</td>\n",
       "      <td>224.55</td>\n",
       "      <td>784 691</td>\n",
       "      <td>715 338 189 325</td>\n",
       "      <td>856.00</td>\n",
       "      <td>8.63</td>\n",
       "    </tr>\n",
       "    <tr>\n",
       "      <th>1</th>\n",
       "      <td>2013-01-09</td>\n",
       "      <td>224.55</td>\n",
       "      <td>224.61</td>\n",
       "      <td>224.55</td>\n",
       "      <td>224.57</td>\n",
       "      <td>7 721 771 992</td>\n",
       "      <td>715 389 374 325</td>\n",
       "      <td>855.00</td>\n",
       "      <td>8.64</td>\n",
       "    </tr>\n",
       "    <tr>\n",
       "      <th>2</th>\n",
       "      <td>2013-01-10</td>\n",
       "      <td>224.63</td>\n",
       "      <td>224.77</td>\n",
       "      <td>224.60</td>\n",
       "      <td>224.71</td>\n",
       "      <td>2 202 431 535</td>\n",
       "      <td>715 402 294 352</td>\n",
       "      <td>854.00</td>\n",
       "      <td>8.63</td>\n",
       "    </tr>\n",
       "  </tbody>\n",
       "</table>\n",
       "</div>"
      ],
      "text/plain": [
       "         date    OPEN     MAX     MIN   CLOSE         VOLUME              CAP  \\\n",
       "0  2013-01-08  224.60  224.60  224.54  224.55        784 691  715 338 189 325   \n",
       "1  2013-01-09  224.55  224.61  224.55  224.57  7 721 771 992  715 389 374 325   \n",
       "2  2013-01-10  224.63  224.77  224.60  224.71  2 202 431 535  715 402 294 352   \n",
       "\n",
       "  DURATION  YIELD  \n",
       "0   856.00   8.63  \n",
       "1   855.00   8.64  \n",
       "2   854.00   8.63  "
      ]
     },
     "execution_count": 106,
     "metadata": {},
     "output_type": "execute_result"
    }
   ],
   "source": [
    "df_RUCBITR = pd.read_csv(os.path.join(data_folder + \"/input/bonds - RUCBITR.csv\"), sep=\",\")\n",
    "df_RUCBITR['date'] = df_RUCBITR['date'].str.replace(\" \",\"-\")\n",
    "df_RUCBITR['date'] = [i[:6] + \"20\" + i[6:] for i in df_RUCBITR['date']]\n",
    "df_RUCBITR['date'] = pd.to_datetime(df_RUCBITR['date'], format=\"%d-%m-%Y\").dt.date\n",
    "df_RUCBITR = df_RUCBITR.sort_values(by='date').reset_index(drop=True)\n",
    "df_RUCBITR.head(3)"
   ]
  },
  {
   "cell_type": "markdown",
   "metadata": {},
   "source": [
    "#### RUGBITR1Y & RUGBITR3Y & RUGBITR5Y & RUGBITR10Y & RUABITR"
   ]
  },
  {
   "cell_type": "code",
   "execution_count": 107,
   "metadata": {},
   "outputs": [
    {
     "data": {
      "text/html": [
       "<div>\n",
       "<style scoped>\n",
       "    .dataframe tbody tr th:only-of-type {\n",
       "        vertical-align: middle;\n",
       "    }\n",
       "\n",
       "    .dataframe tbody tr th {\n",
       "        vertical-align: top;\n",
       "    }\n",
       "\n",
       "    .dataframe thead th {\n",
       "        text-align: right;\n",
       "    }\n",
       "</style>\n",
       "<table border=\"1\" class=\"dataframe\">\n",
       "  <thead>\n",
       "    <tr style=\"text-align: right;\">\n",
       "      <th></th>\n",
       "      <th>date</th>\n",
       "      <th>CLOSE</th>\n",
       "      <th>OPEN</th>\n",
       "    </tr>\n",
       "  </thead>\n",
       "  <tbody>\n",
       "    <tr>\n",
       "      <th>0</th>\n",
       "      <td>2013-01-08</td>\n",
       "      <td>111.69</td>\n",
       "      <td>111.68</td>\n",
       "    </tr>\n",
       "    <tr>\n",
       "      <th>1</th>\n",
       "      <td>2013-01-09</td>\n",
       "      <td>111.67</td>\n",
       "      <td>111.69</td>\n",
       "    </tr>\n",
       "    <tr>\n",
       "      <th>2</th>\n",
       "      <td>2013-01-10</td>\n",
       "      <td>111.71</td>\n",
       "      <td>111.67</td>\n",
       "    </tr>\n",
       "  </tbody>\n",
       "</table>\n",
       "</div>"
      ],
      "text/plain": [
       "         date   CLOSE    OPEN\n",
       "0  2013-01-08  111.69  111.68\n",
       "1  2013-01-09  111.67  111.69\n",
       "2  2013-01-10  111.71  111.67"
      ]
     },
     "execution_count": 107,
     "metadata": {},
     "output_type": "execute_result"
    }
   ],
   "source": [
    "df_RUGBITR1Y = pd.read_csv(os.path.join(data_folder + \"/input/bonds - RUGBITR1Y.csv\"), sep=\",\")[[\"date\", \"CLOSE\"]]\n",
    "df_RUGBITR1Y['date'] = df_RUGBITR1Y['date'].str.replace(\" \",\"-\")\n",
    "df_RUGBITR1Y['date'] = [i[:6] + \"20\" + i[6:] for i in df_RUGBITR1Y['date']]\n",
    "df_RUGBITR1Y['date'] = pd.to_datetime(df_RUGBITR1Y['date'], format=\"%d-%m-%Y\").dt.date\n",
    "df_RUGBITR1Y = df_RUGBITR1Y.sort_values(by='date').reset_index(drop=True)\n",
    "df_temp = pd.DataFrame([df_RUGBITR1Y['date'][:-1].values, df_RUGBITR1Y['CLOSE'][1:].values]).T\n",
    "df_temp.columns = df_RUGBITR1Y.columns\n",
    "df_RUGBITR1Y = pd.merge(df_temp, df_RUGBITR1Y.iloc[:-1], how='left', left_on=\"date\", right_on=\"date\")\n",
    "df_RUGBITR1Y.columns = [\"date\", \"CLOSE\", \"OPEN\"]\n",
    "df_RUGBITR1Y.head(3)"
   ]
  },
  {
   "cell_type": "code",
   "execution_count": 108,
   "metadata": {},
   "outputs": [
    {
     "data": {
      "text/html": [
       "<div>\n",
       "<style scoped>\n",
       "    .dataframe tbody tr th:only-of-type {\n",
       "        vertical-align: middle;\n",
       "    }\n",
       "\n",
       "    .dataframe tbody tr th {\n",
       "        vertical-align: top;\n",
       "    }\n",
       "\n",
       "    .dataframe thead th {\n",
       "        text-align: right;\n",
       "    }\n",
       "</style>\n",
       "<table border=\"1\" class=\"dataframe\">\n",
       "  <thead>\n",
       "    <tr style=\"text-align: right;\">\n",
       "      <th></th>\n",
       "      <th>date</th>\n",
       "      <th>CLOSE</th>\n",
       "      <th>OPEN</th>\n",
       "    </tr>\n",
       "  </thead>\n",
       "  <tbody>\n",
       "    <tr>\n",
       "      <th>0</th>\n",
       "      <td>2013-01-08</td>\n",
       "      <td>299.26</td>\n",
       "      <td>298.90</td>\n",
       "    </tr>\n",
       "    <tr>\n",
       "      <th>1</th>\n",
       "      <td>2013-01-09</td>\n",
       "      <td>300.13</td>\n",
       "      <td>299.26</td>\n",
       "    </tr>\n",
       "    <tr>\n",
       "      <th>2</th>\n",
       "      <td>2013-01-10</td>\n",
       "      <td>300.65</td>\n",
       "      <td>300.13</td>\n",
       "    </tr>\n",
       "  </tbody>\n",
       "</table>\n",
       "</div>"
      ],
      "text/plain": [
       "         date   CLOSE    OPEN\n",
       "0  2013-01-08  299.26  298.90\n",
       "1  2013-01-09  300.13  299.26\n",
       "2  2013-01-10  300.65  300.13"
      ]
     },
     "execution_count": 108,
     "metadata": {},
     "output_type": "execute_result"
    }
   ],
   "source": [
    "df_RUGBITR3Y = pd.read_csv(os.path.join(data_folder + \"/input/bonds - RUGBITR3Y.csv\"), sep=\",\")[[\"date\", \"CLOSE\"]]\n",
    "df_RUGBITR3Y['date'] = df_RUGBITR3Y['date'].str.replace(\" \",\"-\")\n",
    "df_RUGBITR3Y['date'] = [i[:6] + \"20\" + i[6:] for i in df_RUGBITR3Y['date']]\n",
    "df_RUGBITR3Y['date'] = pd.to_datetime(df_RUGBITR3Y['date'], format=\"%d-%m-%Y\").dt.date\n",
    "df_RUGBITR3Y = df_RUGBITR3Y.sort_values(by='date').reset_index(drop=True)\n",
    "df_temp = pd.DataFrame([df_RUGBITR3Y['date'][:-1].values, df_RUGBITR3Y['CLOSE'][1:].values]).T\n",
    "df_temp.columns = df_RUGBITR3Y.columns\n",
    "df_RUGBITR3Y = pd.merge(df_temp, df_RUGBITR3Y.iloc[:-1], how='left', left_on=\"date\", right_on=\"date\")\n",
    "df_RUGBITR3Y.columns = [\"date\", \"CLOSE\", \"OPEN\"]\n",
    "df_RUGBITR3Y.head(3)"
   ]
  },
  {
   "cell_type": "code",
   "execution_count": 109,
   "metadata": {},
   "outputs": [
    {
     "data": {
      "text/html": [
       "<div>\n",
       "<style scoped>\n",
       "    .dataframe tbody tr th:only-of-type {\n",
       "        vertical-align: middle;\n",
       "    }\n",
       "\n",
       "    .dataframe tbody tr th {\n",
       "        vertical-align: top;\n",
       "    }\n",
       "\n",
       "    .dataframe thead th {\n",
       "        text-align: right;\n",
       "    }\n",
       "</style>\n",
       "<table border=\"1\" class=\"dataframe\">\n",
       "  <thead>\n",
       "    <tr style=\"text-align: right;\">\n",
       "      <th></th>\n",
       "      <th>date</th>\n",
       "      <th>CLOSE</th>\n",
       "      <th>OPEN</th>\n",
       "    </tr>\n",
       "  </thead>\n",
       "  <tbody>\n",
       "    <tr>\n",
       "      <th>0</th>\n",
       "      <td>2013-01-08</td>\n",
       "      <td>313.69</td>\n",
       "      <td>312.01</td>\n",
       "    </tr>\n",
       "    <tr>\n",
       "      <th>1</th>\n",
       "      <td>2013-01-09</td>\n",
       "      <td>315.55</td>\n",
       "      <td>313.69</td>\n",
       "    </tr>\n",
       "    <tr>\n",
       "      <th>2</th>\n",
       "      <td>2013-01-10</td>\n",
       "      <td>315.63</td>\n",
       "      <td>315.55</td>\n",
       "    </tr>\n",
       "  </tbody>\n",
       "</table>\n",
       "</div>"
      ],
      "text/plain": [
       "         date   CLOSE    OPEN\n",
       "0  2013-01-08  313.69  312.01\n",
       "1  2013-01-09  315.55  313.69\n",
       "2  2013-01-10  315.63  315.55"
      ]
     },
     "execution_count": 109,
     "metadata": {},
     "output_type": "execute_result"
    }
   ],
   "source": [
    "df_RUGBITR5Y = pd.read_csv(os.path.join(data_folder + \"/input/bonds - RUGBITR5Y.csv\"), sep=\",\")[[\"date\", \"CLOSE\"]]\n",
    "df_RUGBITR5Y['date'] = df_RUGBITR5Y['date'].str.replace(\" \",\"-\")\n",
    "df_RUGBITR5Y['date'] = [i[:6] + \"20\" + i[6:] for i in df_RUGBITR5Y['date']]\n",
    "df_RUGBITR5Y['date'] = pd.to_datetime(df_RUGBITR5Y['date'], format=\"%d-%m-%Y\").dt.date\n",
    "df_RUGBITR5Y = df_RUGBITR5Y.sort_values(by='date').reset_index(drop=True)\n",
    "df_temp = pd.DataFrame([df_RUGBITR5Y['date'][:-1].values, df_RUGBITR5Y['CLOSE'][1:].values]).T\n",
    "df_temp.columns = df_RUGBITR5Y.columns\n",
    "df_RUGBITR5Y = pd.merge(df_temp, df_RUGBITR5Y.iloc[:-1], how='left', left_on=\"date\", right_on=\"date\")\n",
    "df_RUGBITR5Y.columns = [\"date\", \"CLOSE\", \"OPEN\"]\n",
    "df_RUGBITR5Y.head(3)"
   ]
  },
  {
   "cell_type": "code",
   "execution_count": 110,
   "metadata": {},
   "outputs": [
    {
     "data": {
      "text/html": [
       "<div>\n",
       "<style scoped>\n",
       "    .dataframe tbody tr th:only-of-type {\n",
       "        vertical-align: middle;\n",
       "    }\n",
       "\n",
       "    .dataframe tbody tr th {\n",
       "        vertical-align: top;\n",
       "    }\n",
       "\n",
       "    .dataframe thead th {\n",
       "        text-align: right;\n",
       "    }\n",
       "</style>\n",
       "<table border=\"1\" class=\"dataframe\">\n",
       "  <thead>\n",
       "    <tr style=\"text-align: right;\">\n",
       "      <th></th>\n",
       "      <th>date</th>\n",
       "      <th>CLOSE</th>\n",
       "      <th>OPEN</th>\n",
       "    </tr>\n",
       "  </thead>\n",
       "  <tbody>\n",
       "    <tr>\n",
       "      <th>0</th>\n",
       "      <td>2013-01-08</td>\n",
       "      <td>319.72</td>\n",
       "      <td>317.62</td>\n",
       "    </tr>\n",
       "    <tr>\n",
       "      <th>1</th>\n",
       "      <td>2013-01-09</td>\n",
       "      <td>324.17</td>\n",
       "      <td>319.72</td>\n",
       "    </tr>\n",
       "    <tr>\n",
       "      <th>2</th>\n",
       "      <td>2013-01-10</td>\n",
       "      <td>322.85</td>\n",
       "      <td>324.17</td>\n",
       "    </tr>\n",
       "  </tbody>\n",
       "</table>\n",
       "</div>"
      ],
      "text/plain": [
       "         date   CLOSE    OPEN\n",
       "0  2013-01-08  319.72  317.62\n",
       "1  2013-01-09  324.17  319.72\n",
       "2  2013-01-10  322.85  324.17"
      ]
     },
     "execution_count": 110,
     "metadata": {},
     "output_type": "execute_result"
    }
   ],
   "source": [
    "df_RUGBITR10Y = pd.read_csv(os.path.join(data_folder + \"/input/bonds - RUGBITR10Y.csv\"), sep=\",\")[[\"date\", \"CLOSE\"]]\n",
    "df_RUGBITR10Y['date'] = df_RUGBITR10Y['date'].str.replace(\" \",\"-\")\n",
    "df_RUGBITR10Y['date'] = [i[:6] + \"20\" + i[6:] for i in df_RUGBITR10Y['date']]\n",
    "df_RUGBITR10Y['date'] = pd.to_datetime(df_RUGBITR10Y['date'], format=\"%d-%m-%Y\").dt.date\n",
    "df_RUGBITR10Y = df_RUGBITR10Y.sort_values(by='date').reset_index(drop=True)\n",
    "df_temp = pd.DataFrame([df_RUGBITR10Y['date'][:-1].values, df_RUGBITR10Y['CLOSE'][1:].values]).T\n",
    "df_temp.columns = df_RUGBITR10Y.columns\n",
    "df_RUGBITR10Y = pd.merge(df_temp, df_RUGBITR10Y.iloc[:-1], how='left', left_on=\"date\", right_on=\"date\")\n",
    "df_RUGBITR10Y.columns = [\"date\", \"CLOSE\", \"OPEN\"]\n",
    "df_RUGBITR10Y.head(3)"
   ]
  },
  {
   "cell_type": "code",
   "execution_count": 111,
   "metadata": {},
   "outputs": [
    {
     "data": {
      "text/html": [
       "<div>\n",
       "<style scoped>\n",
       "    .dataframe tbody tr th:only-of-type {\n",
       "        vertical-align: middle;\n",
       "    }\n",
       "\n",
       "    .dataframe tbody tr th {\n",
       "        vertical-align: top;\n",
       "    }\n",
       "\n",
       "    .dataframe thead th {\n",
       "        text-align: right;\n",
       "    }\n",
       "</style>\n",
       "<table border=\"1\" class=\"dataframe\">\n",
       "  <thead>\n",
       "    <tr style=\"text-align: right;\">\n",
       "      <th></th>\n",
       "      <th>date</th>\n",
       "      <th>CLOSE</th>\n",
       "      <th>OPEN</th>\n",
       "    </tr>\n",
       "  </thead>\n",
       "  <tbody>\n",
       "    <tr>\n",
       "      <th>0</th>\n",
       "      <td>2013-01-08</td>\n",
       "      <td>120.18</td>\n",
       "      <td>119.89</td>\n",
       "    </tr>\n",
       "    <tr>\n",
       "      <th>1</th>\n",
       "      <td>2013-01-09</td>\n",
       "      <td>120.97</td>\n",
       "      <td>120.18</td>\n",
       "    </tr>\n",
       "    <tr>\n",
       "      <th>2</th>\n",
       "      <td>2013-01-10</td>\n",
       "      <td>120.96</td>\n",
       "      <td>120.97</td>\n",
       "    </tr>\n",
       "  </tbody>\n",
       "</table>\n",
       "</div>"
      ],
      "text/plain": [
       "         date   CLOSE    OPEN\n",
       "0  2013-01-08  120.18  119.89\n",
       "1  2013-01-09  120.97  120.18\n",
       "2  2013-01-10  120.96  120.97"
      ]
     },
     "execution_count": 111,
     "metadata": {},
     "output_type": "execute_result"
    }
   ],
   "source": [
    "df_RUABITR = pd.read_csv(os.path.join(data_folder + \"/input/bonds - RUABITR.csv\"), sep=\",\")[[\"date\", \"CLOSE\"]]\n",
    "df_RUABITR['date'] = df_RUABITR['date'].str.replace(\" \",\"-\")\n",
    "df_RUABITR['date'] = [i[:6] + \"20\" + i[6:] for i in df_RUABITR['date']]\n",
    "df_RUABITR['date'] = pd.to_datetime(df_RUABITR['date'], format=\"%d-%m-%Y\").dt.date\n",
    "df_RUABITR = df_RUABITR.sort_values(by='date').reset_index(drop=True)\n",
    "df_temp = pd.DataFrame([df_RUABITR['date'][:-1].values, df_RUABITR['CLOSE'][1:].values]).T\n",
    "df_temp.columns = df_RUABITR.columns\n",
    "df_RUABITR = pd.merge(df_temp, df_RUABITR.iloc[:-1], how='left', left_on=\"date\", right_on=\"date\")\n",
    "df_RUABITR.columns = [\"date\", \"CLOSE\", \"OPEN\"]\n",
    "df_RUABITR.head(3)"
   ]
  },
  {
   "cell_type": "markdown",
   "metadata": {},
   "source": [
    "# Final Datasets"
   ]
  },
  {
   "cell_type": "code",
   "execution_count": 112,
   "metadata": {},
   "outputs": [],
   "source": [
    "# dfm['SPREAD'] = np.log(dfm.CLOSE) - np.log(dfm.OPEN)\n",
    "# df_temp = pd.merge(df_short[df_short.type==1][['date','tone']], \n",
    "#                    dfm[[\"TRADEDATE\", \"CLOSE\", \"SPREAD\"]], how='left', left_on='date', right_on='TRADEDATE')\n",
    "# df_temp = df_temp.drop(columns=['TRADEDATE']).rename(columns={'CLOSE':\"moex_close\", \"SPREAD\":\"moex_spread\"})\n",
    "\n",
    "# # df_temp.to_csv(os.path.join(data_folder + \"/final01.csv\"), encoding=\"utf-8\", sep=\";\", index=False)\n",
    "\n",
    "# fig, axs = plt.subplots(1, 2, figsize=(12, 5))\n",
    "\n",
    "# sns.scatterplot(y=df_temp['moex_close'],x=df_temp.tone, ax=axs[0])\n",
    "# sns.scatterplot(y=df_temp['moex_spread'],x=df_temp.tone, ax=axs[1])\n",
    "\n",
    "# plt.show()"
   ]
  },
  {
   "cell_type": "code",
   "execution_count": 113,
   "metadata": {},
   "outputs": [],
   "source": [
    "# dfm['SPREAD'] = np.log(dfm.CLOSE) - np.log(dfm.OPEN)\n",
    "# df_temp = pd.merge(df_short[df_short.type==0][['date','tone', 'rate_shock_abs', 'rate_shock_rel']], \n",
    "#                    dfm[[\"TRADEDATE\", \"CLOSE\", \"SPREAD\"]], how='left', left_on='date', right_on='TRADEDATE')\n",
    "# df_temp = df_temp.drop(columns=['TRADEDATE']).rename(columns={'CLOSE':\"moex_close\", \n",
    "#                                                               \"SPREAD\":\"moex_spread\",\n",
    "#                                                               \"tone\":\"tonepr\"})\n",
    "\n",
    "# df_temp = pd.merge(df_temp, df_short[df_short.type==1][['date','tone']], \n",
    "#                    how='left', left_on='date', right_on='date').rename(columns={\"tone\":\"toneev\"})\n",
    "\n",
    "# # df_temp.to_csv(os.path.join(data_folder + \"/final01.csv\"), encoding=\"utf-8\", sep=\";\", index=False)\n",
    "# fig, axs = plt.subplots(1, 2, figsize=(12, 5))\n",
    "\n",
    "# sns.scatterplot(y=df_temp['moex_spread'],x=df_temp.tonepr, ax=axs[0])\n",
    "# plt.show()"
   ]
  },
  {
   "cell_type": "code",
   "execution_count": 114,
   "metadata": {},
   "outputs": [],
   "source": [
    "dfm['SPREAD'] = np.log(dfm.CLOSE) - np.log(dfm.OPEN)\n",
    "df_temp = pd.merge(df_short[df_short.type==0][['date','tone', 'rate_shock_abs', 'rate_shock_rel']], \n",
    "                   dfm[[\"TRADEDATE\", \"CLOSE\", \"SPREAD\"]], how='left', left_on='date', right_on='TRADEDATE')\n",
    "df_temp = df_temp.drop(columns=['TRADEDATE']).rename(columns={'CLOSE':\"moex_close\", \n",
    "                                                              \"SPREAD\":\"moex_spread\",\n",
    "                                                              \"tone\":\"tonepr\"})\n",
    "\n",
    "df_temp = pd.merge(df_temp, df_short[df_short.type==1][['date','tone']], \n",
    "                   how='left', left_on='date', right_on='date').rename(columns={\"tone\":\"toneev\"})\n",
    "df_temp['year'] = df_temp.date.apply(lambda x: x.year).astype(float)\n",
    "\n",
    "transList = dict(dftrans.to_numpy())\n",
    "df_temp['trans'] = df_temp['year'].apply(lambda x: transList[x])\n",
    "\n",
    "dftrust['year'] = dftrust['year']\n",
    "trustList = dict(dftrust[['year', 'do']].to_numpy())\n",
    "df_temp['trust'] = df_temp['year'].apply(lambda x: trustList[x] if x in trustList else None) / 100\n",
    "\n",
    "# test co-movement of tonepr and toneev\n",
    "df_temp['tonepr2'] = np.power(df_temp['tonepr'], 2)\n",
    "df_temp['tonepr3'] = np.power(df_temp['tonepr'], 3)\n",
    "\n",
    "# df_temp.to_csv(os.path.join(data_folder + \"/final00.csv\"), encoding=\"utf-8\", sep=\";\", index=False)\n",
    "\n",
    "# remove 1st obs\n",
    "df_temp = df_temp.iloc[1:].reset_index(drop=True)\n",
    "df_temp.to_csv(os.path.join(data_folder + \"/final01.csv\"), encoding=\"utf-8\", sep=\";\", index=False)\n",
    "\n",
    "# df_temp[['toneev','trust']] = df_temp[['toneev','trust']].fillna(0)\n",
    "# df_temp.to_csv(os.path.join(data_folder + \"/final02.csv\"), encoding=\"utf-8\", sep=\";\", index=False)\n",
    "\n",
    "df_temp['moex_spread'] = df_temp['moex_spread'] * 100\n",
    "df_temp['tonepr'] = df_temp['tonepr'] / df_temp['tonepr'].std()\n",
    "df_temp['toneev'] = df_temp['toneev'] / df_temp['toneev'].std()\n",
    "df_temp.to_csv(os.path.join(data_folder + \"/final01_normalized.csv\"), encoding=\"utf-8\", sep=\";\", index=False)"
   ]
  },
  {
   "cell_type": "code",
   "execution_count": 115,
   "metadata": {},
   "outputs": [],
   "source": [
    "dfr['SPREAD'] = np.log(dfr.CLOSE) - np.log(dfr.OPEN)\n",
    "df_temp = pd.merge(df_short[df_short.type==0][['date','tone', 'rate_shock_abs', 'rate_shock_rel']], \n",
    "                   dfr[[\"TRADEDATE\", \"CLOSE\", \"SPREAD\"]], how='left', left_on='date', right_on='TRADEDATE')\n",
    "df_temp = df_temp.drop(columns=['TRADEDATE']).rename(columns={'CLOSE':\"rts_close\", \n",
    "                                                              \"SPREAD\":\"rts_spread\",\n",
    "                                                              \"tone\":\"tonepr\"})\n",
    "\n",
    "df_temp = pd.merge(df_temp, df_short[df_short.type==1][['date','tone']], \n",
    "                   how='left', left_on='date', right_on='date').rename(columns={\"tone\":\"toneev\"})\n",
    "df_temp['year'] = df_temp.date.apply(lambda x: x.year).astype(float)\n",
    "\n",
    "transList = dict(dftrans.to_numpy())\n",
    "df_temp['trans'] = df_temp['year'].apply(lambda x: transList[x])\n",
    "\n",
    "dftrust['year'] = dftrust['year']\n",
    "trustList = dict(dftrust[['year', 'do']].to_numpy())\n",
    "df_temp['trust'] = df_temp['year'].apply(lambda x: trustList[x] if x in trustList else None) / 100\n",
    "\n",
    "# df_temp.to_csv(os.path.join(data_folder + \"/final10.csv\"), encoding=\"utf-8\", sep=\";\", index=False)\n",
    "\n",
    "df_temp = df_temp.iloc[1:].reset_index(drop=True)\n",
    "df_temp.to_csv(os.path.join(data_folder + \"/final11.csv\"), encoding=\"utf-8\", sep=\";\", index=False)\n",
    "\n",
    "# df_temp[['toneev','trust']] = df_temp[['toneev','trust']].fillna(0)\n",
    "# df_temp.to_csv(os.path.join(data_folder + \"/final12.csv\"), encoding=\"utf-8\", sep=\";\", index=False)\n",
    "\n",
    "df_temp['rts_spread'] = df_temp['rts_spread'] * 100\n",
    "df_temp['tonepr'] = df_temp['tonepr'] / df_temp['tonepr'].std()\n",
    "df_temp['toneev'] = df_temp['toneev'] / df_temp['toneev'].std()\n",
    "df_temp.to_csv(os.path.join(data_folder + \"/final11_normalized.csv\"), encoding=\"utf-8\", sep=\";\", index=False)"
   ]
  },
  {
   "cell_type": "code",
   "execution_count": 116,
   "metadata": {},
   "outputs": [],
   "source": [
    "dfg['SPREAD'] = np.log(dfg.CLOSE) - np.log(dfg.OPEN)\n",
    "\n",
    "df_temp = pd.merge(df_short[df_short.type==0][['date','tone', 'rate_shock_abs', 'rate_shock_rel']], \n",
    "                   dfg[[\"date\", \"CLOSE\", \"SPREAD\"]], how='left', left_on='date', right_on='date')\n",
    "df_temp = df_temp.rename(columns={'CLOSE':\"gold_close\", \n",
    "                                  \"SPREAD\":\"gold_spread\",\n",
    "                                  \"tone\":\"tonepr\"})\n",
    "df_temp = pd.merge(df_temp, df_short[df_short.type==1][['date','tone']], \n",
    "                   how='left', left_on='date', right_on='date').rename(columns={\"tone\":\"toneev\"})\n",
    "df_temp['year'] = df_temp.date.apply(lambda x: x.year).astype(float)\n",
    "\n",
    "transList = dict(dftrans.to_numpy())\n",
    "df_temp['trans'] = df_temp['year'].apply(lambda x: transList[x])\n",
    "\n",
    "dftrust['year'] = dftrust['year']\n",
    "trustList = dict(dftrust[['year', 'do']].to_numpy())\n",
    "df_temp['trust'] = df_temp['year'].apply(lambda x: trustList[x] if x in trustList else None) / 100\n",
    "\n",
    "# df_temp.to_csv(os.path.join(data_folder + \"/final20.csv\"), encoding=\"utf-8\", sep=\";\", index=False)\n",
    "\n",
    "df_temp = df_temp.iloc[1:].reset_index(drop=True)\n",
    "df_temp.to_csv(os.path.join(data_folder + \"/final21.csv\"), encoding=\"utf-8\", sep=\";\", index=False)\n",
    "\n",
    "df_temp['gold_spread'] = df_temp['gold_spread'] * 100\n",
    "df_temp['tonepr'] = df_temp['tonepr'] / df_temp['tonepr'].std()\n",
    "df_temp['toneev'] = df_temp['toneev'] / df_temp['toneev'].std()\n",
    "df_temp.to_csv(os.path.join(data_folder + \"/final21_normalized.csv\"), encoding=\"utf-8\", sep=\";\", index=False)"
   ]
  },
  {
   "cell_type": "code",
   "execution_count": 117,
   "metadata": {},
   "outputs": [],
   "source": [
    "def data_mixer(df_, name):\n",
    "    df_['CLOSE'] = df_['CLOSE'].astype(float)\n",
    "    df_['OPEN'] = df_['OPEN'].astype(float)\n",
    "\n",
    "    df_['SPREAD'] = np.log(df_.CLOSE) - np.log(df_.OPEN)\n",
    "\n",
    "    df_temp = pd.merge(df_short[df_short.type==0][['date','tone', 'rate_shock_abs', 'rate_shock_rel']], \n",
    "                       df_[[\"date\", \"CLOSE\", \"SPREAD\"]], how='left', left_on='date', right_on='date')\n",
    "    df_temp = df_temp.rename(columns={'CLOSE':\"close\", \n",
    "                                      \"SPREAD\":\"spread\",\n",
    "                                      \"tone\":\"tonepr\"})\n",
    "    df_temp = pd.merge(df_temp, df_short[df_short.type==1][['date','tone']], \n",
    "                       how='left', left_on='date', right_on='date').rename(columns={\"tone\":\"toneev\"})\n",
    "    df_temp['year'] = df_temp.date.apply(lambda x: x.year).astype(float)\n",
    "\n",
    "    transList = dict(dftrans.to_numpy())\n",
    "    df_temp['trans'] = df_temp['year'].apply(lambda x: transList[x])\n",
    "\n",
    "    dftrust['year'] = dftrust['year']\n",
    "    trustList = dict(dftrust[['year', 'do']].to_numpy())\n",
    "    df_temp['trust'] = df_temp['year'].apply(lambda x: trustList[x] if x in trustList else None) / 100\n",
    "\n",
    "\n",
    "    df_temp = df_temp.iloc[1:].reset_index(drop=True)\n",
    "    df_temp.iloc[:, -5] = df_temp.iloc[:, -5] * 100\n",
    "    df_temp['tonepr'] = df_temp['tonepr'] / df_temp['tonepr'].std()\n",
    "    df_temp['toneev'] = df_temp['toneev'] / df_temp['toneev'].std()\n",
    "    df_temp.to_csv(os.path.join(data_folder + f\"/{name}.csv\"), encoding=\"utf-8\", sep=\";\", index=False)\n",
    "\n",
    "data_mixer(df_rgbitr, \"final_RGBITR_normalized\")\n",
    "data_mixer(df_RUCBITR, \"final_RUCBITR_normalized\")\n",
    "data_mixer(df_RUGBITR1Y, \"final_RUGBITR1Y_normalized\")\n",
    "data_mixer(df_RUGBITR3Y, \"final_RUGBITR3Y_normalized\")\n",
    "data_mixer(df_RUGBITR5Y, \"final_RUGBITR5Y_normalized\")\n",
    "data_mixer(df_RUGBITR10Y, \"final_RUGBITR10Y_normalized\")\n",
    "data_mixer(df_RUABITR, \"final_RUABITR_normalized\")"
   ]
  },
  {
   "cell_type": "markdown",
   "metadata": {},
   "source": [
    "# Cross-correlation tests"
   ]
  },
  {
   "cell_type": "code",
   "execution_count": 66,
   "metadata": {},
   "outputs": [],
   "source": [
    "pd.options.display.float_format = '{:,.4f}'.format"
   ]
  },
  {
   "cell_type": "code",
   "execution_count": 67,
   "metadata": {},
   "outputs": [],
   "source": [
    "df_test = pd.read_csv(os.path.join(data_folder + \"/final01_normalized.csv\"), encoding=\"utf-8\", sep=\";\")\n",
    "df_test.date = pd.to_datetime(df_test.date).dt.date"
   ]
  },
  {
   "cell_type": "code",
   "execution_count": 69,
   "metadata": {},
   "outputs": [
    {
     "data": {
      "text/html": [
       "<div>\n",
       "<style scoped>\n",
       "    .dataframe tbody tr th:only-of-type {\n",
       "        vertical-align: middle;\n",
       "    }\n",
       "\n",
       "    .dataframe tbody tr th {\n",
       "        vertical-align: top;\n",
       "    }\n",
       "\n",
       "    .dataframe thead th {\n",
       "        text-align: right;\n",
       "    }\n",
       "</style>\n",
       "<table border=\"1\" class=\"dataframe\">\n",
       "  <thead>\n",
       "    <tr style=\"text-align: right;\">\n",
       "      <th></th>\n",
       "      <th>toneev</th>\n",
       "      <th>tonepr</th>\n",
       "    </tr>\n",
       "  </thead>\n",
       "  <tbody>\n",
       "    <tr>\n",
       "      <th>toneev</th>\n",
       "      <td>1.0000</td>\n",
       "      <td>0.0802</td>\n",
       "    </tr>\n",
       "    <tr>\n",
       "      <th>tonepr</th>\n",
       "      <td>0.0802</td>\n",
       "      <td>1.0000</td>\n",
       "    </tr>\n",
       "  </tbody>\n",
       "</table>\n",
       "</div>"
      ],
      "text/plain": [
       "        toneev  tonepr\n",
       "toneev  1.0000  0.0802\n",
       "tonepr  0.0802  1.0000"
      ]
     },
     "execution_count": 69,
     "metadata": {},
     "output_type": "execute_result"
    }
   ],
   "source": [
    "df_test1 = df_test[['toneev', 'tonepr']]\n",
    "df_test1.corr()"
   ]
  },
  {
   "cell_type": "code",
   "execution_count": 70,
   "metadata": {},
   "outputs": [
    {
     "name": "stdout",
     "output_type": "stream",
     "text": [
      "\\begin{tabular}{lrrrrr}\n",
      "\\hline\\hline\n",
      "           &  Tone Sentiment_{1} &  Tone Sentiment_{2} &  Rate Change &   Transparency &   Trust \\\\\n",
      "\\hline\n",
      "         Tone Sentiment_{1} &  1.0000 &  0.0802 &         -0.0702 & -0.4847 &  0.3240 \\\\\n",
      "         Tone Sentiment_{2} &  0.0802 &  1.0000 &         -0.0468 & -0.1765 &  0.0255 \\\\\n",
      " Rate Change & -0.0702 & -0.0468 &          1.0000 &  0.0772 & -0.4333 \\\\\n",
      "          Transparency & -0.4847 & -0.1765 &          0.0772 &  1.0000 & -0.5864 \\\\\n",
      "          Trust &  0.3240 &  0.0255 &         -0.4333 & -0.5864 &  1.0000 \\\\\n",
      "\\hline\\hline\n",
      "\\end{tabular}\n",
      "\n"
     ]
    }
   ],
   "source": [
    "reg_cols = [\"toneev\",\"tonepr\",\"rate_shock_abs\",\"trans\",\"trust\",]\n",
    "# df_test[reg_cols].corr()\n",
    "res = df_test[reg_cols].corr().reset_index().to_latex(index=False)\n",
    "res = res.replace(\"index\", \"\")\n",
    "res = res.replace(\"\\\\toprule\", \"\\hline\\hline\")\n",
    "res = res.replace(\"\\\\midrule\", \"\\hline\")\n",
    "res = res.replace(\"\\\\bottomrule\", \"\\hline\\hline\")\n",
    "res = res.replace(\"toneev\", \"Tone Sentiment_{1}\")\n",
    "res = res.replace(\"tonepr\", \"Tone Sentiment_{2}\")\n",
    "res = res.replace(\"rate\\\\_shock\\\\_abs\", \"Rate Change\")\n",
    "res = res.replace(\"trans\", \"Transparency\")\n",
    "res = res.replace(\"trust\", \"Trust\")\n",
    "print(res)"
   ]
  },
  {
   "cell_type": "code",
   "execution_count": 71,
   "metadata": {},
   "outputs": [],
   "source": [
    "def corr(name):\n",
    "    df_test = pd.read_csv(os.path.join(data_folder + name), encoding=\"utf-8\", sep=\";\")\n",
    "    df_test.date = pd.to_datetime(df_test.date).dt.date\n",
    "    spread_col = [i for i in df_test.columns if i.find(\"spread\") > -1][0]\n",
    "    return [df_test[spread_col].corr(df_test[i]) for i in reg_cols]\n",
    "\n",
    "names = [\"/final01_normalized.csv\",\n",
    "        \"/final11_normalized.csv\",\n",
    "        \"/final21_normalized.csv\",\n",
    "        \"/final_RGBITR_normalized.csv\",\n",
    "        \"/final_RUCBITR_normalized.csv\",\n",
    "        \"/final_RUGBITR1Y_normalized.csv\",\n",
    "        \"/final_RUGBITR3Y_normalized.csv\",\n",
    "        \"/final_RUGBITR5Y_normalized.csv\",\n",
    "        \"/final_RUGBITR10Y_normalized.csv\",\n",
    "        \"/final_RUABITR_normalized.csv\"]\n",
    "normal_names = [\"MOEX\",\n",
    "        \"RTSI\",\n",
    "        \"FXGD ETF\",\n",
    "        \"RGBITR\",\n",
    "        \"RUCBITR\",\n",
    "        \"RUGBITR1Y\",\n",
    "        \"RUGBITR3Y\",\n",
    "        \"RUGBITR5Y\",\n",
    "        \"RUGBITR10Y\",\n",
    "        \"RUABITR\"]\n",
    "res = [[i] + corr(i) for i in names]\n",
    "df_res = pd.DataFrame(res).T\n",
    "df_res = df_res.iloc[1:]\n",
    "df_res.columns = normal_names\n",
    "df_res.index = [\"toneev\",\n",
    "                \"tonepr\",\n",
    "                \"rate\\\\_shock\\\\_abs\",\n",
    "                \"trans\",\n",
    "                \"trust\"]"
   ]
  },
  {
   "cell_type": "code",
   "execution_count": 72,
   "metadata": {},
   "outputs": [
    {
     "name": "stdout",
     "output_type": "stream",
     "text": [
      "\\begin{tabular}{llllll}\n",
      "\\hline\\hline\n",
      "             &    MOEX &    RTSI & FXGD ETF & RUCBITR & RUABITR \\\\\n",
      "\\hline\n",
      "           Tone Sentiment_{1} &  0.1566 &  0.0530 &  -0.2096 &  0.0268 &  0.0532 \\\\\n",
      "           Tone Sentiment_{2} & -0.2429 & -0.5077 &   0.3818 & -0.4561 &  0.3315 \\\\\n",
      " rate\\textbackslash \\_shock\\textbackslash \\_abs & -0.0591 & -0.0686 &   0.0121 & -0.1520 & -0.1585 \\\\\n",
      "            Transparency &  0.1363 &  0.2422 &  -0.2493 &  0.1934 & -0.0657 \\\\\n",
      "            Trust &  0.0412 &  0.0139 &  -0.0472 &  0.1018 & -0.0263 \\\\\n",
      "\\hline\\hline\n",
      "\\end{tabular}\n",
      "\n"
     ]
    }
   ],
   "source": [
    "res = df_res.iloc[:, [0, 1, 2, 4, -1]].reset_index().to_latex(index=False)\n",
    "res = res.replace(\"index\", \"\")\n",
    "res = res.replace(\"lllllllllll\", \n",
    "                  \"ccccccccccc\")\n",
    "res = res.replace(\"\\\\toprule\", \"\\hline\\hline\")\n",
    "res = res.replace(\"\\\\midrule\", \"\\hline\")\n",
    "res = res.replace(\"\\\\bottomrule\", \"\\hline\\hline\")\n",
    "res = res.replace(\"toneev\", \"Tone Sentiment_{1}\")\n",
    "res = res.replace(\"tonepr\", \"Tone Sentiment_{2}\")\n",
    "res = res.replace(\"rate\\\\_shock\\\\_abs\", \"Rate Change\")\n",
    "res = res.replace(\"trans\", \"Transparency\")\n",
    "res = res.replace(\"trust\", \"Trust\")\n",
    "print(res)"
   ]
  },
  {
   "cell_type": "code",
   "execution_count": 73,
   "metadata": {},
   "outputs": [
    {
     "name": "stdout",
     "output_type": "stream",
     "text": [
      "\\begin{tabular}{llllll}\n",
      "\\hline\\hline\n",
      "             &  RGBITR & RUGBITR1Y & RUGBITR3Y & RUGBITR5Y & RUGBITR10Y \\\\\n",
      "\\hline\n",
      "           Tone Sentiment_{1} &  0.0668 &    0.1532 &    0.0494 &   -0.0142 &     0.0411 \\\\\n",
      "           Tone Sentiment_{2} & -0.4526 &   -0.2036 &    0.2610 &    0.3693 &     0.3192 \\\\\n",
      " rate\\textbackslash \\_shock\\textbackslash \\_abs & -0.1690 &   -0.1214 &   -0.2964 &   -0.1677 &    -0.1212 \\\\\n",
      "            Transparency &  0.1971 &   -0.0408 &   -0.0749 &   -0.0408 &    -0.0637 \\\\\n",
      "            Trust &  0.0849 &   -0.0703 &    0.0448 &   -0.0183 &    -0.0438 \\\\\n",
      "\\hline\\hline\n",
      "\\end{tabular}\n",
      "\n"
     ]
    }
   ],
   "source": [
    "res = df_res.iloc[:, [3, 5,6 , 7, 8]].reset_index().to_latex(index=False)\n",
    "res = res.replace(\"index\", \"\")\n",
    "res = res.replace(\"lllllllllll\", \n",
    "                  \"ccccccccccc\")\n",
    "res = res.replace(\"\\\\toprule\", \"\\hline\\hline\")\n",
    "res = res.replace(\"\\\\midrule\", \"\\hline\")\n",
    "res = res.replace(\"\\\\bottomrule\", \"\\hline\\hline\")\n",
    "res = res.replace(\"toneev\", \"Tone Sentiment_{1}\")\n",
    "res = res.replace(\"tonepr\", \"Tone Sentiment_{2}\")\n",
    "res = res.replace(\"rate\\\\_shock\\\\_abs\", \"Rate Change\")\n",
    "res = res.replace(\"trans\", \"Transparency\")\n",
    "res = res.replace(\"trust\", \"Trust\")\n",
    "print(res)"
   ]
  },
  {
   "cell_type": "markdown",
   "metadata": {},
   "source": [
    "# Dynamic effects model"
   ]
  },
  {
   "cell_type": "markdown",
   "metadata": {},
   "source": [
    "## Datasets preparation"
   ]
  },
  {
   "cell_type": "code",
   "execution_count": 126,
   "metadata": {},
   "outputs": [],
   "source": [
    "normal_names = [\"MOEX\",\n",
    "        \"RTSI\",\n",
    "        \"FXGDETF\",\n",
    "        \"RGBITR\",\n",
    "        \"RUCBITR\",\n",
    "        \"RUGBITR1Y\",\n",
    "        \"RUGBITR3Y\",\n",
    "        \"RUGBITR5Y\",\n",
    "        \"RUGBITR10Y\",\n",
    "        \"RUABITR\"]\n",
    "\n",
    "file_names = [dfm,\n",
    "dfr,\n",
    "dfg,\n",
    "df_rgbitr,\n",
    "df_RUCBITR,\n",
    "df_RUGBITR1Y,\n",
    "df_RUGBITR3Y,\n",
    "df_RUGBITR5Y,\n",
    "df_RUGBITR10Y,\n",
    "df_RUABITR]"
   ]
  },
  {
   "cell_type": "code",
   "execution_count": 167,
   "metadata": {},
   "outputs": [
    {
     "data": {
      "text/html": [
       "<div>\n",
       "<style scoped>\n",
       "    .dataframe tbody tr th:only-of-type {\n",
       "        vertical-align: middle;\n",
       "    }\n",
       "\n",
       "    .dataframe tbody tr th {\n",
       "        vertical-align: top;\n",
       "    }\n",
       "\n",
       "    .dataframe thead th {\n",
       "        text-align: right;\n",
       "    }\n",
       "</style>\n",
       "<table border=\"1\" class=\"dataframe\">\n",
       "  <thead>\n",
       "    <tr style=\"text-align: right;\">\n",
       "      <th></th>\n",
       "      <th>id</th>\n",
       "      <th>date</th>\n",
       "      <th>tonepr</th>\n",
       "      <th>rate_shock_abs</th>\n",
       "      <th>rate_shock_rel</th>\n",
       "      <th>toneev</th>\n",
       "    </tr>\n",
       "  </thead>\n",
       "  <tbody>\n",
       "    <tr>\n",
       "      <th>0</th>\n",
       "      <td>0</td>\n",
       "      <td>2013-10-14</td>\n",
       "      <td>-3.966314</td>\n",
       "      <td>0.0</td>\n",
       "      <td>0.0</td>\n",
       "      <td>NaN</td>\n",
       "    </tr>\n",
       "    <tr>\n",
       "      <th>1</th>\n",
       "      <td>1</td>\n",
       "      <td>2013-11-08</td>\n",
       "      <td>-4.879730</td>\n",
       "      <td>0.0</td>\n",
       "      <td>0.0</td>\n",
       "      <td>NaN</td>\n",
       "    </tr>\n",
       "    <tr>\n",
       "      <th>2</th>\n",
       "      <td>2</td>\n",
       "      <td>2013-12-13</td>\n",
       "      <td>-4.583011</td>\n",
       "      <td>0.0</td>\n",
       "      <td>0.0</td>\n",
       "      <td>NaN</td>\n",
       "    </tr>\n",
       "    <tr>\n",
       "      <th>3</th>\n",
       "      <td>3</td>\n",
       "      <td>2014-02-14</td>\n",
       "      <td>-7.115753</td>\n",
       "      <td>0.0</td>\n",
       "      <td>0.0</td>\n",
       "      <td>-8.935624</td>\n",
       "    </tr>\n",
       "    <tr>\n",
       "      <th>4</th>\n",
       "      <td>4</td>\n",
       "      <td>2014-03-03</td>\n",
       "      <td>-3.603317</td>\n",
       "      <td>0.0</td>\n",
       "      <td>0.0</td>\n",
       "      <td>NaN</td>\n",
       "    </tr>\n",
       "  </tbody>\n",
       "</table>\n",
       "</div>"
      ],
      "text/plain": [
       "   id        date    tonepr  rate_shock_abs  rate_shock_rel    toneev\n",
       "0   0  2013-10-14 -3.966314             0.0             0.0       NaN\n",
       "1   1  2013-11-08 -4.879730             0.0             0.0       NaN\n",
       "2   2  2013-12-13 -4.583011             0.0             0.0       NaN\n",
       "3   3  2014-02-14 -7.115753             0.0             0.0 -8.935624\n",
       "4   4  2014-03-03 -3.603317             0.0             0.0       NaN"
      ]
     },
     "execution_count": 167,
     "metadata": {},
     "output_type": "execute_result"
    }
   ],
   "source": [
    "df_base = df_short[df_short.type==0][['date','tone', 'rate_shock_abs', 'rate_shock_rel']]\n",
    "df_base = pd.merge(df_base, df_short[df_short.type==1][['date','tone']], \n",
    "                   how='outer', left_on='date', right_on='date').rename(columns={\"tone_x\":\"tonepr\",\n",
    "                                                                                 \"tone_y\":\"toneev\"})\n",
    "df_base = df_base.iloc[1:].reset_index(drop=True)\n",
    "df_base['tonepr'] = df_base['tonepr'] / df_base['tonepr'].std()\n",
    "df_base['toneev'] = df_base['toneev'] / df_base['toneev'].std()\n",
    "df_base = df_base.reset_index().rename(columns={\"index\":\"id\"})\n",
    "df_base.head()"
   ]
  },
  {
   "cell_type": "code",
   "execution_count": 52,
   "metadata": {
    "scrolled": true
   },
   "outputs": [],
   "source": [
    "for df_metric, normal_name in zip(file_names, normal_names):\n",
    "    if not(\"TRADEDATE\" in df_metric.columns):\n",
    "        df_metric = df_metric.rename(columns={\"date\":\"TRADEDATE\"})\n",
    "\n",
    "    df_temp0 = df_base.copy()\n",
    "    df_temp0 = pd.merge(df_temp0, df_metric[[\"TRADEDATE\", \"OPEN\"]], \n",
    "                       how='left', left_on='date', right_on='TRADEDATE')\n",
    "    df_res = pd.DataFrame()\n",
    "\n",
    "    for n in range(0, 15):\n",
    "        df_temp = df_temp0.copy()\n",
    "        df_temp['h'] = n \n",
    "        df_temp['date'] = df_temp['date'].apply(lambda x: x + datetime.timedelta(days=n))\n",
    "        df_temp = df_temp.drop(columns=['TRADEDATE'])\n",
    "        df_temp = pd.merge(df_temp, df_metric[[\"TRADEDATE\", \"CLOSE\"]], \n",
    "                           how='left', left_on='date', right_on='TRADEDATE')\n",
    "        df_temp = df_temp[~df_temp.CLOSE.isna()]\n",
    "        df_temp['spread'] = np.log(df_temp.CLOSE) - np.log(df_temp.OPEN)\n",
    "\n",
    "        df_res = pd.concat([df_res, df_temp])\n",
    "\n",
    "    df_res=df_res.reset_index(drop=True)\n",
    "    df_res['year'] = df_res.date.apply(lambda x: x.year).astype(float)\n",
    "\n",
    "    transList = dict(dftrans.to_numpy())\n",
    "    df_res['trans'] = df_res['year'].apply(lambda x: transList[x])\n",
    "\n",
    "    dftrust['year'] = dftrust['year']\n",
    "    trustList = dict(dftrust[['year', 'do']].to_numpy())\n",
    "    df_res['trust'] = df_res['year'].apply(lambda x: trustList[x] if x in trustList else None) / 100\n",
    "    df_res['spread'] *= 100\n",
    "\n",
    "    df_res.to_csv(os.path.join(data_folder + f\"/dynamics/{normal_name}_dem.csv\"), encoding=\"utf-8\", sep=\";\", index=False)"
   ]
  },
  {
   "cell_type": "markdown",
   "metadata": {},
   "source": [
    "## Visualization"
   ]
  },
  {
   "cell_type": "code",
   "execution_count": 169,
   "metadata": {},
   "outputs": [],
   "source": [
    "def lighten_color(color, amount=0.5):\n",
    "    \"\"\"\n",
    "    Lightens the given color by multiplying (1-luminosity) by the given amount.\n",
    "    Input can be matplotlib color string, hex string, or RGB tuple.\n",
    "\n",
    "    Examples:\n",
    "    >> lighten_color('g', 0.3)\n",
    "    >> lighten_color('#F034A3', 0.6)\n",
    "    >> lighten_color((.3,.55,.1), 0.5)\n",
    "    \"\"\"\n",
    "    import matplotlib.colors as mc\n",
    "    import colorsys\n",
    "    try:\n",
    "        c = mc.cnames[color]\n",
    "    except:\n",
    "        c = color\n",
    "    c = colorsys.rgb_to_hls(*mc.to_rgb(c))\n",
    "    return colorsys.hls_to_rgb(c[0], 1 - amount * (1 - c[1]), c[2])"
   ]
  },
  {
   "cell_type": "code",
   "execution_count": 268,
   "metadata": {},
   "outputs": [],
   "source": [
    "def drawer(normal_name, dfvis):\n",
    "    colors = ['#3333ff', '#ff0000', 'green', 'purple', '#ff8c1a']\n",
    "    colors_1 = ['#1a1aff', '#ff0000', 'green', 'purple', '#ff8000']\n",
    "    colors_2 = ['#0000b3', '#990000', 'green', 'purple', '#804000']\n",
    "    colors_3 = ['#000033', '#330000', 'green', 'purple', '#4d2600']\n",
    "\n",
    "    colors = list(zip(colors, colors_1, colors_2, colors_3))\n",
    "    names = [r\"Tone Sentiment_1\", r\"Tone Sentiment_2\", \"Rate Change\", \n",
    "             \"Transparency\", \"Trust\"]\n",
    "    fig, axs = plt.subplots(2, 3, figsize=(15, 8))\n",
    "\n",
    "    for col, color_name, name in zip(range(0,5), colors, names):\n",
    "        ax = axs[col // 3][col % 3]\n",
    "\n",
    "        coef = dfvis.iloc[:, 2*col]\n",
    "        std = dfvis.iloc[:, 2*col+1]\n",
    "        y = dfvis.index\n",
    "        x = coef\n",
    "        sns.lineplot(y, x , color = color_name[0], alpha=1, linewidth=2, ax=ax)\n",
    "        for i in range(2, -1, -1):\n",
    "            if color_name[0] in ['green', 'red','purple']:\n",
    "                color_ = lighten_color(color_name[0], 1+0.15*(2-i))\n",
    "            else:\n",
    "                color_ = color_name[2-i]\n",
    "            t = dfvis.iloc[:, -i-1]\n",
    "            xlow = x - std*t \n",
    "            sns.lineplot(y, xlow , color = color_, alpha=1, linewidth=1, ax=ax)\n",
    "            xhigh = x + std*t\n",
    "            sns.lineplot(y, xhigh , color = color_, alpha=1, linewidth=1, ax=ax)\n",
    "\n",
    "        for l in ax.lines[1:]:\n",
    "            l.set_linestyle(\"--\")\n",
    "\n",
    "        sns.lineplot(y, [0]*len(y), color = 'red', alpha=1, linewidth=1, ax=ax)\n",
    "        sns.lineplot(y, [0]*len(y), color = 'black', alpha=1, linewidth=0.5, ax=ax)\n",
    "\n",
    "        ax.set_xticks([i for i in range(0, 15, 2)])\n",
    "        ax.set_xticklabels([i for i in range(0, 15, 2)])\n",
    "\n",
    "        ax.set_xlabel('Days from BoR publication', fontsize=13)\n",
    "        ax.set_ylabel('', fontsize=13)\n",
    "        ax.set_title(name, fontsize=15)\n",
    "\n",
    "        fig.patch.set_facecolor('white')\n",
    "    axs[-1, -1].axis('off')\n",
    "\n",
    "    plt.subplots_adjust(left=0.1,\n",
    "                        bottom=0.1, \n",
    "                        right=0.9, \n",
    "                        top=0.9, \n",
    "                        wspace=0.2, \n",
    "                        hspace=0.4)\n",
    "    plt.savefig(os.path.join(materials_folder + f\"/pics/{normal_name}_dem.png\"), dpi=300, bbox_inches='tight')\n",
    "    plt.show()"
   ]
  },
  {
   "cell_type": "code",
   "execution_count": 270,
   "metadata": {},
   "outputs": [
    {
     "data": {
      "image/png": "[encoded data removed]",
      "text/plain": [
       "<Figure size 1080x576 with 6 Axes>"
      ]
     },
     "metadata": {},
     "output_type": "display_data"
    }
   ],
   "source": [
    "#reading stata output\n",
    "num_of_regressors = 6\n",
    "\n",
    "for normal_name in [\"RUCBITR\"]:\n",
    "    dfvis = pd.read_csv(os.path.join(materials_folder + f\"/stata_tables/{normal_name}_dem_res.csv\"), encoding=\"utf-8\", sep=\"=\")\n",
    "    dfvis = dfvis.iloc[:-2, 1:].reset_index(drop=True)\n",
    "    dfvis.columns = [\"name\"] + [f'{i}' for i in range(0,15)]\n",
    "    for col in dfvis:\n",
    "        dfvis[col] = dfvis[col].str.replace(\",\",\"\")\n",
    "        dfvis[col] = dfvis[col].str.replace(\"*\",\"\")\n",
    "        dfvis[col] = dfvis[col].str.replace(\"(\",\"\")\n",
    "        dfvis[col] = dfvis[col].str.replace(\")\",\"\")\n",
    "    res_names = []\n",
    "    for i in dfvis['name'][:-1]:\n",
    "        if i:\n",
    "            res_names.append(i)\n",
    "            res_names.append(i + \"_std\")\n",
    "    res_names.append(\"N\")\n",
    "    dfvis['name'] = res_names\n",
    "    dfvis = dfvis.T\n",
    "    dfvis.columns = dfvis.iloc[0]\n",
    "    dfvis = dfvis.iloc[1:]\n",
    "    for col in dfvis:\n",
    "        dfvis[col] = dfvis[col].apply(lambda x: \"0\" if x == '.' else x)\n",
    "        dfvis[col] = dfvis[col].astype(float)\n",
    "    dfvis['df'] = dfvis['N'] - 1 - (num_of_regressors-1)\n",
    "    dfvis = dfvis[dfvis.df > 1]\n",
    "    dfvis.index = dfvis.index.astype(int)\n",
    "    dfvis['t90'] = tstat.ppf((1 + .90) / 2., dfvis['df'])\n",
    "    dfvis['t95'] = tstat.ppf((1 + .95) / 2., dfvis['df'])\n",
    "    dfvis['t99'] = tstat.ppf((1 + .99) / 2., dfvis['df'])\n",
    "    drawer(normal_name, dfvis)"
   ]
  },
  {
   "cell_type": "markdown",
   "metadata": {},
   "source": [
    "# Summary statistics for the outcome variables"
   ]
  },
  {
   "cell_type": "code",
   "execution_count": 143,
   "metadata": {},
   "outputs": [
    {
     "data": {
      "text/html": [
       "<div>\n",
       "<style scoped>\n",
       "    .dataframe tbody tr th:only-of-type {\n",
       "        vertical-align: middle;\n",
       "    }\n",
       "\n",
       "    .dataframe tbody tr th {\n",
       "        vertical-align: top;\n",
       "    }\n",
       "\n",
       "    .dataframe thead th {\n",
       "        text-align: right;\n",
       "    }\n",
       "</style>\n",
       "<table border=\"1\" class=\"dataframe\">\n",
       "  <thead>\n",
       "    <tr style=\"text-align: right;\">\n",
       "      <th></th>\n",
       "      <th>tonepr</th>\n",
       "      <th>toneev</th>\n",
       "      <th>moex_spread</th>\n",
       "    </tr>\n",
       "  </thead>\n",
       "  <tbody>\n",
       "    <tr>\n",
       "      <th>count</th>\n",
       "      <td>40.000000</td>\n",
       "      <td>40.000000</td>\n",
       "      <td>40.000000</td>\n",
       "    </tr>\n",
       "    <tr>\n",
       "      <th>mean</th>\n",
       "      <td>-5.964935</td>\n",
       "      <td>-9.738274</td>\n",
       "      <td>-0.193039</td>\n",
       "    </tr>\n",
       "    <tr>\n",
       "      <th>std</th>\n",
       "      <td>0.609159</td>\n",
       "      <td>1.000000</td>\n",
       "      <td>0.743202</td>\n",
       "    </tr>\n",
       "    <tr>\n",
       "      <th>min</th>\n",
       "      <td>-7.684616</td>\n",
       "      <td>-11.273283</td>\n",
       "      <td>-2.230029</td>\n",
       "    </tr>\n",
       "    <tr>\n",
       "      <th>25%</th>\n",
       "      <td>-6.175640</td>\n",
       "      <td>-10.279801</td>\n",
       "      <td>-0.624200</td>\n",
       "    </tr>\n",
       "    <tr>\n",
       "      <th>50%</th>\n",
       "      <td>-5.811413</td>\n",
       "      <td>-9.914626</td>\n",
       "      <td>-0.143456</td>\n",
       "    </tr>\n",
       "    <tr>\n",
       "      <th>75%</th>\n",
       "      <td>-5.583799</td>\n",
       "      <td>-9.193201</td>\n",
       "      <td>0.223492</td>\n",
       "    </tr>\n",
       "    <tr>\n",
       "      <th>max</th>\n",
       "      <td>-4.922596</td>\n",
       "      <td>-7.212115</td>\n",
       "      <td>1.170453</td>\n",
       "    </tr>\n",
       "  </tbody>\n",
       "</table>\n",
       "</div>"
      ],
      "text/plain": [
       "          tonepr     toneev  moex_spread\n",
       "count  40.000000  40.000000    40.000000\n",
       "mean   -5.964935  -9.738274    -0.193039\n",
       "std     0.609159   1.000000     0.743202\n",
       "min    -7.684616 -11.273283    -2.230029\n",
       "25%    -6.175640 -10.279801    -0.624200\n",
       "50%    -5.811413  -9.914626    -0.143456\n",
       "75%    -5.583799  -9.193201     0.223492\n",
       "max    -4.922596  -7.212115     1.170453"
      ]
     },
     "execution_count": 143,
     "metadata": {},
     "output_type": "execute_result"
    }
   ],
   "source": [
    "def corr(name):\n",
    "    df_test = pd.read_csv(os.path.join(data_folder + name), encoding=\"utf-8\", sep=\";\")\n",
    "    df_test.date = pd.to_datetime(df_test.date).dt.date\n",
    "    spread_col = [i for i in df_test.columns if i.find(\"spread\") > -1][0]\n",
    "    return [df_test[spread_col].corr(df_test[i]) for i in reg_cols]\n",
    "\n",
    "names = [\"/final01_normalized.csv\",\n",
    "        \"/final11_normalized.csv\",\n",
    "        \"/final21_normalized.csv\",\n",
    "        \"/final_RGBITR_normalized.csv\",\n",
    "        \"/final_RUCBITR_normalized.csv\",\n",
    "        \"/final_RUGBITR1Y_normalized.csv\",\n",
    "        \"/final_RUGBITR3Y_normalized.csv\",\n",
    "        \"/final_RUGBITR5Y_normalized.csv\",\n",
    "        \"/final_RUGBITR10Y_normalized.csv\",\n",
    "        \"/final_RUABITR_normalized.csv\"]\n",
    "normal_names = [\"MOEX\",\n",
    "        \"RTSI\",\n",
    "        \"FXGD ETF\",\n",
    "        \"RGBITR\",\n",
    "        \"RUCBITR\",\n",
    "        \"RUGBITR1Y\",\n",
    "        \"RUGBITR3Y\",\n",
    "        \"RUGBITR5Y\",\n",
    "        \"RUGBITR10Y\",\n",
    "        \"RUABITR\"]\n",
    "# res = [[i] + corr(i) for i in names]\n",
    "# df_res = pd.DataFrame(res).T\n",
    "# df_res = df_res.iloc[1:]\n",
    "# df_res.columns = normal_names\n",
    "# df_res.index = [\"toneev\",\n",
    "#                 \"tonepr\",\n",
    "#                 \"rate\\\\_shock\\\\_abs\",\n",
    "#                 \"trans\",\n",
    "#                 \"trust\"]\n",
    "name = names[0]\n",
    "df_test = pd.read_csv(os.path.join(data_folder + name), encoding=\"utf-8\", sep=\";\")\n",
    "df_test.date = pd.to_datetime(df_test.date).dt.date\n",
    "df_test[~df_test.toneev.isna()][['date', 'tonepr','toneev', 'moex_spread']].describe()"
   ]
  },
  {
   "cell_type": "code",
   "execution_count": 178,
   "metadata": {},
   "outputs": [],
   "source": [
    "df_overall = pd.DataFrame()"
   ]
  },
  {
   "cell_type": "code",
   "execution_count": 185,
   "metadata": {},
   "outputs": [
    {
     "data": {
      "image/png": "[encoded data removed]",
      "text/plain": [
       "<Figure size 432x288 with 1 Axes>"
      ]
     },
     "metadata": {},
     "output_type": "display_data"
    }
   ],
   "source": [
    "df_temp = file_names[0]\n",
    "df_temp = df_temp[df_temp.TRADEDATE < datetime.date(2021, 12, 31)]\n",
    "\n",
    "plt.plot(df_temp.TRADEDATE, (df_temp.SPREAD*100), alpha=0.5)\n",
    "df_temp = df_temp[df_temp.TRADEDATE.isin(df_test[~df_test.toneev.isna()].date)]\n",
    "plt.scatter(df_temp.TRADEDATE, (df_temp.SPREAD*100), color='red')\n",
    "df_overall = df_temp[['TRADEDATE','SPREAD']].rename(columns={'TRADEDATE': 'date', \"SPREAD\":\"MOEX\"})"
   ]
  },
  {
   "cell_type": "code",
   "execution_count": 1,
   "metadata": {},
   "outputs": [],
   "source": [
    "# df_temp = file_names[1]\n",
    "# df_temp = df_temp[df_temp.TRADEDATE < datetime.date(2021, 12, 31)]\n",
    "\n",
    "# plt.plot(df_temp.TRADEDATE, (df_temp.SPREAD*100), alpha=0.5)\n",
    "# df_temp = df_temp[df_temp.TRADEDATE.isin(df_test[~df_test.toneev.isna()].date)]\n",
    "# plt.scatter(df_temp.TRADEDATE, (df_temp.SPREAD*100), color='red')\n",
    "# df_overall = pd.merge(df_overall, df_temp[['TRADEDATE','SPREAD']].rename(columns={'TRADEDATE': 'date', \"SPREAD\":\"RTS\"}),\n",
    "#                       how='outer', left_on='date', right_on='date')"
   ]
  },
  {
   "cell_type": "code",
   "execution_count": 2,
   "metadata": {},
   "outputs": [],
   "source": [
    "# df_temp = file_names[2]\n",
    "# df_temp = df_temp[df_temp.date < datetime.date(2021, 12, 31)]\n",
    "\n",
    "# plt.plot(df_temp.date, (df_temp.SPREAD*100), alpha=0.5)\n",
    "# df_temp = df_temp[df_temp.date.isin(df_test[~df_test.toneev.isna()].date)]\n",
    "# plt.scatter(df_temp.date, (df_temp.SPREAD*100), color='red')\n",
    "# df_overall = pd.merge(df_overall, df_temp[['date','SPREAD']].rename(columns={'TRADEDATE': 'date', \"SPREAD\":\"FXGD\"}),\n",
    "#                       how='outer', left_on='date', right_on='date')"
   ]
  },
  {
   "cell_type": "code",
   "execution_count": 3,
   "metadata": {},
   "outputs": [],
   "source": [
    "# df_temp = file_names[3]\n",
    "# df_temp = df_temp[df_temp.date < datetime.date(2021, 12, 31)]\n",
    "\n",
    "# plt.plot(df_temp.date, (df_temp.SPREAD*100), alpha=0.5)\n",
    "# df_temp = df_temp[df_temp.date.isin(df_test[~df_test.toneev.isna()].date)]\n",
    "# plt.scatter(df_temp.date, (df_temp.SPREAD*100), color='red')\n",
    "# df_overall = pd.merge(df_overall, df_temp[['date','SPREAD']].rename(columns={'TRADEDATE': 'date', \"SPREAD\":\"RGBITR\"}),\n",
    "#                       how='outer', left_on='date', right_on='date')"
   ]
  },
  {
   "cell_type": "code",
   "execution_count": 5,
   "metadata": {},
   "outputs": [],
   "source": [
    "# df_temp = file_names[4]\n",
    "# df_temp = df_temp[df_temp.date < datetime.date(2021, 12, 31)]\n",
    "\n",
    "# plt.plot(df_temp.date, (df_temp.SPREAD*100), alpha=0.5)\n",
    "# df_temp = df_temp[df_temp.date.isin(df_test[~df_test.toneev.isna()].date)]\n",
    "# plt.scatter(df_temp.date, (df_temp.SPREAD*100), color='red')\n",
    "# df_overall = pd.merge(df_overall, df_temp[['date','SPREAD']].rename(columns={'TRADEDATE': 'date', \"SPREAD\":\"RUCBITR\"}),\n",
    "#                       how='outer', left_on='date', right_on='date')"
   ]
  },
  {
   "cell_type": "code",
   "execution_count": 6,
   "metadata": {},
   "outputs": [],
   "source": [
    "# df_temp = file_names[5]\n",
    "# df_temp = df_temp[df_temp.date < datetime.date(2021, 12, 31)]\n",
    "\n",
    "# plt.plot(df_temp.date, (df_temp.SPREAD*100), alpha=0.5)\n",
    "# df_temp = df_temp[df_temp.date.isin(df_test[~df_test.toneev.isna()].date)]\n",
    "# plt.scatter(df_temp.date, (df_temp.SPREAD*100), color='red')\n",
    "# df_overall = pd.merge(df_overall, df_temp[['date','SPREAD']].rename(columns={'TRADEDATE': 'date', \"SPREAD\":\"RUGBITR1Y\"}),\n",
    "#                       how='outer', left_on='date', right_on='date')"
   ]
  },
  {
   "cell_type": "code",
   "execution_count": 7,
   "metadata": {},
   "outputs": [],
   "source": [
    "# df_temp = file_names[6]\n",
    "# df_temp = df_temp[df_temp.date < datetime.date(2021, 12, 31)]\n",
    "\n",
    "# plt.plot(df_temp.date, (df_temp.SPREAD*100), alpha=0.5)\n",
    "# df_temp = df_temp[df_temp.date.isin(df_test[~df_test.toneev.isna()].date)]\n",
    "# plt.scatter(df_temp.date, (df_temp.SPREAD*100), color='red')\n",
    "# df_overall = pd.merge(df_overall, df_temp[['date','SPREAD']].rename(columns={'TRADEDATE': 'date', \"SPREAD\":\"RUGBITR3Y\"}),\n",
    "#                       how='outer', left_on='date', right_on='date')"
   ]
  },
  {
   "cell_type": "code",
   "execution_count": 8,
   "metadata": {},
   "outputs": [],
   "source": [
    "# df_temp = file_names[7]\n",
    "# df_temp = df_temp[df_temp.date < datetime.date(2021, 12, 31)]\n",
    "\n",
    "# plt.plot(df_temp.date, (df_temp.SPREAD*100), alpha=0.5)\n",
    "# df_temp = df_temp[df_temp.date.isin(df_test[~df_test.toneev.isna()].date)]\n",
    "# plt.scatter(df_temp.date, (df_temp.SPREAD*100), color='red')\n",
    "# df_overall = pd.merge(df_overall, df_temp[['date','SPREAD']].rename(columns={'TRADEDATE': 'date', \"SPREAD\":\"RUGBITR5Y\"}),\n",
    "#                       how='outer', left_on='date', right_on='date')"
   ]
  },
  {
   "cell_type": "code",
   "execution_count": 9,
   "metadata": {},
   "outputs": [],
   "source": [
    "# df_temp = file_names[8]\n",
    "# df_temp = df_temp[df_temp.date < datetime.date(2021, 12, 31)]\n",
    "\n",
    "# plt.plot(df_temp.date, (df_temp.SPREAD*100), alpha=0.5)\n",
    "# df_temp = df_temp[df_temp.date.isin(df_test[~df_test.toneev.isna()].date)]\n",
    "# plt.scatter(df_temp.date, (df_temp.SPREAD*100), color='red')\n",
    "# df_overall = pd.merge(df_overall, df_temp[['date','SPREAD']].rename(columns={'TRADEDATE': 'date', \"SPREAD\":\"RUGBITR10Y\"}),\n",
    "#                       how='outer', left_on='date', right_on='date')"
   ]
  },
  {
   "cell_type": "code",
   "execution_count": 10,
   "metadata": {},
   "outputs": [],
   "source": [
    "# df_temp = file_names[9]\n",
    "# df_temp = df_temp[df_temp.date < datetime.date(2021, 12, 31)]\n",
    "# plt.plot(df_temp.date, (df_temp.SPREAD*100), alpha=0.5)\n",
    "# df_temp = df_temp[df_temp.date.isin(df_test[~df_test.toneev.isna()].date)]\n",
    "# plt.scatter(df_temp.date, (df_temp.SPREAD*100), color='red')\n",
    "# df_overall = pd.merge(df_overall, df_temp[['date','SPREAD']].rename(columns={'TRADEDATE': 'date', \"SPREAD\":\"RUABITR\"}),\n",
    "#                       how='outer', left_on='date', right_on='date')"
   ]
  },
  {
   "cell_type": "code",
   "execution_count": 216,
   "metadata": {},
   "outputs": [
    {
     "name": "stdout",
     "output_type": "stream",
     "text": [
      "\\begin{tabular}{lrrrrrrrr}\n",
      "\\toprule\n",
      "{} &  count &    mean &     std &     min &     25\\% &     50\\% &     75\\% &     max \\\\\n",
      "\\midrule\n",
      "MOEX       &     40 & -0.1930 &  0.7432 & -2.2300 & -0.6242 & -0.1435 &  0.2235 &  1.1705 \\\\\n",
      "RTS        &     40 & -0.3869 &  1.1293 & -3.7538 & -1.1094 & -0.2182 &  0.4393 &  1.6204 \\\\\n",
      "FXGD       &     40 &  0.0028 &  1.0272 & -3.3081 & -0.6860 &  0.1064 &  0.5629 &  2.0748 \\\\\n",
      "RGBITR     &     40 &  0.0439 &  0.4219 & -0.8166 & -0.1320 &  0.0517 &  0.1463 &  2.0852 \\\\\n",
      "RUCBITR    &     40 &  0.0735 &  0.2016 & -0.1731 & -0.0313 &  0.0177 &  0.1206 &  0.8483 \\\\\n",
      "RUGBITR1Y  &     40 &  0.0292 &  0.0633 & -0.1539 &  0.0000 &  0.0383 &  0.0625 &  0.1471 \\\\\n",
      "RUGBITR3Y  &     40 & -0.0521 &  0.2359 & -1.1802 & -0.0843 &  0.0162 &  0.0755 &  0.2117 \\\\\n",
      "RUGBITR5Y  &     40 & -0.1149 &  0.3524 & -1.8063 & -0.1694 &  0.0040 &  0.0774 &  0.3078 \\\\\n",
      "RUGBITR10Y &     40 & -0.2310 &  0.5344 & -1.9699 & -0.3489 & -0.0848 &  0.0776 &  0.6713 \\\\\n",
      "RUABITR    &     40 & -0.1067 &  0.3169 & -1.3824 & -0.2075 & -0.0016 &  0.0846 &  0.4513 \\\\\n",
      "\\bottomrule\n",
      "\\end{tabular}\n",
      "\n"
     ]
    }
   ],
   "source": [
    "df_sum_stats = df_overall.describe().T.round(4)\n",
    "df_sum_stats.iloc[:, 0] = df_sum_stats.iloc[:, 0].astype(int)\n",
    "print(df_sum_stats.to_latex())"
   ]
  }
 ],
 "metadata": {
  "kernelspec": {
   "display_name": "Python 3 (ipykernel)",
   "language": "python",
   "name": "python3"
  },
  "language_info": {
   "codemirror_mode": {
    "name": "ipython",
    "version": 3
   },
   "file_extension": ".py",
   "mimetype": "text/x-python",
   "name": "python",
   "nbconvert_exporter": "python",
   "pygments_lexer": "ipython3",
   "version": "3.9.12"
  }
 },
 "nbformat": 4,
 "nbformat_minor": 4
}
