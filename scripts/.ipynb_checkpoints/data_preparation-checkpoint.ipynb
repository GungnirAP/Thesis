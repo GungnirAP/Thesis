{
 "cells": [
  {
   "cell_type": "code",
   "execution_count": 2,
   "metadata": {},
   "outputs": [
    {
     "data": {
      "application/javascript": [
       "IPython.notebook.set_autosave_interval(60000)"
      ]
     },
     "metadata": {},
     "output_type": "display_data"
    },
    {
     "name": "stdout",
     "output_type": "stream",
     "text": [
      "Autosaving every 60 seconds\n"
     ]
    }
   ],
   "source": [
    "%autosave 60"
   ]
  },
  {
   "cell_type": "code",
   "execution_count": 35,
   "metadata": {},
   "outputs": [],
   "source": [
    "import re\n",
    "import os\n",
    "import sys\n",
    "import time\n",
    "import requests\n",
    "import datetime\n",
    "import numpy as np\n",
    "import pandas as pd\n",
    "from dateutil.relativedelta import *\n",
    "from tqdm import tqdm\n",
    "from bs4 import BeautifulSoup\n",
    "from selenium import webdriver\n",
    "from selenium.webdriver import Chrome\n",
    "from selenium.webdriver.chrome.service import Service\n",
    "from webdriver_manager.chrome import ChromeDriverManager\n",
    "from selenium.webdriver.common.by import By"
   ]
  },
  {
   "cell_type": "code",
   "execution_count": 4,
   "metadata": {},
   "outputs": [],
   "source": [
    "months = dict(zip(['августа',\n",
    " 'апреля',  'декабря',  'июля',\n",
    " 'июня',  'марта',  'мая',\n",
    " 'ноября',  'октября',  'сентября',\n",
    " 'февраля',  'января'], [8, 4, 12, 7, 6, 3, 5, 11, 10, 9, 2, 1]))"
   ]
  },
  {
   "cell_type": "code",
   "execution_count": 5,
   "metadata": {},
   "outputs": [
    {
     "name": "stderr",
     "output_type": "stream",
     "text": [
      "\n",
      "\n",
      "====== WebDriver manager ======\n",
      "Current google-chrome version is 98.0.4758\n",
      "Get LATEST chromedriver version for 98.0.4758 google-chrome\n",
      "Trying to download new driver from https://chromedriver.storage.googleapis.com/98.0.4758.102/chromedriver_win32.zip\n",
      "Driver has been saved in cache [C:\\Users\\User\\.wdm\\drivers\\chromedriver\\win32\\98.0.4758.102]\n"
     ]
    }
   ],
   "source": [
    "s=Service(ChromeDriverManager().install())"
   ]
  },
  {
   "cell_type": "code",
   "execution_count": 7,
   "metadata": {},
   "outputs": [],
   "source": [
    "# !\"{sys.executable}\" -m pip install --upgrade webdriver_manager"
   ]
  },
  {
   "cell_type": "code",
   "execution_count": 8,
   "metadata": {},
   "outputs": [],
   "source": [
    "# # Read already gathered data\n",
    "\n",
    "# df_first_articles = pd.DataFrame()\n",
    "# for i in os.listdir(os.getcwd()):\n",
    "#     if i.find(\".csv\") > -1:\n",
    "#         df_temp = pd.read_csv(i, sep=\";\")        \n",
    "#         df_first_articles = pd.concat([df_first_articles, df_temp], sort=True)\n",
    "# df_first_articles.columns=[\"num\", \"datestr\", \"type\", \"header\", \"text\", \"url\"]\n",
    "# df_first_articles = df_first_articles.sort_values(by=['num']).reset_index(drop=True)"
   ]
  },
  {
   "cell_type": "markdown",
   "metadata": {},
   "source": [
    "## Часть 1: парсим новый сайт ЦБ\n",
    "### Выгрузка пресс-релизов, новостей и выступлений\n",
    "https://www.cbr.ru/"
   ]
  },
  {
   "cell_type": "code",
   "execution_count": 105,
   "metadata": {},
   "outputs": [],
   "source": [
    "# Create two windows: one with the main site and one for sub-windows\n",
    "\n",
    "url = \"https://www.cbr.ru/\"\n",
    "\n",
    "driver_base = webdriver.Chrome(service=s)\n",
    "driver_base.maximize_window()\n",
    "driver_base.get(url)\n",
    "parent_tab = driver_base.window_handles[0]\n",
    "\n",
    "driver_runner1 = webdriver.Chrome(service=s)\n",
    "driver_runner1.maximize_window()"
   ]
  },
  {
   "cell_type": "code",
   "execution_count": 106,
   "metadata": {},
   "outputs": [],
   "source": [
    "# Собираем в 4 этапа: \n",
    "# Новости\n",
    "# Пресс-релизы\n",
    "# Интервью - не нужно\n",
    "# Выступления\n",
    "\n",
    "# Так как приходится кликать разделы вручную :(\n",
    "# Запустить кликер -> считать категорию -> обновить страницу -> повторить"
   ]
  },
  {
   "cell_type": "code",
   "execution_count": 110,
   "metadata": {},
   "outputs": [],
   "source": [
    "def parse_by_type(articles_headers, articles_links):\n",
    "    counter = 0\n",
    "    articles = []\n",
    "    exception_articles = []\n",
    "    for header, link in tqdm(zip(articles_headers, articles_links)):\n",
    "        counter += 1\n",
    "        try:\n",
    "            article_type = header.text.split(\"\\n\")[-1]\n",
    "            article_url = link.get_attribute(name='href')\n",
    "            driver_runner1.get(article_url)\n",
    "            article_date = driver_runner1.find_elements(By.TAG_NAME, value='.news-info-line_date')[0].text\n",
    "            article_text = [a.text for a in driver_runner1.find_elements(By.TAG_NAME, value='p')]\n",
    "            articles.append([counter, article_date, article_type, link.text, \"\\n\".join(article_text).strip(), article_url])\n",
    "        except Exception as e:\n",
    "            print(\"Problem!\")\n",
    "            exception_articles.append((header, link))  \n",
    "    return articles, exception_articles"
   ]
  },
  {
   "cell_type": "code",
   "execution_count": 207,
   "metadata": {},
   "outputs": [
    {
     "name": "stdout",
     "output_type": "stream",
     "text": [
      "list index out of range\n",
      "End reached!\n",
      "Wall time: 1.44 s\n"
     ]
    }
   ],
   "source": [
    "%%time\n",
    "\n",
    "# Clicker!\n",
    "# Click all buttons \"Загрузить ещё\" to get all the news in one window\n",
    "\n",
    "try:\n",
    "    while True:\n",
    "        buttons = driver_base.find_elements(By.TAG_NAME, value='#_buttonLoadNextEvt')\n",
    "        button = [i for i in buttons if i.text == 'Загрузить еще']\n",
    "        button[0].click()\n",
    "except Exception as e:\n",
    "    print(e)\n",
    "    print(\"End reached!\")"
   ]
  },
  {
   "cell_type": "code",
   "execution_count": 108,
   "metadata": {},
   "outputs": [
    {
     "name": "stdout",
     "output_type": "stream",
     "text": [
      "1020 1020\n"
     ]
    }
   ],
   "source": [
    "news_headers = driver_base.find_elements(By.TAG_NAME, value='.news_info')\n",
    "news_links = driver_base.find_elements(By.TAG_NAME, value='.news_title')\n",
    "print(len(news_headers), len(news_links))"
   ]
  },
  {
   "cell_type": "code",
   "execution_count": 111,
   "metadata": {},
   "outputs": [
    {
     "name": "stderr",
     "output_type": "stream",
     "text": [
      "1020it [13:22,  1.27it/s]\n"
     ]
    }
   ],
   "source": [
    "news_articles, news_exc = parse_by_type(news_headers, news_links)\n",
    "\n",
    "df_news_new = pd.DataFrame(news_articles)\n",
    "df_news_new = df_news_new[df_news_new[2] != \"\"].reset_index(drop=True)\n",
    "df_news_new[0] = df_news_new[0] - 20"
   ]
  },
  {
   "cell_type": "code",
   "execution_count": 153,
   "metadata": {},
   "outputs": [
    {
     "name": "stdout",
     "output_type": "stream",
     "text": [
      "1020 1020\n"
     ]
    }
   ],
   "source": [
    "pr_headers = driver_base.find_elements(By.TAG_NAME, value='.news_info')\n",
    "pr_links = driver_base.find_elements(By.TAG_NAME, value='.news_title')\n",
    "print(len(pr_headers), len(pr_links))"
   ]
  },
  {
   "cell_type": "code",
   "execution_count": 201,
   "metadata": {},
   "outputs": [],
   "source": [
    "pr_articles, pr_exc = parse_by_type(pr_headers, pr_links)\n",
    "\n",
    "df_pr_new = pd.DataFrame(pr_articles)\n",
    "df_pr_new = df_pr_new[df_pr_new[2] != \"\"].reset_index(drop=True)\n",
    "df_pr_new[0] = df_pr_new[0] - 20"
   ]
  },
  {
   "cell_type": "code",
   "execution_count": 205,
   "metadata": {},
   "outputs": [],
   "source": [
    "a = df_pr_new.reset_index().iloc[720:]\n",
    "a[a['index'] != a[0] -2]\n",
    "df_pr_new.iloc[740:760]\n",
    "# header, link = pr_exc[1]\n",
    "\n",
    "# article_type = header.text.split(\"\\n\")[-1]\n",
    "# article_url = link.get_attribute(name='href')\n",
    "# driver_runner1.get(article_url)\n",
    "# # article_date = driver_runner1.find_elements(By.TAG_NAME, value='.news-info-line_date')[0].text\n",
    "# article_text = [a.text for a in driver_runner1.find_elements(By.TAG_NAME, value='p')]\n",
    "# article_date = \"11 марта 2020 года\"\n",
    "\n",
    "# df_pr_new = df_pr_new.append([[760, article_date, article_type, link.text, \"\\n\".join(article_text).strip(), article_url]])\n",
    "# df_pr_new = df_pr_new.sort_values(by=[0]).reset_index(drop=True)"
   ]
  },
  {
   "cell_type": "code",
   "execution_count": 208,
   "metadata": {},
   "outputs": [
    {
     "name": "stdout",
     "output_type": "stream",
     "text": [
      "153 153\n"
     ]
    }
   ],
   "source": [
    "speech_headers = driver_base.find_elements(By.TAG_NAME, value='.news_info')\n",
    "speech_links = driver_base.find_elements(By.TAG_NAME, value='.news_title')\n",
    "print(len(speech_headers), len(speech_links))"
   ]
  },
  {
   "cell_type": "code",
   "execution_count": 209,
   "metadata": {},
   "outputs": [
    {
     "name": "stderr",
     "output_type": "stream",
     "text": [
      "153it [05:55,  2.32s/it]\n"
     ]
    }
   ],
   "source": [
    "speech_articles, speech_exc = parse_by_type(speech_headers, speech_links)"
   ]
  },
  {
   "cell_type": "code",
   "execution_count": 213,
   "metadata": {},
   "outputs": [],
   "source": [
    "df_speech_new = pd.DataFrame(speech_articles)\n",
    "df_speech_new = df_speech_new[df_speech_new[2] != \"\"].reset_index(drop=True)\n",
    "df_speech_new[0] = df_speech_new[0] - 20"
   ]
  },
  {
   "cell_type": "code",
   "execution_count": null,
   "metadata": {},
   "outputs": [],
   "source": [
    "df_new = pd.DataFrame()\n",
    "for df_articles_temp, name in zip([df_news_new, df_pr_new, df_speech_new], [\"news\",\"press_rel\",\"speech\"]):\n",
    "    df_articles_temp.to_csv(f\"{name}_new.csv\", \n",
    "                            encoding=\"utf-8\", sep=\";\", index=False)\n",
    "    df_new = pd.concat([df_new, df_articles_temp])\n",
    "df_new.columns=[\"num\", \"datestr\", \"type\", \"header\", \"text\", \"url\"]\n",
    "df_new = df_new.drop(columns=['num'])\n",
    "df_new = df_new.reset_index(drop=True)"
   ]
  },
  {
   "cell_type": "markdown",
   "metadata": {},
   "source": [
    "### Здесь можно забрать готовые данные"
   ]
  },
  {
   "cell_type": "code",
   "execution_count": 9,
   "metadata": {},
   "outputs": [],
   "source": [
    "df_new = pd.DataFrame()\n",
    "for name in [\"news\",\"press_rel\",\"speech\"]:\n",
    "    df_articles_temp = pd.read_csv(f\"{name}_new.csv\", \n",
    "                            encoding=\"utf-8\", sep=\";\")\n",
    "    df_new = pd.concat([df_new, df_articles_temp])\n",
    "df_new.columns=[\"num\", \"datestr\", \"type\", \"header\", \"text\", \"url\"]\n",
    "df_new = df_new.drop(columns=['num'])\n",
    "df_new = df_new.reset_index(drop=True)\n",
    "\n",
    "df_new['date'] = [f\"{i[0]}-{months[i[1]]}-{i[2]}\" for i in df_new.datestr.str.split().tolist()]\n",
    "df_new['date'] = pd.to_datetime(df_new['date'], format='%d-%m-%Y')"
   ]
  },
  {
   "cell_type": "code",
   "execution_count": 10,
   "metadata": {},
   "outputs": [
    {
     "data": {
      "text/html": [
       "<div>\n",
       "<style scoped>\n",
       "    .dataframe tbody tr th:only-of-type {\n",
       "        vertical-align: middle;\n",
       "    }\n",
       "\n",
       "    .dataframe tbody tr th {\n",
       "        vertical-align: top;\n",
       "    }\n",
       "\n",
       "    .dataframe thead th {\n",
       "        text-align: right;\n",
       "    }\n",
       "</style>\n",
       "<table border=\"1\" class=\"dataframe\">\n",
       "  <thead>\n",
       "    <tr style=\"text-align: right;\">\n",
       "      <th></th>\n",
       "      <th>datestr</th>\n",
       "      <th>type</th>\n",
       "      <th>header</th>\n",
       "      <th>text</th>\n",
       "      <th>url</th>\n",
       "      <th>date</th>\n",
       "    </tr>\n",
       "  </thead>\n",
       "  <tbody>\n",
       "    <tr>\n",
       "      <th>0</th>\n",
       "      <td>21 февраля 2022 года</td>\n",
       "      <td>Новость</td>\n",
       "      <td>Объем средств на счетах эскроу в долевом строи...</td>\n",
       "      <td>Объем средств, размещенных участниками долевог...</td>\n",
       "      <td>https://www.cbr.ru/press/event/?id=12705</td>\n",
       "      <td>2022-02-21</td>\n",
       "    </tr>\n",
       "    <tr>\n",
       "      <th>1</th>\n",
       "      <td>17 февраля 2022 года</td>\n",
       "      <td>Новость</td>\n",
       "      <td>Мониторинг отраслевых финансовых потоков: рост...</td>\n",
       "      <td>Динамика отраслевых финансовых потоков указыва...</td>\n",
       "      <td>https://www.cbr.ru/press/event/?id=12702</td>\n",
       "      <td>2022-02-17</td>\n",
       "    </tr>\n",
       "    <tr>\n",
       "      <th>2</th>\n",
       "      <td>17 февраля 2022 года</td>\n",
       "      <td>Новость</td>\n",
       "      <td>В январе инфляция ускорилась в большинстве рег...</td>\n",
       "      <td>Годовая инфляция в январе находилась в диапазо...</td>\n",
       "      <td>https://www.cbr.ru/press/event/?id=12701</td>\n",
       "      <td>2022-02-17</td>\n",
       "    </tr>\n",
       "    <tr>\n",
       "      <th>3</th>\n",
       "      <td>17 февраля 2022 года</td>\n",
       "      <td>Новость</td>\n",
       "      <td>Банк России разработал детскую игру о признака...</td>\n",
       "      <td>Игра «Космический детектив: тайна семи банкнот...</td>\n",
       "      <td>https://www.cbr.ru/press/event/?id=12698</td>\n",
       "      <td>2022-02-17</td>\n",
       "    </tr>\n",
       "    <tr>\n",
       "      <th>4</th>\n",
       "      <td>16 февраля 2022 года</td>\n",
       "      <td>Новость</td>\n",
       "      <td>В 2021 году Банк России выявил почти 2,7 тысяч...</td>\n",
       "      <td>Среди них 871 финансовая пирамида (в 2020 году...</td>\n",
       "      <td>https://www.cbr.ru/press/event/?id=12695</td>\n",
       "      <td>2022-02-16</td>\n",
       "    </tr>\n",
       "  </tbody>\n",
       "</table>\n",
       "</div>"
      ],
      "text/plain": [
       "                datestr     type  \\\n",
       "0  21 февраля 2022 года  Новость   \n",
       "1  17 февраля 2022 года  Новость   \n",
       "2  17 февраля 2022 года  Новость   \n",
       "3  17 февраля 2022 года  Новость   \n",
       "4  16 февраля 2022 года  Новость   \n",
       "\n",
       "                                              header  \\\n",
       "0  Объем средств на счетах эскроу в долевом строи...   \n",
       "1  Мониторинг отраслевых финансовых потоков: рост...   \n",
       "2  В январе инфляция ускорилась в большинстве рег...   \n",
       "3  Банк России разработал детскую игру о признака...   \n",
       "4  В 2021 году Банк России выявил почти 2,7 тысяч...   \n",
       "\n",
       "                                                text  \\\n",
       "0  Объем средств, размещенных участниками долевог...   \n",
       "1  Динамика отраслевых финансовых потоков указыва...   \n",
       "2  Годовая инфляция в январе находилась в диапазо...   \n",
       "3  Игра «Космический детектив: тайна семи банкнот...   \n",
       "4  Среди них 871 финансовая пирамида (в 2020 году...   \n",
       "\n",
       "                                        url       date  \n",
       "0  https://www.cbr.ru/press/event/?id=12705 2022-02-21  \n",
       "1  https://www.cbr.ru/press/event/?id=12702 2022-02-17  \n",
       "2  https://www.cbr.ru/press/event/?id=12701 2022-02-17  \n",
       "3  https://www.cbr.ru/press/event/?id=12698 2022-02-17  \n",
       "4  https://www.cbr.ru/press/event/?id=12695 2022-02-16  "
      ]
     },
     "execution_count": 10,
     "metadata": {},
     "output_type": "execute_result"
    }
   ],
   "source": [
    "df_new.head()"
   ]
  },
  {
   "cell_type": "code",
   "execution_count": 11,
   "metadata": {},
   "outputs": [
    {
     "data": {
      "text/plain": [
       "datestr                                  1 августа 2019 года\n",
       "type                                             Пресс-релиз\n",
       "header     А. Данилов назначен директором Департамента об...\n",
       "text       1. В целях применения абзаца второго и третьег...\n",
       "url        https://www.cbr.ru/press/pr/?file=01022021_084...\n",
       "date                                     2019-07-17 00:00:00\n",
       "dtype: object"
      ]
     },
     "execution_count": 11,
     "metadata": {},
     "output_type": "execute_result"
    }
   ],
   "source": [
    "df_new[df_new.type == \"Пресс-релиз\"].min()"
   ]
  },
  {
   "cell_type": "markdown",
   "metadata": {},
   "source": [
    "## Часть 2: парсим старый сайт ЦБ\n",
    "### Выгрузка пресс-релизов, новостей и выступлений\n",
    "http://old.cbr.ru/press/"
   ]
  },
  {
   "cell_type": "code",
   "execution_count": 48,
   "metadata": {},
   "outputs": [],
   "source": [
    "url = \"http://old.cbr.ru/press/month_archive/press_archive/\"\n",
    "\n",
    "driver_base = webdriver.Chrome(service=s)\n",
    "driver_base.maximize_window()\n",
    "driver_base.get(url)\n",
    "parent_tab = driver_base.window_handles[0]\n",
    "\n",
    "driver_runner1 = webdriver.Chrome(service=s)\n",
    "driver_runner1.maximize_window()"
   ]
  },
  {
   "cell_type": "code",
   "execution_count": 49,
   "metadata": {},
   "outputs": [],
   "source": [
    "start_date = datetime.date(2010, 1, 1)\n",
    "end_date = datetime.date(2019, 7, 16)"
   ]
  },
  {
   "cell_type": "code",
   "execution_count": 51,
   "metadata": {
    "collapsed": true
   },
   "outputs": [
    {
     "name": "stdout",
     "output_type": "stream",
     "text": [
      "2010-01-01  -  2010-01-31\n"
     ]
    },
    {
     "name": "stderr",
     "output_type": "stream",
     "text": [
      "0it [00:00, ?it/s]\n",
      "15it [00:00, 98.01it/s]\n",
      "29it [00:00, 101.56it/s]\n",
      "5it [00:00, 102.82it/s]\n",
      "26it [00:00, 106.28it/s]\n"
     ]
    },
    {
     "name": "stdout",
     "output_type": "stream",
     "text": [
      "2010-02-01  -  2010-02-28\n"
     ]
    },
    {
     "name": "stderr",
     "output_type": "stream",
     "text": [
      "28it [00:00, 99.64it/s]\n",
      "29it [00:00, 101.26it/s]\n",
      "26it [00:00, 107.92it/s]\n",
      "5it [00:00, 87.72it/s]\n",
      "24it [00:00, 100.62it/s]\n"
     ]
    },
    {
     "name": "stdout",
     "output_type": "stream",
     "text": [
      "2010-03-01  -  2010-03-31\n"
     ]
    },
    {
     "name": "stderr",
     "output_type": "stream",
     "text": [
      "26it [00:00, 55.63it/s]\n",
      "18it [00:00, 99.24it/s]\n",
      "25it [00:00, 104.37it/s]\n",
      "13it [00:00, 112.27it/s]\n",
      "30it [00:00, 89.50it/s] \n"
     ]
    },
    {
     "name": "stdout",
     "output_type": "stream",
     "text": [
      "2010-04-01  -  2010-04-30\n"
     ]
    },
    {
     "name": "stderr",
     "output_type": "stream",
     "text": [
      "26it [00:00, 109.68it/s]\n",
      "24it [00:00, 105.59it/s]\n",
      "22it [00:00, 54.14it/s]\n",
      "10it [00:00, 107.45it/s]\n",
      "27it [00:00, 107.25it/s]\n"
     ]
    },
    {
     "name": "stdout",
     "output_type": "stream",
     "text": [
      "2010-05-01  -  2010-05-31\n"
     ]
    },
    {
     "name": "stderr",
     "output_type": "stream",
     "text": [
      "16it [00:00, 65.57it/s]\n",
      "20it [00:00, 107.05it/s]\n",
      "24it [00:00, 113.74it/s]\n",
      "4it [00:00, 102.13it/s]\n",
      "29it [00:00, 116.48it/s]\n"
     ]
    },
    {
     "name": "stdout",
     "output_type": "stream",
     "text": [
      "2010-06-01  -  2010-06-30\n"
     ]
    },
    {
     "name": "stderr",
     "output_type": "stream",
     "text": [
      "27it [00:00, 106.80it/s]\n",
      "21it [00:00, 90.15it/s]\n",
      "30it [00:00, 106.38it/s]\n",
      "17it [00:00, 97.12it/s]\n",
      "25it [00:00, 101.63it/s]\n"
     ]
    },
    {
     "name": "stdout",
     "output_type": "stream",
     "text": [
      "2010-07-01  -  2010-07-31\n"
     ]
    },
    {
     "name": "stderr",
     "output_type": "stream",
     "text": [
      "28it [00:00, 106.18it/s]\n",
      "30it [00:00, 84.51it/s] \n",
      "30it [00:00, 111.94it/s]\n",
      "11it [00:00, 111.11it/s]\n",
      "27it [00:00, 113.73it/s]\n"
     ]
    },
    {
     "name": "stdout",
     "output_type": "stream",
     "text": [
      "2010-08-01  -  2010-08-31\n"
     ]
    },
    {
     "name": "stderr",
     "output_type": "stream",
     "text": [
      "25it [00:00, 113.09it/s]\n",
      "26it [00:00, 110.24it/s]\n",
      "27it [00:00, 103.07it/s]\n",
      "8it [00:00, 103.89it/s]\n",
      "25it [00:00, 114.16it/s]\n"
     ]
    },
    {
     "name": "stdout",
     "output_type": "stream",
     "text": [
      "2010-09-01  -  2010-09-30\n"
     ]
    },
    {
     "name": "stderr",
     "output_type": "stream",
     "text": [
      "29it [00:00, 104.64it/s]\n",
      "26it [00:00, 108.79it/s]\n",
      "25it [00:00, 104.69it/s]\n",
      "13it [00:00, 106.63it/s]\n",
      "29it [00:00, 107.59it/s]\n"
     ]
    },
    {
     "name": "stdout",
     "output_type": "stream",
     "text": [
      "2010-10-01  -  2010-10-31\n"
     ]
    },
    {
     "name": "stderr",
     "output_type": "stream",
     "text": [
      "27it [00:00, 88.96it/s]\n",
      "23it [00:00, 106.98it/s]\n",
      "33it [00:00, 98.51it/s]\n",
      "6it [00:00, 80.00it/s]\n",
      "30it [00:00, 77.52it/s]\n"
     ]
    },
    {
     "name": "stdout",
     "output_type": "stream",
     "text": [
      "2010-11-01  -  2010-11-30\n"
     ]
    },
    {
     "name": "stderr",
     "output_type": "stream",
     "text": [
      "24it [00:00, 85.11it/s]\n",
      "26it [00:00, 77.84it/s]\n",
      "24it [00:00, 70.80it/s]\n",
      "21it [00:00, 78.65it/s]\n",
      "17it [00:00, 98.36it/s]\n"
     ]
    },
    {
     "name": "stdout",
     "output_type": "stream",
     "text": [
      "2010-12-01  -  2010-12-31\n"
     ]
    },
    {
     "name": "stderr",
     "output_type": "stream",
     "text": [
      "30it [00:00, 101.14it/s]\n",
      "35it [00:00, 102.53it/s]\n",
      "42it [00:00, 94.31it/s]\n",
      "17it [00:00, 90.65it/s]\n",
      "36it [00:00, 87.59it/s]\n"
     ]
    },
    {
     "name": "stdout",
     "output_type": "stream",
     "text": [
      "2011-01-01  -  2011-01-31\n"
     ]
    },
    {
     "name": "stderr",
     "output_type": "stream",
     "text": [
      "0it [00:00, ?it/s]\n",
      "24it [00:00, 85.41it/s]\n",
      "33it [00:00, 97.51it/s]\n",
      "7it [00:00, 95.89it/s]\n",
      "23it [00:00, 100.61it/s]\n"
     ]
    },
    {
     "name": "stdout",
     "output_type": "stream",
     "text": [
      "2011-02-01  -  2011-02-28\n"
     ]
    },
    {
     "name": "stderr",
     "output_type": "stream",
     "text": [
      "26it [00:00, 99.13it/s]\n",
      "30it [00:00, 102.03it/s]\n",
      "26it [00:00, 101.96it/s]\n",
      "12it [00:00, 103.13it/s]\n",
      "11it [00:00, 101.83it/s]\n"
     ]
    },
    {
     "name": "stdout",
     "output_type": "stream",
     "text": [
      "2011-03-01  -  2011-03-31\n"
     ]
    },
    {
     "name": "stderr",
     "output_type": "stream",
     "text": [
      "28it [00:00, 79.23it/s]\n",
      "31it [00:00, 74.03it/s]\n",
      "26it [00:00, 112.55it/s]\n",
      "20it [00:00, 108.62it/s]\n",
      "27it [00:00, 105.14it/s]\n"
     ]
    },
    {
     "name": "stdout",
     "output_type": "stream",
     "text": [
      "2011-04-01  -  2011-04-30\n"
     ]
    },
    {
     "name": "stderr",
     "output_type": "stream",
     "text": [
      "23it [00:00, 91.63it/s]\n",
      "23it [00:00, 100.00it/s]\n",
      "32it [00:00, 96.17it/s]\n",
      "5it [00:00, 99.92it/s]\n",
      "33it [00:00, 101.87it/s]\n"
     ]
    },
    {
     "name": "stdout",
     "output_type": "stream",
     "text": [
      "2011-05-01  -  2011-05-31\n"
     ]
    },
    {
     "name": "stderr",
     "output_type": "stream",
     "text": [
      "29it [00:00, 108.01it/s]\n",
      "19it [00:00, 103.97it/s]\n",
      "28it [00:00, 107.67it/s]\n",
      "13it [00:00, 104.28it/s]\n",
      "24it [00:00, 105.38it/s]\n"
     ]
    },
    {
     "name": "stdout",
     "output_type": "stream",
     "text": [
      "2011-06-01  -  2011-06-30\n"
     ]
    },
    {
     "name": "stderr",
     "output_type": "stream",
     "text": [
      "27it [00:00, 102.63it/s]\n",
      "22it [00:00, 113.99it/s]\n",
      "30it [00:00, 73.71it/s]\n",
      "21it [00:00, 109.95it/s]\n",
      "21it [00:00, 107.69it/s]\n"
     ]
    },
    {
     "name": "stdout",
     "output_type": "stream",
     "text": [
      "2011-07-01  -  2011-07-31\n"
     ]
    },
    {
     "name": "stderr",
     "output_type": "stream",
     "text": [
      "28it [00:00, 98.08it/s]\n",
      "33it [00:00, 90.05it/s]\n",
      "26it [00:00, 97.62it/s] \n",
      "4it [00:00, 97.90it/s]\n",
      "25it [00:00, 102.53it/s]\n"
     ]
    },
    {
     "name": "stdout",
     "output_type": "stream",
     "text": [
      "2011-08-01  -  2011-08-31\n"
     ]
    },
    {
     "name": "stderr",
     "output_type": "stream",
     "text": [
      "28it [00:00, 99.99it/s]\n",
      "28it [00:00, 98.49it/s]\n",
      "24it [00:00, 99.44it/s] \n",
      "13it [00:00, 93.24it/s]\n",
      "28it [00:00, 102.81it/s]\n"
     ]
    },
    {
     "name": "stdout",
     "output_type": "stream",
     "text": [
      "2011-09-01  -  2011-09-30\n"
     ]
    },
    {
     "name": "stderr",
     "output_type": "stream",
     "text": [
      "25it [00:00, 103.87it/s]\n",
      "28it [00:00, 101.08it/s]\n",
      "24it [00:00, 100.86it/s]\n",
      "8it [00:00, 100.23it/s]\n",
      "34it [00:00, 106.58it/s]\n"
     ]
    },
    {
     "name": "stdout",
     "output_type": "stream",
     "text": [
      "2011-10-01  -  2011-10-31\n"
     ]
    },
    {
     "name": "stderr",
     "output_type": "stream",
     "text": [
      "24it [00:00, 103.46it/s]\n",
      "25it [00:00, 104.05it/s]\n",
      "21it [00:00, 101.54it/s]\n",
      "6it [00:00, 105.52it/s]\n",
      "20it [00:00, 92.59it/s]\n"
     ]
    },
    {
     "name": "stdout",
     "output_type": "stream",
     "text": [
      "2011-11-01  -  2011-11-30\n"
     ]
    },
    {
     "name": "stderr",
     "output_type": "stream",
     "text": [
      "27it [00:00, 107.00it/s]\n",
      "26it [00:00, 106.67it/s]\n",
      "19it [00:00, 102.70it/s]\n",
      "11it [00:00, 104.19it/s]\n",
      "16it [00:00, 104.75it/s]\n"
     ]
    },
    {
     "name": "stdout",
     "output_type": "stream",
     "text": [
      "2011-12-01  -  2011-12-31\n"
     ]
    },
    {
     "name": "stderr",
     "output_type": "stream",
     "text": [
      "13it [00:00, 104.00it/s]\n",
      "20it [00:00, 102.97it/s]\n",
      "20it [00:00, 106.86it/s]\n",
      "6it [00:00, 103.39it/s]\n",
      "20it [00:00, 102.00it/s]\n"
     ]
    },
    {
     "name": "stdout",
     "output_type": "stream",
     "text": [
      "2012-01-01  -  2012-01-31\n"
     ]
    },
    {
     "name": "stderr",
     "output_type": "stream",
     "text": [
      "0it [00:00, ?it/s]\n",
      "11it [00:00, 100.41it/s]\n",
      "11it [00:00, 64.18it/s]\n",
      "7it [00:00, 112.90it/s]\n",
      "12it [00:00, 96.07it/s]\n"
     ]
    },
    {
     "name": "stdout",
     "output_type": "stream",
     "text": [
      "2012-02-01  -  2012-02-29\n"
     ]
    },
    {
     "name": "stderr",
     "output_type": "stream",
     "text": [
      "14it [00:00, 106.06it/s]\n",
      "15it [00:00, 104.17it/s]\n",
      "14it [00:00, 104.48it/s]\n",
      "6it [00:00, 102.95it/s]\n",
      "14it [00:00, 57.39it/s]\n"
     ]
    },
    {
     "name": "stdout",
     "output_type": "stream",
     "text": [
      "2012-03-01  -  2012-03-31\n"
     ]
    },
    {
     "name": "stderr",
     "output_type": "stream",
     "text": [
      "18it [00:00, 104.65it/s]\n",
      "14it [00:00, 103.85it/s]\n",
      "10it [00:00, 102.97it/s]\n",
      "5it [00:00, 90.91it/s]\n",
      "16it [00:00, 104.65it/s]\n"
     ]
    },
    {
     "name": "stdout",
     "output_type": "stream",
     "text": [
      "2012-04-01  -  2012-04-30\n"
     ]
    },
    {
     "name": "stderr",
     "output_type": "stream",
     "text": [
      "18it [00:00, 107.12it/s]\n",
      "22it [00:00, 106.58it/s]\n",
      "15it [00:00, 104.89it/s]\n",
      "7it [00:00, 106.06it/s]\n",
      "15it [00:00, 103.45it/s]\n"
     ]
    },
    {
     "name": "stdout",
     "output_type": "stream",
     "text": [
      "2012-05-01  -  2012-05-31\n"
     ]
    },
    {
     "name": "stderr",
     "output_type": "stream",
     "text": [
      "13it [00:00, 77.32it/s]\n",
      "12it [00:00, 103.92it/s]\n",
      "22it [00:00, 99.47it/s] \n",
      "14it [00:00, 106.06it/s]\n",
      "17it [00:00, 103.66it/s]\n"
     ]
    },
    {
     "name": "stdout",
     "output_type": "stream",
     "text": [
      "2012-06-01  -  2012-06-30\n"
     ]
    },
    {
     "name": "stderr",
     "output_type": "stream",
     "text": [
      "11it [00:00, 90.09it/s]\n",
      "12it [00:00, 105.21it/s]\n",
      "20it [00:00, 109.57it/s]\n",
      "6it [00:00, 97.82it/s]\n",
      "25it [00:00, 100.83it/s]\n"
     ]
    },
    {
     "name": "stdout",
     "output_type": "stream",
     "text": [
      "2012-07-01  -  2012-07-31\n"
     ]
    },
    {
     "name": "stderr",
     "output_type": "stream",
     "text": [
      "10it [00:00, 110.67it/s]\n",
      "21it [00:00, 107.71it/s]\n",
      "14it [00:00, 106.52it/s]\n",
      "6it [00:00, 76.66it/s]\n",
      "13it [00:00, 107.43it/s]\n"
     ]
    },
    {
     "name": "stdout",
     "output_type": "stream",
     "text": [
      "2012-08-01  -  2012-08-31\n"
     ]
    },
    {
     "name": "stderr",
     "output_type": "stream",
     "text": [
      "17it [00:00, 100.46it/s]\n",
      "15it [00:00, 106.09it/s]\n",
      "12it [00:00, 102.55it/s]\n",
      "9it [00:00, 108.70it/s]\n",
      "13it [00:00, 105.69it/s]\n"
     ]
    },
    {
     "name": "stdout",
     "output_type": "stream",
     "text": [
      "2012-09-01  -  2012-09-30\n"
     ]
    },
    {
     "name": "stderr",
     "output_type": "stream",
     "text": [
      "10it [00:00, 104.17it/s]\n",
      "13it [00:00, 106.92it/s]\n",
      "13it [00:00, 98.50it/s]\n",
      "3it [00:00, 96.66it/s]\n",
      "12it [00:00, 103.86it/s]\n"
     ]
    },
    {
     "name": "stdout",
     "output_type": "stream",
     "text": [
      "2012-10-01  -  2012-10-31\n"
     ]
    },
    {
     "name": "stderr",
     "output_type": "stream",
     "text": [
      "18it [00:00, 102.84it/s]\n",
      "14it [00:00, 117.65it/s]\n",
      "13it [00:00, 92.82it/s]\n",
      "5it [00:00, 94.32it/s]\n",
      "14it [00:00, 104.12it/s]\n"
     ]
    },
    {
     "name": "stdout",
     "output_type": "stream",
     "text": [
      "2012-11-01  -  2012-11-30\n"
     ]
    },
    {
     "name": "stderr",
     "output_type": "stream",
     "text": [
      "16it [00:00, 96.01it/s]\n",
      "16it [00:00, 99.74it/s]\n",
      "9it [00:00, 98.23it/s]\n",
      "4it [00:00, 85.06it/s]\n",
      "16it [00:00, 97.04it/s]\n"
     ]
    },
    {
     "name": "stdout",
     "output_type": "stream",
     "text": [
      "2012-12-01  -  2012-12-31\n"
     ]
    },
    {
     "name": "stderr",
     "output_type": "stream",
     "text": [
      "20it [00:00, 108.45it/s]\n",
      "13it [00:00, 105.19it/s]\n",
      "18it [00:00, 99.18it/s]\n",
      "1it [00:00, 111.10it/s]\n",
      "22it [00:00, 96.27it/s]\n"
     ]
    },
    {
     "name": "stdout",
     "output_type": "stream",
     "text": [
      "2013-01-01  -  2013-01-31\n"
     ]
    },
    {
     "name": "stderr",
     "output_type": "stream",
     "text": [
      "0it [00:00, ?it/s]\n",
      "13it [00:00, 90.91it/s]\n",
      "15it [00:00, 94.34it/s]\n",
      "7it [00:00, 53.52it/s]\n",
      "13it [00:00, 98.82it/s]\n"
     ]
    },
    {
     "name": "stdout",
     "output_type": "stream",
     "text": [
      "2013-02-01  -  2013-02-28\n"
     ]
    },
    {
     "name": "stderr",
     "output_type": "stream",
     "text": [
      "17it [00:00, 96.59it/s] \n",
      "13it [00:00, 89.66it/s]\n",
      "13it [00:00, 82.28it/s]\n",
      "2it [00:00, 83.34it/s]\n",
      "12it [00:00, 96.78it/s]\n"
     ]
    },
    {
     "name": "stdout",
     "output_type": "stream",
     "text": [
      "2013-03-01  -  2013-03-31\n"
     ]
    },
    {
     "name": "stderr",
     "output_type": "stream",
     "text": [
      "17it [00:00, 87.18it/s]\n",
      "11it [00:00, 77.46it/s]\n",
      "16it [00:00, 89.55it/s]\n",
      "4it [00:00, 72.76it/s]\n",
      "13it [00:00, 87.84it/s]\n"
     ]
    },
    {
     "name": "stdout",
     "output_type": "stream",
     "text": [
      "2013-04-01  -  2013-04-30\n"
     ]
    },
    {
     "name": "stderr",
     "output_type": "stream",
     "text": [
      "10it [00:00, 83.33it/s]\n",
      "18it [00:00, 88.23it/s]\n",
      "14it [00:00, 100.72it/s]\n",
      "5it [00:00, 83.34it/s]\n",
      "10it [00:00, 93.46it/s]\n"
     ]
    },
    {
     "name": "stdout",
     "output_type": "stream",
     "text": [
      "2013-05-01  -  2013-05-31\n"
     ]
    },
    {
     "name": "stderr",
     "output_type": "stream",
     "text": [
      "5it [00:00, 94.42it/s]\n",
      "12it [00:00, 110.09it/s]\n",
      "15it [00:00, 102.55it/s]\n",
      "8it [00:00, 111.04it/s]\n",
      "12it [00:00, 98.29it/s]\n"
     ]
    },
    {
     "name": "stdout",
     "output_type": "stream",
     "text": [
      "2013-06-01  -  2013-06-30\n"
     ]
    },
    {
     "name": "stderr",
     "output_type": "stream",
     "text": [
      "10it [00:00, 113.64it/s]\n",
      "14it [00:00, 102.69it/s]\n",
      "14it [00:00, 103.00it/s]\n",
      "2it [00:00, 73.17it/s]\n",
      "10it [00:00, 109.84it/s]\n"
     ]
    },
    {
     "name": "stdout",
     "output_type": "stream",
     "text": [
      "2013-07-01  -  2013-07-31\n"
     ]
    },
    {
     "name": "stderr",
     "output_type": "stream",
     "text": [
      "12it [00:00, 103.18it/s]\n",
      "23it [00:00, 98.71it/s]\n",
      "15it [00:00, 103.81it/s]\n",
      "9it [00:00, 105.89it/s]\n",
      "13it [00:00, 101.69it/s]\n"
     ]
    },
    {
     "name": "stdout",
     "output_type": "stream",
     "text": [
      "2013-08-01  -  2013-08-31\n"
     ]
    },
    {
     "name": "stderr",
     "output_type": "stream",
     "text": [
      "9it [00:00, 67.03it/s]\n",
      "25it [00:00, 106.43it/s]\n",
      "11it [00:00, 106.71it/s]\n",
      "13it [00:00, 104.78it/s]\n",
      "15it [00:00, 50.57it/s]\n"
     ]
    },
    {
     "name": "stdout",
     "output_type": "stream",
     "text": [
      "2013-09-01  -  2013-09-30\n"
     ]
    },
    {
     "name": "stderr",
     "output_type": "stream",
     "text": [
      "20it [00:00, 102.04it/s]\n",
      "37it [00:00, 105.72it/s]\n",
      "42it [00:00, 94.67it/s]\n",
      "9it [00:00, 94.71it/s]\n",
      "26it [00:00, 95.24it/s]\n"
     ]
    },
    {
     "name": "stdout",
     "output_type": "stream",
     "text": [
      "2013-10-01  -  2013-10-31\n"
     ]
    },
    {
     "name": "stderr",
     "output_type": "stream",
     "text": [
      "28it [00:00, 104.48it/s]\n",
      "37it [00:00, 94.63it/s] \n",
      "23it [00:00, 95.08it/s]\n",
      "23it [00:00, 96.23it/s] \n",
      "30it [00:00, 100.35it/s]\n"
     ]
    },
    {
     "name": "stdout",
     "output_type": "stream",
     "text": [
      "2013-11-01  -  2013-11-30\n"
     ]
    },
    {
     "name": "stderr",
     "output_type": "stream",
     "text": [
      "23it [00:00, 101.36it/s]\n",
      "40it [00:00, 93.89it/s]\n",
      "40it [00:00, 95.95it/s]\n",
      "4it [00:00, 88.90it/s]\n",
      "30it [00:00, 92.09it/s]\n"
     ]
    },
    {
     "name": "stdout",
     "output_type": "stream",
     "text": [
      "2013-12-01  -  2013-12-31\n"
     ]
    },
    {
     "name": "stderr",
     "output_type": "stream",
     "text": [
      "31it [00:00, 98.76it/s]\n",
      "42it [00:00, 101.71it/s]\n",
      "30it [00:00, 70.47it/s]\n",
      "21it [00:00, 104.04it/s]\n",
      "23it [00:00, 64.44it/s]\n"
     ]
    },
    {
     "name": "stdout",
     "output_type": "stream",
     "text": [
      "2014-01-01  -  2014-01-31\n"
     ]
    },
    {
     "name": "stderr",
     "output_type": "stream",
     "text": [
      "0it [00:00, ?it/s]\n",
      "41it [00:00, 96.05it/s] \n",
      "40it [00:00, 90.64it/s]\n",
      "15it [00:00, 93.17it/s]\n",
      "32it [00:00, 97.52it/s]\n"
     ]
    },
    {
     "name": "stdout",
     "output_type": "stream",
     "text": [
      "2014-02-01  -  2014-02-28\n"
     ]
    },
    {
     "name": "stderr",
     "output_type": "stream",
     "text": [
      "23it [00:00, 102.40it/s]\n",
      "36it [00:00, 104.16it/s]\n",
      "22it [00:00, 102.83it/s]\n",
      "18it [00:00, 99.44it/s] \n",
      "30it [00:00, 93.28it/s]\n"
     ]
    },
    {
     "name": "stdout",
     "output_type": "stream",
     "text": [
      "2014-03-01  -  2014-03-31\n"
     ]
    },
    {
     "name": "stderr",
     "output_type": "stream",
     "text": [
      "25it [00:00, 105.53it/s]\n",
      "11it [00:00, 106.76it/s]\n",
      "40it [00:00, 107.63it/s]\n",
      "2it [00:00, 100.01it/s]\n",
      "33it [00:00, 70.07it/s] \n"
     ]
    },
    {
     "name": "stdout",
     "output_type": "stream",
     "text": [
      "2014-04-01  -  2014-04-30\n"
     ]
    },
    {
     "name": "stderr",
     "output_type": "stream",
     "text": [
      "32it [00:00, 105.48it/s]\n",
      "22it [00:00, 104.56it/s]\n",
      "38it [00:00, 108.41it/s]\n",
      "15it [00:00, 108.08it/s]\n",
      "37it [00:00, 106.28it/s]\n"
     ]
    },
    {
     "name": "stdout",
     "output_type": "stream",
     "text": [
      "2014-05-01  -  2014-05-31\n"
     ]
    },
    {
     "name": "stderr",
     "output_type": "stream",
     "text": [
      "26it [00:00, 105.08it/s]\n",
      "29it [00:00, 105.10it/s]\n",
      "56it [00:00, 105.18it/s]\n",
      "7it [00:00, 99.24it/s]\n",
      "46it [00:00, 71.41it/s]\n"
     ]
    },
    {
     "name": "stdout",
     "output_type": "stream",
     "text": [
      "2014-06-01  -  2014-06-30\n"
     ]
    },
    {
     "name": "stderr",
     "output_type": "stream",
     "text": [
      "52it [00:00, 103.50it/s]\n",
      "30it [00:00, 98.68it/s] \n",
      "31it [00:00, 102.64it/s]\n",
      "19it [00:00, 94.53it/s]\n",
      "33it [00:00, 96.42it/s] \n"
     ]
    },
    {
     "name": "stdout",
     "output_type": "stream",
     "text": [
      "2014-07-01  -  2014-07-31\n"
     ]
    },
    {
     "name": "stderr",
     "output_type": "stream",
     "text": [
      "48it [00:03, 15.88it/s]\n",
      "43it [00:00, 111.11it/s]\n",
      "45it [00:06,  6.61it/s]\n",
      "17it [00:00, 112.37it/s]\n",
      "61it [00:00, 107.47it/s]\n"
     ]
    },
    {
     "name": "stdout",
     "output_type": "stream",
     "text": [
      "2014-08-01  -  2014-08-31\n"
     ]
    },
    {
     "name": "stderr",
     "output_type": "stream",
     "text": [
      "38it [00:00, 106.66it/s]\n",
      "44it [00:00, 107.04it/s]\n",
      "56it [00:00, 104.99it/s]\n",
      "10it [00:00, 105.81it/s]\n",
      "48it [00:00, 99.72it/s]\n"
     ]
    },
    {
     "name": "stdout",
     "output_type": "stream",
     "text": [
      "2014-09-01  -  2014-09-30\n"
     ]
    },
    {
     "name": "stderr",
     "output_type": "stream",
     "text": [
      "46it [00:00, 59.84it/s]\n",
      "42it [00:00, 110.04it/s]\n",
      "51it [00:08,  5.73it/s] \n",
      "32it [00:00, 78.75it/s]\n",
      "47it [00:00, 105.62it/s]\n"
     ]
    },
    {
     "name": "stdout",
     "output_type": "stream",
     "text": [
      "2014-10-01  -  2014-10-31\n"
     ]
    },
    {
     "name": "stderr",
     "output_type": "stream",
     "text": [
      "55it [00:20,  2.73it/s]\n",
      "76it [00:00, 106.11it/s]\n",
      "63it [00:11,  5.66it/s] \n",
      "18it [00:00, 113.23it/s]\n",
      "63it [00:00, 113.11it/s]\n"
     ]
    },
    {
     "name": "stdout",
     "output_type": "stream",
     "text": [
      "2014-11-01  -  2014-11-30\n"
     ]
    },
    {
     "name": "stderr",
     "output_type": "stream",
     "text": [
      "22it [00:00, 112.39it/s]\n",
      "53it [00:00, 108.30it/s]\n",
      "41it [00:00, 100.99it/s]\n",
      "5it [00:00, 86.21it/s]\n",
      "44it [00:00, 108.87it/s]\n"
     ]
    },
    {
     "name": "stdout",
     "output_type": "stream",
     "text": [
      "2014-12-01  -  2014-12-31\n"
     ]
    },
    {
     "name": "stderr",
     "output_type": "stream",
     "text": [
      "50it [00:07,  6.63it/s]\n",
      "56it [00:00, 108.74it/s]\n",
      "53it [00:19,  2.77it/s]\n",
      "38it [00:06,  5.56it/s] \n",
      "74it [00:00, 98.60it/s] \n"
     ]
    },
    {
     "name": "stdout",
     "output_type": "stream",
     "text": [
      "2015-01-01  -  2015-01-31\n"
     ]
    },
    {
     "name": "stderr",
     "output_type": "stream",
     "text": [
      "0it [00:00, ?it/s]\n",
      "27it [00:00, 97.53it/s]\n",
      "46it [00:03, 15.20it/s] \n",
      "14it [00:00, 91.74it/s]\n",
      "50it [00:00, 99.43it/s] \n"
     ]
    },
    {
     "name": "stdout",
     "output_type": "stream",
     "text": [
      "2015-02-01  -  2015-02-28\n"
     ]
    },
    {
     "name": "stderr",
     "output_type": "stream",
     "text": [
      "46it [00:00, 95.07it/s]\n",
      "51it [00:00, 92.64it/s] \n",
      "38it [00:00, 95.10it/s]\n",
      "11it [00:00, 95.65it/s]\n",
      "20it [00:00, 104.23it/s]\n"
     ]
    },
    {
     "name": "stdout",
     "output_type": "stream",
     "text": [
      "2015-03-01  -  2015-03-31\n"
     ]
    },
    {
     "name": "stderr",
     "output_type": "stream",
     "text": [
      "56it [00:00, 98.29it/s]\n",
      "22it [00:00, 83.02it/s]\n",
      "38it [00:00, 103.82it/s]\n",
      "24it [00:00, 101.27it/s]\n",
      "34it [00:00, 95.77it/s] \n"
     ]
    },
    {
     "name": "stdout",
     "output_type": "stream",
     "text": [
      "2015-04-01  -  2015-04-30\n"
     ]
    },
    {
     "name": "stderr",
     "output_type": "stream",
     "text": [
      "60it [00:14,  4.10it/s]\n",
      "55it [00:00, 96.02it/s]\n",
      "48it [00:02, 18.66it/s] \n",
      "30it [00:00, 111.11it/s]\n",
      "41it [00:00, 105.31it/s]\n"
     ]
    },
    {
     "name": "stdout",
     "output_type": "stream",
     "text": [
      "2015-05-01  -  2015-05-31\n"
     ]
    },
    {
     "name": "stderr",
     "output_type": "stream",
     "text": [
      "29it [00:00, 70.51it/s] \n",
      "33it [00:00, 101.49it/s]\n",
      "50it [00:00, 91.41it/s]\n",
      "5it [00:00, 94.40it/s]\n",
      "38it [00:00, 85.77it/s]\n"
     ]
    },
    {
     "name": "stdout",
     "output_type": "stream",
     "text": [
      "2015-06-01  -  2015-06-30\n"
     ]
    },
    {
     "name": "stderr",
     "output_type": "stream",
     "text": [
      "44it [00:00, 97.32it/s]\n",
      "44it [00:00, 102.82it/s]\n",
      "64it [00:06, 10.53it/s] \n",
      "33it [00:00, 106.13it/s]\n",
      "27it [00:00, 97.41it/s]\n"
     ]
    },
    {
     "name": "stdout",
     "output_type": "stream",
     "text": [
      "2015-07-01  -  2015-07-31\n"
     ]
    },
    {
     "name": "stderr",
     "output_type": "stream",
     "text": [
      "74it [00:17,  4.12it/s]\n",
      "53it [00:00, 102.19it/s]\n",
      "51it [00:17,  3.00it/s]\n",
      "47it [00:00, 104.99it/s]\n",
      "49it [00:00, 84.75it/s]\n"
     ]
    },
    {
     "name": "stdout",
     "output_type": "stream",
     "text": [
      "2015-08-01  -  2015-08-31\n"
     ]
    },
    {
     "name": "stderr",
     "output_type": "stream",
     "text": [
      "67it [00:03, 20.86it/s] \n",
      "39it [00:00, 100.01it/s]\n",
      "61it [00:10,  5.58it/s]\n",
      "6it [00:00, 98.53it/s]\n",
      "53it [00:00, 105.91it/s]\n"
     ]
    },
    {
     "name": "stdout",
     "output_type": "stream",
     "text": [
      "2015-09-01  -  2015-09-30\n"
     ]
    },
    {
     "name": "stderr",
     "output_type": "stream",
     "text": [
      "34it [00:00, 101.93it/s]\n",
      "45it [00:00, 64.08it/s]\n",
      "59it [00:22,  2.58it/s]\n",
      "46it [00:00, 105.00it/s]\n",
      "49it [00:00, 63.41it/s] \n"
     ]
    },
    {
     "name": "stdout",
     "output_type": "stream",
     "text": [
      "2015-10-01  -  2015-10-31\n"
     ]
    },
    {
     "name": "stderr",
     "output_type": "stream",
     "text": [
      "59it [00:10,  5.77it/s]\n",
      "45it [00:00, 104.43it/s]\n",
      "69it [00:06, 10.18it/s] \n",
      "21it [00:00, 112.86it/s]\n",
      "43it [00:00, 103.37it/s]\n"
     ]
    },
    {
     "name": "stdout",
     "output_type": "stream",
     "text": [
      "2015-11-01  -  2015-11-30\n"
     ]
    },
    {
     "name": "stderr",
     "output_type": "stream",
     "text": [
      "53it [00:08,  6.09it/s] \n",
      "68it [00:00, 86.20it/s]\n",
      "71it [00:17,  3.99it/s]\n",
      "29it [00:00, 101.76it/s]\n",
      "42it [00:00, 106.09it/s]\n"
     ]
    },
    {
     "name": "stdout",
     "output_type": "stream",
     "text": [
      "2015-12-01  -  2015-12-31\n"
     ]
    },
    {
     "name": "stderr",
     "output_type": "stream",
     "text": [
      "67it [00:16,  3.98it/s] \n",
      "66it [00:00, 106.56it/s]\n",
      "68it [00:31,  2.15it/s]\n",
      "47it [00:06,  6.84it/s] \n",
      "69it [00:00, 108.35it/s]\n"
     ]
    },
    {
     "name": "stdout",
     "output_type": "stream",
     "text": [
      "2016-01-01  -  2016-01-31\n"
     ]
    },
    {
     "name": "stderr",
     "output_type": "stream",
     "text": [
      "3it [00:00, 90.91it/s]\n",
      "30it [00:00, 108.67it/s]\n",
      "72it [00:14,  4.93it/s] \n",
      "17it [00:00, 111.10it/s]\n",
      "54it [00:00, 93.92it/s]\n"
     ]
    },
    {
     "name": "stdout",
     "output_type": "stream",
     "text": [
      "2016-02-01  -  2016-02-29\n"
     ]
    },
    {
     "name": "stderr",
     "output_type": "stream",
     "text": [
      "25it [00:00, 57.88it/s]\n",
      "32it [00:00, 53.02it/s]\n",
      "28it [00:00, 66.64it/s]\n",
      "4it [00:00, 107.41it/s]\n",
      "16it [00:00, 105.61it/s]\n"
     ]
    },
    {
     "name": "stdout",
     "output_type": "stream",
     "text": [
      "2016-03-01  -  2016-03-31\n"
     ]
    },
    {
     "name": "stderr",
     "output_type": "stream",
     "text": [
      "17it [00:00, 102.10it/s]\n",
      "21it [00:00, 52.20it/s]\n",
      "29it [00:00, 108.87it/s]\n",
      "19it [00:00, 55.85it/s]\n",
      "24it [00:00, 45.09it/s]\n"
     ]
    },
    {
     "name": "stdout",
     "output_type": "stream",
     "text": [
      "2016-04-01  -  2016-04-30\n"
     ]
    },
    {
     "name": "stderr",
     "output_type": "stream",
     "text": [
      "16it [00:00, 100.99it/s]\n",
      "35it [00:00, 110.07it/s]\n",
      "14it [00:00, 47.34it/s]\n",
      "1it [00:00, 100.42it/s]\n",
      "23it [00:00, 114.43it/s]\n"
     ]
    },
    {
     "name": "stdout",
     "output_type": "stream",
     "text": [
      "2016-05-01  -  2016-05-31\n"
     ]
    },
    {
     "name": "stderr",
     "output_type": "stream",
     "text": [
      "17it [00:00, 109.54it/s]\n",
      "14it [00:00, 104.77it/s]\n",
      "14it [00:00, 106.50it/s]\n",
      "10it [00:00, 119.54it/s]\n",
      "25it [00:00, 105.15it/s]\n"
     ]
    },
    {
     "name": "stdout",
     "output_type": "stream",
     "text": [
      "2016-06-01  -  2016-06-30\n"
     ]
    },
    {
     "name": "stderr",
     "output_type": "stream",
     "text": [
      "6it [00:00, 101.00it/s]\n",
      "23it [00:00, 110.80it/s]\n",
      "19it [00:00, 107.06it/s]\n",
      "16it [00:00, 96.77it/s]\n",
      "20it [00:00, 100.50it/s]\n"
     ]
    },
    {
     "name": "stdout",
     "output_type": "stream",
     "text": [
      "2016-07-01  -  2016-07-31\n"
     ]
    },
    {
     "name": "stderr",
     "output_type": "stream",
     "text": [
      "19it [00:00, 106.85it/s]\n",
      "24it [00:00, 101.64it/s]\n",
      "28it [00:00, 107.28it/s]\n",
      "6it [00:00, 107.14it/s]\n",
      "15it [00:00, 112.82it/s]\n"
     ]
    },
    {
     "name": "stdout",
     "output_type": "stream",
     "text": [
      "2016-08-01  -  2016-08-31\n"
     ]
    },
    {
     "name": "stderr",
     "output_type": "stream",
     "text": [
      "14it [00:00, 111.09it/s]\n",
      "10it [00:00, 104.13it/s]\n",
      "9it [00:00, 88.20it/s]\n",
      "6it [00:00, 113.92it/s]\n",
      "10it [00:00, 104.16it/s]\n"
     ]
    },
    {
     "name": "stdout",
     "output_type": "stream",
     "text": [
      "2016-09-01  -  2016-09-30\n"
     ]
    },
    {
     "name": "stderr",
     "output_type": "stream",
     "text": [
      "19it [00:00, 119.50it/s]\n",
      "8it [00:00, 103.74it/s]\n",
      "17it [00:00, 114.09it/s]\n",
      "0it [00:00, ?it/s]\n",
      "16it [00:00, 107.74it/s]\n"
     ]
    },
    {
     "name": "stdout",
     "output_type": "stream",
     "text": [
      "2016-10-01  -  2016-10-31\n"
     ]
    },
    {
     "name": "stderr",
     "output_type": "stream",
     "text": [
      "13it [00:00, 108.52it/s]\n",
      "13it [00:00, 108.23it/s]\n",
      "9it [00:00, 102.85it/s]\n",
      "7it [00:00, 84.14it/s]\n",
      "13it [00:00, 115.04it/s]\n"
     ]
    },
    {
     "name": "stdout",
     "output_type": "stream",
     "text": [
      "2016-11-01  -  2016-11-30\n"
     ]
    },
    {
     "name": "stderr",
     "output_type": "stream",
     "text": [
      "11it [00:00, 110.03it/s]\n",
      "9it [00:00, 116.88it/s]\n",
      "14it [00:00, 111.13it/s]\n",
      "8it [00:00, 101.22it/s]\n",
      "10it [00:00, 112.36it/s]\n"
     ]
    },
    {
     "name": "stdout",
     "output_type": "stream",
     "text": [
      "2016-12-01  -  2016-12-31\n"
     ]
    },
    {
     "name": "stderr",
     "output_type": "stream",
     "text": [
      "11it [00:00, 97.35it/s]\n",
      "11it [00:00, 73.66it/s]\n",
      "20it [00:00, 103.07it/s]\n",
      "8it [00:00, 94.08it/s]\n",
      "19it [00:00, 113.74it/s]\n"
     ]
    },
    {
     "name": "stdout",
     "output_type": "stream",
     "text": [
      "2017-01-01  -  2017-01-31\n"
     ]
    },
    {
     "name": "stderr",
     "output_type": "stream",
     "text": [
      "0it [00:00, ?it/s]\n",
      "8it [00:00, 105.37it/s]\n",
      "11it [00:00, 107.58it/s]\n",
      "9it [00:00, 103.18it/s]\n",
      "14it [00:00, 104.80it/s]\n"
     ]
    },
    {
     "name": "stdout",
     "output_type": "stream",
     "text": [
      "2017-02-01  -  2017-02-28\n"
     ]
    },
    {
     "name": "stderr",
     "output_type": "stream",
     "text": [
      "7it [00:00, 97.18it/s]\n",
      "14it [00:00, 107.69it/s]\n",
      "10it [00:00, 92.50it/s]\n",
      "3it [00:00, 49.97it/s]\n",
      "2it [00:00, 99.78it/s]\n"
     ]
    },
    {
     "name": "stdout",
     "output_type": "stream",
     "text": [
      "2017-03-01  -  2017-03-31\n"
     ]
    },
    {
     "name": "stderr",
     "output_type": "stream",
     "text": [
      "14it [00:00, 102.94it/s]\n",
      "7it [00:00, 98.59it/s]\n",
      "7it [00:00, 90.91it/s]\n",
      "9it [00:00, 98.84it/s]\n",
      "10it [00:00, 87.72it/s]\n"
     ]
    },
    {
     "name": "stdout",
     "output_type": "stream",
     "text": [
      "2017-04-01  -  2017-04-30\n"
     ]
    },
    {
     "name": "stderr",
     "output_type": "stream",
     "text": [
      "14it [00:00, 98.05it/s]\n",
      "8it [00:00, 86.96it/s]\n",
      "11it [00:00, 91.49it/s]\n",
      "1it [00:00, 73.50it/s]\n",
      "10it [00:00, 90.88it/s]\n"
     ]
    },
    {
     "name": "stdout",
     "output_type": "stream",
     "text": [
      "2017-05-01  -  2017-05-31\n"
     ]
    },
    {
     "name": "stderr",
     "output_type": "stream",
     "text": [
      "5it [00:00, 104.09it/s]\n",
      "7it [00:00, 72.91it/s]\n",
      "3it [00:00, 80.98it/s]\n",
      "1it [00:00, 55.69it/s]\n",
      "12it [00:00, 100.81it/s]\n"
     ]
    },
    {
     "name": "stdout",
     "output_type": "stream",
     "text": [
      "2017-06-01  -  2017-06-30\n"
     ]
    },
    {
     "name": "stderr",
     "output_type": "stream",
     "text": [
      "10it [00:00, 112.36it/s]\n",
      "8it [00:00, 97.52it/s]\n",
      "9it [00:00, 107.76it/s]\n",
      "3it [00:00, 111.11it/s]\n",
      "10it [00:00, 103.80it/s]\n"
     ]
    },
    {
     "name": "stdout",
     "output_type": "stream",
     "text": [
      "2017-07-01  -  2017-07-31\n"
     ]
    },
    {
     "name": "stderr",
     "output_type": "stream",
     "text": [
      "20it [00:00, 103.63it/s]\n",
      "11it [00:00, 100.39it/s]\n",
      "8it [00:00, 101.27it/s]\n",
      "2it [00:00, 100.18it/s]\n",
      "15it [00:00, 106.36it/s]\n"
     ]
    },
    {
     "name": "stdout",
     "output_type": "stream",
     "text": [
      "2017-08-01  -  2017-08-31\n"
     ]
    },
    {
     "name": "stderr",
     "output_type": "stream",
     "text": [
      "13it [00:00, 113.04it/s]\n",
      "9it [00:00, 101.13it/s]\n",
      "12it [00:00, 111.11it/s]\n",
      "4it [00:00, 108.21it/s]\n",
      "4it [00:00, 108.40it/s]\n"
     ]
    },
    {
     "name": "stdout",
     "output_type": "stream",
     "text": [
      "2017-09-01  -  2017-09-30\n"
     ]
    },
    {
     "name": "stderr",
     "output_type": "stream",
     "text": [
      "14it [00:00, 107.24it/s]\n",
      "8it [00:00, 109.15it/s]\n",
      "12it [00:00, 89.54it/s]\n",
      "2it [00:00, 95.26it/s]\n",
      "16it [00:00, 96.97it/s]\n"
     ]
    },
    {
     "name": "stdout",
     "output_type": "stream",
     "text": [
      "2017-10-01  -  2017-10-31\n"
     ]
    },
    {
     "name": "stderr",
     "output_type": "stream",
     "text": [
      "9it [00:00, 93.75it/s]\n",
      "11it [00:00, 98.21it/s]\n",
      "5it [00:00, 90.91it/s]\n",
      "1it [00:00, 98.97it/s]\n",
      "9it [00:00, 112.46it/s]\n"
     ]
    },
    {
     "name": "stdout",
     "output_type": "stream",
     "text": [
      "2017-11-01  -  2017-11-30\n"
     ]
    },
    {
     "name": "stderr",
     "output_type": "stream",
     "text": [
      "4it [00:00, 105.24it/s]\n",
      "9it [00:00, 106.22it/s]\n",
      "8it [00:00, 103.94it/s]\n",
      "6it [00:00, 76.48it/s]\n",
      "9it [00:00, 107.16it/s]\n"
     ]
    },
    {
     "name": "stdout",
     "output_type": "stream",
     "text": [
      "2017-12-01  -  2017-12-31\n"
     ]
    },
    {
     "name": "stderr",
     "output_type": "stream",
     "text": [
      "16it [00:00, 95.24it/s]\n",
      "13it [00:00, 52.86it/s]\n",
      "17it [00:00, 92.90it/s]\n",
      "5it [00:00, 74.63it/s]\n",
      "19it [00:00, 89.64it/s]\n"
     ]
    },
    {
     "name": "stdout",
     "output_type": "stream",
     "text": [
      "2018-01-01  -  2018-01-31\n"
     ]
    },
    {
     "name": "stderr",
     "output_type": "stream",
     "text": [
      "0it [00:00, ?it/s]\n",
      "5it [00:00, 108.68it/s]\n",
      "12it [00:00, 84.21it/s]\n",
      "4it [00:00, 99.92it/s]\n",
      "7it [00:00, 103.77it/s]\n"
     ]
    },
    {
     "name": "stdout",
     "output_type": "stream",
     "text": [
      "2018-02-01  -  2018-02-28\n"
     ]
    },
    {
     "name": "stderr",
     "output_type": "stream",
     "text": [
      "10it [00:00, 104.62it/s]\n",
      "8it [00:00, 113.76it/s]\n",
      "13it [00:00, 100.37it/s]\n",
      "2it [00:00, 89.57it/s]\n",
      "0it [00:00, ?it/s]\n"
     ]
    },
    {
     "name": "stdout",
     "output_type": "stream",
     "text": [
      "2018-03-01  -  2018-03-31\n"
     ]
    },
    {
     "name": "stderr",
     "output_type": "stream",
     "text": [
      "11it [00:00, 93.22it/s]\n",
      "8it [00:00, 106.62it/s]\n",
      "10it [00:00, 104.13it/s]\n",
      "5it [00:00, 102.05it/s]\n",
      "14it [00:00, 94.60it/s]\n"
     ]
    },
    {
     "name": "stdout",
     "output_type": "stream",
     "text": [
      "2018-04-01  -  2018-04-30\n"
     ]
    },
    {
     "name": "stderr",
     "output_type": "stream",
     "text": [
      "3it [00:00, 93.76it/s]\n",
      "16it [00:00, 103.01it/s]\n",
      "8it [00:00, 94.12it/s]\n",
      "0it [00:00, ?it/s]\n",
      "13it [00:00, 94.89it/s]\n"
     ]
    },
    {
     "name": "stdout",
     "output_type": "stream",
     "text": [
      "2018-05-01  -  2018-05-31\n"
     ]
    },
    {
     "name": "stderr",
     "output_type": "stream",
     "text": [
      "2it [00:00, 64.52it/s]\n",
      "7it [00:00, 80.46it/s]\n",
      "12it [00:00, 59.63it/s]\n",
      "5it [00:00, 103.65it/s]\n",
      "12it [00:00, 111.98it/s]\n"
     ]
    },
    {
     "name": "stdout",
     "output_type": "stream",
     "text": [
      "2018-06-01  -  2018-06-30\n"
     ]
    },
    {
     "name": "stderr",
     "output_type": "stream",
     "text": [
      "16it [00:00, 58.83it/s]\n",
      "3it [00:00, 79.15it/s]\n",
      "19it [00:00, 101.08it/s]\n",
      "2it [00:00, 100.00it/s]\n",
      "8it [00:00, 98.71it/s]\n"
     ]
    },
    {
     "name": "stdout",
     "output_type": "stream",
     "text": [
      "2018-07-01  -  2018-07-31\n"
     ]
    },
    {
     "name": "stderr",
     "output_type": "stream",
     "text": [
      "8it [00:00, 112.68it/s]\n",
      "8it [00:00, 106.67it/s]\n",
      "8it [00:00, 112.57it/s]\n",
      "5it [00:00, 100.93it/s]\n",
      "13it [00:00, 47.83it/s]\n"
     ]
    },
    {
     "name": "stdout",
     "output_type": "stream",
     "text": [
      "2018-08-01  -  2018-08-31\n"
     ]
    },
    {
     "name": "stderr",
     "output_type": "stream",
     "text": [
      "11it [00:00, 103.04it/s]\n",
      "8it [00:00, 105.04it/s]\n",
      "8it [00:00, 102.61it/s]\n",
      "4it [00:00, 105.26it/s]\n",
      "9it [00:00, 87.50it/s]\n"
     ]
    },
    {
     "name": "stdout",
     "output_type": "stream",
     "text": [
      "2018-09-01  -  2018-09-30\n"
     ]
    },
    {
     "name": "stderr",
     "output_type": "stream",
     "text": [
      "5it [00:00, 121.94it/s]\n",
      "8it [00:00, 100.28it/s]\n",
      "7it [00:00, 106.11it/s]\n",
      "3it [00:00, 93.63it/s]\n",
      "12it [00:00, 103.45it/s]\n"
     ]
    },
    {
     "name": "stdout",
     "output_type": "stream",
     "text": [
      "2018-10-01  -  2018-10-31\n"
     ]
    },
    {
     "name": "stderr",
     "output_type": "stream",
     "text": [
      "13it [00:00, 95.87it/s]\n",
      "5it [00:00, 95.26it/s]\n",
      "8it [00:00, 102.56it/s]\n",
      "3it [00:00, 106.13it/s]\n",
      "16it [00:00, 105.57it/s]\n"
     ]
    },
    {
     "name": "stdout",
     "output_type": "stream",
     "text": [
      "2018-11-01  -  2018-11-30\n"
     ]
    },
    {
     "name": "stderr",
     "output_type": "stream",
     "text": [
      "6it [00:00, 99.03it/s]\n",
      "7it [00:00, 108.70it/s]\n",
      "7it [00:00, 100.07it/s]\n",
      "4it [00:00, 103.67it/s]\n",
      "8it [00:00, 98.77it/s]\n"
     ]
    },
    {
     "name": "stdout",
     "output_type": "stream",
     "text": [
      "2018-12-01  -  2018-12-31\n"
     ]
    },
    {
     "name": "stderr",
     "output_type": "stream",
     "text": [
      "14it [00:00, 90.38it/s]\n",
      "14it [00:00, 78.65it/s]\n",
      "12it [00:00, 102.76it/s]\n",
      "1it [00:00, 99.58it/s]\n",
      "21it [00:00, 109.79it/s]\n"
     ]
    },
    {
     "name": "stdout",
     "output_type": "stream",
     "text": [
      "2019-01-01  -  2019-01-31\n"
     ]
    },
    {
     "name": "stderr",
     "output_type": "stream",
     "text": [
      "1it [00:00, 90.92it/s]\n",
      "3it [00:00, 103.70it/s]\n",
      "4it [00:00, 93.01it/s]\n",
      "8it [00:00, 100.06it/s]\n",
      "10it [00:00, 100.42it/s]\n"
     ]
    },
    {
     "name": "stdout",
     "output_type": "stream",
     "text": [
      "2019-02-01  -  2019-02-28\n"
     ]
    },
    {
     "name": "stderr",
     "output_type": "stream",
     "text": [
      "7it [00:00, 106.06it/s]\n",
      "13it [00:00, 105.63it/s]\n",
      "8it [00:00, 81.78it/s]\n",
      "2it [00:00, 105.57it/s]\n",
      "6it [00:00, 70.28it/s]\n"
     ]
    },
    {
     "name": "stdout",
     "output_type": "stream",
     "text": [
      "2019-03-01  -  2019-03-31\n"
     ]
    },
    {
     "name": "stderr",
     "output_type": "stream",
     "text": [
      "9it [00:00, 53.97it/s]\n",
      "10it [00:00, 104.17it/s]\n",
      "5it [00:00, 98.55it/s]\n",
      "4it [00:00, 90.90it/s]\n",
      "10it [00:00, 81.30it/s]\n"
     ]
    },
    {
     "name": "stdout",
     "output_type": "stream",
     "text": [
      "2019-04-01  -  2019-04-30\n"
     ]
    },
    {
     "name": "stderr",
     "output_type": "stream",
     "text": [
      "8it [00:00, 111.11it/s]\n",
      "6it [00:00, 103.45it/s]\n",
      "9it [00:00, 104.73it/s]\n",
      "6it [00:00, 125.38it/s]\n",
      "10it [00:00, 113.92it/s]\n"
     ]
    },
    {
     "name": "stdout",
     "output_type": "stream",
     "text": [
      "2019-05-01  -  2019-05-31\n"
     ]
    },
    {
     "name": "stderr",
     "output_type": "stream",
     "text": [
      "5it [00:00, 86.25it/s]\n",
      "1it [00:00, 111.16it/s]\n",
      "6it [00:00, 96.77it/s]\n",
      "7it [00:00, 79.54it/s]\n",
      "6it [00:00, 93.74it/s]\n"
     ]
    },
    {
     "name": "stdout",
     "output_type": "stream",
     "text": [
      "2019-06-01  -  2019-06-30\n"
     ]
    },
    {
     "name": "stderr",
     "output_type": "stream",
     "text": [
      "9it [00:00, 56.43it/s]\n",
      "10it [00:00, 116.28it/s]\n",
      "7it [00:00, 98.59it/s]\n",
      "0it [00:00, ?it/s]\n",
      "14it [00:00, 109.37it/s]\n"
     ]
    }
   ],
   "source": [
    "DETECTED = df.url.tolist() \n",
    "\n",
    "def half_parser(cur_date, end_date, counter):\n",
    "    exc_articles = []\n",
    "    good_articles = []\n",
    "    \n",
    "    driver_base.find_elements(By.TAG_NAME, value='.hasDatepicker')[0].send_keys(\"\\b\\b\\b\\b\\b\\b\\b\\b\\b\\b\" + cur_date.strftime(\"%d.%m.%Y\"))\n",
    "    driver_base.find_elements(By.TAG_NAME, value='.hasDatepicker')[1].send_keys(\"\\b\\b\\b\\b\\b\\b\\b\\b\\b\\b\" + end_date.strftime(\"%d.%m.%Y\"))\n",
    "    driver_base.find_elements(By.TAG_NAME, value='#UniDbQuery_searchbutton')[0].click()\n",
    "\n",
    "    articles_dates = driver_base.find_elements(By.TAG_NAME, value='.source')\n",
    "    articles_links = driver_base.find_elements(By.TAG_NAME, value='a')[15:-10]\n",
    "    for article_date, link in tqdm(zip(articles_dates, articles_links)):\n",
    "        if link.get_attribute(name='href') in DETECTED:\n",
    "            continue\n",
    "        counter += 1\n",
    "        try:\n",
    "            article_type = \"Пресс-релиз\"\n",
    "            article_url = link.get_attribute(name='href')\n",
    "            driver_runner1.get(article_url)\n",
    "            article_text = [a.text for a in driver_runner1.find_elements(By.TAG_NAME, value='p')]\n",
    "            good_articles.append([counter, article_date.text, article_type, link.text, \"\\n\".join(article_text).strip(), article_url])\n",
    "        except Exception as e:\n",
    "            print(\"Problem!\")\n",
    "            exc_articles.append((article_date, link)) \n",
    "    return good_articles, exc_articles, counter\n",
    "\n",
    "\n",
    "counter = 0\n",
    "cur_date = start_date\n",
    "temp_end = cur_date + relativedelta(months=+1) - relativedelta(days=+1)\n",
    "exc_articles = []\n",
    "good_articles = []\n",
    "while temp_end < end_date:\n",
    "    print(cur_date, \" - \", temp_end)\n",
    "    \n",
    "    good_articles_temp, exc_articles_temp, counter = half_parser(cur_date, cur_date + relativedelta(days=+6), counter)\n",
    "    good_articles += good_articles_temp\n",
    "    exc_articles += exc_articles_temp\n",
    "    \n",
    "    good_articles_temp, exc_articles_temp, counter = half_parser(cur_date + relativedelta(days=+7), \n",
    "                                                                 cur_date + relativedelta(days=+13), counter)\n",
    "    good_articles += good_articles_temp\n",
    "    exc_articles += exc_articles_temp\n",
    "\n",
    "    good_articles_temp, exc_articles_temp, counter = half_parser(cur_date + relativedelta(days=+14), \n",
    "                                                                 cur_date + relativedelta(days=+20), counter)\n",
    "    good_articles += good_articles_temp\n",
    "    exc_articles += exc_articles_temp\n",
    "    \n",
    "    good_articles_temp, exc_articles_temp, counter = half_parser(cur_date + relativedelta(days=+21), \n",
    "                                                                 cur_date + relativedelta(days=+23), counter)\n",
    "    good_articles += good_articles_temp\n",
    "    exc_articles += exc_articles_temp\n",
    "    \n",
    "    good_articles_temp, exc_articles_temp, counter = half_parser(cur_date + relativedelta(days=+24), temp_end, counter)\n",
    "    good_articles += good_articles_temp\n",
    "    exc_articles += exc_articles_temp\n",
    "\n",
    "    if cur_date.month == 2:\n",
    "        pd.DataFrame(good_articles).to_csv(f\"{cur_date}_old_truely_all_arts.csv\", encoding=\"utf-8\", sep=\";\", index=False)    \n",
    "\n",
    "    cur_date = cur_date + relativedelta(months=+1)\n",
    "    temp_end = cur_date + relativedelta(months=+1) - relativedelta(days=+1)\n",
    "    temp_end = min([temp_end, end_date])"
   ]
  },
  {
   "cell_type": "code",
   "execution_count": 53,
   "metadata": {},
   "outputs": [],
   "source": [
    "pd.DataFrame(good_articles).to_csv(f\"old_all_truely_all_arts.csv\", encoding=\"utf-8\", sep=\";\", index=False)    "
   ]
  },
  {
   "cell_type": "code",
   "execution_count": 57,
   "metadata": {},
   "outputs": [
    {
     "data": {
      "text/html": [
       "<div>\n",
       "<style scoped>\n",
       "    .dataframe tbody tr th:only-of-type {\n",
       "        vertical-align: middle;\n",
       "    }\n",
       "\n",
       "    .dataframe tbody tr th {\n",
       "        vertical-align: top;\n",
       "    }\n",
       "\n",
       "    .dataframe thead th {\n",
       "        text-align: right;\n",
       "    }\n",
       "</style>\n",
       "<table border=\"1\" class=\"dataframe\">\n",
       "  <thead>\n",
       "    <tr style=\"text-align: right;\">\n",
       "      <th></th>\n",
       "      <th>datestr</th>\n",
       "      <th>type</th>\n",
       "      <th>header</th>\n",
       "      <th>text</th>\n",
       "      <th>url</th>\n",
       "      <th>date</th>\n",
       "    </tr>\n",
       "  </thead>\n",
       "  <tbody>\n",
       "    <tr>\n",
       "      <th>0</th>\n",
       "      <td>01.07.2014</td>\n",
       "      <td>Пресс-релиз</td>\n",
       "      <td>О продаже принадлежащих Банку России обыкновен...</td>\n",
       "      <td>В целях выполнения требования Федерального зак...</td>\n",
       "      <td>http://www.cbr.ru/press/PR/?file=01072014_1850...</td>\n",
       "      <td>2014-07-01</td>\n",
       "    </tr>\n",
       "    <tr>\n",
       "      <th>1</th>\n",
       "      <td>01.07.2014</td>\n",
       "      <td>Пресс-релиз</td>\n",
       "      <td>Об Указании Банка России от 23 апреля 2014 год...</td>\n",
       "      <td>Банк России издал Указание Банка России от 23 ...</td>\n",
       "      <td>http://www.cbr.ru/press/PR/?file=01072014_1836...</td>\n",
       "      <td>2014-07-01</td>\n",
       "    </tr>\n",
       "    <tr>\n",
       "      <th>2</th>\n",
       "      <td>17.07.2014</td>\n",
       "      <td>Пресс-релиз</td>\n",
       "      <td>О прекращении деятельности временной администр...</td>\n",
       "      <td>В связи с решением Арбитражного суда города Мо...</td>\n",
       "      <td>http://www.cbr.ru/press/PR/?file=17072014_1430...</td>\n",
       "      <td>2014-07-17</td>\n",
       "    </tr>\n",
       "    <tr>\n",
       "      <th>3</th>\n",
       "      <td>17.07.2014</td>\n",
       "      <td>Пресс-релиз</td>\n",
       "      <td>О решении Банка России от 16 июля 2014 года</td>\n",
       "      <td>Решение Банка России от 16 июля 2014 года:\\n\\n...</td>\n",
       "      <td>http://www.cbr.ru/press/PR/?file=17072014_1615...</td>\n",
       "      <td>2014-07-17</td>\n",
       "    </tr>\n",
       "    <tr>\n",
       "      <th>4</th>\n",
       "      <td>17.07.2014</td>\n",
       "      <td>Пресс-релиз</td>\n",
       "      <td>Перечень кредитных организаций, в которые назн...</td>\n",
       "      <td>Уполномоченные представители Банка России, дей...</td>\n",
       "      <td>http://www.cbr.ru/press/PR/?file=17072014_2043...</td>\n",
       "      <td>2014-07-17</td>\n",
       "    </tr>\n",
       "  </tbody>\n",
       "</table>\n",
       "</div>"
      ],
      "text/plain": [
       "      datestr         type                                             header  \\\n",
       "0  01.07.2014  Пресс-релиз  О продаже принадлежащих Банку России обыкновен...   \n",
       "1  01.07.2014  Пресс-релиз  Об Указании Банка России от 23 апреля 2014 год...   \n",
       "2  17.07.2014  Пресс-релиз  О прекращении деятельности временной администр...   \n",
       "3  17.07.2014  Пресс-релиз        О решении Банка России от 16 июля 2014 года   \n",
       "4  17.07.2014  Пресс-релиз  Перечень кредитных организаций, в которые назн...   \n",
       "\n",
       "                                                text  \\\n",
       "0  В целях выполнения требования Федерального зак...   \n",
       "1  Банк России издал Указание Банка России от 23 ...   \n",
       "2  В связи с решением Арбитражного суда города Мо...   \n",
       "3  Решение Банка России от 16 июля 2014 года:\\n\\n...   \n",
       "4  Уполномоченные представители Банка России, дей...   \n",
       "\n",
       "                                                 url       date  \n",
       "0  http://www.cbr.ru/press/PR/?file=01072014_1850... 2014-07-01  \n",
       "1  http://www.cbr.ru/press/PR/?file=01072014_1836... 2014-07-01  \n",
       "2  http://www.cbr.ru/press/PR/?file=17072014_1430... 2014-07-17  \n",
       "3  http://www.cbr.ru/press/PR/?file=17072014_1615... 2014-07-17  \n",
       "4  http://www.cbr.ru/press/PR/?file=17072014_2043... 2014-07-17  "
      ]
     },
     "execution_count": 57,
     "metadata": {},
     "output_type": "execute_result"
    }
   ],
   "source": [
    "df_pr_old_extra = pd.DataFrame(good_articles)\n",
    "df_pr_old_extra.columns=[\"num\", \"datestr\", \"type\", \"header\", \"text\", \"url\"]\n",
    "df_pr_old_extra = df_pr_old_extra.drop(columns=['num'])\n",
    "df_pr_old_extra = df_pr_old_extra.reset_index(drop=True)\n",
    "\n",
    "# df_pr_old['date'] = [f\"{i[0]}-{months[i[1]]}-{i[2]}\" for i in df_new.datestr.str.split().tolist()]\n",
    "df_pr_old_extra['date'] = pd.to_datetime(df_pr_old_extra['datestr'], format='%d.%m.%Y')\n",
    "df_pr_old_extra.head()"
   ]
  },
  {
   "cell_type": "markdown",
   "metadata": {},
   "source": [
    "## Объединяем часть 1 и 2"
   ]
  },
  {
   "cell_type": "code",
   "execution_count": 130,
   "metadata": {},
   "outputs": [],
   "source": [
    "# df = pd.concat([df_pr_old, df_new, df_pr_old_extra]).drop_duplicates().sort_values(by=['date', 'type']).reset_index(drop=True)\n",
    "# df = df[['date','type','header','text', 'url']]\n",
    "# df = df[(df.date.dt.date <= datetime.date(2022, 2, 1)) & (df.date.dt.date <= datetime.date(2022, 2, 1))]"
   ]
  },
  {
   "cell_type": "code",
   "execution_count": 70,
   "metadata": {},
   "outputs": [],
   "source": [
    "df = pd.concat([df, df_pr_old_extra]).drop_duplicates().sort_values(by=['date', 'type']).reset_index(drop=True)\n",
    "df = df[['date','type','header','text', 'url']]\n",
    "df.to_csv(\"main_upd.csv\", encoding=\"utf-8\", sep=\";\", index=False)    "
   ]
  },
  {
   "cell_type": "code",
   "execution_count": 82,
   "metadata": {},
   "outputs": [],
   "source": [
    "df = pd.read_csv(\"main_upd.csv\", sep=\";\")\n",
    "df1 = pd.read_csv(\"data1.csv\")\n",
    "\n",
    "df.date = pd.to_datetime(df.date).dt.date\n",
    "\n",
    "df[\"rate_flag\"] = (df.header.isin(set(df1['information.text'])) | ((df.type==\"Пресс-релиз\") & \n",
    "                                                  (df.header.str.find(\"Банк России принял\") > -1) &\n",
    "                                                  (df.header.str.find(\"ключ\") > -1))) * 1\n",
    "df.to_csv(\"main_upd1.csv\", encoding=\"utf-8\", sep=\";\", index=False)"
   ]
  },
  {
   "cell_type": "markdown",
   "metadata": {},
   "source": [
    "# Часть 3: добавляем данные и генерим текстовые переменные"
   ]
  },
  {
   "cell_type": "code",
   "execution_count": 338,
   "metadata": {
    "scrolled": false
   },
   "outputs": [],
   "source": [
    "df = pd.read_csv(\"main_upd1.csv\", encoding=\"utf-8\", sep=\";\")\n",
    "df.date = pd.to_datetime(df.date).dt.date\n",
    "df = df[df.type != 'Новость']"
   ]
  },
  {
   "cell_type": "code",
   "execution_count": 339,
   "metadata": {},
   "outputs": [],
   "source": [
    "# driver_base = webdriver.Chrome(service=s)\n",
    "# driver_base.maximize_window()\n",
    "# res = dict()\n",
    "# exc = []\n",
    "# for i in tqdm(df[df.text.str.len() < 200].url.index):\n",
    "#     try:\n",
    "#         url = df.loc[i].url\n",
    "#         driver_base.get(url)\n",
    "#         res[i] = driver_base.find_elements(By.TAG_NAME, value='.landing-text')[0].text\n",
    "#     except Exception:\n",
    "#         exc.append(i)\n",
    "\n",
    "# for i, t in res.items():\n",
    "#     if len(t) < len(df.loc[i].text):\n",
    "#         res.pop(i)\n",
    "\n",
    "for i, t in res.items():\n",
    "    df.loc[i, 'text'] = t"
   ]
  },
  {
   "cell_type": "markdown",
   "metadata": {},
   "source": [
    "### Выступления"
   ]
  },
  {
   "cell_type": "code",
   "execution_count": 340,
   "metadata": {},
   "outputs": [
    {
     "name": "stdout",
     "output_type": "stream",
     "text": [
      "0\n"
     ]
    }
   ],
   "source": [
    "# даты выступлений совпадают с датами пресс-релизов\n",
    "df1 = df[df.type == 'Выступление']\n",
    "rate_dates = df1[df1.header.str.find(\"Заявление Председателя Банка России\") > -1].date\n",
    "print(len(set(rate_dates) - set(df[df.rate_flag == 1].date)))\n",
    "df.loc[df.date.isin(df[df.rate_flag == 1].date) & (df.type == 'Выступление'), \"rate_flag\"] = 1"
   ]
  },
  {
   "cell_type": "code",
   "execution_count": 348,
   "metadata": {},
   "outputs": [
    {
     "data": {
      "text/plain": [
       "3754      https://www.cbr.ru/press/event/?id=5195\n",
       "3972      https://www.cbr.ru/press/event/?id=5196\n",
       "4085      https://www.cbr.ru/press/event/?id=5197\n",
       "4285      https://www.cbr.ru/press/event/?id=5198\n",
       "4425      https://www.cbr.ru/press/event/?id=5199\n",
       "                           ...                   \n",
       "13429    https://www.cbr.ru/press/event/?id=12361\n",
       "13478    https://www.cbr.ru/press/event/?id=12416\n",
       "13489    https://www.cbr.ru/press/event/?id=12429\n",
       "13504    https://www.cbr.ru/press/event/?id=12451\n",
       "13566    https://www.cbr.ru/press/event/?id=12542\n",
       "Name: url, Length: 132, dtype: object"
      ]
     },
     "execution_count": 348,
     "metadata": {},
     "output_type": "execute_result"
    }
   ],
   "source": [
    "df1.url"
   ]
  },
  {
   "cell_type": "code",
   "execution_count": null,
   "metadata": {},
   "outputs": [],
   "source": [
    "# Анализ показал, что выступления надо парсить иначе\n",
    "\n",
    "driver_base = webdriver.Chrome(service=s)\n",
    "driver_base.maximize_window()\n",
    "events = dict()\n",
    "exc = []\n",
    "for i in tqdm(df1.url.index):\n",
    "    try:\n",
    "        url = df1.loc[i].url\n",
    "        driver_base.get(url)\n",
    "        all_texts = driver_base.find_elements(By.TAG_NAME, value='.landing-text')\n",
    "        events[i] = all_texts[0].text\n",
    "    except Exception:\n",
    "        exc.append(i)"
   ]
  },
  {
   "cell_type": "code",
   "execution_count": null,
   "metadata": {},
   "outputs": [],
   "source": [
    "curlist = [i for i, t in events.items() if len(t) == 0]"
   ]
  },
  {
   "cell_type": "code",
   "execution_count": 390,
   "metadata": {},
   "outputs": [
    {
     "name": "stderr",
     "output_type": "stream",
     "text": [
      "100%|████████████████████████████████████████████████████████████████████████████████| 132/132 [10:22<00:00,  4.72s/it]\n"
     ]
    }
   ],
   "source": [
    "# оказалось, что иногда надо брать вторый блок текста\n",
    "\n",
    "driver_base = webdriver.Chrome(service=s)\n",
    "driver_base.maximize_window()\n",
    "exc = []\n",
    "for i in tqdm(df1.url.index):\n",
    "    if i in curlist:\n",
    "        try:\n",
    "            url = df1.loc[i].url\n",
    "            driver_base.get(url)\n",
    "            all_texts = driver_base.find_elements(By.TAG_NAME, value='.landing-text')\n",
    "            events[i] = all_texts[1].text\n",
    "        except Exception:\n",
    "            exc.append(i)"
   ]
  },
  {
   "cell_type": "code",
   "execution_count": 486,
   "metadata": {},
   "outputs": [],
   "source": [
    "for i, t in events.items():\n",
    "    if t is not None and ~df.loc[i].isna().any():\n",
    "        if len(t) < len(df.loc[i].text):\n",
    "            print(i, len(t), len(df.loc[i].text) - len(t))\n",
    "            events.pop(i)\n",
    "            \n",
    "for i, t in events.items():\n",
    "    df.loc[i, 'text'] = t \n",
    "    \n",
    "# df1 = df[(df.rate_flag == 1) & (df.type == 'Выступление')]\n",
    "# driver_base.get(df1.loc[11932].url)\n",
    "# all_texts = driver_base.find_elements(By.TAG_NAME, value='.landing-text')"
   ]
  },
  {
   "cell_type": "code",
   "execution_count": 484,
   "metadata": {},
   "outputs": [
    {
     "data": {
      "text/plain": [
       "date         False\n",
       "type         False\n",
       "header       False\n",
       "text         False\n",
       "url          False\n",
       "rate_flag    False\n",
       "dtype: bool"
      ]
     },
     "execution_count": 484,
     "metadata": {},
     "output_type": "execute_result"
    }
   ],
   "source": [
    "df.header = df.header.str.replace(\"«\", '\"').str.replace(\"»\", '\"')\n",
    "df.text = df.text.str.replace(\"При использовании материала ссылка на Пресс-службу Банка России обязательна.\", '')\n",
    "df.text = df.text.str.strip()\n",
    "df.text = df.text.str.replace(\"\\n\", \" \")\n",
    "df.text = df.text.apply(lambda x: re.sub('[ ]+', ' ', x))\n",
    "\n",
    "df = df[df.text.str.len() > 130]\n",
    "df.isna().any()"
   ]
  },
  {
   "cell_type": "code",
   "execution_count": 492,
   "metadata": {},
   "outputs": [],
   "source": [
    "df.to_csv(\"main_upd2.csv\", encoding=\"utf-8\", sep=\";\", index=False)"
   ]
  }
 ],
 "metadata": {
  "kernelspec": {
   "display_name": "Python 3",
   "language": "python",
   "name": "python3"
  },
  "language_info": {
   "codemirror_mode": {
    "name": "ipython",
    "version": 3
   },
   "file_extension": ".py",
   "mimetype": "text/x-python",
   "name": "python",
   "nbconvert_exporter": "python",
   "pygments_lexer": "ipython3",
   "version": "3.8.3"
  }
 },
 "nbformat": 4,
 "nbformat_minor": 4
}
