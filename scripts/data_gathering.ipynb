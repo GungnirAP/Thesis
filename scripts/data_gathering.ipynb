{
 "cells": [
  {
   "cell_type": "code",
   "execution_count": 4,
   "metadata": {},
   "outputs": [
    {
     "data": {
      "application/javascript": [
       "IPython.notebook.set_autosave_interval(60000)"
      ]
     },
     "metadata": {},
     "output_type": "display_data"
    },
    {
     "name": "stdout",
     "output_type": "stream",
     "text": [
      "Autosaving every 60 seconds\n"
     ]
    }
   ],
   "source": [
    "%autosave 60"
   ]
  },
  {
   "cell_type": "code",
   "execution_count": 5,
   "metadata": {},
   "outputs": [],
   "source": [
    "import sys\n",
    "import time\n",
    "import requests\n",
    "import pandas as pd\n",
    "import numpy as np\n",
    "from tqdm import tqdm\n",
    "from bs4 import BeautifulSoup\n",
    "from selenium import webdriver\n",
    "from selenium.webdriver import Chrome\n",
    "from selenium.webdriver.chrome.service import Service\n",
    "from webdriver_manager.chrome import ChromeDriverManager\n",
    "from selenium.webdriver.common.by import By"
   ]
  },
  {
   "cell_type": "code",
   "execution_count": 6,
   "metadata": {},
   "outputs": [],
   "source": [
    "# !\"{sys.executable}\" -m pip install --upgrade webdriver_manager"
   ]
  },
  {
   "cell_type": "code",
   "execution_count": 7,
   "metadata": {},
   "outputs": [],
   "source": [
    "# r = requests.get(url)\n",
    "# soup = BeautifulSoup(r.text, 'lxml')\n",
    "# print(soup.prettify())\n",
    "# articles = soup.find_all('div', {\"id\":\"events_tab100\"})\n",
    "# articles[0]#.findChild()"
   ]
  },
  {
   "cell_type": "code",
   "execution_count": 8,
   "metadata": {},
   "outputs": [
    {
     "name": "stderr",
     "output_type": "stream",
     "text": [
      "\n",
      "\n",
      "====== WebDriver manager ======\n",
      "Current google-chrome version is 98.0.4758\n",
      "Get LATEST chromedriver version for 98.0.4758 google-chrome\n",
      "Trying to download new driver from https://chromedriver.storage.googleapis.com/98.0.4758.102/chromedriver_win32.zip\n",
      "Driver has been saved in cache [C:\\Users\\User\\.wdm\\drivers\\chromedriver\\win32\\98.0.4758.102]\n"
     ]
    }
   ],
   "source": [
    "url = \"https://www.cbr.ru/\"\n",
    "s=Service(ChromeDriverManager().install())"
   ]
  },
  {
   "cell_type": "code",
   "execution_count": 9,
   "metadata": {},
   "outputs": [],
   "source": [
    "driver_base = webdriver.Chrome(service=s)\n",
    "driver_base.maximize_window()\n",
    "driver_base.get(url)\n",
    "parent_tab = driver_base.window_handles[0]\n",
    "\n",
    "driver_runner1 = webdriver.Chrome(service=s)\n",
    "driver_runner1.maximize_window()"
   ]
  },
  {
   "cell_type": "code",
   "execution_count": 3,
   "metadata": {},
   "outputs": [],
   "source": [
    "# %%time\n",
    "\n",
    "# article_number = 5000\n",
    "# save_rate = 100\n",
    "# exception_articles = []\n",
    "\n",
    "# # counter = 0\n",
    "# # articles = []\n",
    "\n",
    "# while(counter < article_number):\n",
    "#     if counter > 0 & counter % 20 == 0:\n",
    "#         driver_base.find_elements(By.TAG_NAME, value='#_buttonLoadNextEvt')[0].click()\n",
    "#         if counter % save_rate == 0:\n",
    "#             df_articles_temp = pd.DataFrame(articles[counter-save_rate: counter])\n",
    "#             df_articles_temp.to_csv(f\"articles_{counter-save_rate}_{counter}.csv\", encoding=\"utf-8\", sep=\";\", index=False)\n",
    "\n",
    "#     articles_headers = driver_base.find_elements(By.TAG_NAME, value='.news_info')[counter: counter+20]\n",
    "#     articles_links = driver_base.find_elements(By.TAG_NAME, value='.news_title')[counter: counter+20]\n",
    "\n",
    "#     for header, link in tqdm(zip(articles_headers, articles_links)):\n",
    "#         if counter >= article_number:\n",
    "#             break\n",
    "#         counter += 1\n",
    "#         try:\n",
    "#             article_type = header.text.split(\"\\n\")[-1]\n",
    "#             article_url = link.get_attribute(name='href')\n",
    "#             driver_runner1.get(article_url)\n",
    "#             article_date = driver_runner1.find_elements(By.TAG_NAME, value='.news-info-line_date')[0].text\n",
    "#             article_text = [a.text for a in driver_runner1.find_elements(By.TAG_NAME, value='p')]\n",
    "#             articles.append([counter, article_date, article_type, link.text, \"\\n\".join(article_text).strip(), article_url])\n",
    "#         except Exception as e:\n",
    "#             print(\"Problem!\")\n",
    "#             exception_articles.append((header, link))    \n",
    "# df_articles_temp = pd.DataFrame(articles[counter - counter % save_rate: counter])\n",
    "# df_articles_temp.to_csv(f\"articles_{counter - counter % save_rate}_{counter}.csv\", encoding=\"utf-8\", sep=\";\", index=False)"
   ]
  },
  {
   "cell_type": "code",
   "execution_count": 2,
   "metadata": {},
   "outputs": [],
   "source": [
    "# df_articles_temp = pd.DataFrame(articles)\n",
    "# df_articles_temp"
   ]
  },
  {
   "cell_type": "code",
   "execution_count": 1,
   "metadata": {},
   "outputs": [],
   "source": [
    "# articles[-1]"
   ]
  }
 ],
 "metadata": {
  "kernelspec": {
   "display_name": "Python 3",
   "language": "python",
   "name": "python3"
  },
  "language_info": {
   "codemirror_mode": {
    "name": "ipython",
    "version": 3
   },
   "file_extension": ".py",
   "mimetype": "text/x-python",
   "name": "python",
   "nbconvert_exporter": "python",
   "pygments_lexer": "ipython3",
   "version": "3.8.3"
  }
 },
 "nbformat": 4,
 "nbformat_minor": 4
}
