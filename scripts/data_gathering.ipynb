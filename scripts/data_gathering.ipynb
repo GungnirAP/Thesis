{
 "cells": [
  {
   "cell_type": "code",
   "execution_count": 3,
   "metadata": {},
   "outputs": [
    {
     "data": {
      "application/javascript": [
       "IPython.notebook.set_autosave_interval(60000)"
      ]
     },
     "metadata": {},
     "output_type": "display_data"
    },
    {
     "name": "stdout",
     "output_type": "stream",
     "text": [
      "Autosaving every 60 seconds\n"
     ]
    }
   ],
   "source": [
    "%autosave 60"
   ]
  },
  {
   "cell_type": "code",
   "execution_count": 4,
   "metadata": {},
   "outputs": [],
   "source": [
    "import os\n",
    "import sys\n",
    "import time\n",
    "import requests\n",
    "import datetime\n",
    "import numpy as np\n",
    "import pandas as pd\n",
    "from dateutil.relativedelta import *\n",
    "from tqdm import tqdm\n",
    "from bs4 import BeautifulSoup\n",
    "from selenium import webdriver\n",
    "from selenium.webdriver import Chrome\n",
    "from selenium.webdriver.chrome.service import Service\n",
    "from webdriver_manager.chrome import ChromeDriverManager\n",
    "from selenium.webdriver.common.by import By"
   ]
  },
  {
   "cell_type": "code",
   "execution_count": 5,
   "metadata": {},
   "outputs": [],
   "source": [
    "months = dict(zip(['августа',\n",
    " 'апреля',  'декабря',  'июля',\n",
    " 'июня',  'марта',  'мая',\n",
    " 'ноября',  'октября',  'сентября',\n",
    " 'февраля',  'января'], [8, 4, 12, 7, 6, 3, 5, 11, 10, 9, 2, 1]))"
   ]
  },
  {
   "cell_type": "code",
   "execution_count": 6,
   "metadata": {},
   "outputs": [
    {
     "name": "stderr",
     "output_type": "stream",
     "text": [
      "\n",
      "\n",
      "====== WebDriver manager ======\n",
      "Current google-chrome version is 98.0.4758\n",
      "Get LATEST chromedriver version for 98.0.4758 google-chrome\n",
      "Driver [C:\\Users\\User\\.wdm\\drivers\\chromedriver\\win32\\98.0.4758.102\\chromedriver.exe] found in cache\n"
     ]
    }
   ],
   "source": [
    "s=Service(ChromeDriverManager().install())"
   ]
  },
  {
   "cell_type": "code",
   "execution_count": 7,
   "metadata": {},
   "outputs": [],
   "source": [
    "# !\"{sys.executable}\" -m pip install --upgrade webdriver_manager"
   ]
  },
  {
   "cell_type": "code",
   "execution_count": 8,
   "metadata": {},
   "outputs": [],
   "source": [
    "# # Read already gathered data\n",
    "\n",
    "# df_first_articles = pd.DataFrame()\n",
    "# for i in os.listdir(os.getcwd()):\n",
    "#     if i.find(\".csv\") > -1:\n",
    "#         df_temp = pd.read_csv(i, sep=\";\")        \n",
    "#         df_first_articles = pd.concat([df_first_articles, df_temp], sort=True)\n",
    "# df_first_articles.columns=[\"num\", \"datestr\", \"type\", \"header\", \"text\", \"url\"]\n",
    "# df_first_articles = df_first_articles.sort_values(by=['num']).reset_index(drop=True)"
   ]
  },
  {
   "cell_type": "markdown",
   "metadata": {},
   "source": [
    "## Часть 1: парсим новый сайт ЦБ\n",
    "### Выгрузка пресс-релизов, новостей и выступлений\n",
    "https://www.cbr.ru/"
   ]
  },
  {
   "cell_type": "code",
   "execution_count": 105,
   "metadata": {},
   "outputs": [],
   "source": [
    "# Create two windows: one with the main site and one for sub-windows\n",
    "\n",
    "url = \"https://www.cbr.ru/\"\n",
    "\n",
    "driver_base = webdriver.Chrome(service=s)\n",
    "driver_base.maximize_window()\n",
    "driver_base.get(url)\n",
    "parent_tab = driver_base.window_handles[0]\n",
    "\n",
    "driver_runner1 = webdriver.Chrome(service=s)\n",
    "driver_runner1.maximize_window()"
   ]
  },
  {
   "cell_type": "code",
   "execution_count": 106,
   "metadata": {},
   "outputs": [],
   "source": [
    "# Собираем в 4 этапа: \n",
    "# Новости\n",
    "# Пресс-релизы\n",
    "# Интервью - не нужно\n",
    "# Выступления\n",
    "\n",
    "# Так как приходится кликать разделы вручную :(\n",
    "# Запустить кликер -> считать категорию -> обновить страницу -> повторить"
   ]
  },
  {
   "cell_type": "code",
   "execution_count": 110,
   "metadata": {},
   "outputs": [],
   "source": [
    "def parse_by_type(articles_headers, articles_links):\n",
    "    counter = 0\n",
    "    articles = []\n",
    "    exception_articles = []\n",
    "    for header, link in tqdm(zip(articles_headers, articles_links)):\n",
    "        counter += 1\n",
    "        try:\n",
    "            article_type = header.text.split(\"\\n\")[-1]\n",
    "            article_url = link.get_attribute(name='href')\n",
    "            driver_runner1.get(article_url)\n",
    "            article_date = driver_runner1.find_elements(By.TAG_NAME, value='.news-info-line_date')[0].text\n",
    "            article_text = [a.text for a in driver_runner1.find_elements(By.TAG_NAME, value='p')]\n",
    "            articles.append([counter, article_date, article_type, link.text, \"\\n\".join(article_text).strip(), article_url])\n",
    "        except Exception as e:\n",
    "            print(\"Problem!\")\n",
    "            exception_articles.append((header, link))  \n",
    "    return articles, exception_articles"
   ]
  },
  {
   "cell_type": "code",
   "execution_count": 207,
   "metadata": {},
   "outputs": [
    {
     "name": "stdout",
     "output_type": "stream",
     "text": [
      "list index out of range\n",
      "End reached!\n",
      "Wall time: 1.44 s\n"
     ]
    }
   ],
   "source": [
    "%%time\n",
    "\n",
    "# Clicker!\n",
    "# Click all buttons \"Загрузить ещё\" to get all the news in one window\n",
    "\n",
    "try:\n",
    "    while True:\n",
    "        buttons = driver_base.find_elements(By.TAG_NAME, value='#_buttonLoadNextEvt')\n",
    "        button = [i for i in buttons if i.text == 'Загрузить еще']\n",
    "        button[0].click()\n",
    "except Exception as e:\n",
    "    print(e)\n",
    "    print(\"End reached!\")"
   ]
  },
  {
   "cell_type": "code",
   "execution_count": 108,
   "metadata": {},
   "outputs": [
    {
     "name": "stdout",
     "output_type": "stream",
     "text": [
      "1020 1020\n"
     ]
    }
   ],
   "source": [
    "news_headers = driver_base.find_elements(By.TAG_NAME, value='.news_info')\n",
    "news_links = driver_base.find_elements(By.TAG_NAME, value='.news_title')\n",
    "print(len(news_headers), len(news_links))"
   ]
  },
  {
   "cell_type": "code",
   "execution_count": 111,
   "metadata": {},
   "outputs": [
    {
     "name": "stderr",
     "output_type": "stream",
     "text": [
      "1020it [13:22,  1.27it/s]\n"
     ]
    }
   ],
   "source": [
    "news_articles, news_exc = parse_by_type(news_headers, news_links)\n",
    "\n",
    "df_news_new = pd.DataFrame(news_articles)\n",
    "df_news_new = df_news_new[df_news_new[2] != \"\"].reset_index(drop=True)\n",
    "df_news_new[0] = df_news_new[0] - 20"
   ]
  },
  {
   "cell_type": "code",
   "execution_count": 153,
   "metadata": {},
   "outputs": [
    {
     "name": "stdout",
     "output_type": "stream",
     "text": [
      "1020 1020\n"
     ]
    }
   ],
   "source": [
    "pr_headers = driver_base.find_elements(By.TAG_NAME, value='.news_info')\n",
    "pr_links = driver_base.find_elements(By.TAG_NAME, value='.news_title')\n",
    "print(len(pr_headers), len(pr_links))"
   ]
  },
  {
   "cell_type": "code",
   "execution_count": 201,
   "metadata": {},
   "outputs": [],
   "source": [
    "pr_articles, pr_exc = parse_by_type(pr_headers, pr_links)\n",
    "\n",
    "df_pr_new = pd.DataFrame(pr_articles)\n",
    "df_pr_new = df_pr_new[df_pr_new[2] != \"\"].reset_index(drop=True)\n",
    "df_pr_new[0] = df_pr_new[0] - 20"
   ]
  },
  {
   "cell_type": "code",
   "execution_count": 205,
   "metadata": {},
   "outputs": [],
   "source": [
    "a = df_pr_new.reset_index().iloc[720:]\n",
    "a[a['index'] != a[0] -2]\n",
    "df_pr_new.iloc[740:760]\n",
    "# header, link = pr_exc[1]\n",
    "\n",
    "# article_type = header.text.split(\"\\n\")[-1]\n",
    "# article_url = link.get_attribute(name='href')\n",
    "# driver_runner1.get(article_url)\n",
    "# # article_date = driver_runner1.find_elements(By.TAG_NAME, value='.news-info-line_date')[0].text\n",
    "# article_text = [a.text for a in driver_runner1.find_elements(By.TAG_NAME, value='p')]\n",
    "# article_date = \"11 марта 2020 года\"\n",
    "\n",
    "# df_pr_new = df_pr_new.append([[760, article_date, article_type, link.text, \"\\n\".join(article_text).strip(), article_url]])\n",
    "# df_pr_new = df_pr_new.sort_values(by=[0]).reset_index(drop=True)"
   ]
  },
  {
   "cell_type": "code",
   "execution_count": 208,
   "metadata": {},
   "outputs": [
    {
     "name": "stdout",
     "output_type": "stream",
     "text": [
      "153 153\n"
     ]
    }
   ],
   "source": [
    "speech_headers = driver_base.find_elements(By.TAG_NAME, value='.news_info')\n",
    "speech_links = driver_base.find_elements(By.TAG_NAME, value='.news_title')\n",
    "print(len(speech_headers), len(speech_links))"
   ]
  },
  {
   "cell_type": "code",
   "execution_count": 209,
   "metadata": {},
   "outputs": [
    {
     "name": "stderr",
     "output_type": "stream",
     "text": [
      "153it [05:55,  2.32s/it]\n"
     ]
    }
   ],
   "source": [
    "speech_articles, speech_exc = parse_by_type(speech_headers, speech_links)"
   ]
  },
  {
   "cell_type": "code",
   "execution_count": 213,
   "metadata": {},
   "outputs": [],
   "source": [
    "df_speech_new = pd.DataFrame(speech_articles)\n",
    "df_speech_new = df_speech_new[df_speech_new[2] != \"\"].reset_index(drop=True)\n",
    "df_speech_new[0] = df_speech_new[0] - 20"
   ]
  },
  {
   "cell_type": "code",
   "execution_count": null,
   "metadata": {},
   "outputs": [],
   "source": [
    "df_new = pd.DataFrame()\n",
    "for df_articles_temp, name in zip([df_news_new, df_pr_new, df_speech_new], [\"news\",\"press_rel\",\"speech\"]):\n",
    "    df_articles_temp.to_csv(f\"{name}_new.csv\", \n",
    "                            encoding=\"utf-8\", sep=\";\", index=False)\n",
    "    df_new = pd.concat([df_new, df_articles_temp])\n",
    "df_new.columns=[\"num\", \"datestr\", \"type\", \"header\", \"text\", \"url\"]\n",
    "df_new = df_new.drop(columns=['num'])\n",
    "df_new = df_new.reset_index(drop=True)"
   ]
  },
  {
   "cell_type": "markdown",
   "metadata": {},
   "source": [
    "### Здесь можно забрать готовые данные"
   ]
  },
  {
   "cell_type": "code",
   "execution_count": 9,
   "metadata": {},
   "outputs": [],
   "source": [
    "df_new = pd.DataFrame()\n",
    "for name in [\"news\",\"press_rel\",\"speech\"]:\n",
    "    df_articles_temp = pd.read_csv(f\"{name}_new.csv\", \n",
    "                            encoding=\"utf-8\", sep=\";\")\n",
    "    df_new = pd.concat([df_new, df_articles_temp])\n",
    "df_new.columns=[\"num\", \"datestr\", \"type\", \"header\", \"text\", \"url\"]\n",
    "df_new = df_new.drop(columns=['num'])\n",
    "df_new = df_new.reset_index(drop=True)\n",
    "\n",
    "df_new['date'] = [f\"{i[0]}-{months[i[1]]}-{i[2]}\" for i in df_new.datestr.str.split().tolist()]\n",
    "df_new['date'] = pd.to_datetime(df_new['date'], format='%d-%m-%Y')"
   ]
  },
  {
   "cell_type": "code",
   "execution_count": 10,
   "metadata": {},
   "outputs": [
    {
     "data": {
      "text/html": [
       "<div>\n",
       "<style scoped>\n",
       "    .dataframe tbody tr th:only-of-type {\n",
       "        vertical-align: middle;\n",
       "    }\n",
       "\n",
       "    .dataframe tbody tr th {\n",
       "        vertical-align: top;\n",
       "    }\n",
       "\n",
       "    .dataframe thead th {\n",
       "        text-align: right;\n",
       "    }\n",
       "</style>\n",
       "<table border=\"1\" class=\"dataframe\">\n",
       "  <thead>\n",
       "    <tr style=\"text-align: right;\">\n",
       "      <th></th>\n",
       "      <th>datestr</th>\n",
       "      <th>type</th>\n",
       "      <th>header</th>\n",
       "      <th>text</th>\n",
       "      <th>url</th>\n",
       "      <th>date</th>\n",
       "    </tr>\n",
       "  </thead>\n",
       "  <tbody>\n",
       "    <tr>\n",
       "      <th>0</th>\n",
       "      <td>21 февраля 2022 года</td>\n",
       "      <td>Новость</td>\n",
       "      <td>Объем средств на счетах эскроу в долевом строи...</td>\n",
       "      <td>Объем средств, размещенных участниками долевог...</td>\n",
       "      <td>https://www.cbr.ru/press/event/?id=12705</td>\n",
       "      <td>2022-02-21</td>\n",
       "    </tr>\n",
       "    <tr>\n",
       "      <th>1</th>\n",
       "      <td>17 февраля 2022 года</td>\n",
       "      <td>Новость</td>\n",
       "      <td>Мониторинг отраслевых финансовых потоков: рост...</td>\n",
       "      <td>Динамика отраслевых финансовых потоков указыва...</td>\n",
       "      <td>https://www.cbr.ru/press/event/?id=12702</td>\n",
       "      <td>2022-02-17</td>\n",
       "    </tr>\n",
       "    <tr>\n",
       "      <th>2</th>\n",
       "      <td>17 февраля 2022 года</td>\n",
       "      <td>Новость</td>\n",
       "      <td>В январе инфляция ускорилась в большинстве рег...</td>\n",
       "      <td>Годовая инфляция в январе находилась в диапазо...</td>\n",
       "      <td>https://www.cbr.ru/press/event/?id=12701</td>\n",
       "      <td>2022-02-17</td>\n",
       "    </tr>\n",
       "    <tr>\n",
       "      <th>3</th>\n",
       "      <td>17 февраля 2022 года</td>\n",
       "      <td>Новость</td>\n",
       "      <td>Банк России разработал детскую игру о признака...</td>\n",
       "      <td>Игра «Космический детектив: тайна семи банкнот...</td>\n",
       "      <td>https://www.cbr.ru/press/event/?id=12698</td>\n",
       "      <td>2022-02-17</td>\n",
       "    </tr>\n",
       "    <tr>\n",
       "      <th>4</th>\n",
       "      <td>16 февраля 2022 года</td>\n",
       "      <td>Новость</td>\n",
       "      <td>В 2021 году Банк России выявил почти 2,7 тысяч...</td>\n",
       "      <td>Среди них 871 финансовая пирамида (в 2020 году...</td>\n",
       "      <td>https://www.cbr.ru/press/event/?id=12695</td>\n",
       "      <td>2022-02-16</td>\n",
       "    </tr>\n",
       "  </tbody>\n",
       "</table>\n",
       "</div>"
      ],
      "text/plain": [
       "                datestr     type  \\\n",
       "0  21 февраля 2022 года  Новость   \n",
       "1  17 февраля 2022 года  Новость   \n",
       "2  17 февраля 2022 года  Новость   \n",
       "3  17 февраля 2022 года  Новость   \n",
       "4  16 февраля 2022 года  Новость   \n",
       "\n",
       "                                              header  \\\n",
       "0  Объем средств на счетах эскроу в долевом строи...   \n",
       "1  Мониторинг отраслевых финансовых потоков: рост...   \n",
       "2  В январе инфляция ускорилась в большинстве рег...   \n",
       "3  Банк России разработал детскую игру о признака...   \n",
       "4  В 2021 году Банк России выявил почти 2,7 тысяч...   \n",
       "\n",
       "                                                text  \\\n",
       "0  Объем средств, размещенных участниками долевог...   \n",
       "1  Динамика отраслевых финансовых потоков указыва...   \n",
       "2  Годовая инфляция в январе находилась в диапазо...   \n",
       "3  Игра «Космический детектив: тайна семи банкнот...   \n",
       "4  Среди них 871 финансовая пирамида (в 2020 году...   \n",
       "\n",
       "                                        url       date  \n",
       "0  https://www.cbr.ru/press/event/?id=12705 2022-02-21  \n",
       "1  https://www.cbr.ru/press/event/?id=12702 2022-02-17  \n",
       "2  https://www.cbr.ru/press/event/?id=12701 2022-02-17  \n",
       "3  https://www.cbr.ru/press/event/?id=12698 2022-02-17  \n",
       "4  https://www.cbr.ru/press/event/?id=12695 2022-02-16  "
      ]
     },
     "execution_count": 10,
     "metadata": {},
     "output_type": "execute_result"
    }
   ],
   "source": [
    "df_new.head()"
   ]
  },
  {
   "cell_type": "code",
   "execution_count": 11,
   "metadata": {},
   "outputs": [
    {
     "data": {
      "text/plain": [
       "datestr                                  1 августа 2019 года\n",
       "type                                             Пресс-релиз\n",
       "header     А. Данилов назначен директором Департамента об...\n",
       "text       1. В целях применения абзаца второго и третьег...\n",
       "url        https://www.cbr.ru/press/pr/?file=01022021_084...\n",
       "date                                     2019-07-17 00:00:00\n",
       "dtype: object"
      ]
     },
     "execution_count": 11,
     "metadata": {},
     "output_type": "execute_result"
    }
   ],
   "source": [
    "df_new[df_new.type == \"Пресс-релиз\"].min()"
   ]
  },
  {
   "cell_type": "markdown",
   "metadata": {},
   "source": [
    "## Часть 2: парсим старый сайт ЦБ\n",
    "### Выгрузка пресс-релизов, новостей и выступлений\n",
    "http://old.cbr.ru/press/"
   ]
  },
  {
   "cell_type": "code",
   "execution_count": 93,
   "metadata": {},
   "outputs": [],
   "source": [
    "url = \"http://old.cbr.ru/press/month_archive/press_archive/\"\n",
    "\n",
    "driver_base = webdriver.Chrome(service=s)\n",
    "driver_base.maximize_window()\n",
    "driver_base.get(url)\n",
    "parent_tab = driver_base.window_handles[0]\n",
    "\n",
    "driver_runner1 = webdriver.Chrome(service=s)\n",
    "driver_runner1.maximize_window()"
   ]
  },
  {
   "cell_type": "code",
   "execution_count": 94,
   "metadata": {},
   "outputs": [],
   "source": [
    "start_date = datetime.date(2010, 1, 1)\n",
    "end_date = datetime.date(2019, 7, 16)"
   ]
  },
  {
   "cell_type": "code",
   "execution_count": 126,
   "metadata": {},
   "outputs": [
    {
     "name": "stdout",
     "output_type": "stream",
     "text": [
      "2010-01-01  -  2010-01-31\n"
     ]
    },
    {
     "name": "stderr",
     "output_type": "stream",
     "text": [
      "21it [00:00, 108.25it/s]\n",
      "54it [00:00, 108.47it/s]\n"
     ]
    },
    {
     "name": "stdout",
     "output_type": "stream",
     "text": [
      "2010-02-01  -  2010-02-28\n"
     ]
    },
    {
     "name": "stderr",
     "output_type": "stream",
     "text": [
      "61it [00:08,  7.31it/s] \n",
      "51it [00:00, 105.87it/s]\n"
     ]
    },
    {
     "name": "stdout",
     "output_type": "stream",
     "text": [
      "2010-03-01  -  2010-03-31\n"
     ]
    },
    {
     "name": "stderr",
     "output_type": "stream",
     "text": [
      "47it [00:05,  8.14it/s] \n",
      "65it [00:00, 84.23it/s]\n"
     ]
    },
    {
     "name": "stdout",
     "output_type": "stream",
     "text": [
      "2010-04-01  -  2010-04-30\n"
     ]
    },
    {
     "name": "stderr",
     "output_type": "stream",
     "text": [
      "54it [00:05, 10.24it/s] \n",
      "55it [00:00, 97.59it/s] \n"
     ]
    },
    {
     "name": "stdout",
     "output_type": "stream",
     "text": [
      "2010-05-01  -  2010-05-31\n"
     ]
    },
    {
     "name": "stderr",
     "output_type": "stream",
     "text": [
      "36it [00:00, 105.41it/s]\n",
      "57it [00:00, 105.04it/s]\n"
     ]
    },
    {
     "name": "stdout",
     "output_type": "stream",
     "text": [
      "2010-06-01  -  2010-06-30\n"
     ]
    },
    {
     "name": "stderr",
     "output_type": "stream",
     "text": [
      "53it [00:14,  3.78it/s] \n",
      "67it [00:00, 109.93it/s]\n"
     ]
    },
    {
     "name": "stdout",
     "output_type": "stream",
     "text": [
      "2010-07-01  -  2010-07-31\n"
     ]
    },
    {
     "name": "stderr",
     "output_type": "stream",
     "text": [
      "66it [00:13,  4.73it/s] \n",
      "60it [00:00, 106.97it/s]\n"
     ]
    },
    {
     "name": "stdout",
     "output_type": "stream",
     "text": [
      "2010-08-01  -  2010-08-31\n"
     ]
    },
    {
     "name": "stderr",
     "output_type": "stream",
     "text": [
      "51it [00:05,  9.05it/s]\n",
      "60it [00:00, 105.61it/s]\n"
     ]
    },
    {
     "name": "stdout",
     "output_type": "stream",
     "text": [
      "2010-09-01  -  2010-09-30\n"
     ]
    },
    {
     "name": "stderr",
     "output_type": "stream",
     "text": [
      "63it [00:11,  5.47it/s] \n",
      "59it [00:00, 107.47it/s]\n"
     ]
    },
    {
     "name": "stdout",
     "output_type": "stream",
     "text": [
      "2010-10-01  -  2010-10-31\n"
     ]
    },
    {
     "name": "stderr",
     "output_type": "stream",
     "text": [
      "53it [00:10,  4.97it/s] \n",
      "66it [00:00, 107.01it/s]\n"
     ]
    },
    {
     "name": "stdout",
     "output_type": "stream",
     "text": [
      "2010-11-01  -  2010-11-30\n"
     ]
    },
    {
     "name": "stderr",
     "output_type": "stream",
     "text": [
      "55it [00:06,  8.91it/s]\n",
      "57it [00:00, 104.87it/s]\n"
     ]
    },
    {
     "name": "stdout",
     "output_type": "stream",
     "text": [
      "2010-12-01  -  2010-12-31\n"
     ]
    },
    {
     "name": "stderr",
     "output_type": "stream",
     "text": [
      "70it [00:29,  2.40it/s]\n",
      "90it [00:00, 96.96it/s] \n"
     ]
    },
    {
     "name": "stdout",
     "output_type": "stream",
     "text": [
      "2011-01-01  -  2011-01-31\n"
     ]
    },
    {
     "name": "stderr",
     "output_type": "stream",
     "text": [
      "24it [00:00, 107.60it/s]\n",
      "63it [00:00, 105.74it/s]\n"
     ]
    },
    {
     "name": "stdout",
     "output_type": "stream",
     "text": [
      "2011-02-01  -  2011-02-28\n"
     ]
    },
    {
     "name": "stderr",
     "output_type": "stream",
     "text": [
      "59it [00:03, 19.27it/s]\n",
      "46it [00:00, 103.57it/s]\n"
     ]
    },
    {
     "name": "stdout",
     "output_type": "stream",
     "text": [
      "2011-03-01  -  2011-03-31\n"
     ]
    },
    {
     "name": "stderr",
     "output_type": "stream",
     "text": [
      "63it [00:16,  3.88it/s] \n",
      "69it [00:00, 104.67it/s]\n"
     ]
    },
    {
     "name": "stdout",
     "output_type": "stream",
     "text": [
      "2011-04-01  -  2011-04-30\n"
     ]
    },
    {
     "name": "stderr",
     "output_type": "stream",
     "text": [
      "56it [00:08,  6.28it/s] \n",
      "60it [00:00, 95.79it/s] \n"
     ]
    },
    {
     "name": "stdout",
     "output_type": "stream",
     "text": [
      "2011-05-01  -  2011-05-31\n"
     ]
    },
    {
     "name": "stderr",
     "output_type": "stream",
     "text": [
      "48it [00:06,  7.21it/s] \n",
      "65it [00:00, 105.37it/s]\n"
     ]
    },
    {
     "name": "stdout",
     "output_type": "stream",
     "text": [
      "2011-06-01  -  2011-06-30\n"
     ]
    },
    {
     "name": "stderr",
     "output_type": "stream",
     "text": [
      "54it [00:11,  4.60it/s] \n",
      "67it [00:00, 90.47it/s]\n"
     ]
    },
    {
     "name": "stdout",
     "output_type": "stream",
     "text": [
      "2011-07-01  -  2011-07-31\n"
     ]
    },
    {
     "name": "stderr",
     "output_type": "stream",
     "text": [
      "66it [00:09,  7.24it/s] \n",
      "50it [00:00, 105.70it/s]\n"
     ]
    },
    {
     "name": "stdout",
     "output_type": "stream",
     "text": [
      "2011-08-01  -  2011-08-31\n"
     ]
    },
    {
     "name": "stderr",
     "output_type": "stream",
     "text": [
      "60it [00:10,  5.94it/s]\n",
      "61it [00:00, 104.82it/s]\n"
     ]
    },
    {
     "name": "stdout",
     "output_type": "stream",
     "text": [
      "2011-09-01  -  2011-09-30\n"
     ]
    },
    {
     "name": "stderr",
     "output_type": "stream",
     "text": [
      "58it [00:10,  5.58it/s] \n",
      "61it [00:00, 104.13it/s]\n"
     ]
    },
    {
     "name": "stdout",
     "output_type": "stream",
     "text": [
      "2011-10-01  -  2011-10-31\n"
     ]
    },
    {
     "name": "stderr",
     "output_type": "stream",
     "text": [
      "49it [00:00, 89.47it/s]\n",
      "47it [00:00, 105.78it/s]\n"
     ]
    },
    {
     "name": "stdout",
     "output_type": "stream",
     "text": [
      "2011-11-01  -  2011-11-30\n"
     ]
    },
    {
     "name": "stderr",
     "output_type": "stream",
     "text": [
      "59it [00:00, 105.01it/s]\n",
      "40it [00:00, 104.73it/s]\n"
     ]
    },
    {
     "name": "stdout",
     "output_type": "stream",
     "text": [
      "2011-12-01  -  2011-12-31\n"
     ]
    },
    {
     "name": "stderr",
     "output_type": "stream",
     "text": [
      "38it [00:00, 106.57it/s]\n",
      "41it [00:00, 97.94it/s] \n"
     ]
    },
    {
     "name": "stdout",
     "output_type": "stream",
     "text": [
      "2012-01-01  -  2012-01-31\n"
     ]
    },
    {
     "name": "stderr",
     "output_type": "stream",
     "text": [
      "11it [00:00, 105.77it/s]\n",
      "30it [00:00, 104.60it/s]\n"
     ]
    },
    {
     "name": "stdout",
     "output_type": "stream",
     "text": [
      "2012-02-01  -  2012-02-29\n"
     ]
    },
    {
     "name": "stderr",
     "output_type": "stream",
     "text": [
      "32it [00:00, 104.40it/s]\n",
      "31it [00:00, 107.58it/s]\n"
     ]
    },
    {
     "name": "stdout",
     "output_type": "stream",
     "text": [
      "2012-03-01  -  2012-03-31\n"
     ]
    },
    {
     "name": "stderr",
     "output_type": "stream",
     "text": [
      "34it [00:00, 105.87it/s]\n",
      "29it [00:00, 107.89it/s]\n"
     ]
    },
    {
     "name": "stdout",
     "output_type": "stream",
     "text": [
      "2012-04-01  -  2012-04-30\n"
     ]
    },
    {
     "name": "stderr",
     "output_type": "stream",
     "text": [
      "40it [00:00, 107.77it/s]\n",
      "37it [00:00, 108.92it/s]\n"
     ]
    },
    {
     "name": "stdout",
     "output_type": "stream",
     "text": [
      "2012-05-01  -  2012-05-31\n"
     ]
    },
    {
     "name": "stderr",
     "output_type": "stream",
     "text": [
      "27it [00:00, 100.36it/s]\n",
      "51it [00:00, 102.34it/s]\n"
     ]
    },
    {
     "name": "stdout",
     "output_type": "stream",
     "text": [
      "2012-06-01  -  2012-06-30\n"
     ]
    },
    {
     "name": "stderr",
     "output_type": "stream",
     "text": [
      "31it [00:00, 106.56it/s]\n",
      "43it [00:00, 101.56it/s]\n"
     ]
    },
    {
     "name": "stdout",
     "output_type": "stream",
     "text": [
      "2012-07-01  -  2012-07-31\n"
     ]
    },
    {
     "name": "stderr",
     "output_type": "stream",
     "text": [
      "31it [00:00, 107.61it/s]\n",
      "33it [00:00, 103.15it/s]\n"
     ]
    },
    {
     "name": "stdout",
     "output_type": "stream",
     "text": [
      "2012-08-01  -  2012-08-31\n"
     ]
    },
    {
     "name": "stderr",
     "output_type": "stream",
     "text": [
      "34it [00:00, 105.18it/s]\n",
      "32it [00:00, 108.24it/s]\n"
     ]
    },
    {
     "name": "stdout",
     "output_type": "stream",
     "text": [
      "2012-09-01  -  2012-09-30\n"
     ]
    },
    {
     "name": "stderr",
     "output_type": "stream",
     "text": [
      "23it [00:00, 101.83it/s]\n",
      "28it [00:00, 108.64it/s]\n"
     ]
    },
    {
     "name": "stdout",
     "output_type": "stream",
     "text": [
      "2012-10-01  -  2012-10-31\n"
     ]
    },
    {
     "name": "stderr",
     "output_type": "stream",
     "text": [
      "35it [00:00, 81.49it/s]\n",
      "29it [00:00, 104.57it/s]\n"
     ]
    },
    {
     "name": "stdout",
     "output_type": "stream",
     "text": [
      "2012-11-01  -  2012-11-30\n"
     ]
    },
    {
     "name": "stderr",
     "output_type": "stream",
     "text": [
      "35it [00:00, 107.41it/s]\n",
      "26it [00:00, 104.62it/s]\n"
     ]
    },
    {
     "name": "stdout",
     "output_type": "stream",
     "text": [
      "2012-12-01  -  2012-12-31\n"
     ]
    },
    {
     "name": "stderr",
     "output_type": "stream",
     "text": [
      "33it [00:00, 96.44it/s]\n",
      "41it [00:00, 113.87it/s]\n"
     ]
    },
    {
     "name": "stdout",
     "output_type": "stream",
     "text": [
      "2013-01-01  -  2013-01-31\n"
     ]
    },
    {
     "name": "stderr",
     "output_type": "stream",
     "text": [
      "15it [00:00, 74.61it/s]\n",
      "33it [00:00, 107.73it/s]\n"
     ]
    },
    {
     "name": "stdout",
     "output_type": "stream",
     "text": [
      "2013-02-01  -  2013-02-28\n"
     ]
    },
    {
     "name": "stderr",
     "output_type": "stream",
     "text": [
      "33it [00:00, 105.37it/s]\n",
      "24it [00:00, 101.12it/s]\n"
     ]
    },
    {
     "name": "stdout",
     "output_type": "stream",
     "text": [
      "2013-03-01  -  2013-03-31\n"
     ]
    },
    {
     "name": "stderr",
     "output_type": "stream",
     "text": [
      "34it [00:00, 106.15it/s]\n",
      "27it [00:00, 84.29it/s]\n"
     ]
    },
    {
     "name": "stdout",
     "output_type": "stream",
     "text": [
      "2013-04-01  -  2013-04-30\n"
     ]
    },
    {
     "name": "stderr",
     "output_type": "stream",
     "text": [
      "31it [00:00, 102.58it/s]\n",
      "26it [00:00, 86.53it/s]\n"
     ]
    },
    {
     "name": "stdout",
     "output_type": "stream",
     "text": [
      "2013-05-01  -  2013-05-31\n"
     ]
    },
    {
     "name": "stderr",
     "output_type": "stream",
     "text": [
      "20it [00:00, 82.33it/s]\n",
      "32it [00:00, 109.59it/s]\n"
     ]
    },
    {
     "name": "stdout",
     "output_type": "stream",
     "text": [
      "2013-06-01  -  2013-06-30\n"
     ]
    },
    {
     "name": "stderr",
     "output_type": "stream",
     "text": [
      "24it [00:00, 78.18it/s]\n",
      "26it [00:00, 104.82it/s]\n"
     ]
    },
    {
     "name": "stdout",
     "output_type": "stream",
     "text": [
      "2013-07-01  -  2013-07-31\n"
     ]
    },
    {
     "name": "stderr",
     "output_type": "stream",
     "text": [
      "37it [00:00, 103.06it/s]\n",
      "35it [00:00, 102.40it/s]\n"
     ]
    },
    {
     "name": "stdout",
     "output_type": "stream",
     "text": [
      "2013-08-01  -  2013-08-31\n"
     ]
    },
    {
     "name": "stderr",
     "output_type": "stream",
     "text": [
      "36it [00:00, 103.81it/s]\n",
      "37it [00:00, 106.70it/s]\n"
     ]
    },
    {
     "name": "stdout",
     "output_type": "stream",
     "text": [
      "2013-09-01  -  2013-09-30\n"
     ]
    },
    {
     "name": "stderr",
     "output_type": "stream",
     "text": [
      "57it [00:17,  3.23it/s] \n",
      "77it [00:00, 104.94it/s]\n"
     ]
    },
    {
     "name": "stdout",
     "output_type": "stream",
     "text": [
      "2013-10-01  -  2013-10-31\n"
     ]
    },
    {
     "name": "stderr",
     "output_type": "stream",
     "text": [
      "68it [00:18,  3.59it/s] \n",
      "73it [00:00, 107.24it/s]\n"
     ]
    },
    {
     "name": "stdout",
     "output_type": "stream",
     "text": [
      "2013-11-01  -  2013-11-30\n"
     ]
    },
    {
     "name": "stderr",
     "output_type": "stream",
     "text": [
      "77it [00:18,  4.08it/s] \n",
      "60it [00:00, 103.09it/s]\n"
     ]
    },
    {
     "name": "stdout",
     "output_type": "stream",
     "text": [
      "2013-12-01  -  2013-12-31\n"
     ]
    },
    {
     "name": "stderr",
     "output_type": "stream",
     "text": [
      "73it [00:26,  2.71it/s]\n",
      "74it [00:00, 104.48it/s]\n"
     ]
    },
    {
     "name": "stdout",
     "output_type": "stream",
     "text": [
      "2014-01-01  -  2014-01-31\n"
     ]
    },
    {
     "name": "stderr",
     "output_type": "stream",
     "text": [
      "44it [00:20,  2.15it/s] \n",
      "84it [00:00, 104.83it/s]\n"
     ]
    },
    {
     "name": "stdout",
     "output_type": "stream",
     "text": [
      "2014-02-01  -  2014-02-28\n"
     ]
    },
    {
     "name": "stderr",
     "output_type": "stream",
     "text": [
      "59it [00:17,  3.41it/s] \n",
      "70it [00:00, 108.27it/s]\n"
     ]
    },
    {
     "name": "stdout",
     "output_type": "stream",
     "text": [
      "2014-03-01  -  2014-03-31\n"
     ]
    },
    {
     "name": "stderr",
     "output_type": "stream",
     "text": [
      "36it [00:06,  5.49it/s] \n",
      "75it [00:00, 103.58it/s]\n"
     ]
    },
    {
     "name": "stdout",
     "output_type": "stream",
     "text": [
      "2014-04-01  -  2014-04-30\n"
     ]
    },
    {
     "name": "stderr",
     "output_type": "stream",
     "text": [
      "60it [00:23,  2.57it/s]\n",
      "84it [00:00, 105.41it/s]\n"
     ]
    },
    {
     "name": "stdout",
     "output_type": "stream",
     "text": [
      "2014-05-01  -  2014-05-31\n"
     ]
    },
    {
     "name": "stderr",
     "output_type": "stream",
     "text": [
      "68it [00:33,  2.01it/s]\n",
      "96it [00:00, 103.59it/s]\n"
     ]
    },
    {
     "name": "stdout",
     "output_type": "stream",
     "text": [
      "2014-06-01  -  2014-06-30\n"
     ]
    },
    {
     "name": "stderr",
     "output_type": "stream",
     "text": [
      "82it [00:35,  2.34it/s] \n",
      "83it [00:00, 104.56it/s]\n"
     ]
    },
    {
     "name": "stdout",
     "output_type": "stream",
     "text": [
      "2014-07-01  -  2014-07-31\n"
     ]
    },
    {
     "name": "stderr",
     "output_type": "stream",
     "text": [
      "100it [00:50,  1.98it/s]\n",
      "100it [00:00, 103.52it/s]\n"
     ]
    },
    {
     "name": "stdout",
     "output_type": "stream",
     "text": [
      "2014-08-01  -  2014-08-31\n"
     ]
    },
    {
     "name": "stderr",
     "output_type": "stream",
     "text": [
      "99it [00:55,  1.79it/s]\n",
      "97it [00:00, 101.24it/s]\n"
     ]
    },
    {
     "name": "stdout",
     "output_type": "stream",
     "text": [
      "2014-09-01  -  2014-09-30\n"
     ]
    },
    {
     "name": "stderr",
     "output_type": "stream",
     "text": [
      "96it [00:49,  1.93it/s]\n",
      "100it [00:00, 103.43it/s]\n"
     ]
    },
    {
     "name": "stdout",
     "output_type": "stream",
     "text": [
      "2014-10-01  -  2014-10-31\n"
     ]
    },
    {
     "name": "stderr",
     "output_type": "stream",
     "text": [
      "100it [00:47,  2.08it/s]\n",
      "100it [00:00, 103.95it/s]\n"
     ]
    },
    {
     "name": "stdout",
     "output_type": "stream",
     "text": [
      "2014-11-01  -  2014-11-30\n"
     ]
    },
    {
     "name": "stderr",
     "output_type": "stream",
     "text": [
      "75it [00:34,  2.15it/s]\n",
      "90it [00:00, 103.06it/s]\n"
     ]
    },
    {
     "name": "stdout",
     "output_type": "stream",
     "text": [
      "2014-12-01  -  2014-12-31\n"
     ]
    },
    {
     "name": "stderr",
     "output_type": "stream",
     "text": [
      "100it [00:54,  1.84it/s]\n",
      "100it [00:00, 103.19it/s]\n"
     ]
    },
    {
     "name": "stdout",
     "output_type": "stream",
     "text": [
      "2015-01-01  -  2015-01-31\n"
     ]
    },
    {
     "name": "stderr",
     "output_type": "stream",
     "text": [
      "31it [00:15,  2.06it/s]\n",
      "100it [00:00, 103.46it/s]\n"
     ]
    },
    {
     "name": "stdout",
     "output_type": "stream",
     "text": [
      "2015-02-01  -  2015-02-28\n"
     ]
    },
    {
     "name": "stderr",
     "output_type": "stream",
     "text": [
      "97it [00:35,  2.75it/s] \n",
      "69it [00:00, 103.17it/s]\n"
     ]
    },
    {
     "name": "stdout",
     "output_type": "stream",
     "text": [
      "2015-03-01  -  2015-03-31\n"
     ]
    },
    {
     "name": "stderr",
     "output_type": "stream",
     "text": [
      "78it [00:36,  2.11it/s]\n",
      "96it [00:00, 105.94it/s]\n"
     ]
    },
    {
     "name": "stdout",
     "output_type": "stream",
     "text": [
      "2015-04-01  -  2015-04-30\n"
     ]
    },
    {
     "name": "stderr",
     "output_type": "stream",
     "text": [
      "100it [00:47,  2.10it/s]\n",
      "100it [00:00, 103.44it/s]\n"
     ]
    },
    {
     "name": "stdout",
     "output_type": "stream",
     "text": [
      "2015-05-01  -  2015-05-31\n"
     ]
    },
    {
     "name": "stderr",
     "output_type": "stream",
     "text": [
      "72it [00:29,  2.41it/s] \n",
      "83it [00:00, 98.79it/s]\n"
     ]
    },
    {
     "name": "stdout",
     "output_type": "stream",
     "text": [
      "2015-06-01  -  2015-06-30\n"
     ]
    },
    {
     "name": "stderr",
     "output_type": "stream",
     "text": [
      "99it [00:54,  1.82it/s]\n",
      "100it [00:00, 100.45it/s]\n"
     ]
    },
    {
     "name": "stdout",
     "output_type": "stream",
     "text": [
      "2015-07-01  -  2015-07-31\n"
     ]
    },
    {
     "name": "stderr",
     "output_type": "stream",
     "text": [
      "100it [01:00,  1.67it/s]\n",
      "100it [00:00, 104.72it/s]\n"
     ]
    },
    {
     "name": "stdout",
     "output_type": "stream",
     "text": [
      "2015-08-01  -  2015-08-31\n"
     ]
    },
    {
     "name": "stderr",
     "output_type": "stream",
     "text": [
      "100it [00:59,  1.69it/s]\n",
      "100it [00:00, 107.97it/s]\n"
     ]
    },
    {
     "name": "stdout",
     "output_type": "stream",
     "text": [
      "2015-09-01  -  2015-09-30\n"
     ]
    },
    {
     "name": "stderr",
     "output_type": "stream",
     "text": [
      "87it [01:08,  1.27it/s]\n",
      "100it [00:00, 102.09it/s]\n"
     ]
    },
    {
     "name": "stdout",
     "output_type": "stream",
     "text": [
      "2015-10-01  -  2015-10-31\n"
     ]
    },
    {
     "name": "stderr",
     "output_type": "stream",
     "text": [
      "100it [00:55,  1.80it/s]\n",
      "100it [00:00, 103.17it/s]\n"
     ]
    },
    {
     "name": "stdout",
     "output_type": "stream",
     "text": [
      "2015-11-01  -  2015-11-30\n"
     ]
    },
    {
     "name": "stderr",
     "output_type": "stream",
     "text": [
      "100it [00:59,  1.69it/s]\n",
      "100it [00:00, 104.88it/s]\n"
     ]
    },
    {
     "name": "stdout",
     "output_type": "stream",
     "text": [
      "2015-12-01  -  2015-12-31\n"
     ]
    },
    {
     "name": "stderr",
     "output_type": "stream",
     "text": [
      "100it [00:56,  1.78it/s]\n",
      "100it [00:00, 102.10it/s]\n"
     ]
    },
    {
     "name": "stdout",
     "output_type": "stream",
     "text": [
      "2016-01-01  -  2016-01-31\n"
     ]
    },
    {
     "name": "stderr",
     "output_type": "stream",
     "text": [
      "49it [00:27,  1.77it/s]\n",
      "100it [00:00, 108.70it/s]\n"
     ]
    },
    {
     "name": "stdout",
     "output_type": "stream",
     "text": [
      "2016-02-01  -  2016-02-29\n"
     ]
    },
    {
     "name": "stderr",
     "output_type": "stream",
     "text": [
      "68it [00:02, 22.84it/s] \n",
      "37it [00:00, 106.31it/s]\n"
     ]
    },
    {
     "name": "stdout",
     "output_type": "stream",
     "text": [
      "2016-03-01  -  2016-03-31\n"
     ]
    },
    {
     "name": "stderr",
     "output_type": "stream",
     "text": [
      "39it [00:05,  6.55it/s] \n",
      "71it [00:00, 106.72it/s]\n"
     ]
    },
    {
     "name": "stdout",
     "output_type": "stream",
     "text": [
      "2016-04-01  -  2016-04-30\n"
     ]
    },
    {
     "name": "stderr",
     "output_type": "stream",
     "text": [
      "58it [00:00, 100.01it/s]\n",
      "31it [00:00, 76.39it/s]\n"
     ]
    },
    {
     "name": "stdout",
     "output_type": "stream",
     "text": [
      "2016-05-01  -  2016-05-31\n"
     ]
    },
    {
     "name": "stderr",
     "output_type": "stream",
     "text": [
      "31it [00:00, 89.99it/s]\n",
      "49it [00:00, 82.02it/s]\n"
     ]
    },
    {
     "name": "stdout",
     "output_type": "stream",
     "text": [
      "2016-06-01  -  2016-06-30\n"
     ]
    },
    {
     "name": "stderr",
     "output_type": "stream",
     "text": [
      "30it [00:00, 106.51it/s]\n",
      "54it [00:00, 105.50it/s]\n"
     ]
    },
    {
     "name": "stdout",
     "output_type": "stream",
     "text": [
      "2016-07-01  -  2016-07-31\n"
     ]
    },
    {
     "name": "stderr",
     "output_type": "stream",
     "text": [
      "46it [00:00, 99.28it/s]\n",
      "46it [00:00, 99.88it/s] \n"
     ]
    },
    {
     "name": "stdout",
     "output_type": "stream",
     "text": [
      "2016-08-01  -  2016-08-31\n"
     ]
    },
    {
     "name": "stderr",
     "output_type": "stream",
     "text": [
      "24it [00:00, 69.43it/s]\n",
      "25it [00:00, 75.29it/s]\n"
     ]
    },
    {
     "name": "stdout",
     "output_type": "stream",
     "text": [
      "2016-09-01  -  2016-09-30\n"
     ]
    },
    {
     "name": "stderr",
     "output_type": "stream",
     "text": [
      "28it [00:00, 47.93it/s]\n",
      "32it [00:00, 76.69it/s]\n"
     ]
    },
    {
     "name": "stdout",
     "output_type": "stream",
     "text": [
      "2016-10-01  -  2016-10-31\n"
     ]
    },
    {
     "name": "stderr",
     "output_type": "stream",
     "text": [
      "26it [00:00, 103.82it/s]\n",
      "29it [00:00, 101.81it/s]\n"
     ]
    },
    {
     "name": "stdout",
     "output_type": "stream",
     "text": [
      "2016-11-01  -  2016-11-30\n"
     ]
    },
    {
     "name": "stderr",
     "output_type": "stream",
     "text": [
      "23it [00:00, 104.54it/s]\n",
      "29it [00:00, 107.58it/s]\n"
     ]
    },
    {
     "name": "stdout",
     "output_type": "stream",
     "text": [
      "2016-12-01  -  2016-12-31\n"
     ]
    },
    {
     "name": "stderr",
     "output_type": "stream",
     "text": [
      "25it [00:00, 108.71it/s]\n",
      "44it [00:00, 98.48it/s]\n"
     ]
    },
    {
     "name": "stdout",
     "output_type": "stream",
     "text": [
      "2017-01-01  -  2017-01-31\n"
     ]
    },
    {
     "name": "stderr",
     "output_type": "stream",
     "text": [
      "8it [00:00, 105.26it/s]\n",
      "34it [00:00, 102.72it/s]\n"
     ]
    },
    {
     "name": "stdout",
     "output_type": "stream",
     "text": [
      "2017-02-01  -  2017-02-28\n"
     ]
    },
    {
     "name": "stderr",
     "output_type": "stream",
     "text": [
      "22it [00:00, 103.13it/s]\n",
      "14it [00:00, 84.43it/s]\n"
     ]
    },
    {
     "name": "stdout",
     "output_type": "stream",
     "text": [
      "2017-03-01  -  2017-03-31\n"
     ]
    },
    {
     "name": "stderr",
     "output_type": "stream",
     "text": [
      "22it [00:00, 65.95it/s]\n",
      "25it [00:00, 105.46it/s]\n"
     ]
    },
    {
     "name": "stdout",
     "output_type": "stream",
     "text": [
      "2017-04-01  -  2017-04-30\n"
     ]
    },
    {
     "name": "stderr",
     "output_type": "stream",
     "text": [
      "22it [00:00, 106.16it/s]\n",
      "22it [00:00, 100.83it/s]\n"
     ]
    },
    {
     "name": "stdout",
     "output_type": "stream",
     "text": [
      "2017-05-01  -  2017-05-31\n"
     ]
    },
    {
     "name": "stderr",
     "output_type": "stream",
     "text": [
      "14it [00:00, 101.76it/s]\n",
      "14it [00:00, 106.15it/s]\n"
     ]
    },
    {
     "name": "stdout",
     "output_type": "stream",
     "text": [
      "2017-06-01  -  2017-06-30\n"
     ]
    },
    {
     "name": "stderr",
     "output_type": "stream",
     "text": [
      "19it [00:00, 109.45it/s]\n",
      "21it [00:00, 107.60it/s]\n"
     ]
    },
    {
     "name": "stdout",
     "output_type": "stream",
     "text": [
      "2017-07-01  -  2017-07-31\n"
     ]
    },
    {
     "name": "stderr",
     "output_type": "stream",
     "text": [
      "31it [00:00, 102.87it/s]\n",
      "25it [00:00, 106.32it/s]\n"
     ]
    },
    {
     "name": "stdout",
     "output_type": "stream",
     "text": [
      "2017-08-01  -  2017-08-31\n"
     ]
    },
    {
     "name": "stderr",
     "output_type": "stream",
     "text": [
      "24it [00:00, 100.38it/s]\n",
      "18it [00:00, 104.02it/s]\n"
     ]
    },
    {
     "name": "stdout",
     "output_type": "stream",
     "text": [
      "2017-09-01  -  2017-09-30\n"
     ]
    },
    {
     "name": "stderr",
     "output_type": "stream",
     "text": [
      "26it [00:00, 107.88it/s]\n",
      "26it [00:00, 105.32it/s]\n"
     ]
    },
    {
     "name": "stdout",
     "output_type": "stream",
     "text": [
      "2017-10-01  -  2017-10-31\n"
     ]
    },
    {
     "name": "stderr",
     "output_type": "stream",
     "text": [
      "20it [00:00, 100.47it/s]\n",
      "15it [00:00, 81.83it/s] \n"
     ]
    },
    {
     "name": "stdout",
     "output_type": "stream",
     "text": [
      "2017-11-01  -  2017-11-30\n"
     ]
    },
    {
     "name": "stderr",
     "output_type": "stream",
     "text": [
      "15it [00:00, 102.04it/s]\n",
      "21it [00:00, 76.64it/s]\n"
     ]
    },
    {
     "name": "stdout",
     "output_type": "stream",
     "text": [
      "2017-12-01  -  2017-12-31\n"
     ]
    },
    {
     "name": "stderr",
     "output_type": "stream",
     "text": [
      "36it [00:00, 104.86it/s]\n",
      "34it [00:00, 101.97it/s]\n"
     ]
    },
    {
     "name": "stdout",
     "output_type": "stream",
     "text": [
      "2018-01-01  -  2018-01-31\n"
     ]
    },
    {
     "name": "stderr",
     "output_type": "stream",
     "text": [
      "8it [00:00, 101.58it/s]\n",
      "20it [00:00, 65.47it/s]\n"
     ]
    },
    {
     "name": "stdout",
     "output_type": "stream",
     "text": [
      "2018-02-01  -  2018-02-28\n"
     ]
    },
    {
     "name": "stderr",
     "output_type": "stream",
     "text": [
      "21it [00:00, 100.00it/s]\n",
      "12it [00:00, 104.31it/s]\n"
     ]
    },
    {
     "name": "stdout",
     "output_type": "stream",
     "text": [
      "2018-03-01  -  2018-03-31\n"
     ]
    },
    {
     "name": "stderr",
     "output_type": "stream",
     "text": [
      "22it [00:00, 106.27it/s]\n",
      "26it [00:00, 108.37it/s]\n"
     ]
    },
    {
     "name": "stdout",
     "output_type": "stream",
     "text": [
      "2018-04-01  -  2018-04-30\n"
     ]
    },
    {
     "name": "stderr",
     "output_type": "stream",
     "text": [
      "19it [00:00, 104.99it/s]\n",
      "21it [00:00, 104.82it/s]\n"
     ]
    },
    {
     "name": "stdout",
     "output_type": "stream",
     "text": [
      "2018-05-01  -  2018-05-31\n"
     ]
    },
    {
     "name": "stderr",
     "output_type": "stream",
     "text": [
      "14it [00:00, 104.69it/s]\n",
      "24it [00:00, 102.34it/s]\n"
     ]
    },
    {
     "name": "stdout",
     "output_type": "stream",
     "text": [
      "2018-06-01  -  2018-06-30\n"
     ]
    },
    {
     "name": "stderr",
     "output_type": "stream",
     "text": [
      "26it [00:00, 73.76it/s]\n",
      "22it [00:00, 103.96it/s]\n"
     ]
    },
    {
     "name": "stdout",
     "output_type": "stream",
     "text": [
      "2018-07-01  -  2018-07-31\n"
     ]
    },
    {
     "name": "stderr",
     "output_type": "stream",
     "text": [
      "16it [00:00, 104.60it/s]\n",
      "26it [00:00, 107.08it/s]\n"
     ]
    },
    {
     "name": "stdout",
     "output_type": "stream",
     "text": [
      "2018-08-01  -  2018-08-31\n"
     ]
    },
    {
     "name": "stderr",
     "output_type": "stream",
     "text": [
      "24it [00:00, 103.66it/s]\n",
      "16it [00:00, 103.55it/s]\n"
     ]
    },
    {
     "name": "stdout",
     "output_type": "stream",
     "text": [
      "2018-09-01  -  2018-09-30\n"
     ]
    },
    {
     "name": "stderr",
     "output_type": "stream",
     "text": [
      "13it [00:00, 102.31it/s]\n",
      "22it [00:00, 100.88it/s]\n"
     ]
    },
    {
     "name": "stdout",
     "output_type": "stream",
     "text": [
      "2018-10-01  -  2018-10-31\n"
     ]
    },
    {
     "name": "stderr",
     "output_type": "stream",
     "text": [
      "19it [00:00, 104.41it/s]\n",
      "26it [00:00, 104.93it/s]\n"
     ]
    },
    {
     "name": "stdout",
     "output_type": "stream",
     "text": [
      "2018-11-01  -  2018-11-30\n"
     ]
    },
    {
     "name": "stderr",
     "output_type": "stream",
     "text": [
      "16it [00:00, 108.17it/s]\n",
      "16it [00:00, 77.73it/s]\n"
     ]
    },
    {
     "name": "stdout",
     "output_type": "stream",
     "text": [
      "2018-12-01  -  2018-12-31\n"
     ]
    },
    {
     "name": "stderr",
     "output_type": "stream",
     "text": [
      "28it [00:00, 108.28it/s]\n",
      "34it [00:00, 103.86it/s]\n"
     ]
    },
    {
     "name": "stdout",
     "output_type": "stream",
     "text": [
      "2019-01-01  -  2019-01-31\n"
     ]
    },
    {
     "name": "stderr",
     "output_type": "stream",
     "text": [
      "4it [00:00, 80.63it/s]\n",
      "22it [00:00, 107.75it/s]\n"
     ]
    },
    {
     "name": "stdout",
     "output_type": "stream",
     "text": [
      "2019-02-01  -  2019-02-28\n"
     ]
    },
    {
     "name": "stderr",
     "output_type": "stream",
     "text": [
      "24it [00:00, 93.73it/s] \n",
      "12it [00:00, 104.49it/s]\n"
     ]
    },
    {
     "name": "stdout",
     "output_type": "stream",
     "text": [
      "2019-03-01  -  2019-03-31\n"
     ]
    },
    {
     "name": "stderr",
     "output_type": "stream",
     "text": [
      "20it [00:00, 100.56it/s]\n",
      "18it [00:00, 104.86it/s]\n"
     ]
    },
    {
     "name": "stdout",
     "output_type": "stream",
     "text": [
      "2019-04-01  -  2019-04-30\n"
     ]
    },
    {
     "name": "stderr",
     "output_type": "stream",
     "text": [
      "17it [00:00, 101.77it/s]\n",
      "22it [00:00, 102.74it/s]\n"
     ]
    },
    {
     "name": "stdout",
     "output_type": "stream",
     "text": [
      "2019-05-01  -  2019-05-31\n"
     ]
    },
    {
     "name": "stderr",
     "output_type": "stream",
     "text": [
      "6it [00:00, 95.46it/s]\n",
      "19it [00:00, 111.76it/s]\n"
     ]
    },
    {
     "name": "stdout",
     "output_type": "stream",
     "text": [
      "2019-06-01  -  2019-06-30\n"
     ]
    },
    {
     "name": "stderr",
     "output_type": "stream",
     "text": [
      "19it [00:00, 105.17it/s]\n",
      "21it [00:00, 103.00it/s]\n"
     ]
    }
   ],
   "source": [
    "DETECTED = df.url.tolist() \n",
    "\n",
    "def half_parser(cur_date, end_date, counter):\n",
    "    exc_articles = []\n",
    "    good_articles = []\n",
    "    \n",
    "    driver_base.find_elements(By.TAG_NAME, value='.hasDatepicker')[0].send_keys(\"\\b\\b\\b\\b\\b\\b\\b\\b\\b\\b\" + cur_date.strftime(\"%d.%m.%Y\"))\n",
    "    driver_base.find_elements(By.TAG_NAME, value='.hasDatepicker')[1].send_keys(\"\\b\\b\\b\\b\\b\\b\\b\\b\\b\\b\" + end_date.strftime(\"%d.%m.%Y\"))\n",
    "    driver_base.find_elements(By.TAG_NAME, value='#UniDbQuery_searchbutton')[0].click()\n",
    "\n",
    "    articles_dates = driver_base.find_elements(By.TAG_NAME, value='.source')\n",
    "    articles_links = driver_base.find_elements(By.TAG_NAME, value='a')[15:-10]\n",
    "    for article_date, link in tqdm(zip(articles_dates, articles_links)):\n",
    "        if link.get_attribute(name='href') in DETECTED:\n",
    "            continue\n",
    "        counter += 1\n",
    "        try:\n",
    "            article_type = \"Пресс-релиз\"\n",
    "            article_url = link.get_attribute(name='href')\n",
    "            driver_runner1.get(article_url)\n",
    "            article_text = [a.text for a in driver_runner1.find_elements(By.TAG_NAME, value='p')]\n",
    "            good_articles.append([counter, article_date.text, article_type, link.text, \"\\n\".join(article_text).strip(), article_url])\n",
    "        except Exception as e:\n",
    "            print(\"Problem!\")\n",
    "            exc_articles.append((article_date, link)) \n",
    "    return good_articles, exc_articles, counter\n",
    "\n",
    "\n",
    "counter = 0\n",
    "cur_date = start_date\n",
    "temp_end = cur_date + relativedelta(months=+1) - relativedelta(days=+1)\n",
    "exc_articles = []\n",
    "good_articles = []\n",
    "while temp_end < end_date:\n",
    "    print(cur_date, \" - \", temp_end)\n",
    "    \n",
    "    good_articles_temp, exc_articles_temp, counter = half_parser(cur_date, cur_date + relativedelta(days=+14), counter)\n",
    "    good_articles += good_articles_temp\n",
    "    exc_articles += exc_articles_temp\n",
    "    \n",
    "    good_articles_temp, exc_articles_temp, counter = half_parser(cur_date + relativedelta(days=+15), temp_end, counter)\n",
    "    good_articles += good_articles_temp\n",
    "    exc_articles += exc_articles_temp\n",
    "\n",
    "    if cur_date.month == 2:\n",
    "        pd.DataFrame(good_articles).to_csv(f\"{cur_date}_old_all_arts.csv\", encoding=\"utf-8\", sep=\";\", index=False)    \n",
    "\n",
    "    cur_date = cur_date + relativedelta(months=+1)\n",
    "    temp_end = cur_date + relativedelta(months=+1) - relativedelta(days=+1)\n",
    "    temp_end = min([temp_end, end_date])"
   ]
  },
  {
   "cell_type": "code",
   "execution_count": 127,
   "metadata": {},
   "outputs": [],
   "source": [
    "pd.DataFrame(good_articles).to_csv(f\"old_all_arts.csv\", encoding=\"utf-8\", sep=\";\", index=False)    "
   ]
  },
  {
   "cell_type": "code",
   "execution_count": 33,
   "metadata": {
    "collapsed": true
   },
   "outputs": [
    {
     "data": {
      "text/html": [
       "<div>\n",
       "<style scoped>\n",
       "    .dataframe tbody tr th:only-of-type {\n",
       "        vertical-align: middle;\n",
       "    }\n",
       "\n",
       "    .dataframe tbody tr th {\n",
       "        vertical-align: top;\n",
       "    }\n",
       "\n",
       "    .dataframe thead th {\n",
       "        text-align: right;\n",
       "    }\n",
       "</style>\n",
       "<table border=\"1\" class=\"dataframe\">\n",
       "  <thead>\n",
       "    <tr style=\"text-align: right;\">\n",
       "      <th></th>\n",
       "      <th>datestr</th>\n",
       "      <th>type</th>\n",
       "      <th>header</th>\n",
       "      <th>text</th>\n",
       "      <th>url</th>\n",
       "      <th>date</th>\n",
       "    </tr>\n",
       "  </thead>\n",
       "  <tbody>\n",
       "    <tr>\n",
       "      <th>0</th>\n",
       "      <td>29.01.2010</td>\n",
       "      <td>Пресс-релиз</td>\n",
       "      <td>О размещении средств федерального бюджета на б...</td>\n",
       "      <td>Департамент внешних и общественных связей Банк...</td>\n",
       "      <td>http://www.cbr.ru/press/PR/?file=100129_154621...</td>\n",
       "      <td>2010-01-29</td>\n",
       "    </tr>\n",
       "    <tr>\n",
       "      <th>1</th>\n",
       "      <td>29.01.2010</td>\n",
       "      <td>Пресс-релиз</td>\n",
       "      <td>О проведении аукциона по предоставлению кредит...</td>\n",
       "      <td>Департамент внешних и общественных связей Банк...</td>\n",
       "      <td>http://www.cbr.ru/press/PR/?file=100129_154621...</td>\n",
       "      <td>2010-01-29</td>\n",
       "    </tr>\n",
       "    <tr>\n",
       "      <th>2</th>\n",
       "      <td>29.01.2010</td>\n",
       "      <td>Пресс-релиз</td>\n",
       "      <td>О предварительном графике проведения аукционов...</td>\n",
       "      <td>Департамент внешних и общественных связей Банк...</td>\n",
       "      <td>http://www.cbr.ru/press/PR/?file=100129_154618...</td>\n",
       "      <td>2010-01-29</td>\n",
       "    </tr>\n",
       "    <tr>\n",
       "      <th>3</th>\n",
       "      <td>29.01.2010</td>\n",
       "      <td>Пресс-релиз</td>\n",
       "      <td>Об условиях проведения Банком России 01.02.201...</td>\n",
       "      <td>Департамент внешних и общественных связей Банк...</td>\n",
       "      <td>http://www.cbr.ru/press/PR/?file=100129_105415...</td>\n",
       "      <td>2010-01-29</td>\n",
       "    </tr>\n",
       "    <tr>\n",
       "      <th>4</th>\n",
       "      <td>29.01.2010</td>\n",
       "      <td>Пресс-релиз</td>\n",
       "      <td>Об условиях проведения Банком России 29.01.201...</td>\n",
       "      <td>Департамент внешних и общественных связей Банк...</td>\n",
       "      <td>http://www.cbr.ru/press/PR/?file=100129_104722...</td>\n",
       "      <td>2010-01-29</td>\n",
       "    </tr>\n",
       "  </tbody>\n",
       "</table>\n",
       "</div>"
      ],
      "text/plain": [
       "      datestr         type                                             header  \\\n",
       "0  29.01.2010  Пресс-релиз  О размещении средств федерального бюджета на б...   \n",
       "1  29.01.2010  Пресс-релиз  О проведении аукциона по предоставлению кредит...   \n",
       "2  29.01.2010  Пресс-релиз  О предварительном графике проведения аукционов...   \n",
       "3  29.01.2010  Пресс-релиз  Об условиях проведения Банком России 01.02.201...   \n",
       "4  29.01.2010  Пресс-релиз  Об условиях проведения Банком России 29.01.201...   \n",
       "\n",
       "                                                text  \\\n",
       "0  Департамент внешних и общественных связей Банк...   \n",
       "1  Департамент внешних и общественных связей Банк...   \n",
       "2  Департамент внешних и общественных связей Банк...   \n",
       "3  Департамент внешних и общественных связей Банк...   \n",
       "4  Департамент внешних и общественных связей Банк...   \n",
       "\n",
       "                                                 url       date  \n",
       "0  http://www.cbr.ru/press/PR/?file=100129_154621... 2010-01-29  \n",
       "1  http://www.cbr.ru/press/PR/?file=100129_154621... 2010-01-29  \n",
       "2  http://www.cbr.ru/press/PR/?file=100129_154618... 2010-01-29  \n",
       "3  http://www.cbr.ru/press/PR/?file=100129_105415... 2010-01-29  \n",
       "4  http://www.cbr.ru/press/PR/?file=100129_104722... 2010-01-29  "
      ]
     },
     "execution_count": 33,
     "metadata": {},
     "output_type": "execute_result"
    }
   ],
   "source": [
    "df_pr_old = pd.read_csv(\"2020-02-01_old.csv\",sep=\";\")\n",
    "\n",
    "df_pr_old.columns=[\"num\", \"datestr\", \"type\", \"header\", \"text\", \"url\"]\n",
    "df_pr_old = df_pr_old.drop(columns=['num'])\n",
    "df_pr_old = df_pr_old.reset_index(drop=True)\n",
    "\n",
    "# df_pr_old['date'] = [f\"{i[0]}-{months[i[1]]}-{i[2]}\" for i in df_new.datestr.str.split().tolist()]\n",
    "df_pr_old['date'] = pd.to_datetime(df_pr_old['datestr'], format='%d.%m.%Y')\n",
    "df_pr_old.head()"
   ]
  },
  {
   "cell_type": "code",
   "execution_count": 129,
   "metadata": {},
   "outputs": [
    {
     "data": {
      "text/html": [
       "<div>\n",
       "<style scoped>\n",
       "    .dataframe tbody tr th:only-of-type {\n",
       "        vertical-align: middle;\n",
       "    }\n",
       "\n",
       "    .dataframe tbody tr th {\n",
       "        vertical-align: top;\n",
       "    }\n",
       "\n",
       "    .dataframe thead th {\n",
       "        text-align: right;\n",
       "    }\n",
       "</style>\n",
       "<table border=\"1\" class=\"dataframe\">\n",
       "  <thead>\n",
       "    <tr style=\"text-align: right;\">\n",
       "      <th></th>\n",
       "      <th>datestr</th>\n",
       "      <th>type</th>\n",
       "      <th>header</th>\n",
       "      <th>text</th>\n",
       "      <th>url</th>\n",
       "      <th>date</th>\n",
       "    </tr>\n",
       "  </thead>\n",
       "  <tbody>\n",
       "    <tr>\n",
       "      <th>0</th>\n",
       "      <td>03.02.2010</td>\n",
       "      <td>Пресс-релиз</td>\n",
       "      <td>Об условиях проведения Банком России 04.02.201...</td>\n",
       "      <td>Департамент внешних и общественных связей Банк...</td>\n",
       "      <td>http://www.cbr.ru/press/PR/?file=100203_101623...</td>\n",
       "      <td>2010-02-03</td>\n",
       "    </tr>\n",
       "    <tr>\n",
       "      <th>1</th>\n",
       "      <td>03.02.2010</td>\n",
       "      <td>Пресс-релиз</td>\n",
       "      <td>Об условиях проведения Банком России 03.02.201...</td>\n",
       "      <td>Департамент внешних и общественных связей Банк...</td>\n",
       "      <td>http://www.cbr.ru/press/PR/?file=100203_101620...</td>\n",
       "      <td>2010-02-03</td>\n",
       "    </tr>\n",
       "    <tr>\n",
       "      <th>2</th>\n",
       "      <td>03.02.2010</td>\n",
       "      <td>Пресс-релиз</td>\n",
       "      <td>О проведении депозитных аукционов</td>\n",
       "      <td>Департамент внешних и общественных связей Банк...</td>\n",
       "      <td>http://www.cbr.ru/press/PR/?file=100203_155532...</td>\n",
       "      <td>2010-02-03</td>\n",
       "    </tr>\n",
       "    <tr>\n",
       "      <th>3</th>\n",
       "      <td>02.02.2010</td>\n",
       "      <td>Пресс-релиз</td>\n",
       "      <td>Об условиях проведения Банком России 02.02.201...</td>\n",
       "      <td>Департамент внешних и общественных связей Банк...</td>\n",
       "      <td>http://www.cbr.ru/press/PR/?file=100202_110217...</td>\n",
       "      <td>2010-02-02</td>\n",
       "    </tr>\n",
       "    <tr>\n",
       "      <th>4</th>\n",
       "      <td>02.02.2010</td>\n",
       "      <td>Пресс-релиз</td>\n",
       "      <td>Об условиях проведения Банком России 03.02.201...</td>\n",
       "      <td>Департамент внешних и общественных связей Банк...</td>\n",
       "      <td>http://www.cbr.ru/press/PR/?file=100202_105712...</td>\n",
       "      <td>2010-02-02</td>\n",
       "    </tr>\n",
       "  </tbody>\n",
       "</table>\n",
       "</div>"
      ],
      "text/plain": [
       "      datestr         type                                             header  \\\n",
       "0  03.02.2010  Пресс-релиз  Об условиях проведения Банком России 04.02.201...   \n",
       "1  03.02.2010  Пресс-релиз  Об условиях проведения Банком России 03.02.201...   \n",
       "2  03.02.2010  Пресс-релиз                  О проведении депозитных аукционов   \n",
       "3  02.02.2010  Пресс-релиз  Об условиях проведения Банком России 02.02.201...   \n",
       "4  02.02.2010  Пресс-релиз  Об условиях проведения Банком России 03.02.201...   \n",
       "\n",
       "                                                text  \\\n",
       "0  Департамент внешних и общественных связей Банк...   \n",
       "1  Департамент внешних и общественных связей Банк...   \n",
       "2  Департамент внешних и общественных связей Банк...   \n",
       "3  Департамент внешних и общественных связей Банк...   \n",
       "4  Департамент внешних и общественных связей Банк...   \n",
       "\n",
       "                                                 url       date  \n",
       "0  http://www.cbr.ru/press/PR/?file=100203_101623... 2010-02-03  \n",
       "1  http://www.cbr.ru/press/PR/?file=100203_101620... 2010-02-03  \n",
       "2  http://www.cbr.ru/press/PR/?file=100203_155532... 2010-02-03  \n",
       "3  http://www.cbr.ru/press/PR/?file=100202_110217... 2010-02-02  \n",
       "4  http://www.cbr.ru/press/PR/?file=100202_105712... 2010-02-02  "
      ]
     },
     "execution_count": 129,
     "metadata": {},
     "output_type": "execute_result"
    }
   ],
   "source": [
    "df_pr_old_extra = pd.DataFrame(good_articles)\n",
    "df_pr_old_extra.columns=[\"num\", \"datestr\", \"type\", \"header\", \"text\", \"url\"]\n",
    "df_pr_old_extra = df_pr_old_extra.drop(columns=['num'])\n",
    "df_pr_old_extra = df_pr_old_extra.reset_index(drop=True)\n",
    "\n",
    "# df_pr_old['date'] = [f\"{i[0]}-{months[i[1]]}-{i[2]}\" for i in df_new.datestr.str.split().tolist()]\n",
    "df_pr_old_extra['date'] = pd.to_datetime(df_pr_old_extra['datestr'], format='%d.%m.%Y')\n",
    "df_pr_old_extra.head()"
   ]
  },
  {
   "cell_type": "markdown",
   "metadata": {},
   "source": [
    "## Объединяем часть 1 и 2"
   ]
  },
  {
   "cell_type": "code",
   "execution_count": 130,
   "metadata": {},
   "outputs": [],
   "source": [
    "df = pd.concat([df_pr_old, df_new, df_pr_old_extra]).drop_duplicates().sort_values(by=['date', 'type']).reset_index(drop=True)\n",
    "df = df[['date','type','header','text', 'url']]\n",
    "df = df[(df.date.dt.date <= datetime.date(2022, 2, 1)) & (df.date.dt.date <= datetime.date(2022, 2, 1))]"
   ]
  },
  {
   "cell_type": "code",
   "execution_count": 142,
   "metadata": {},
   "outputs": [],
   "source": [
    "df.to_csv(\"main.csv\", encoding=\"utf-8\", sep=\";\", index=False)    "
   ]
  },
  {
   "cell_type": "code",
   "execution_count": null,
   "metadata": {},
   "outputs": [],
   "source": []
  },
  {
   "cell_type": "code",
   "execution_count": 131,
   "metadata": {},
   "outputs": [],
   "source": [
    "l = [i.text for i in driver_base.find_elements(By.TAG_NAME, value='.referenceable')[1:] if i.text != \"Архив выступлений\"]\n",
    "a = set(df[df.type == \"Выступление\"].header.tolist())"
   ]
  },
  {
   "cell_type": "code",
   "execution_count": 140,
   "metadata": {
    "scrolled": false
   },
   "outputs": [
    {
     "data": {
      "text/html": [
       "<div>\n",
       "<style scoped>\n",
       "    .dataframe tbody tr th:only-of-type {\n",
       "        vertical-align: middle;\n",
       "    }\n",
       "\n",
       "    .dataframe tbody tr th {\n",
       "        vertical-align: top;\n",
       "    }\n",
       "\n",
       "    .dataframe thead th {\n",
       "        text-align: right;\n",
       "    }\n",
       "</style>\n",
       "<table border=\"1\" class=\"dataframe\">\n",
       "  <thead>\n",
       "    <tr style=\"text-align: right;\">\n",
       "      <th></th>\n",
       "      <th>date</th>\n",
       "      <th>type</th>\n",
       "      <th>header</th>\n",
       "      <th>text</th>\n",
       "      <th>url</th>\n",
       "    </tr>\n",
       "  </thead>\n",
       "  <tbody>\n",
       "    <tr>\n",
       "      <th>153</th>\n",
       "      <td>2010-02-19</td>\n",
       "      <td>Пресс-релиз</td>\n",
       "      <td>О снижении ставки рефинансирования и процентны...</td>\n",
       "      <td>Департамент внешних и общественных связей Банк...</td>\n",
       "      <td>http://www.cbr.ru/press/PR/?file=100219_111251...</td>\n",
       "    </tr>\n",
       "    <tr>\n",
       "      <th>274</th>\n",
       "      <td>2010-03-26</td>\n",
       "      <td>Пресс-релиз</td>\n",
       "      <td>О снижении ставки рефинансирования и процентны...</td>\n",
       "      <td>Департамент внешних и общественных связей Банк...</td>\n",
       "      <td>http://www.cbr.ru/press/PR/?file=100326_113124...</td>\n",
       "    </tr>\n",
       "    <tr>\n",
       "      <th>395</th>\n",
       "      <td>2010-04-29</td>\n",
       "      <td>Пресс-релиз</td>\n",
       "      <td>О снижении ставки рефинансирования и процентны...</td>\n",
       "      <td>Департамент внешних и общественных связей Банк...</td>\n",
       "      <td>http://www.cbr.ru/press/PR/?file=100429_112021...</td>\n",
       "    </tr>\n",
       "    <tr>\n",
       "      <th>494</th>\n",
       "      <td>2010-05-31</td>\n",
       "      <td>Пресс-релиз</td>\n",
       "      <td>О снижении ставки рефинансирования и процентны...</td>\n",
       "      <td>Департамент внешних и общественных связей Банк...</td>\n",
       "      <td>http://www.cbr.ru/press/PR/?file=100531_172920...</td>\n",
       "    </tr>\n",
       "    <tr>\n",
       "      <th>614</th>\n",
       "      <td>2010-06-30</td>\n",
       "      <td>Пресс-релиз</td>\n",
       "      <td>О ставке рефинансирования и процентных ставках...</td>\n",
       "      <td>Департамент внешних и общественных связей Банк...</td>\n",
       "      <td>http://www.cbr.ru/press/PR/?file=100630_110442...</td>\n",
       "    </tr>\n",
       "    <tr>\n",
       "      <th>740</th>\n",
       "      <td>2010-07-30</td>\n",
       "      <td>Пресс-релиз</td>\n",
       "      <td>О ставке рефинансирования и процентных ставках...</td>\n",
       "      <td>Департамент внешних и общественных связей Банк...</td>\n",
       "      <td>http://www.cbr.ru/press/PR/?file=100730_113355...</td>\n",
       "    </tr>\n",
       "    <tr>\n",
       "      <th>956</th>\n",
       "      <td>2010-09-28</td>\n",
       "      <td>Пресс-релиз</td>\n",
       "      <td>О ставке рефинансирования и процентных ставках...</td>\n",
       "      <td>Департамент внешних и общественных связей Банк...</td>\n",
       "      <td>http://www.cbr.ru/press/PR/?file=100928_105457...</td>\n",
       "    </tr>\n",
       "    <tr>\n",
       "      <th>1088</th>\n",
       "      <td>2010-10-29</td>\n",
       "      <td>Пресс-релиз</td>\n",
       "      <td>О ставке рефинансирования и процентных ставках...</td>\n",
       "      <td>Департамент внешних и общественных связей Банк...</td>\n",
       "      <td>http://www.cbr.ru/press/PR/?file=101029_105043...</td>\n",
       "    </tr>\n",
       "    <tr>\n",
       "      <th>1198</th>\n",
       "      <td>2010-11-26</td>\n",
       "      <td>Пресс-релиз</td>\n",
       "      <td>Об уровне ставки рефинансирования и процентных...</td>\n",
       "      <td>Департамент внешних и общественных связей Банк...</td>\n",
       "      <td>http://www.cbr.ru/press/PR/?file=101126_105732...</td>\n",
       "    </tr>\n",
       "    <tr>\n",
       "      <th>1328</th>\n",
       "      <td>2010-12-24</td>\n",
       "      <td>Пресс-релиз</td>\n",
       "      <td>Об уровне ставки рефинансирования и процентных...</td>\n",
       "      <td>Департамент внешних и общественных связей Банк...</td>\n",
       "      <td>http://www.cbr.ru/press/PR/?file=101224_152719...</td>\n",
       "    </tr>\n",
       "    <tr>\n",
       "      <th>1452</th>\n",
       "      <td>2011-01-31</td>\n",
       "      <td>Пресс-релиз</td>\n",
       "      <td>О ставке рефинансирования и процентных ставках...</td>\n",
       "      <td>Департамент внешних и общественных связей Банк...</td>\n",
       "      <td>http://www.cbr.ru/press/PR/?file=110131_111256...</td>\n",
       "    </tr>\n",
       "    <tr>\n",
       "      <th>1552</th>\n",
       "      <td>2011-02-25</td>\n",
       "      <td>Пресс-релиз</td>\n",
       "      <td>О ставке рефинансирования и процентных ставках...</td>\n",
       "      <td>Департамент внешних и общественных связей Банк...</td>\n",
       "      <td>http://www.cbr.ru/press/PR/?file=110225_104049...</td>\n",
       "    </tr>\n",
       "    <tr>\n",
       "      <th>1668</th>\n",
       "      <td>2011-03-25</td>\n",
       "      <td>Пресс-релиз</td>\n",
       "      <td>О ставке рефинансирования и процентных ставках...</td>\n",
       "      <td>Департамент внешних и общественных связей Банк...</td>\n",
       "      <td>http://www.cbr.ru/press/PR/?file=110325_105635...</td>\n",
       "    </tr>\n",
       "    <tr>\n",
       "      <th>1803</th>\n",
       "      <td>2011-04-29</td>\n",
       "      <td>Пресс-релиз</td>\n",
       "      <td>О ставке рефинансирования и процентных ставках...</td>\n",
       "      <td>Департамент внешних и общественных связей Банк...</td>\n",
       "      <td>http://www.cbr.ru/press/PR/?file=110429_125302...</td>\n",
       "    </tr>\n",
       "    <tr>\n",
       "      <th>1914</th>\n",
       "      <td>2011-05-30</td>\n",
       "      <td>Пресс-релиз</td>\n",
       "      <td>О ставке рефинансирования и процентных ставках...</td>\n",
       "      <td>Департамент внешних и общественных связей Банк...</td>\n",
       "      <td>http://www.cbr.ru/press/PR/?file=110530_112855...</td>\n",
       "    </tr>\n",
       "    <tr>\n",
       "      <th>2038</th>\n",
       "      <td>2011-06-30</td>\n",
       "      <td>Пресс-релиз</td>\n",
       "      <td>О ставке рефинансирования и процентных ставках...</td>\n",
       "      <td>Департамент внешних и общественных связей Банк...</td>\n",
       "      <td>http://www.cbr.ru/press/PR/?file=110630_175933...</td>\n",
       "    </tr>\n",
       "    <tr>\n",
       "      <th>2177</th>\n",
       "      <td>2011-08-04</td>\n",
       "      <td>Пресс-релиз</td>\n",
       "      <td>О ставке рефинансирования и процентных ставках...</td>\n",
       "      <td>Департамент внешних и общественных связей Банк...</td>\n",
       "      <td>http://www.cbr.ru/press/PR/?file=110804_111449...</td>\n",
       "    </tr>\n",
       "    <tr>\n",
       "      <th>2330</th>\n",
       "      <td>2011-09-14</td>\n",
       "      <td>Пресс-релиз</td>\n",
       "      <td>О ставке рефинансирования и процентных ставках...</td>\n",
       "      <td>Департамент внешних и общественных связей Банк...</td>\n",
       "      <td>http://www.cbr.ru/press/PR/?file=110914_113417...</td>\n",
       "    </tr>\n",
       "    <tr>\n",
       "      <th>2489</th>\n",
       "      <td>2011-10-28</td>\n",
       "      <td>Пресс-релиз</td>\n",
       "      <td>О ставке рефинансирования и процентных ставках...</td>\n",
       "      <td>Департамент внешних и общественных связей Банк...</td>\n",
       "      <td>http://www.cbr.ru/press/PR/?file=111028_114845...</td>\n",
       "    </tr>\n",
       "    <tr>\n",
       "      <th>2580</th>\n",
       "      <td>2011-11-25</td>\n",
       "      <td>Пресс-релиз</td>\n",
       "      <td>О ставке рефинансирования и процентных ставках...</td>\n",
       "      <td>Департамент внешних и общественных связей Банк...</td>\n",
       "      <td>http://www.cbr.ru/press/PR/?file=111125_105526...</td>\n",
       "    </tr>\n",
       "    <tr>\n",
       "      <th>2652</th>\n",
       "      <td>2011-12-23</td>\n",
       "      <td>Пресс-релиз</td>\n",
       "      <td>О снижении ставки рефинансирования и изменении...</td>\n",
       "      <td>Департамент внешних и общественных связей Банк...</td>\n",
       "      <td>http://www.cbr.ru/press/PR/?file=111223_114407...</td>\n",
       "    </tr>\n",
       "    <tr>\n",
       "      <th>2722</th>\n",
       "      <td>2012-02-03</td>\n",
       "      <td>Пресс-релиз</td>\n",
       "      <td>О ставке рефинансирования и процентных ставках...</td>\n",
       "      <td>Департамент внешних и общественных связей Банк...</td>\n",
       "      <td>http://www.cbr.ru/press/PR/?file=120203_105025...</td>\n",
       "    </tr>\n",
       "    <tr>\n",
       "      <th>2802</th>\n",
       "      <td>2012-03-13</td>\n",
       "      <td>Пресс-релиз</td>\n",
       "      <td>О ставке рефинансирования и процентных ставках...</td>\n",
       "      <td>Департамент внешних и общественных связей Банк...</td>\n",
       "      <td>http://www.cbr.ru/press/PR/?file=120313_110240...</td>\n",
       "    </tr>\n",
       "    <tr>\n",
       "      <th>2861</th>\n",
       "      <td>2012-04-09</td>\n",
       "      <td>Пресс-релиз</td>\n",
       "      <td>О ставке рефинансирования и процентных ставках...</td>\n",
       "      <td>Департамент внешних и общественных связей Банк...</td>\n",
       "      <td>http://www.cbr.ru/press/PR/?file=120409_105807...</td>\n",
       "    </tr>\n",
       "    <tr>\n",
       "      <th>2932</th>\n",
       "      <td>2012-05-10</td>\n",
       "      <td>Пресс-релиз</td>\n",
       "      <td>О ставке рефинансирования и процентных ставках...</td>\n",
       "      <td>Департамент внешних и общественных связей Банк...</td>\n",
       "      <td>http://www.cbr.ru/press/PR/?file=120510_110341...</td>\n",
       "    </tr>\n",
       "    <tr>\n",
       "      <th>3021</th>\n",
       "      <td>2012-06-15</td>\n",
       "      <td>Пресс-релиз</td>\n",
       "      <td>О ставке рефинансирования и процентных ставках...</td>\n",
       "      <td>Департамент внешних и общественных связей Банк...</td>\n",
       "      <td>http://www.cbr.ru/press/PR/?file=120615_111532...</td>\n",
       "    </tr>\n",
       "    <tr>\n",
       "      <th>3098</th>\n",
       "      <td>2012-07-13</td>\n",
       "      <td>Пресс-релиз</td>\n",
       "      <td>О ставке рефинансирования и процентных ставках...</td>\n",
       "      <td>Департамент внешних и общественных связей Банк...</td>\n",
       "      <td>http://www.cbr.ru/press/PR/?file=120713_155435...</td>\n",
       "    </tr>\n",
       "    <tr>\n",
       "      <th>3162</th>\n",
       "      <td>2012-08-10</td>\n",
       "      <td>Пресс-релиз</td>\n",
       "      <td>О ставке рефинансирования и процентных ставках...</td>\n",
       "      <td>Департамент внешних и общественных связей Банк...</td>\n",
       "      <td>http://www.cbr.ru/press/PR/?file=120810_105642...</td>\n",
       "    </tr>\n",
       "    <tr>\n",
       "      <th>3216</th>\n",
       "      <td>2012-09-13</td>\n",
       "      <td>Пресс-релиз</td>\n",
       "      <td>О ставке рефинансирования и процентных ставках...</td>\n",
       "      <td>Департамент внешних и общественных связей Банк...</td>\n",
       "      <td>http://www.cbr.ru/press/PR/?file=120913_174204...</td>\n",
       "    </tr>\n",
       "    <tr>\n",
       "      <th>3264</th>\n",
       "      <td>2012-10-05</td>\n",
       "      <td>Пресс-релиз</td>\n",
       "      <td>О ставке рефинансирования и процентных ставках...</td>\n",
       "      <td>Департамент внешних и общественных связей Банк...</td>\n",
       "      <td>http://www.cbr.ru/press/PR/?file=121005_112515...</td>\n",
       "    </tr>\n",
       "    <tr>\n",
       "      <th>3338</th>\n",
       "      <td>2012-11-09</td>\n",
       "      <td>Пресс-релиз</td>\n",
       "      <td>О ставке рефинансирования и процентных ставках...</td>\n",
       "      <td>Департамент внешних и общественных связей Банк...</td>\n",
       "      <td>http://www.cbr.ru/press/PR/?file=121109_111058...</td>\n",
       "    </tr>\n",
       "    <tr>\n",
       "      <th>3399</th>\n",
       "      <td>2012-12-10</td>\n",
       "      <td>Пресс-релиз</td>\n",
       "      <td>О ставке рефинансирования и процентных ставках...</td>\n",
       "      <td>Департамент внешних и общественных связей Банк...</td>\n",
       "      <td>http://www.cbr.ru/press/PR/?file=121210_122607...</td>\n",
       "    </tr>\n",
       "    <tr>\n",
       "      <th>3464</th>\n",
       "      <td>2013-01-15</td>\n",
       "      <td>Пресс-релиз</td>\n",
       "      <td>О ставке рефинансирования и процентных ставках...</td>\n",
       "      <td>Департамент внешних и общественных связей Банк...</td>\n",
       "      <td>http://www.cbr.ru/press/PR/?file=130115_115655...</td>\n",
       "    </tr>\n",
       "    <tr>\n",
       "      <th>3521</th>\n",
       "      <td>2013-02-12</td>\n",
       "      <td>Пресс-релиз</td>\n",
       "      <td>О ставке рефинансирования и процентных ставках...</td>\n",
       "      <td>Департамент внешних и общественных связей Банк...</td>\n",
       "      <td>http://www.cbr.ru/press/PR/?file=130212_122155...</td>\n",
       "    </tr>\n",
       "    <tr>\n",
       "      <th>3586</th>\n",
       "      <td>2013-03-15</td>\n",
       "      <td>Пресс-релиз</td>\n",
       "      <td>О ставке рефинансирования и процентных ставках...</td>\n",
       "      <td>Департамент внешних и общественных связей Банк...</td>\n",
       "      <td>http://www.cbr.ru/press/PR/?file=130315_120653...</td>\n",
       "    </tr>\n",
       "    <tr>\n",
       "      <th>3620</th>\n",
       "      <td>2013-04-02</td>\n",
       "      <td>Пресс-релиз</td>\n",
       "      <td>О ставке рефинансирования и процентных ставках...</td>\n",
       "      <td>Департамент внешних и общественных связей Банк...</td>\n",
       "      <td>http://www.cbr.ru/press/PR/?file=130402_122724...</td>\n",
       "    </tr>\n",
       "    <tr>\n",
       "      <th>3691</th>\n",
       "      <td>2013-05-15</td>\n",
       "      <td>Пресс-релиз</td>\n",
       "      <td>О ставке рефинансирования и процентных ставках...</td>\n",
       "      <td>Департамент внешних и общественных связей Банк...</td>\n",
       "      <td>http://www.cbr.ru/press/PR/?file=130515_160833...</td>\n",
       "    </tr>\n",
       "    <tr>\n",
       "      <th>3736</th>\n",
       "      <td>2013-06-10</td>\n",
       "      <td>Пресс-релиз</td>\n",
       "      <td>О ставке рефинансирования и процентных ставках...</td>\n",
       "      <td>Департамент внешних и общественных связей Банк...</td>\n",
       "      <td>http://www.cbr.ru/press/PR/?file=130610_121514...</td>\n",
       "    </tr>\n",
       "    <tr>\n",
       "      <th>3807</th>\n",
       "      <td>2013-07-12</td>\n",
       "      <td>Пресс-релиз</td>\n",
       "      <td>О ставке рефинансирования и процентных ставках...</td>\n",
       "      <td>Департамент внешних и общественных связей Банк...</td>\n",
       "      <td>http://www.cbr.ru/press/PR/?file=130712_133141...</td>\n",
       "    </tr>\n",
       "    <tr>\n",
       "      <th>3861</th>\n",
       "      <td>2013-08-09</td>\n",
       "      <td>Пресс-релиз</td>\n",
       "      <td>О ставке рефинансирования и процентных ставках...</td>\n",
       "      <td>Департамент внешних и общественных связей Банк...</td>\n",
       "      <td>http://www.cbr.ru/press/PR/?file=130809_122540...</td>\n",
       "    </tr>\n",
       "    <tr>\n",
       "      <th>6248</th>\n",
       "      <td>2014-11-24</td>\n",
       "      <td>Пресс-релиз</td>\n",
       "      <td>О деятельности «финансовых агентов», предлагаю...</td>\n",
       "      <td>Банк России в целях защиты прав и законных инт...</td>\n",
       "      <td>http://www.cbr.ru/press/PR/?file=24112014_1801...</td>\n",
       "    </tr>\n",
       "  </tbody>\n",
       "</table>\n",
       "</div>"
      ],
      "text/plain": [
       "           date         type  \\\n",
       "153  2010-02-19  Пресс-релиз   \n",
       "274  2010-03-26  Пресс-релиз   \n",
       "395  2010-04-29  Пресс-релиз   \n",
       "494  2010-05-31  Пресс-релиз   \n",
       "614  2010-06-30  Пресс-релиз   \n",
       "740  2010-07-30  Пресс-релиз   \n",
       "956  2010-09-28  Пресс-релиз   \n",
       "1088 2010-10-29  Пресс-релиз   \n",
       "1198 2010-11-26  Пресс-релиз   \n",
       "1328 2010-12-24  Пресс-релиз   \n",
       "1452 2011-01-31  Пресс-релиз   \n",
       "1552 2011-02-25  Пресс-релиз   \n",
       "1668 2011-03-25  Пресс-релиз   \n",
       "1803 2011-04-29  Пресс-релиз   \n",
       "1914 2011-05-30  Пресс-релиз   \n",
       "2038 2011-06-30  Пресс-релиз   \n",
       "2177 2011-08-04  Пресс-релиз   \n",
       "2330 2011-09-14  Пресс-релиз   \n",
       "2489 2011-10-28  Пресс-релиз   \n",
       "2580 2011-11-25  Пресс-релиз   \n",
       "2652 2011-12-23  Пресс-релиз   \n",
       "2722 2012-02-03  Пресс-релиз   \n",
       "2802 2012-03-13  Пресс-релиз   \n",
       "2861 2012-04-09  Пресс-релиз   \n",
       "2932 2012-05-10  Пресс-релиз   \n",
       "3021 2012-06-15  Пресс-релиз   \n",
       "3098 2012-07-13  Пресс-релиз   \n",
       "3162 2012-08-10  Пресс-релиз   \n",
       "3216 2012-09-13  Пресс-релиз   \n",
       "3264 2012-10-05  Пресс-релиз   \n",
       "3338 2012-11-09  Пресс-релиз   \n",
       "3399 2012-12-10  Пресс-релиз   \n",
       "3464 2013-01-15  Пресс-релиз   \n",
       "3521 2013-02-12  Пресс-релиз   \n",
       "3586 2013-03-15  Пресс-релиз   \n",
       "3620 2013-04-02  Пресс-релиз   \n",
       "3691 2013-05-15  Пресс-релиз   \n",
       "3736 2013-06-10  Пресс-релиз   \n",
       "3807 2013-07-12  Пресс-релиз   \n",
       "3861 2013-08-09  Пресс-релиз   \n",
       "6248 2014-11-24  Пресс-релиз   \n",
       "\n",
       "                                                 header  \\\n",
       "153   О снижении ставки рефинансирования и процентны...   \n",
       "274   О снижении ставки рефинансирования и процентны...   \n",
       "395   О снижении ставки рефинансирования и процентны...   \n",
       "494   О снижении ставки рефинансирования и процентны...   \n",
       "614   О ставке рефинансирования и процентных ставках...   \n",
       "740   О ставке рефинансирования и процентных ставках...   \n",
       "956   О ставке рефинансирования и процентных ставках...   \n",
       "1088  О ставке рефинансирования и процентных ставках...   \n",
       "1198  Об уровне ставки рефинансирования и процентных...   \n",
       "1328  Об уровне ставки рефинансирования и процентных...   \n",
       "1452  О ставке рефинансирования и процентных ставках...   \n",
       "1552  О ставке рефинансирования и процентных ставках...   \n",
       "1668  О ставке рефинансирования и процентных ставках...   \n",
       "1803  О ставке рефинансирования и процентных ставках...   \n",
       "1914  О ставке рефинансирования и процентных ставках...   \n",
       "2038  О ставке рефинансирования и процентных ставках...   \n",
       "2177  О ставке рефинансирования и процентных ставках...   \n",
       "2330  О ставке рефинансирования и процентных ставках...   \n",
       "2489  О ставке рефинансирования и процентных ставках...   \n",
       "2580  О ставке рефинансирования и процентных ставках...   \n",
       "2652  О снижении ставки рефинансирования и изменении...   \n",
       "2722  О ставке рефинансирования и процентных ставках...   \n",
       "2802  О ставке рефинансирования и процентных ставках...   \n",
       "2861  О ставке рефинансирования и процентных ставках...   \n",
       "2932  О ставке рефинансирования и процентных ставках...   \n",
       "3021  О ставке рефинансирования и процентных ставках...   \n",
       "3098  О ставке рефинансирования и процентных ставках...   \n",
       "3162  О ставке рефинансирования и процентных ставках...   \n",
       "3216  О ставке рефинансирования и процентных ставках...   \n",
       "3264  О ставке рефинансирования и процентных ставках...   \n",
       "3338  О ставке рефинансирования и процентных ставках...   \n",
       "3399  О ставке рефинансирования и процентных ставках...   \n",
       "3464  О ставке рефинансирования и процентных ставках...   \n",
       "3521  О ставке рефинансирования и процентных ставках...   \n",
       "3586  О ставке рефинансирования и процентных ставках...   \n",
       "3620  О ставке рефинансирования и процентных ставках...   \n",
       "3691  О ставке рефинансирования и процентных ставках...   \n",
       "3736  О ставке рефинансирования и процентных ставках...   \n",
       "3807  О ставке рефинансирования и процентных ставках...   \n",
       "3861  О ставке рефинансирования и процентных ставках...   \n",
       "6248  О деятельности «финансовых агентов», предлагаю...   \n",
       "\n",
       "                                                   text  \\\n",
       "153   Департамент внешних и общественных связей Банк...   \n",
       "274   Департамент внешних и общественных связей Банк...   \n",
       "395   Департамент внешних и общественных связей Банк...   \n",
       "494   Департамент внешних и общественных связей Банк...   \n",
       "614   Департамент внешних и общественных связей Банк...   \n",
       "740   Департамент внешних и общественных связей Банк...   \n",
       "956   Департамент внешних и общественных связей Банк...   \n",
       "1088  Департамент внешних и общественных связей Банк...   \n",
       "1198  Департамент внешних и общественных связей Банк...   \n",
       "1328  Департамент внешних и общественных связей Банк...   \n",
       "1452  Департамент внешних и общественных связей Банк...   \n",
       "1552  Департамент внешних и общественных связей Банк...   \n",
       "1668  Департамент внешних и общественных связей Банк...   \n",
       "1803  Департамент внешних и общественных связей Банк...   \n",
       "1914  Департамент внешних и общественных связей Банк...   \n",
       "2038  Департамент внешних и общественных связей Банк...   \n",
       "2177  Департамент внешних и общественных связей Банк...   \n",
       "2330  Департамент внешних и общественных связей Банк...   \n",
       "2489  Департамент внешних и общественных связей Банк...   \n",
       "2580  Департамент внешних и общественных связей Банк...   \n",
       "2652  Департамент внешних и общественных связей Банк...   \n",
       "2722  Департамент внешних и общественных связей Банк...   \n",
       "2802  Департамент внешних и общественных связей Банк...   \n",
       "2861  Департамент внешних и общественных связей Банк...   \n",
       "2932  Департамент внешних и общественных связей Банк...   \n",
       "3021  Департамент внешних и общественных связей Банк...   \n",
       "3098  Департамент внешних и общественных связей Банк...   \n",
       "3162  Департамент внешних и общественных связей Банк...   \n",
       "3216  Департамент внешних и общественных связей Банк...   \n",
       "3264  Департамент внешних и общественных связей Банк...   \n",
       "3338  Департамент внешних и общественных связей Банк...   \n",
       "3399  Департамент внешних и общественных связей Банк...   \n",
       "3464  Департамент внешних и общественных связей Банк...   \n",
       "3521  Департамент внешних и общественных связей Банк...   \n",
       "3586  Департамент внешних и общественных связей Банк...   \n",
       "3620  Департамент внешних и общественных связей Банк...   \n",
       "3691  Департамент внешних и общественных связей Банк...   \n",
       "3736  Департамент внешних и общественных связей Банк...   \n",
       "3807  Департамент внешних и общественных связей Банк...   \n",
       "3861  Департамент внешних и общественных связей Банк...   \n",
       "6248  Банк России в целях защиты прав и законных инт...   \n",
       "\n",
       "                                                    url  \n",
       "153   http://www.cbr.ru/press/PR/?file=100219_111251...  \n",
       "274   http://www.cbr.ru/press/PR/?file=100326_113124...  \n",
       "395   http://www.cbr.ru/press/PR/?file=100429_112021...  \n",
       "494   http://www.cbr.ru/press/PR/?file=100531_172920...  \n",
       "614   http://www.cbr.ru/press/PR/?file=100630_110442...  \n",
       "740   http://www.cbr.ru/press/PR/?file=100730_113355...  \n",
       "956   http://www.cbr.ru/press/PR/?file=100928_105457...  \n",
       "1088  http://www.cbr.ru/press/PR/?file=101029_105043...  \n",
       "1198  http://www.cbr.ru/press/PR/?file=101126_105732...  \n",
       "1328  http://www.cbr.ru/press/PR/?file=101224_152719...  \n",
       "1452  http://www.cbr.ru/press/PR/?file=110131_111256...  \n",
       "1552  http://www.cbr.ru/press/PR/?file=110225_104049...  \n",
       "1668  http://www.cbr.ru/press/PR/?file=110325_105635...  \n",
       "1803  http://www.cbr.ru/press/PR/?file=110429_125302...  \n",
       "1914  http://www.cbr.ru/press/PR/?file=110530_112855...  \n",
       "2038  http://www.cbr.ru/press/PR/?file=110630_175933...  \n",
       "2177  http://www.cbr.ru/press/PR/?file=110804_111449...  \n",
       "2330  http://www.cbr.ru/press/PR/?file=110914_113417...  \n",
       "2489  http://www.cbr.ru/press/PR/?file=111028_114845...  \n",
       "2580  http://www.cbr.ru/press/PR/?file=111125_105526...  \n",
       "2652  http://www.cbr.ru/press/PR/?file=111223_114407...  \n",
       "2722  http://www.cbr.ru/press/PR/?file=120203_105025...  \n",
       "2802  http://www.cbr.ru/press/PR/?file=120313_110240...  \n",
       "2861  http://www.cbr.ru/press/PR/?file=120409_105807...  \n",
       "2932  http://www.cbr.ru/press/PR/?file=120510_110341...  \n",
       "3021  http://www.cbr.ru/press/PR/?file=120615_111532...  \n",
       "3098  http://www.cbr.ru/press/PR/?file=120713_155435...  \n",
       "3162  http://www.cbr.ru/press/PR/?file=120810_105642...  \n",
       "3216  http://www.cbr.ru/press/PR/?file=120913_174204...  \n",
       "3264  http://www.cbr.ru/press/PR/?file=121005_112515...  \n",
       "3338  http://www.cbr.ru/press/PR/?file=121109_111058...  \n",
       "3399  http://www.cbr.ru/press/PR/?file=121210_122607...  \n",
       "3464  http://www.cbr.ru/press/PR/?file=130115_115655...  \n",
       "3521  http://www.cbr.ru/press/PR/?file=130212_122155...  \n",
       "3586  http://www.cbr.ru/press/PR/?file=130315_120653...  \n",
       "3620  http://www.cbr.ru/press/PR/?file=130402_122724...  \n",
       "3691  http://www.cbr.ru/press/PR/?file=130515_160833...  \n",
       "3736  http://www.cbr.ru/press/PR/?file=130610_121514...  \n",
       "3807  http://www.cbr.ru/press/PR/?file=130712_133141...  \n",
       "3861  http://www.cbr.ru/press/PR/?file=130809_122540...  \n",
       "6248  http://www.cbr.ru/press/PR/?file=24112014_1801...  "
      ]
     },
     "execution_count": 140,
     "metadata": {},
     "output_type": "execute_result"
    }
   ],
   "source": [
    "# df[\"rate\"] = (df.type==\"Пресс-релиз\")&(df.header.str.find(\"ключев\") > -1)\n",
    "# df[(df.type==\"Пресс-релиз\")&(df.header.str.find(\"Банк России принял\") > -1)&(df.header.str.find(\"ключ\") > -1)]\n",
    "# df[(df.type==\"Пресс-релиз\")&(df.header.str.find(\"Банк России сохранил ключевую ставку\") > -1)]\n",
    "# df[(df.type==\"Пресс-релиз\")&(df.header.str.find(\"О ключевой ставке Банка России\") > -1)]\n",
    "# df[(df.type==\"Пресс-релиз\")&(df.header.str.find(\"О системе процентных инструментов денежно-кредитной политики Банка России\") > -1)]\n",
    "df[(df.type==\"Пресс-релиз\")&(df.header.str.find(\"рефинансирования и\") > -1)]"
   ]
  }
 ],
 "metadata": {
  "kernelspec": {
   "display_name": "Python 3",
   "language": "python",
   "name": "python3"
  },
  "language_info": {
   "codemirror_mode": {
    "name": "ipython",
    "version": 3
   },
   "file_extension": ".py",
   "mimetype": "text/x-python",
   "name": "python",
   "nbconvert_exporter": "python",
   "pygments_lexer": "ipython3",
   "version": "3.8.3"
  }
 },
 "nbformat": 4,
 "nbformat_minor": 4
}
