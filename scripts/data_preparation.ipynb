{
 "cells": [
  {
   "cell_type": "code",
   "execution_count": 2,
   "metadata": {},
   "outputs": [
    {
     "data": {
      "application/javascript": [
       "IPython.notebook.set_autosave_interval(60000)"
      ]
     },
     "metadata": {},
     "output_type": "display_data"
    },
    {
     "name": "stdout",
     "output_type": "stream",
     "text": [
      "Autosaving every 60 seconds\n"
     ]
    }
   ],
   "source": [
    "%autosave 60"
   ]
  },
  {
   "cell_type": "code",
   "execution_count": 3,
   "metadata": {},
   "outputs": [],
   "source": [
    "import os\n",
    "import sys\n",
    "import time\n",
    "import requests\n",
    "import datetime\n",
    "import numpy as np\n",
    "import pandas as pd\n",
    "from dateutil.relativedelta import *\n",
    "from tqdm import tqdm\n",
    "from bs4 import BeautifulSoup\n",
    "from selenium import webdriver\n",
    "from selenium.webdriver import Chrome\n",
    "from selenium.webdriver.chrome.service import Service\n",
    "from webdriver_manager.chrome import ChromeDriverManager\n",
    "from selenium.webdriver.common.by import By"
   ]
  },
  {
   "cell_type": "code",
   "execution_count": 4,
   "metadata": {},
   "outputs": [],
   "source": [
    "months = dict(zip(['августа',\n",
    " 'апреля',  'декабря',  'июля',\n",
    " 'июня',  'марта',  'мая',\n",
    " 'ноября',  'октября',  'сентября',\n",
    " 'февраля',  'января'], [8, 4, 12, 7, 6, 3, 5, 11, 10, 9, 2, 1]))"
   ]
  },
  {
   "cell_type": "code",
   "execution_count": 5,
   "metadata": {},
   "outputs": [
    {
     "name": "stderr",
     "output_type": "stream",
     "text": [
      "\n",
      "\n",
      "====== WebDriver manager ======\n",
      "Current google-chrome version is 98.0.4758\n",
      "Get LATEST chromedriver version for 98.0.4758 google-chrome\n",
      "Trying to download new driver from https://chromedriver.storage.googleapis.com/98.0.4758.102/chromedriver_win32.zip\n",
      "Driver has been saved in cache [C:\\Users\\User\\.wdm\\drivers\\chromedriver\\win32\\98.0.4758.102]\n"
     ]
    }
   ],
   "source": [
    "s=Service(ChromeDriverManager().install())"
   ]
  },
  {
   "cell_type": "code",
   "execution_count": 7,
   "metadata": {},
   "outputs": [],
   "source": [
    "# !\"{sys.executable}\" -m pip install --upgrade webdriver_manager"
   ]
  },
  {
   "cell_type": "code",
   "execution_count": 8,
   "metadata": {},
   "outputs": [],
   "source": [
    "# # Read already gathered data\n",
    "\n",
    "# df_first_articles = pd.DataFrame()\n",
    "# for i in os.listdir(os.getcwd()):\n",
    "#     if i.find(\".csv\") > -1:\n",
    "#         df_temp = pd.read_csv(i, sep=\";\")        \n",
    "#         df_first_articles = pd.concat([df_first_articles, df_temp], sort=True)\n",
    "# df_first_articles.columns=[\"num\", \"datestr\", \"type\", \"header\", \"text\", \"url\"]\n",
    "# df_first_articles = df_first_articles.sort_values(by=['num']).reset_index(drop=True)"
   ]
  },
  {
   "cell_type": "markdown",
   "metadata": {},
   "source": [
    "## Часть 1: парсим новый сайт ЦБ\n",
    "### Выгрузка пресс-релизов, новостей и выступлений\n",
    "https://www.cbr.ru/"
   ]
  },
  {
   "cell_type": "code",
   "execution_count": 105,
   "metadata": {},
   "outputs": [],
   "source": [
    "# Create two windows: one with the main site and one for sub-windows\n",
    "\n",
    "url = \"https://www.cbr.ru/\"\n",
    "\n",
    "driver_base = webdriver.Chrome(service=s)\n",
    "driver_base.maximize_window()\n",
    "driver_base.get(url)\n",
    "parent_tab = driver_base.window_handles[0]\n",
    "\n",
    "driver_runner1 = webdriver.Chrome(service=s)\n",
    "driver_runner1.maximize_window()"
   ]
  },
  {
   "cell_type": "code",
   "execution_count": 106,
   "metadata": {},
   "outputs": [],
   "source": [
    "# Собираем в 4 этапа: \n",
    "# Новости\n",
    "# Пресс-релизы\n",
    "# Интервью - не нужно\n",
    "# Выступления\n",
    "\n",
    "# Так как приходится кликать разделы вручную :(\n",
    "# Запустить кликер -> считать категорию -> обновить страницу -> повторить"
   ]
  },
  {
   "cell_type": "code",
   "execution_count": 110,
   "metadata": {},
   "outputs": [],
   "source": [
    "def parse_by_type(articles_headers, articles_links):\n",
    "    counter = 0\n",
    "    articles = []\n",
    "    exception_articles = []\n",
    "    for header, link in tqdm(zip(articles_headers, articles_links)):\n",
    "        counter += 1\n",
    "        try:\n",
    "            article_type = header.text.split(\"\\n\")[-1]\n",
    "            article_url = link.get_attribute(name='href')\n",
    "            driver_runner1.get(article_url)\n",
    "            article_date = driver_runner1.find_elements(By.TAG_NAME, value='.news-info-line_date')[0].text\n",
    "            article_text = [a.text for a in driver_runner1.find_elements(By.TAG_NAME, value='p')]\n",
    "            articles.append([counter, article_date, article_type, link.text, \"\\n\".join(article_text).strip(), article_url])\n",
    "        except Exception as e:\n",
    "            print(\"Problem!\")\n",
    "            exception_articles.append((header, link))  \n",
    "    return articles, exception_articles"
   ]
  },
  {
   "cell_type": "code",
   "execution_count": 207,
   "metadata": {},
   "outputs": [
    {
     "name": "stdout",
     "output_type": "stream",
     "text": [
      "list index out of range\n",
      "End reached!\n",
      "Wall time: 1.44 s\n"
     ]
    }
   ],
   "source": [
    "%%time\n",
    "\n",
    "# Clicker!\n",
    "# Click all buttons \"Загрузить ещё\" to get all the news in one window\n",
    "\n",
    "try:\n",
    "    while True:\n",
    "        buttons = driver_base.find_elements(By.TAG_NAME, value='#_buttonLoadNextEvt')\n",
    "        button = [i for i in buttons if i.text == 'Загрузить еще']\n",
    "        button[0].click()\n",
    "except Exception as e:\n",
    "    print(e)\n",
    "    print(\"End reached!\")"
   ]
  },
  {
   "cell_type": "code",
   "execution_count": 108,
   "metadata": {},
   "outputs": [
    {
     "name": "stdout",
     "output_type": "stream",
     "text": [
      "1020 1020\n"
     ]
    }
   ],
   "source": [
    "news_headers = driver_base.find_elements(By.TAG_NAME, value='.news_info')\n",
    "news_links = driver_base.find_elements(By.TAG_NAME, value='.news_title')\n",
    "print(len(news_headers), len(news_links))"
   ]
  },
  {
   "cell_type": "code",
   "execution_count": 111,
   "metadata": {},
   "outputs": [
    {
     "name": "stderr",
     "output_type": "stream",
     "text": [
      "1020it [13:22,  1.27it/s]\n"
     ]
    }
   ],
   "source": [
    "news_articles, news_exc = parse_by_type(news_headers, news_links)\n",
    "\n",
    "df_news_new = pd.DataFrame(news_articles)\n",
    "df_news_new = df_news_new[df_news_new[2] != \"\"].reset_index(drop=True)\n",
    "df_news_new[0] = df_news_new[0] - 20"
   ]
  },
  {
   "cell_type": "code",
   "execution_count": 153,
   "metadata": {},
   "outputs": [
    {
     "name": "stdout",
     "output_type": "stream",
     "text": [
      "1020 1020\n"
     ]
    }
   ],
   "source": [
    "pr_headers = driver_base.find_elements(By.TAG_NAME, value='.news_info')\n",
    "pr_links = driver_base.find_elements(By.TAG_NAME, value='.news_title')\n",
    "print(len(pr_headers), len(pr_links))"
   ]
  },
  {
   "cell_type": "code",
   "execution_count": 201,
   "metadata": {},
   "outputs": [],
   "source": [
    "pr_articles, pr_exc = parse_by_type(pr_headers, pr_links)\n",
    "\n",
    "df_pr_new = pd.DataFrame(pr_articles)\n",
    "df_pr_new = df_pr_new[df_pr_new[2] != \"\"].reset_index(drop=True)\n",
    "df_pr_new[0] = df_pr_new[0] - 20"
   ]
  },
  {
   "cell_type": "code",
   "execution_count": 205,
   "metadata": {},
   "outputs": [],
   "source": [
    "a = df_pr_new.reset_index().iloc[720:]\n",
    "a[a['index'] != a[0] -2]\n",
    "df_pr_new.iloc[740:760]\n",
    "# header, link = pr_exc[1]\n",
    "\n",
    "# article_type = header.text.split(\"\\n\")[-1]\n",
    "# article_url = link.get_attribute(name='href')\n",
    "# driver_runner1.get(article_url)\n",
    "# # article_date = driver_runner1.find_elements(By.TAG_NAME, value='.news-info-line_date')[0].text\n",
    "# article_text = [a.text for a in driver_runner1.find_elements(By.TAG_NAME, value='p')]\n",
    "# article_date = \"11 марта 2020 года\"\n",
    "\n",
    "# df_pr_new = df_pr_new.append([[760, article_date, article_type, link.text, \"\\n\".join(article_text).strip(), article_url]])\n",
    "# df_pr_new = df_pr_new.sort_values(by=[0]).reset_index(drop=True)"
   ]
  },
  {
   "cell_type": "code",
   "execution_count": 208,
   "metadata": {},
   "outputs": [
    {
     "name": "stdout",
     "output_type": "stream",
     "text": [
      "153 153\n"
     ]
    }
   ],
   "source": [
    "speech_headers = driver_base.find_elements(By.TAG_NAME, value='.news_info')\n",
    "speech_links = driver_base.find_elements(By.TAG_NAME, value='.news_title')\n",
    "print(len(speech_headers), len(speech_links))"
   ]
  },
  {
   "cell_type": "code",
   "execution_count": 209,
   "metadata": {},
   "outputs": [
    {
     "name": "stderr",
     "output_type": "stream",
     "text": [
      "153it [05:55,  2.32s/it]\n"
     ]
    }
   ],
   "source": [
    "speech_articles, speech_exc = parse_by_type(speech_headers, speech_links)"
   ]
  },
  {
   "cell_type": "code",
   "execution_count": 213,
   "metadata": {},
   "outputs": [],
   "source": [
    "df_speech_new = pd.DataFrame(speech_articles)\n",
    "df_speech_new = df_speech_new[df_speech_new[2] != \"\"].reset_index(drop=True)\n",
    "df_speech_new[0] = df_speech_new[0] - 20"
   ]
  },
  {
   "cell_type": "code",
   "execution_count": null,
   "metadata": {},
   "outputs": [],
   "source": [
    "df_new = pd.DataFrame()\n",
    "for df_articles_temp, name in zip([df_news_new, df_pr_new, df_speech_new], [\"news\",\"press_rel\",\"speech\"]):\n",
    "    df_articles_temp.to_csv(f\"{name}_new.csv\", \n",
    "                            encoding=\"utf-8\", sep=\";\", index=False)\n",
    "    df_new = pd.concat([df_new, df_articles_temp])\n",
    "df_new.columns=[\"num\", \"datestr\", \"type\", \"header\", \"text\", \"url\"]\n",
    "df_new = df_new.drop(columns=['num'])\n",
    "df_new = df_new.reset_index(drop=True)"
   ]
  },
  {
   "cell_type": "markdown",
   "metadata": {},
   "source": [
    "### Здесь можно забрать готовые данные"
   ]
  },
  {
   "cell_type": "code",
   "execution_count": 9,
   "metadata": {},
   "outputs": [],
   "source": [
    "df_new = pd.DataFrame()\n",
    "for name in [\"news\",\"press_rel\",\"speech\"]:\n",
    "    df_articles_temp = pd.read_csv(f\"{name}_new.csv\", \n",
    "                            encoding=\"utf-8\", sep=\";\")\n",
    "    df_new = pd.concat([df_new, df_articles_temp])\n",
    "df_new.columns=[\"num\", \"datestr\", \"type\", \"header\", \"text\", \"url\"]\n",
    "df_new = df_new.drop(columns=['num'])\n",
    "df_new = df_new.reset_index(drop=True)\n",
    "\n",
    "df_new['date'] = [f\"{i[0]}-{months[i[1]]}-{i[2]}\" for i in df_new.datestr.str.split().tolist()]\n",
    "df_new['date'] = pd.to_datetime(df_new['date'], format='%d-%m-%Y')"
   ]
  },
  {
   "cell_type": "code",
   "execution_count": 10,
   "metadata": {},
   "outputs": [
    {
     "data": {
      "text/html": [
       "<div>\n",
       "<style scoped>\n",
       "    .dataframe tbody tr th:only-of-type {\n",
       "        vertical-align: middle;\n",
       "    }\n",
       "\n",
       "    .dataframe tbody tr th {\n",
       "        vertical-align: top;\n",
       "    }\n",
       "\n",
       "    .dataframe thead th {\n",
       "        text-align: right;\n",
       "    }\n",
       "</style>\n",
       "<table border=\"1\" class=\"dataframe\">\n",
       "  <thead>\n",
       "    <tr style=\"text-align: right;\">\n",
       "      <th></th>\n",
       "      <th>datestr</th>\n",
       "      <th>type</th>\n",
       "      <th>header</th>\n",
       "      <th>text</th>\n",
       "      <th>url</th>\n",
       "      <th>date</th>\n",
       "    </tr>\n",
       "  </thead>\n",
       "  <tbody>\n",
       "    <tr>\n",
       "      <th>0</th>\n",
       "      <td>21 февраля 2022 года</td>\n",
       "      <td>Новость</td>\n",
       "      <td>Объем средств на счетах эскроу в долевом строи...</td>\n",
       "      <td>Объем средств, размещенных участниками долевог...</td>\n",
       "      <td>https://www.cbr.ru/press/event/?id=12705</td>\n",
       "      <td>2022-02-21</td>\n",
       "    </tr>\n",
       "    <tr>\n",
       "      <th>1</th>\n",
       "      <td>17 февраля 2022 года</td>\n",
       "      <td>Новость</td>\n",
       "      <td>Мониторинг отраслевых финансовых потоков: рост...</td>\n",
       "      <td>Динамика отраслевых финансовых потоков указыва...</td>\n",
       "      <td>https://www.cbr.ru/press/event/?id=12702</td>\n",
       "      <td>2022-02-17</td>\n",
       "    </tr>\n",
       "    <tr>\n",
       "      <th>2</th>\n",
       "      <td>17 февраля 2022 года</td>\n",
       "      <td>Новость</td>\n",
       "      <td>В январе инфляция ускорилась в большинстве рег...</td>\n",
       "      <td>Годовая инфляция в январе находилась в диапазо...</td>\n",
       "      <td>https://www.cbr.ru/press/event/?id=12701</td>\n",
       "      <td>2022-02-17</td>\n",
       "    </tr>\n",
       "    <tr>\n",
       "      <th>3</th>\n",
       "      <td>17 февраля 2022 года</td>\n",
       "      <td>Новость</td>\n",
       "      <td>Банк России разработал детскую игру о признака...</td>\n",
       "      <td>Игра «Космический детектив: тайна семи банкнот...</td>\n",
       "      <td>https://www.cbr.ru/press/event/?id=12698</td>\n",
       "      <td>2022-02-17</td>\n",
       "    </tr>\n",
       "    <tr>\n",
       "      <th>4</th>\n",
       "      <td>16 февраля 2022 года</td>\n",
       "      <td>Новость</td>\n",
       "      <td>В 2021 году Банк России выявил почти 2,7 тысяч...</td>\n",
       "      <td>Среди них 871 финансовая пирамида (в 2020 году...</td>\n",
       "      <td>https://www.cbr.ru/press/event/?id=12695</td>\n",
       "      <td>2022-02-16</td>\n",
       "    </tr>\n",
       "  </tbody>\n",
       "</table>\n",
       "</div>"
      ],
      "text/plain": [
       "                datestr     type  \\\n",
       "0  21 февраля 2022 года  Новость   \n",
       "1  17 февраля 2022 года  Новость   \n",
       "2  17 февраля 2022 года  Новость   \n",
       "3  17 февраля 2022 года  Новость   \n",
       "4  16 февраля 2022 года  Новость   \n",
       "\n",
       "                                              header  \\\n",
       "0  Объем средств на счетах эскроу в долевом строи...   \n",
       "1  Мониторинг отраслевых финансовых потоков: рост...   \n",
       "2  В январе инфляция ускорилась в большинстве рег...   \n",
       "3  Банк России разработал детскую игру о признака...   \n",
       "4  В 2021 году Банк России выявил почти 2,7 тысяч...   \n",
       "\n",
       "                                                text  \\\n",
       "0  Объем средств, размещенных участниками долевог...   \n",
       "1  Динамика отраслевых финансовых потоков указыва...   \n",
       "2  Годовая инфляция в январе находилась в диапазо...   \n",
       "3  Игра «Космический детектив: тайна семи банкнот...   \n",
       "4  Среди них 871 финансовая пирамида (в 2020 году...   \n",
       "\n",
       "                                        url       date  \n",
       "0  https://www.cbr.ru/press/event/?id=12705 2022-02-21  \n",
       "1  https://www.cbr.ru/press/event/?id=12702 2022-02-17  \n",
       "2  https://www.cbr.ru/press/event/?id=12701 2022-02-17  \n",
       "3  https://www.cbr.ru/press/event/?id=12698 2022-02-17  \n",
       "4  https://www.cbr.ru/press/event/?id=12695 2022-02-16  "
      ]
     },
     "execution_count": 10,
     "metadata": {},
     "output_type": "execute_result"
    }
   ],
   "source": [
    "df_new.head()"
   ]
  },
  {
   "cell_type": "code",
   "execution_count": 11,
   "metadata": {},
   "outputs": [
    {
     "data": {
      "text/plain": [
       "datestr                                  1 августа 2019 года\n",
       "type                                             Пресс-релиз\n",
       "header     А. Данилов назначен директором Департамента об...\n",
       "text       1. В целях применения абзаца второго и третьег...\n",
       "url        https://www.cbr.ru/press/pr/?file=01022021_084...\n",
       "date                                     2019-07-17 00:00:00\n",
       "dtype: object"
      ]
     },
     "execution_count": 11,
     "metadata": {},
     "output_type": "execute_result"
    }
   ],
   "source": [
    "df_new[df_new.type == \"Пресс-релиз\"].min()"
   ]
  },
  {
   "cell_type": "markdown",
   "metadata": {},
   "source": [
    "## Часть 2: парсим старый сайт ЦБ\n",
    "### Выгрузка пресс-релизов, новостей и выступлений\n",
    "http://old.cbr.ru/press/"
   ]
  },
  {
   "cell_type": "code",
   "execution_count": 48,
   "metadata": {},
   "outputs": [],
   "source": [
    "url = \"http://old.cbr.ru/press/month_archive/press_archive/\"\n",
    "\n",
    "driver_base = webdriver.Chrome(service=s)\n",
    "driver_base.maximize_window()\n",
    "driver_base.get(url)\n",
    "parent_tab = driver_base.window_handles[0]\n",
    "\n",
    "driver_runner1 = webdriver.Chrome(service=s)\n",
    "driver_runner1.maximize_window()"
   ]
  },
  {
   "cell_type": "code",
   "execution_count": 49,
   "metadata": {},
   "outputs": [],
   "source": [
    "start_date = datetime.date(2010, 1, 1)\n",
    "end_date = datetime.date(2019, 7, 16)"
   ]
  },
  {
   "cell_type": "code",
   "execution_count": 51,
   "metadata": {
    "collapsed": true
   },
   "outputs": [
    {
     "name": "stdout",
     "output_type": "stream",
     "text": [
      "2010-01-01  -  2010-01-31\n"
     ]
    },
    {
     "name": "stderr",
     "output_type": "stream",
     "text": [
      "0it [00:00, ?it/s]\n",
      "15it [00:00, 98.01it/s]\n",
      "29it [00:00, 101.56it/s]\n",
      "5it [00:00, 102.82it/s]\n",
      "26it [00:00, 106.28it/s]\n"
     ]
    },
    {
     "name": "stdout",
     "output_type": "stream",
     "text": [
      "2010-02-01  -  2010-02-28\n"
     ]
    },
    {
     "name": "stderr",
     "output_type": "stream",
     "text": [
      "28it [00:00, 99.64it/s]\n",
      "29it [00:00, 101.26it/s]\n",
      "26it [00:00, 107.92it/s]\n",
      "5it [00:00, 87.72it/s]\n",
      "24it [00:00, 100.62it/s]\n"
     ]
    },
    {
     "name": "stdout",
     "output_type": "stream",
     "text": [
      "2010-03-01  -  2010-03-31\n"
     ]
    },
    {
     "name": "stderr",
     "output_type": "stream",
     "text": [
      "26it [00:00, 55.63it/s]\n",
      "18it [00:00, 99.24it/s]\n",
      "25it [00:00, 104.37it/s]\n",
      "13it [00:00, 112.27it/s]\n",
      "30it [00:00, 89.50it/s] \n"
     ]
    },
    {
     "name": "stdout",
     "output_type": "stream",
     "text": [
      "2010-04-01  -  2010-04-30\n"
     ]
    },
    {
     "name": "stderr",
     "output_type": "stream",
     "text": [
      "26it [00:00, 109.68it/s]\n",
      "24it [00:00, 105.59it/s]\n",
      "22it [00:00, 54.14it/s]\n",
      "10it [00:00, 107.45it/s]\n",
      "27it [00:00, 107.25it/s]\n"
     ]
    },
    {
     "name": "stdout",
     "output_type": "stream",
     "text": [
      "2010-05-01  -  2010-05-31\n"
     ]
    },
    {
     "name": "stderr",
     "output_type": "stream",
     "text": [
      "16it [00:00, 65.57it/s]\n",
      "20it [00:00, 107.05it/s]\n",
      "24it [00:00, 113.74it/s]\n",
      "4it [00:00, 102.13it/s]\n",
      "29it [00:00, 116.48it/s]\n"
     ]
    },
    {
     "name": "stdout",
     "output_type": "stream",
     "text": [
      "2010-06-01  -  2010-06-30\n"
     ]
    },
    {
     "name": "stderr",
     "output_type": "stream",
     "text": [
      "27it [00:00, 106.80it/s]\n",
      "21it [00:00, 90.15it/s]\n",
      "30it [00:00, 106.38it/s]\n",
      "17it [00:00, 97.12it/s]\n",
      "25it [00:00, 101.63it/s]\n"
     ]
    },
    {
     "name": "stdout",
     "output_type": "stream",
     "text": [
      "2010-07-01  -  2010-07-31\n"
     ]
    },
    {
     "name": "stderr",
     "output_type": "stream",
     "text": [
      "28it [00:00, 106.18it/s]\n",
      "30it [00:00, 84.51it/s] \n",
      "30it [00:00, 111.94it/s]\n",
      "11it [00:00, 111.11it/s]\n",
      "27it [00:00, 113.73it/s]\n"
     ]
    },
    {
     "name": "stdout",
     "output_type": "stream",
     "text": [
      "2010-08-01  -  2010-08-31\n"
     ]
    },
    {
     "name": "stderr",
     "output_type": "stream",
     "text": [
      "25it [00:00, 113.09it/s]\n",
      "26it [00:00, 110.24it/s]\n",
      "27it [00:00, 103.07it/s]\n",
      "8it [00:00, 103.89it/s]\n",
      "25it [00:00, 114.16it/s]\n"
     ]
    },
    {
     "name": "stdout",
     "output_type": "stream",
     "text": [
      "2010-09-01  -  2010-09-30\n"
     ]
    },
    {
     "name": "stderr",
     "output_type": "stream",
     "text": [
      "29it [00:00, 104.64it/s]\n",
      "26it [00:00, 108.79it/s]\n",
      "25it [00:00, 104.69it/s]\n",
      "13it [00:00, 106.63it/s]\n",
      "29it [00:00, 107.59it/s]\n"
     ]
    },
    {
     "name": "stdout",
     "output_type": "stream",
     "text": [
      "2010-10-01  -  2010-10-31\n"
     ]
    },
    {
     "name": "stderr",
     "output_type": "stream",
     "text": [
      "27it [00:00, 88.96it/s]\n",
      "23it [00:00, 106.98it/s]\n",
      "33it [00:00, 98.51it/s]\n",
      "6it [00:00, 80.00it/s]\n",
      "30it [00:00, 77.52it/s]\n"
     ]
    },
    {
     "name": "stdout",
     "output_type": "stream",
     "text": [
      "2010-11-01  -  2010-11-30\n"
     ]
    },
    {
     "name": "stderr",
     "output_type": "stream",
     "text": [
      "24it [00:00, 85.11it/s]\n",
      "26it [00:00, 77.84it/s]\n",
      "24it [00:00, 70.80it/s]\n",
      "21it [00:00, 78.65it/s]\n",
      "17it [00:00, 98.36it/s]\n"
     ]
    },
    {
     "name": "stdout",
     "output_type": "stream",
     "text": [
      "2010-12-01  -  2010-12-31\n"
     ]
    },
    {
     "name": "stderr",
     "output_type": "stream",
     "text": [
      "30it [00:00, 101.14it/s]\n",
      "35it [00:00, 102.53it/s]\n",
      "42it [00:00, 94.31it/s]\n",
      "17it [00:00, 90.65it/s]\n",
      "36it [00:00, 87.59it/s]\n"
     ]
    },
    {
     "name": "stdout",
     "output_type": "stream",
     "text": [
      "2011-01-01  -  2011-01-31\n"
     ]
    },
    {
     "name": "stderr",
     "output_type": "stream",
     "text": [
      "0it [00:00, ?it/s]\n",
      "24it [00:00, 85.41it/s]\n",
      "33it [00:00, 97.51it/s]\n",
      "7it [00:00, 95.89it/s]\n",
      "23it [00:00, 100.61it/s]\n"
     ]
    },
    {
     "name": "stdout",
     "output_type": "stream",
     "text": [
      "2011-02-01  -  2011-02-28\n"
     ]
    },
    {
     "name": "stderr",
     "output_type": "stream",
     "text": [
      "26it [00:00, 99.13it/s]\n",
      "30it [00:00, 102.03it/s]\n",
      "26it [00:00, 101.96it/s]\n",
      "12it [00:00, 103.13it/s]\n",
      "11it [00:00, 101.83it/s]\n"
     ]
    },
    {
     "name": "stdout",
     "output_type": "stream",
     "text": [
      "2011-03-01  -  2011-03-31\n"
     ]
    },
    {
     "name": "stderr",
     "output_type": "stream",
     "text": [
      "28it [00:00, 79.23it/s]\n",
      "31it [00:00, 74.03it/s]\n",
      "26it [00:00, 112.55it/s]\n",
      "20it [00:00, 108.62it/s]\n",
      "27it [00:00, 105.14it/s]\n"
     ]
    },
    {
     "name": "stdout",
     "output_type": "stream",
     "text": [
      "2011-04-01  -  2011-04-30\n"
     ]
    },
    {
     "name": "stderr",
     "output_type": "stream",
     "text": [
      "23it [00:00, 91.63it/s]\n",
      "23it [00:00, 100.00it/s]\n",
      "32it [00:00, 96.17it/s]\n",
      "5it [00:00, 99.92it/s]\n",
      "33it [00:00, 101.87it/s]\n"
     ]
    },
    {
     "name": "stdout",
     "output_type": "stream",
     "text": [
      "2011-05-01  -  2011-05-31\n"
     ]
    },
    {
     "name": "stderr",
     "output_type": "stream",
     "text": [
      "29it [00:00, 108.01it/s]\n",
      "19it [00:00, 103.97it/s]\n",
      "28it [00:00, 107.67it/s]\n",
      "13it [00:00, 104.28it/s]\n",
      "24it [00:00, 105.38it/s]\n"
     ]
    },
    {
     "name": "stdout",
     "output_type": "stream",
     "text": [
      "2011-06-01  -  2011-06-30\n"
     ]
    },
    {
     "name": "stderr",
     "output_type": "stream",
     "text": [
      "27it [00:00, 102.63it/s]\n",
      "22it [00:00, 113.99it/s]\n",
      "30it [00:00, 73.71it/s]\n",
      "21it [00:00, 109.95it/s]\n",
      "21it [00:00, 107.69it/s]\n"
     ]
    },
    {
     "name": "stdout",
     "output_type": "stream",
     "text": [
      "2011-07-01  -  2011-07-31\n"
     ]
    },
    {
     "name": "stderr",
     "output_type": "stream",
     "text": [
      "28it [00:00, 98.08it/s]\n",
      "33it [00:00, 90.05it/s]\n",
      "26it [00:00, 97.62it/s] \n",
      "4it [00:00, 97.90it/s]\n",
      "25it [00:00, 102.53it/s]\n"
     ]
    },
    {
     "name": "stdout",
     "output_type": "stream",
     "text": [
      "2011-08-01  -  2011-08-31\n"
     ]
    },
    {
     "name": "stderr",
     "output_type": "stream",
     "text": [
      "28it [00:00, 99.99it/s]\n",
      "28it [00:00, 98.49it/s]\n",
      "24it [00:00, 99.44it/s] \n",
      "13it [00:00, 93.24it/s]\n",
      "28it [00:00, 102.81it/s]\n"
     ]
    },
    {
     "name": "stdout",
     "output_type": "stream",
     "text": [
      "2011-09-01  -  2011-09-30\n"
     ]
    },
    {
     "name": "stderr",
     "output_type": "stream",
     "text": [
      "25it [00:00, 103.87it/s]\n",
      "28it [00:00, 101.08it/s]\n",
      "24it [00:00, 100.86it/s]\n",
      "8it [00:00, 100.23it/s]\n",
      "34it [00:00, 106.58it/s]\n"
     ]
    },
    {
     "name": "stdout",
     "output_type": "stream",
     "text": [
      "2011-10-01  -  2011-10-31\n"
     ]
    },
    {
     "name": "stderr",
     "output_type": "stream",
     "text": [
      "24it [00:00, 103.46it/s]\n",
      "25it [00:00, 104.05it/s]\n",
      "21it [00:00, 101.54it/s]\n",
      "6it [00:00, 105.52it/s]\n",
      "20it [00:00, 92.59it/s]\n"
     ]
    },
    {
     "name": "stdout",
     "output_type": "stream",
     "text": [
      "2011-11-01  -  2011-11-30\n"
     ]
    },
    {
     "name": "stderr",
     "output_type": "stream",
     "text": [
      "27it [00:00, 107.00it/s]\n",
      "26it [00:00, 106.67it/s]\n",
      "19it [00:00, 102.70it/s]\n",
      "11it [00:00, 104.19it/s]\n",
      "16it [00:00, 104.75it/s]\n"
     ]
    },
    {
     "name": "stdout",
     "output_type": "stream",
     "text": [
      "2011-12-01  -  2011-12-31\n"
     ]
    },
    {
     "name": "stderr",
     "output_type": "stream",
     "text": [
      "13it [00:00, 104.00it/s]\n",
      "20it [00:00, 102.97it/s]\n",
      "20it [00:00, 106.86it/s]\n",
      "6it [00:00, 103.39it/s]\n",
      "20it [00:00, 102.00it/s]\n"
     ]
    },
    {
     "name": "stdout",
     "output_type": "stream",
     "text": [
      "2012-01-01  -  2012-01-31\n"
     ]
    },
    {
     "name": "stderr",
     "output_type": "stream",
     "text": [
      "0it [00:00, ?it/s]\n",
      "11it [00:00, 100.41it/s]\n",
      "11it [00:00, 64.18it/s]\n",
      "7it [00:00, 112.90it/s]\n",
      "12it [00:00, 96.07it/s]\n"
     ]
    },
    {
     "name": "stdout",
     "output_type": "stream",
     "text": [
      "2012-02-01  -  2012-02-29\n"
     ]
    },
    {
     "name": "stderr",
     "output_type": "stream",
     "text": [
      "14it [00:00, 106.06it/s]\n",
      "15it [00:00, 104.17it/s]\n",
      "14it [00:00, 104.48it/s]\n",
      "6it [00:00, 102.95it/s]\n",
      "14it [00:00, 57.39it/s]\n"
     ]
    },
    {
     "name": "stdout",
     "output_type": "stream",
     "text": [
      "2012-03-01  -  2012-03-31\n"
     ]
    },
    {
     "name": "stderr",
     "output_type": "stream",
     "text": [
      "18it [00:00, 104.65it/s]\n",
      "14it [00:00, 103.85it/s]\n",
      "10it [00:00, 102.97it/s]\n",
      "5it [00:00, 90.91it/s]\n",
      "16it [00:00, 104.65it/s]\n"
     ]
    },
    {
     "name": "stdout",
     "output_type": "stream",
     "text": [
      "2012-04-01  -  2012-04-30\n"
     ]
    },
    {
     "name": "stderr",
     "output_type": "stream",
     "text": [
      "18it [00:00, 107.12it/s]\n",
      "22it [00:00, 106.58it/s]\n",
      "15it [00:00, 104.89it/s]\n",
      "7it [00:00, 106.06it/s]\n",
      "15it [00:00, 103.45it/s]\n"
     ]
    },
    {
     "name": "stdout",
     "output_type": "stream",
     "text": [
      "2012-05-01  -  2012-05-31\n"
     ]
    },
    {
     "name": "stderr",
     "output_type": "stream",
     "text": [
      "13it [00:00, 77.32it/s]\n",
      "12it [00:00, 103.92it/s]\n",
      "22it [00:00, 99.47it/s] \n",
      "14it [00:00, 106.06it/s]\n",
      "17it [00:00, 103.66it/s]\n"
     ]
    },
    {
     "name": "stdout",
     "output_type": "stream",
     "text": [
      "2012-06-01  -  2012-06-30\n"
     ]
    },
    {
     "name": "stderr",
     "output_type": "stream",
     "text": [
      "11it [00:00, 90.09it/s]\n",
      "12it [00:00, 105.21it/s]\n",
      "20it [00:00, 109.57it/s]\n",
      "6it [00:00, 97.82it/s]\n",
      "25it [00:00, 100.83it/s]\n"
     ]
    },
    {
     "name": "stdout",
     "output_type": "stream",
     "text": [
      "2012-07-01  -  2012-07-31\n"
     ]
    },
    {
     "name": "stderr",
     "output_type": "stream",
     "text": [
      "10it [00:00, 110.67it/s]\n",
      "21it [00:00, 107.71it/s]\n",
      "14it [00:00, 106.52it/s]\n",
      "6it [00:00, 76.66it/s]\n",
      "13it [00:00, 107.43it/s]\n"
     ]
    },
    {
     "name": "stdout",
     "output_type": "stream",
     "text": [
      "2012-08-01  -  2012-08-31\n"
     ]
    },
    {
     "name": "stderr",
     "output_type": "stream",
     "text": [
      "17it [00:00, 100.46it/s]\n",
      "15it [00:00, 106.09it/s]\n",
      "12it [00:00, 102.55it/s]\n",
      "9it [00:00, 108.70it/s]\n",
      "13it [00:00, 105.69it/s]\n"
     ]
    },
    {
     "name": "stdout",
     "output_type": "stream",
     "text": [
      "2012-09-01  -  2012-09-30\n"
     ]
    },
    {
     "name": "stderr",
     "output_type": "stream",
     "text": [
      "10it [00:00, 104.17it/s]\n",
      "13it [00:00, 106.92it/s]\n",
      "13it [00:00, 98.50it/s]\n",
      "3it [00:00, 96.66it/s]\n",
      "12it [00:00, 103.86it/s]\n"
     ]
    },
    {
     "name": "stdout",
     "output_type": "stream",
     "text": [
      "2012-10-01  -  2012-10-31\n"
     ]
    },
    {
     "name": "stderr",
     "output_type": "stream",
     "text": [
      "18it [00:00, 102.84it/s]\n",
      "14it [00:00, 117.65it/s]\n",
      "13it [00:00, 92.82it/s]\n",
      "5it [00:00, 94.32it/s]\n",
      "14it [00:00, 104.12it/s]\n"
     ]
    },
    {
     "name": "stdout",
     "output_type": "stream",
     "text": [
      "2012-11-01  -  2012-11-30\n"
     ]
    },
    {
     "name": "stderr",
     "output_type": "stream",
     "text": [
      "16it [00:00, 96.01it/s]\n",
      "16it [00:00, 99.74it/s]\n",
      "9it [00:00, 98.23it/s]\n",
      "4it [00:00, 85.06it/s]\n",
      "16it [00:00, 97.04it/s]\n"
     ]
    },
    {
     "name": "stdout",
     "output_type": "stream",
     "text": [
      "2012-12-01  -  2012-12-31\n"
     ]
    },
    {
     "name": "stderr",
     "output_type": "stream",
     "text": [
      "20it [00:00, 108.45it/s]\n",
      "13it [00:00, 105.19it/s]\n",
      "18it [00:00, 99.18it/s]\n",
      "1it [00:00, 111.10it/s]\n",
      "22it [00:00, 96.27it/s]\n"
     ]
    },
    {
     "name": "stdout",
     "output_type": "stream",
     "text": [
      "2013-01-01  -  2013-01-31\n"
     ]
    },
    {
     "name": "stderr",
     "output_type": "stream",
     "text": [
      "0it [00:00, ?it/s]\n",
      "13it [00:00, 90.91it/s]\n",
      "15it [00:00, 94.34it/s]\n",
      "7it [00:00, 53.52it/s]\n",
      "13it [00:00, 98.82it/s]\n"
     ]
    },
    {
     "name": "stdout",
     "output_type": "stream",
     "text": [
      "2013-02-01  -  2013-02-28\n"
     ]
    },
    {
     "name": "stderr",
     "output_type": "stream",
     "text": [
      "17it [00:00, 96.59it/s] \n",
      "13it [00:00, 89.66it/s]\n",
      "13it [00:00, 82.28it/s]\n",
      "2it [00:00, 83.34it/s]\n",
      "12it [00:00, 96.78it/s]\n"
     ]
    },
    {
     "name": "stdout",
     "output_type": "stream",
     "text": [
      "2013-03-01  -  2013-03-31\n"
     ]
    },
    {
     "name": "stderr",
     "output_type": "stream",
     "text": [
      "17it [00:00, 87.18it/s]\n",
      "11it [00:00, 77.46it/s]\n",
      "16it [00:00, 89.55it/s]\n",
      "4it [00:00, 72.76it/s]\n",
      "13it [00:00, 87.84it/s]\n"
     ]
    },
    {
     "name": "stdout",
     "output_type": "stream",
     "text": [
      "2013-04-01  -  2013-04-30\n"
     ]
    },
    {
     "name": "stderr",
     "output_type": "stream",
     "text": [
      "10it [00:00, 83.33it/s]\n",
      "18it [00:00, 88.23it/s]\n",
      "14it [00:00, 100.72it/s]\n",
      "5it [00:00, 83.34it/s]\n",
      "10it [00:00, 93.46it/s]\n"
     ]
    },
    {
     "name": "stdout",
     "output_type": "stream",
     "text": [
      "2013-05-01  -  2013-05-31\n"
     ]
    },
    {
     "name": "stderr",
     "output_type": "stream",
     "text": [
      "5it [00:00, 94.42it/s]\n",
      "12it [00:00, 110.09it/s]\n",
      "15it [00:00, 102.55it/s]\n",
      "8it [00:00, 111.04it/s]\n",
      "12it [00:00, 98.29it/s]\n"
     ]
    },
    {
     "name": "stdout",
     "output_type": "stream",
     "text": [
      "2013-06-01  -  2013-06-30\n"
     ]
    },
    {
     "name": "stderr",
     "output_type": "stream",
     "text": [
      "10it [00:00, 113.64it/s]\n",
      "14it [00:00, 102.69it/s]\n",
      "14it [00:00, 103.00it/s]\n",
      "2it [00:00, 73.17it/s]\n",
      "10it [00:00, 109.84it/s]\n"
     ]
    },
    {
     "name": "stdout",
     "output_type": "stream",
     "text": [
      "2013-07-01  -  2013-07-31\n"
     ]
    },
    {
     "name": "stderr",
     "output_type": "stream",
     "text": [
      "12it [00:00, 103.18it/s]\n",
      "23it [00:00, 98.71it/s]\n",
      "15it [00:00, 103.81it/s]\n",
      "9it [00:00, 105.89it/s]\n",
      "13it [00:00, 101.69it/s]\n"
     ]
    },
    {
     "name": "stdout",
     "output_type": "stream",
     "text": [
      "2013-08-01  -  2013-08-31\n"
     ]
    },
    {
     "name": "stderr",
     "output_type": "stream",
     "text": [
      "9it [00:00, 67.03it/s]\n",
      "25it [00:00, 106.43it/s]\n",
      "11it [00:00, 106.71it/s]\n",
      "13it [00:00, 104.78it/s]\n",
      "15it [00:00, 50.57it/s]\n"
     ]
    },
    {
     "name": "stdout",
     "output_type": "stream",
     "text": [
      "2013-09-01  -  2013-09-30\n"
     ]
    },
    {
     "name": "stderr",
     "output_type": "stream",
     "text": [
      "20it [00:00, 102.04it/s]\n",
      "37it [00:00, 105.72it/s]\n",
      "42it [00:00, 94.67it/s]\n",
      "9it [00:00, 94.71it/s]\n",
      "26it [00:00, 95.24it/s]\n"
     ]
    },
    {
     "name": "stdout",
     "output_type": "stream",
     "text": [
      "2013-10-01  -  2013-10-31\n"
     ]
    },
    {
     "name": "stderr",
     "output_type": "stream",
     "text": [
      "28it [00:00, 104.48it/s]\n",
      "37it [00:00, 94.63it/s] \n",
      "23it [00:00, 95.08it/s]\n",
      "23it [00:00, 96.23it/s] \n",
      "30it [00:00, 100.35it/s]\n"
     ]
    },
    {
     "name": "stdout",
     "output_type": "stream",
     "text": [
      "2013-11-01  -  2013-11-30\n"
     ]
    },
    {
     "name": "stderr",
     "output_type": "stream",
     "text": [
      "23it [00:00, 101.36it/s]\n",
      "40it [00:00, 93.89it/s]\n",
      "40it [00:00, 95.95it/s]\n",
      "4it [00:00, 88.90it/s]\n",
      "30it [00:00, 92.09it/s]\n"
     ]
    },
    {
     "name": "stdout",
     "output_type": "stream",
     "text": [
      "2013-12-01  -  2013-12-31\n"
     ]
    },
    {
     "name": "stderr",
     "output_type": "stream",
     "text": [
      "31it [00:00, 98.76it/s]\n",
      "42it [00:00, 101.71it/s]\n",
      "30it [00:00, 70.47it/s]\n",
      "21it [00:00, 104.04it/s]\n",
      "23it [00:00, 64.44it/s]\n"
     ]
    },
    {
     "name": "stdout",
     "output_type": "stream",
     "text": [
      "2014-01-01  -  2014-01-31\n"
     ]
    },
    {
     "name": "stderr",
     "output_type": "stream",
     "text": [
      "0it [00:00, ?it/s]\n",
      "41it [00:00, 96.05it/s] \n",
      "40it [00:00, 90.64it/s]\n",
      "15it [00:00, 93.17it/s]\n",
      "32it [00:00, 97.52it/s]\n"
     ]
    },
    {
     "name": "stdout",
     "output_type": "stream",
     "text": [
      "2014-02-01  -  2014-02-28\n"
     ]
    },
    {
     "name": "stderr",
     "output_type": "stream",
     "text": [
      "23it [00:00, 102.40it/s]\n",
      "36it [00:00, 104.16it/s]\n",
      "22it [00:00, 102.83it/s]\n",
      "18it [00:00, 99.44it/s] \n",
      "30it [00:00, 93.28it/s]\n"
     ]
    },
    {
     "name": "stdout",
     "output_type": "stream",
     "text": [
      "2014-03-01  -  2014-03-31\n"
     ]
    },
    {
     "name": "stderr",
     "output_type": "stream",
     "text": [
      "25it [00:00, 105.53it/s]\n",
      "11it [00:00, 106.76it/s]\n",
      "40it [00:00, 107.63it/s]\n",
      "2it [00:00, 100.01it/s]\n",
      "33it [00:00, 70.07it/s] \n"
     ]
    },
    {
     "name": "stdout",
     "output_type": "stream",
     "text": [
      "2014-04-01  -  2014-04-30\n"
     ]
    },
    {
     "name": "stderr",
     "output_type": "stream",
     "text": [
      "32it [00:00, 105.48it/s]\n",
      "22it [00:00, 104.56it/s]\n",
      "38it [00:00, 108.41it/s]\n",
      "15it [00:00, 108.08it/s]\n",
      "37it [00:00, 106.28it/s]\n"
     ]
    },
    {
     "name": "stdout",
     "output_type": "stream",
     "text": [
      "2014-05-01  -  2014-05-31\n"
     ]
    },
    {
     "name": "stderr",
     "output_type": "stream",
     "text": [
      "26it [00:00, 105.08it/s]\n",
      "29it [00:00, 105.10it/s]\n",
      "56it [00:00, 105.18it/s]\n",
      "7it [00:00, 99.24it/s]\n",
      "46it [00:00, 71.41it/s]\n"
     ]
    },
    {
     "name": "stdout",
     "output_type": "stream",
     "text": [
      "2014-06-01  -  2014-06-30\n"
     ]
    },
    {
     "name": "stderr",
     "output_type": "stream",
     "text": [
      "52it [00:00, 103.50it/s]\n",
      "30it [00:00, 98.68it/s] \n",
      "31it [00:00, 102.64it/s]\n",
      "19it [00:00, 94.53it/s]\n",
      "33it [00:00, 96.42it/s] \n"
     ]
    },
    {
     "name": "stdout",
     "output_type": "stream",
     "text": [
      "2014-07-01  -  2014-07-31\n"
     ]
    },
    {
     "name": "stderr",
     "output_type": "stream",
     "text": [
      "48it [00:03, 15.88it/s]\n",
      "43it [00:00, 111.11it/s]\n",
      "45it [00:06,  6.61it/s]\n",
      "17it [00:00, 112.37it/s]\n",
      "61it [00:00, 107.47it/s]\n"
     ]
    },
    {
     "name": "stdout",
     "output_type": "stream",
     "text": [
      "2014-08-01  -  2014-08-31\n"
     ]
    },
    {
     "name": "stderr",
     "output_type": "stream",
     "text": [
      "38it [00:00, 106.66it/s]\n",
      "44it [00:00, 107.04it/s]\n",
      "56it [00:00, 104.99it/s]\n",
      "10it [00:00, 105.81it/s]\n",
      "48it [00:00, 99.72it/s]\n"
     ]
    },
    {
     "name": "stdout",
     "output_type": "stream",
     "text": [
      "2014-09-01  -  2014-09-30\n"
     ]
    },
    {
     "name": "stderr",
     "output_type": "stream",
     "text": [
      "46it [00:00, 59.84it/s]\n",
      "42it [00:00, 110.04it/s]\n",
      "51it [00:08,  5.73it/s] \n",
      "32it [00:00, 78.75it/s]\n",
      "47it [00:00, 105.62it/s]\n"
     ]
    },
    {
     "name": "stdout",
     "output_type": "stream",
     "text": [
      "2014-10-01  -  2014-10-31\n"
     ]
    },
    {
     "name": "stderr",
     "output_type": "stream",
     "text": [
      "55it [00:20,  2.73it/s]\n",
      "76it [00:00, 106.11it/s]\n",
      "63it [00:11,  5.66it/s] \n",
      "18it [00:00, 113.23it/s]\n",
      "63it [00:00, 113.11it/s]\n"
     ]
    },
    {
     "name": "stdout",
     "output_type": "stream",
     "text": [
      "2014-11-01  -  2014-11-30\n"
     ]
    },
    {
     "name": "stderr",
     "output_type": "stream",
     "text": [
      "22it [00:00, 112.39it/s]\n",
      "53it [00:00, 108.30it/s]\n",
      "41it [00:00, 100.99it/s]\n",
      "5it [00:00, 86.21it/s]\n",
      "44it [00:00, 108.87it/s]\n"
     ]
    },
    {
     "name": "stdout",
     "output_type": "stream",
     "text": [
      "2014-12-01  -  2014-12-31\n"
     ]
    },
    {
     "name": "stderr",
     "output_type": "stream",
     "text": [
      "50it [00:07,  6.63it/s]\n",
      "56it [00:00, 108.74it/s]\n",
      "53it [00:19,  2.77it/s]\n",
      "38it [00:06,  5.56it/s] \n",
      "74it [00:00, 98.60it/s] \n"
     ]
    },
    {
     "name": "stdout",
     "output_type": "stream",
     "text": [
      "2015-01-01  -  2015-01-31\n"
     ]
    },
    {
     "name": "stderr",
     "output_type": "stream",
     "text": [
      "0it [00:00, ?it/s]\n",
      "27it [00:00, 97.53it/s]\n",
      "46it [00:03, 15.20it/s] \n",
      "14it [00:00, 91.74it/s]\n",
      "50it [00:00, 99.43it/s] \n"
     ]
    },
    {
     "name": "stdout",
     "output_type": "stream",
     "text": [
      "2015-02-01  -  2015-02-28\n"
     ]
    },
    {
     "name": "stderr",
     "output_type": "stream",
     "text": [
      "46it [00:00, 95.07it/s]\n",
      "51it [00:00, 92.64it/s] \n",
      "38it [00:00, 95.10it/s]\n",
      "11it [00:00, 95.65it/s]\n",
      "20it [00:00, 104.23it/s]\n"
     ]
    },
    {
     "name": "stdout",
     "output_type": "stream",
     "text": [
      "2015-03-01  -  2015-03-31\n"
     ]
    },
    {
     "name": "stderr",
     "output_type": "stream",
     "text": [
      "56it [00:00, 98.29it/s]\n",
      "22it [00:00, 83.02it/s]\n",
      "38it [00:00, 103.82it/s]\n",
      "24it [00:00, 101.27it/s]\n",
      "34it [00:00, 95.77it/s] \n"
     ]
    },
    {
     "name": "stdout",
     "output_type": "stream",
     "text": [
      "2015-04-01  -  2015-04-30\n"
     ]
    },
    {
     "name": "stderr",
     "output_type": "stream",
     "text": [
      "60it [00:14,  4.10it/s]\n",
      "55it [00:00, 96.02it/s]\n",
      "48it [00:02, 18.66it/s] \n",
      "30it [00:00, 111.11it/s]\n",
      "41it [00:00, 105.31it/s]\n"
     ]
    },
    {
     "name": "stdout",
     "output_type": "stream",
     "text": [
      "2015-05-01  -  2015-05-31\n"
     ]
    },
    {
     "name": "stderr",
     "output_type": "stream",
     "text": [
      "29it [00:00, 70.51it/s] \n",
      "33it [00:00, 101.49it/s]\n",
      "50it [00:00, 91.41it/s]\n",
      "5it [00:00, 94.40it/s]\n",
      "38it [00:00, 85.77it/s]\n"
     ]
    },
    {
     "name": "stdout",
     "output_type": "stream",
     "text": [
      "2015-06-01  -  2015-06-30\n"
     ]
    },
    {
     "name": "stderr",
     "output_type": "stream",
     "text": [
      "44it [00:00, 97.32it/s]\n",
      "44it [00:00, 102.82it/s]\n",
      "64it [00:06, 10.53it/s] \n",
      "33it [00:00, 106.13it/s]\n",
      "27it [00:00, 97.41it/s]\n"
     ]
    },
    {
     "name": "stdout",
     "output_type": "stream",
     "text": [
      "2015-07-01  -  2015-07-31\n"
     ]
    },
    {
     "name": "stderr",
     "output_type": "stream",
     "text": [
      "74it [00:17,  4.12it/s]\n",
      "53it [00:00, 102.19it/s]\n",
      "51it [00:17,  3.00it/s]\n",
      "47it [00:00, 104.99it/s]\n",
      "49it [00:00, 84.75it/s]\n"
     ]
    },
    {
     "name": "stdout",
     "output_type": "stream",
     "text": [
      "2015-08-01  -  2015-08-31\n"
     ]
    },
    {
     "name": "stderr",
     "output_type": "stream",
     "text": [
      "67it [00:03, 20.86it/s] \n",
      "39it [00:00, 100.01it/s]\n",
      "61it [00:10,  5.58it/s]\n",
      "6it [00:00, 98.53it/s]\n",
      "53it [00:00, 105.91it/s]\n"
     ]
    },
    {
     "name": "stdout",
     "output_type": "stream",
     "text": [
      "2015-09-01  -  2015-09-30\n"
     ]
    },
    {
     "name": "stderr",
     "output_type": "stream",
     "text": [
      "34it [00:00, 101.93it/s]\n",
      "45it [00:00, 64.08it/s]\n",
      "59it [00:22,  2.58it/s]\n",
      "46it [00:00, 105.00it/s]\n",
      "49it [00:00, 63.41it/s] \n"
     ]
    },
    {
     "name": "stdout",
     "output_type": "stream",
     "text": [
      "2015-10-01  -  2015-10-31\n"
     ]
    },
    {
     "name": "stderr",
     "output_type": "stream",
     "text": [
      "59it [00:10,  5.77it/s]\n",
      "45it [00:00, 104.43it/s]\n",
      "69it [00:06, 10.18it/s] \n",
      "21it [00:00, 112.86it/s]\n",
      "43it [00:00, 103.37it/s]\n"
     ]
    },
    {
     "name": "stdout",
     "output_type": "stream",
     "text": [
      "2015-11-01  -  2015-11-30\n"
     ]
    },
    {
     "name": "stderr",
     "output_type": "stream",
     "text": [
      "53it [00:08,  6.09it/s] \n",
      "68it [00:00, 86.20it/s]\n",
      "71it [00:17,  3.99it/s]\n",
      "29it [00:00, 101.76it/s]\n",
      "42it [00:00, 106.09it/s]\n"
     ]
    },
    {
     "name": "stdout",
     "output_type": "stream",
     "text": [
      "2015-12-01  -  2015-12-31\n"
     ]
    },
    {
     "name": "stderr",
     "output_type": "stream",
     "text": [
      "67it [00:16,  3.98it/s] \n",
      "66it [00:00, 106.56it/s]\n",
      "68it [00:31,  2.15it/s]\n",
      "47it [00:06,  6.84it/s] \n",
      "69it [00:00, 108.35it/s]\n"
     ]
    },
    {
     "name": "stdout",
     "output_type": "stream",
     "text": [
      "2016-01-01  -  2016-01-31\n"
     ]
    },
    {
     "name": "stderr",
     "output_type": "stream",
     "text": [
      "3it [00:00, 90.91it/s]\n",
      "30it [00:00, 108.67it/s]\n",
      "72it [00:14,  4.93it/s] \n",
      "17it [00:00, 111.10it/s]\n",
      "54it [00:00, 93.92it/s]\n"
     ]
    },
    {
     "name": "stdout",
     "output_type": "stream",
     "text": [
      "2016-02-01  -  2016-02-29\n"
     ]
    },
    {
     "name": "stderr",
     "output_type": "stream",
     "text": [
      "25it [00:00, 57.88it/s]\n",
      "32it [00:00, 53.02it/s]\n",
      "28it [00:00, 66.64it/s]\n",
      "4it [00:00, 107.41it/s]\n",
      "16it [00:00, 105.61it/s]\n"
     ]
    },
    {
     "name": "stdout",
     "output_type": "stream",
     "text": [
      "2016-03-01  -  2016-03-31\n"
     ]
    },
    {
     "name": "stderr",
     "output_type": "stream",
     "text": [
      "17it [00:00, 102.10it/s]\n",
      "21it [00:00, 52.20it/s]\n",
      "29it [00:00, 108.87it/s]\n",
      "19it [00:00, 55.85it/s]\n",
      "24it [00:00, 45.09it/s]\n"
     ]
    },
    {
     "name": "stdout",
     "output_type": "stream",
     "text": [
      "2016-04-01  -  2016-04-30\n"
     ]
    },
    {
     "name": "stderr",
     "output_type": "stream",
     "text": [
      "16it [00:00, 100.99it/s]\n",
      "35it [00:00, 110.07it/s]\n",
      "14it [00:00, 47.34it/s]\n",
      "1it [00:00, 100.42it/s]\n",
      "23it [00:00, 114.43it/s]\n"
     ]
    },
    {
     "name": "stdout",
     "output_type": "stream",
     "text": [
      "2016-05-01  -  2016-05-31\n"
     ]
    },
    {
     "name": "stderr",
     "output_type": "stream",
     "text": [
      "17it [00:00, 109.54it/s]\n",
      "14it [00:00, 104.77it/s]\n",
      "14it [00:00, 106.50it/s]\n",
      "10it [00:00, 119.54it/s]\n",
      "25it [00:00, 105.15it/s]\n"
     ]
    },
    {
     "name": "stdout",
     "output_type": "stream",
     "text": [
      "2016-06-01  -  2016-06-30\n"
     ]
    },
    {
     "name": "stderr",
     "output_type": "stream",
     "text": [
      "6it [00:00, 101.00it/s]\n",
      "23it [00:00, 110.80it/s]\n",
      "19it [00:00, 107.06it/s]\n",
      "16it [00:00, 96.77it/s]\n",
      "20it [00:00, 100.50it/s]\n"
     ]
    },
    {
     "name": "stdout",
     "output_type": "stream",
     "text": [
      "2016-07-01  -  2016-07-31\n"
     ]
    },
    {
     "name": "stderr",
     "output_type": "stream",
     "text": [
      "19it [00:00, 106.85it/s]\n",
      "24it [00:00, 101.64it/s]\n",
      "28it [00:00, 107.28it/s]\n",
      "6it [00:00, 107.14it/s]\n",
      "15it [00:00, 112.82it/s]\n"
     ]
    },
    {
     "name": "stdout",
     "output_type": "stream",
     "text": [
      "2016-08-01  -  2016-08-31\n"
     ]
    },
    {
     "name": "stderr",
     "output_type": "stream",
     "text": [
      "14it [00:00, 111.09it/s]\n",
      "10it [00:00, 104.13it/s]\n",
      "9it [00:00, 88.20it/s]\n",
      "6it [00:00, 113.92it/s]\n",
      "10it [00:00, 104.16it/s]\n"
     ]
    },
    {
     "name": "stdout",
     "output_type": "stream",
     "text": [
      "2016-09-01  -  2016-09-30\n"
     ]
    },
    {
     "name": "stderr",
     "output_type": "stream",
     "text": [
      "19it [00:00, 119.50it/s]\n",
      "8it [00:00, 103.74it/s]\n",
      "17it [00:00, 114.09it/s]\n",
      "0it [00:00, ?it/s]\n",
      "16it [00:00, 107.74it/s]\n"
     ]
    },
    {
     "name": "stdout",
     "output_type": "stream",
     "text": [
      "2016-10-01  -  2016-10-31\n"
     ]
    },
    {
     "name": "stderr",
     "output_type": "stream",
     "text": [
      "13it [00:00, 108.52it/s]\n",
      "13it [00:00, 108.23it/s]\n",
      "9it [00:00, 102.85it/s]\n",
      "7it [00:00, 84.14it/s]\n",
      "13it [00:00, 115.04it/s]\n"
     ]
    },
    {
     "name": "stdout",
     "output_type": "stream",
     "text": [
      "2016-11-01  -  2016-11-30\n"
     ]
    },
    {
     "name": "stderr",
     "output_type": "stream",
     "text": [
      "11it [00:00, 110.03it/s]\n",
      "9it [00:00, 116.88it/s]\n",
      "14it [00:00, 111.13it/s]\n",
      "8it [00:00, 101.22it/s]\n",
      "10it [00:00, 112.36it/s]\n"
     ]
    },
    {
     "name": "stdout",
     "output_type": "stream",
     "text": [
      "2016-12-01  -  2016-12-31\n"
     ]
    },
    {
     "name": "stderr",
     "output_type": "stream",
     "text": [
      "11it [00:00, 97.35it/s]\n",
      "11it [00:00, 73.66it/s]\n",
      "20it [00:00, 103.07it/s]\n",
      "8it [00:00, 94.08it/s]\n",
      "19it [00:00, 113.74it/s]\n"
     ]
    },
    {
     "name": "stdout",
     "output_type": "stream",
     "text": [
      "2017-01-01  -  2017-01-31\n"
     ]
    },
    {
     "name": "stderr",
     "output_type": "stream",
     "text": [
      "0it [00:00, ?it/s]\n",
      "8it [00:00, 105.37it/s]\n",
      "11it [00:00, 107.58it/s]\n",
      "9it [00:00, 103.18it/s]\n",
      "14it [00:00, 104.80it/s]\n"
     ]
    },
    {
     "name": "stdout",
     "output_type": "stream",
     "text": [
      "2017-02-01  -  2017-02-28\n"
     ]
    },
    {
     "name": "stderr",
     "output_type": "stream",
     "text": [
      "7it [00:00, 97.18it/s]\n",
      "14it [00:00, 107.69it/s]\n",
      "10it [00:00, 92.50it/s]\n",
      "3it [00:00, 49.97it/s]\n",
      "2it [00:00, 99.78it/s]\n"
     ]
    },
    {
     "name": "stdout",
     "output_type": "stream",
     "text": [
      "2017-03-01  -  2017-03-31\n"
     ]
    },
    {
     "name": "stderr",
     "output_type": "stream",
     "text": [
      "14it [00:00, 102.94it/s]\n",
      "7it [00:00, 98.59it/s]\n",
      "7it [00:00, 90.91it/s]\n",
      "9it [00:00, 98.84it/s]\n",
      "10it [00:00, 87.72it/s]\n"
     ]
    },
    {
     "name": "stdout",
     "output_type": "stream",
     "text": [
      "2017-04-01  -  2017-04-30\n"
     ]
    },
    {
     "name": "stderr",
     "output_type": "stream",
     "text": [
      "14it [00:00, 98.05it/s]\n",
      "8it [00:00, 86.96it/s]\n",
      "11it [00:00, 91.49it/s]\n",
      "1it [00:00, 73.50it/s]\n",
      "10it [00:00, 90.88it/s]\n"
     ]
    },
    {
     "name": "stdout",
     "output_type": "stream",
     "text": [
      "2017-05-01  -  2017-05-31\n"
     ]
    },
    {
     "name": "stderr",
     "output_type": "stream",
     "text": [
      "5it [00:00, 104.09it/s]\n",
      "7it [00:00, 72.91it/s]\n",
      "3it [00:00, 80.98it/s]\n",
      "1it [00:00, 55.69it/s]\n",
      "12it [00:00, 100.81it/s]\n"
     ]
    },
    {
     "name": "stdout",
     "output_type": "stream",
     "text": [
      "2017-06-01  -  2017-06-30\n"
     ]
    },
    {
     "name": "stderr",
     "output_type": "stream",
     "text": [
      "10it [00:00, 112.36it/s]\n",
      "8it [00:00, 97.52it/s]\n",
      "9it [00:00, 107.76it/s]\n",
      "3it [00:00, 111.11it/s]\n",
      "10it [00:00, 103.80it/s]\n"
     ]
    },
    {
     "name": "stdout",
     "output_type": "stream",
     "text": [
      "2017-07-01  -  2017-07-31\n"
     ]
    },
    {
     "name": "stderr",
     "output_type": "stream",
     "text": [
      "20it [00:00, 103.63it/s]\n",
      "11it [00:00, 100.39it/s]\n",
      "8it [00:00, 101.27it/s]\n",
      "2it [00:00, 100.18it/s]\n",
      "15it [00:00, 106.36it/s]\n"
     ]
    },
    {
     "name": "stdout",
     "output_type": "stream",
     "text": [
      "2017-08-01  -  2017-08-31\n"
     ]
    },
    {
     "name": "stderr",
     "output_type": "stream",
     "text": [
      "13it [00:00, 113.04it/s]\n",
      "9it [00:00, 101.13it/s]\n",
      "12it [00:00, 111.11it/s]\n",
      "4it [00:00, 108.21it/s]\n",
      "4it [00:00, 108.40it/s]\n"
     ]
    },
    {
     "name": "stdout",
     "output_type": "stream",
     "text": [
      "2017-09-01  -  2017-09-30\n"
     ]
    },
    {
     "name": "stderr",
     "output_type": "stream",
     "text": [
      "14it [00:00, 107.24it/s]\n",
      "8it [00:00, 109.15it/s]\n",
      "12it [00:00, 89.54it/s]\n",
      "2it [00:00, 95.26it/s]\n",
      "16it [00:00, 96.97it/s]\n"
     ]
    },
    {
     "name": "stdout",
     "output_type": "stream",
     "text": [
      "2017-10-01  -  2017-10-31\n"
     ]
    },
    {
     "name": "stderr",
     "output_type": "stream",
     "text": [
      "9it [00:00, 93.75it/s]\n",
      "11it [00:00, 98.21it/s]\n",
      "5it [00:00, 90.91it/s]\n",
      "1it [00:00, 98.97it/s]\n",
      "9it [00:00, 112.46it/s]\n"
     ]
    },
    {
     "name": "stdout",
     "output_type": "stream",
     "text": [
      "2017-11-01  -  2017-11-30\n"
     ]
    },
    {
     "name": "stderr",
     "output_type": "stream",
     "text": [
      "4it [00:00, 105.24it/s]\n",
      "9it [00:00, 106.22it/s]\n",
      "8it [00:00, 103.94it/s]\n",
      "6it [00:00, 76.48it/s]\n",
      "9it [00:00, 107.16it/s]\n"
     ]
    },
    {
     "name": "stdout",
     "output_type": "stream",
     "text": [
      "2017-12-01  -  2017-12-31\n"
     ]
    },
    {
     "name": "stderr",
     "output_type": "stream",
     "text": [
      "16it [00:00, 95.24it/s]\n",
      "13it [00:00, 52.86it/s]\n",
      "17it [00:00, 92.90it/s]\n",
      "5it [00:00, 74.63it/s]\n",
      "19it [00:00, 89.64it/s]\n"
     ]
    },
    {
     "name": "stdout",
     "output_type": "stream",
     "text": [
      "2018-01-01  -  2018-01-31\n"
     ]
    },
    {
     "name": "stderr",
     "output_type": "stream",
     "text": [
      "0it [00:00, ?it/s]\n",
      "5it [00:00, 108.68it/s]\n",
      "12it [00:00, 84.21it/s]\n",
      "4it [00:00, 99.92it/s]\n",
      "7it [00:00, 103.77it/s]\n"
     ]
    },
    {
     "name": "stdout",
     "output_type": "stream",
     "text": [
      "2018-02-01  -  2018-02-28\n"
     ]
    },
    {
     "name": "stderr",
     "output_type": "stream",
     "text": [
      "10it [00:00, 104.62it/s]\n",
      "8it [00:00, 113.76it/s]\n",
      "13it [00:00, 100.37it/s]\n",
      "2it [00:00, 89.57it/s]\n",
      "0it [00:00, ?it/s]\n"
     ]
    },
    {
     "name": "stdout",
     "output_type": "stream",
     "text": [
      "2018-03-01  -  2018-03-31\n"
     ]
    },
    {
     "name": "stderr",
     "output_type": "stream",
     "text": [
      "11it [00:00, 93.22it/s]\n",
      "8it [00:00, 106.62it/s]\n",
      "10it [00:00, 104.13it/s]\n",
      "5it [00:00, 102.05it/s]\n",
      "14it [00:00, 94.60it/s]\n"
     ]
    },
    {
     "name": "stdout",
     "output_type": "stream",
     "text": [
      "2018-04-01  -  2018-04-30\n"
     ]
    },
    {
     "name": "stderr",
     "output_type": "stream",
     "text": [
      "3it [00:00, 93.76it/s]\n",
      "16it [00:00, 103.01it/s]\n",
      "8it [00:00, 94.12it/s]\n",
      "0it [00:00, ?it/s]\n",
      "13it [00:00, 94.89it/s]\n"
     ]
    },
    {
     "name": "stdout",
     "output_type": "stream",
     "text": [
      "2018-05-01  -  2018-05-31\n"
     ]
    },
    {
     "name": "stderr",
     "output_type": "stream",
     "text": [
      "2it [00:00, 64.52it/s]\n",
      "7it [00:00, 80.46it/s]\n",
      "12it [00:00, 59.63it/s]\n",
      "5it [00:00, 103.65it/s]\n",
      "12it [00:00, 111.98it/s]\n"
     ]
    },
    {
     "name": "stdout",
     "output_type": "stream",
     "text": [
      "2018-06-01  -  2018-06-30\n"
     ]
    },
    {
     "name": "stderr",
     "output_type": "stream",
     "text": [
      "16it [00:00, 58.83it/s]\n",
      "3it [00:00, 79.15it/s]\n",
      "19it [00:00, 101.08it/s]\n",
      "2it [00:00, 100.00it/s]\n",
      "8it [00:00, 98.71it/s]\n"
     ]
    },
    {
     "name": "stdout",
     "output_type": "stream",
     "text": [
      "2018-07-01  -  2018-07-31\n"
     ]
    },
    {
     "name": "stderr",
     "output_type": "stream",
     "text": [
      "8it [00:00, 112.68it/s]\n",
      "8it [00:00, 106.67it/s]\n",
      "8it [00:00, 112.57it/s]\n",
      "5it [00:00, 100.93it/s]\n",
      "13it [00:00, 47.83it/s]\n"
     ]
    },
    {
     "name": "stdout",
     "output_type": "stream",
     "text": [
      "2018-08-01  -  2018-08-31\n"
     ]
    },
    {
     "name": "stderr",
     "output_type": "stream",
     "text": [
      "11it [00:00, 103.04it/s]\n",
      "8it [00:00, 105.04it/s]\n",
      "8it [00:00, 102.61it/s]\n",
      "4it [00:00, 105.26it/s]\n",
      "9it [00:00, 87.50it/s]\n"
     ]
    },
    {
     "name": "stdout",
     "output_type": "stream",
     "text": [
      "2018-09-01  -  2018-09-30\n"
     ]
    },
    {
     "name": "stderr",
     "output_type": "stream",
     "text": [
      "5it [00:00, 121.94it/s]\n",
      "8it [00:00, 100.28it/s]\n",
      "7it [00:00, 106.11it/s]\n",
      "3it [00:00, 93.63it/s]\n",
      "12it [00:00, 103.45it/s]\n"
     ]
    },
    {
     "name": "stdout",
     "output_type": "stream",
     "text": [
      "2018-10-01  -  2018-10-31\n"
     ]
    },
    {
     "name": "stderr",
     "output_type": "stream",
     "text": [
      "13it [00:00, 95.87it/s]\n",
      "5it [00:00, 95.26it/s]\n",
      "8it [00:00, 102.56it/s]\n",
      "3it [00:00, 106.13it/s]\n",
      "16it [00:00, 105.57it/s]\n"
     ]
    },
    {
     "name": "stdout",
     "output_type": "stream",
     "text": [
      "2018-11-01  -  2018-11-30\n"
     ]
    },
    {
     "name": "stderr",
     "output_type": "stream",
     "text": [
      "6it [00:00, 99.03it/s]\n",
      "7it [00:00, 108.70it/s]\n",
      "7it [00:00, 100.07it/s]\n",
      "4it [00:00, 103.67it/s]\n",
      "8it [00:00, 98.77it/s]\n"
     ]
    },
    {
     "name": "stdout",
     "output_type": "stream",
     "text": [
      "2018-12-01  -  2018-12-31\n"
     ]
    },
    {
     "name": "stderr",
     "output_type": "stream",
     "text": [
      "14it [00:00, 90.38it/s]\n",
      "14it [00:00, 78.65it/s]\n",
      "12it [00:00, 102.76it/s]\n",
      "1it [00:00, 99.58it/s]\n",
      "21it [00:00, 109.79it/s]\n"
     ]
    },
    {
     "name": "stdout",
     "output_type": "stream",
     "text": [
      "2019-01-01  -  2019-01-31\n"
     ]
    },
    {
     "name": "stderr",
     "output_type": "stream",
     "text": [
      "1it [00:00, 90.92it/s]\n",
      "3it [00:00, 103.70it/s]\n",
      "4it [00:00, 93.01it/s]\n",
      "8it [00:00, 100.06it/s]\n",
      "10it [00:00, 100.42it/s]\n"
     ]
    },
    {
     "name": "stdout",
     "output_type": "stream",
     "text": [
      "2019-02-01  -  2019-02-28\n"
     ]
    },
    {
     "name": "stderr",
     "output_type": "stream",
     "text": [
      "7it [00:00, 106.06it/s]\n",
      "13it [00:00, 105.63it/s]\n",
      "8it [00:00, 81.78it/s]\n",
      "2it [00:00, 105.57it/s]\n",
      "6it [00:00, 70.28it/s]\n"
     ]
    },
    {
     "name": "stdout",
     "output_type": "stream",
     "text": [
      "2019-03-01  -  2019-03-31\n"
     ]
    },
    {
     "name": "stderr",
     "output_type": "stream",
     "text": [
      "9it [00:00, 53.97it/s]\n",
      "10it [00:00, 104.17it/s]\n",
      "5it [00:00, 98.55it/s]\n",
      "4it [00:00, 90.90it/s]\n",
      "10it [00:00, 81.30it/s]\n"
     ]
    },
    {
     "name": "stdout",
     "output_type": "stream",
     "text": [
      "2019-04-01  -  2019-04-30\n"
     ]
    },
    {
     "name": "stderr",
     "output_type": "stream",
     "text": [
      "8it [00:00, 111.11it/s]\n",
      "6it [00:00, 103.45it/s]\n",
      "9it [00:00, 104.73it/s]\n",
      "6it [00:00, 125.38it/s]\n",
      "10it [00:00, 113.92it/s]\n"
     ]
    },
    {
     "name": "stdout",
     "output_type": "stream",
     "text": [
      "2019-05-01  -  2019-05-31\n"
     ]
    },
    {
     "name": "stderr",
     "output_type": "stream",
     "text": [
      "5it [00:00, 86.25it/s]\n",
      "1it [00:00, 111.16it/s]\n",
      "6it [00:00, 96.77it/s]\n",
      "7it [00:00, 79.54it/s]\n",
      "6it [00:00, 93.74it/s]\n"
     ]
    },
    {
     "name": "stdout",
     "output_type": "stream",
     "text": [
      "2019-06-01  -  2019-06-30\n"
     ]
    },
    {
     "name": "stderr",
     "output_type": "stream",
     "text": [
      "9it [00:00, 56.43it/s]\n",
      "10it [00:00, 116.28it/s]\n",
      "7it [00:00, 98.59it/s]\n",
      "0it [00:00, ?it/s]\n",
      "14it [00:00, 109.37it/s]\n"
     ]
    }
   ],
   "source": [
    "DETECTED = df.url.tolist() \n",
    "\n",
    "def half_parser(cur_date, end_date, counter):\n",
    "    exc_articles = []\n",
    "    good_articles = []\n",
    "    \n",
    "    driver_base.find_elements(By.TAG_NAME, value='.hasDatepicker')[0].send_keys(\"\\b\\b\\b\\b\\b\\b\\b\\b\\b\\b\" + cur_date.strftime(\"%d.%m.%Y\"))\n",
    "    driver_base.find_elements(By.TAG_NAME, value='.hasDatepicker')[1].send_keys(\"\\b\\b\\b\\b\\b\\b\\b\\b\\b\\b\" + end_date.strftime(\"%d.%m.%Y\"))\n",
    "    driver_base.find_elements(By.TAG_NAME, value='#UniDbQuery_searchbutton')[0].click()\n",
    "\n",
    "    articles_dates = driver_base.find_elements(By.TAG_NAME, value='.source')\n",
    "    articles_links = driver_base.find_elements(By.TAG_NAME, value='a')[15:-10]\n",
    "    for article_date, link in tqdm(zip(articles_dates, articles_links)):\n",
    "        if link.get_attribute(name='href') in DETECTED:\n",
    "            continue\n",
    "        counter += 1\n",
    "        try:\n",
    "            article_type = \"Пресс-релиз\"\n",
    "            article_url = link.get_attribute(name='href')\n",
    "            driver_runner1.get(article_url)\n",
    "            article_text = [a.text for a in driver_runner1.find_elements(By.TAG_NAME, value='p')]\n",
    "            good_articles.append([counter, article_date.text, article_type, link.text, \"\\n\".join(article_text).strip(), article_url])\n",
    "        except Exception as e:\n",
    "            print(\"Problem!\")\n",
    "            exc_articles.append((article_date, link)) \n",
    "    return good_articles, exc_articles, counter\n",
    "\n",
    "\n",
    "counter = 0\n",
    "cur_date = start_date\n",
    "temp_end = cur_date + relativedelta(months=+1) - relativedelta(days=+1)\n",
    "exc_articles = []\n",
    "good_articles = []\n",
    "while temp_end < end_date:\n",
    "    print(cur_date, \" - \", temp_end)\n",
    "    \n",
    "    good_articles_temp, exc_articles_temp, counter = half_parser(cur_date, cur_date + relativedelta(days=+6), counter)\n",
    "    good_articles += good_articles_temp\n",
    "    exc_articles += exc_articles_temp\n",
    "    \n",
    "    good_articles_temp, exc_articles_temp, counter = half_parser(cur_date + relativedelta(days=+7), \n",
    "                                                                 cur_date + relativedelta(days=+13), counter)\n",
    "    good_articles += good_articles_temp\n",
    "    exc_articles += exc_articles_temp\n",
    "\n",
    "    good_articles_temp, exc_articles_temp, counter = half_parser(cur_date + relativedelta(days=+14), \n",
    "                                                                 cur_date + relativedelta(days=+20), counter)\n",
    "    good_articles += good_articles_temp\n",
    "    exc_articles += exc_articles_temp\n",
    "    \n",
    "    good_articles_temp, exc_articles_temp, counter = half_parser(cur_date + relativedelta(days=+21), \n",
    "                                                                 cur_date + relativedelta(days=+23), counter)\n",
    "    good_articles += good_articles_temp\n",
    "    exc_articles += exc_articles_temp\n",
    "    \n",
    "    good_articles_temp, exc_articles_temp, counter = half_parser(cur_date + relativedelta(days=+24), temp_end, counter)\n",
    "    good_articles += good_articles_temp\n",
    "    exc_articles += exc_articles_temp\n",
    "\n",
    "    if cur_date.month == 2:\n",
    "        pd.DataFrame(good_articles).to_csv(f\"{cur_date}_old_truely_all_arts.csv\", encoding=\"utf-8\", sep=\";\", index=False)    \n",
    "\n",
    "    cur_date = cur_date + relativedelta(months=+1)\n",
    "    temp_end = cur_date + relativedelta(months=+1) - relativedelta(days=+1)\n",
    "    temp_end = min([temp_end, end_date])"
   ]
  },
  {
   "cell_type": "code",
   "execution_count": 53,
   "metadata": {},
   "outputs": [],
   "source": [
    "pd.DataFrame(good_articles).to_csv(f\"old_all_truely_all_arts.csv\", encoding=\"utf-8\", sep=\";\", index=False)    "
   ]
  },
  {
   "cell_type": "code",
   "execution_count": 57,
   "metadata": {},
   "outputs": [
    {
     "data": {
      "text/html": [
       "<div>\n",
       "<style scoped>\n",
       "    .dataframe tbody tr th:only-of-type {\n",
       "        vertical-align: middle;\n",
       "    }\n",
       "\n",
       "    .dataframe tbody tr th {\n",
       "        vertical-align: top;\n",
       "    }\n",
       "\n",
       "    .dataframe thead th {\n",
       "        text-align: right;\n",
       "    }\n",
       "</style>\n",
       "<table border=\"1\" class=\"dataframe\">\n",
       "  <thead>\n",
       "    <tr style=\"text-align: right;\">\n",
       "      <th></th>\n",
       "      <th>datestr</th>\n",
       "      <th>type</th>\n",
       "      <th>header</th>\n",
       "      <th>text</th>\n",
       "      <th>url</th>\n",
       "      <th>date</th>\n",
       "    </tr>\n",
       "  </thead>\n",
       "  <tbody>\n",
       "    <tr>\n",
       "      <th>0</th>\n",
       "      <td>01.07.2014</td>\n",
       "      <td>Пресс-релиз</td>\n",
       "      <td>О продаже принадлежащих Банку России обыкновен...</td>\n",
       "      <td>В целях выполнения требования Федерального зак...</td>\n",
       "      <td>http://www.cbr.ru/press/PR/?file=01072014_1850...</td>\n",
       "      <td>2014-07-01</td>\n",
       "    </tr>\n",
       "    <tr>\n",
       "      <th>1</th>\n",
       "      <td>01.07.2014</td>\n",
       "      <td>Пресс-релиз</td>\n",
       "      <td>Об Указании Банка России от 23 апреля 2014 год...</td>\n",
       "      <td>Банк России издал Указание Банка России от 23 ...</td>\n",
       "      <td>http://www.cbr.ru/press/PR/?file=01072014_1836...</td>\n",
       "      <td>2014-07-01</td>\n",
       "    </tr>\n",
       "    <tr>\n",
       "      <th>2</th>\n",
       "      <td>17.07.2014</td>\n",
       "      <td>Пресс-релиз</td>\n",
       "      <td>О прекращении деятельности временной администр...</td>\n",
       "      <td>В связи с решением Арбитражного суда города Мо...</td>\n",
       "      <td>http://www.cbr.ru/press/PR/?file=17072014_1430...</td>\n",
       "      <td>2014-07-17</td>\n",
       "    </tr>\n",
       "    <tr>\n",
       "      <th>3</th>\n",
       "      <td>17.07.2014</td>\n",
       "      <td>Пресс-релиз</td>\n",
       "      <td>О решении Банка России от 16 июля 2014 года</td>\n",
       "      <td>Решение Банка России от 16 июля 2014 года:\\n\\n...</td>\n",
       "      <td>http://www.cbr.ru/press/PR/?file=17072014_1615...</td>\n",
       "      <td>2014-07-17</td>\n",
       "    </tr>\n",
       "    <tr>\n",
       "      <th>4</th>\n",
       "      <td>17.07.2014</td>\n",
       "      <td>Пресс-релиз</td>\n",
       "      <td>Перечень кредитных организаций, в которые назн...</td>\n",
       "      <td>Уполномоченные представители Банка России, дей...</td>\n",
       "      <td>http://www.cbr.ru/press/PR/?file=17072014_2043...</td>\n",
       "      <td>2014-07-17</td>\n",
       "    </tr>\n",
       "  </tbody>\n",
       "</table>\n",
       "</div>"
      ],
      "text/plain": [
       "      datestr         type                                             header  \\\n",
       "0  01.07.2014  Пресс-релиз  О продаже принадлежащих Банку России обыкновен...   \n",
       "1  01.07.2014  Пресс-релиз  Об Указании Банка России от 23 апреля 2014 год...   \n",
       "2  17.07.2014  Пресс-релиз  О прекращении деятельности временной администр...   \n",
       "3  17.07.2014  Пресс-релиз        О решении Банка России от 16 июля 2014 года   \n",
       "4  17.07.2014  Пресс-релиз  Перечень кредитных организаций, в которые назн...   \n",
       "\n",
       "                                                text  \\\n",
       "0  В целях выполнения требования Федерального зак...   \n",
       "1  Банк России издал Указание Банка России от 23 ...   \n",
       "2  В связи с решением Арбитражного суда города Мо...   \n",
       "3  Решение Банка России от 16 июля 2014 года:\\n\\n...   \n",
       "4  Уполномоченные представители Банка России, дей...   \n",
       "\n",
       "                                                 url       date  \n",
       "0  http://www.cbr.ru/press/PR/?file=01072014_1850... 2014-07-01  \n",
       "1  http://www.cbr.ru/press/PR/?file=01072014_1836... 2014-07-01  \n",
       "2  http://www.cbr.ru/press/PR/?file=17072014_1430... 2014-07-17  \n",
       "3  http://www.cbr.ru/press/PR/?file=17072014_1615... 2014-07-17  \n",
       "4  http://www.cbr.ru/press/PR/?file=17072014_2043... 2014-07-17  "
      ]
     },
     "execution_count": 57,
     "metadata": {},
     "output_type": "execute_result"
    }
   ],
   "source": [
    "df_pr_old_extra = pd.DataFrame(good_articles)\n",
    "df_pr_old_extra.columns=[\"num\", \"datestr\", \"type\", \"header\", \"text\", \"url\"]\n",
    "df_pr_old_extra = df_pr_old_extra.drop(columns=['num'])\n",
    "df_pr_old_extra = df_pr_old_extra.reset_index(drop=True)\n",
    "\n",
    "# df_pr_old['date'] = [f\"{i[0]}-{months[i[1]]}-{i[2]}\" for i in df_new.datestr.str.split().tolist()]\n",
    "df_pr_old_extra['date'] = pd.to_datetime(df_pr_old_extra['datestr'], format='%d.%m.%Y')\n",
    "df_pr_old_extra.head()"
   ]
  },
  {
   "cell_type": "markdown",
   "metadata": {},
   "source": [
    "## Объединяем часть 1 и 2"
   ]
  },
  {
   "cell_type": "code",
   "execution_count": 130,
   "metadata": {},
   "outputs": [],
   "source": [
    "# df = pd.concat([df_pr_old, df_new, df_pr_old_extra]).drop_duplicates().sort_values(by=['date', 'type']).reset_index(drop=True)\n",
    "# df = df[['date','type','header','text', 'url']]\n",
    "# df = df[(df.date.dt.date <= datetime.date(2022, 2, 1)) & (df.date.dt.date <= datetime.date(2022, 2, 1))]"
   ]
  },
  {
   "cell_type": "code",
   "execution_count": 70,
   "metadata": {},
   "outputs": [],
   "source": [
    "df = pd.concat([df, df_pr_old_extra]).drop_duplicates().sort_values(by=['date', 'type']).reset_index(drop=True)\n",
    "df = df[['date','type','header','text', 'url']]\n",
    "df.to_csv(\"main_upd.csv\", encoding=\"utf-8\", sep=\";\", index=False)    "
   ]
  },
  {
   "cell_type": "code",
   "execution_count": 82,
   "metadata": {},
   "outputs": [],
   "source": [
    "df = pd.read_csv(\"main_upd.csv\", sep=\";\")\n",
    "df1 = pd.read_csv(\"data1.csv\")\n",
    "\n",
    "df.date = pd.to_datetime(df.date).dt.date\n",
    "\n",
    "df[\"rate_flag\"] = (df.header.isin(set(df1['information.text'])) | ((df.type==\"Пресс-релиз\") & \n",
    "                                                  (df.header.str.find(\"Банк России принял\") > -1) &\n",
    "                                                  (df.header.str.find(\"ключ\") > -1))) * 1\n",
    "df.to_csv(\"main_upd1.csv\", encoding=\"utf-8\", sep=\";\", index=False)"
   ]
  },
  {
   "cell_type": "markdown",
   "metadata": {},
   "source": [
    "# Часть 3: добавляем данные и генерим текстовые переменные"
   ]
  },
  {
   "cell_type": "code",
   "execution_count": 23,
   "metadata": {
    "scrolled": false
   },
   "outputs": [],
   "source": [
    "df = pd.read_csv(\"main_upd1.csv\", encoding=\"utf-8\", sep=\";\")\n",
    "df.date = pd.to_datetime(df.date).dt.date\n",
    "df = df[df.type != 'Новость']\n",
    "\n",
    "df1 = df[df.type == 'Выступление']"
   ]
  },
  {
   "cell_type": "code",
   "execution_count": null,
   "metadata": {},
   "outputs": [],
   "source": [
    "df.header = df.header.str.replace(\"«\", '\"').str.replace(\"»\", '\"')"
   ]
  },
  {
   "cell_type": "code",
   "execution_count": 24,
   "metadata": {},
   "outputs": [],
   "source": [
    "# # все выступления Набиуллиной в один день с пресс-релизом\n",
    "# set(df1[df1.header.str.find(\"Заявление Председателя Банка России Эльвиры Набиуллиной\") > -1].date) - \\\n",
    "#     set(df[df.rate_flag == 1].date)\n",
    "\n",
    "# # df1.tail(10).header.tolist()\n",
    "# # ex_dates = set(df[df.rate_flag == 1].date) - set(df1[df1.header.str.find(\"Заявление Председателя Банка России Эльвиры Набиуллиной\") > -1].date)\n",
    "# # df[df.date.isin(ex_dates) & df.rate_flag==1]"
   ]
  },
  {
   "cell_type": "code",
   "execution_count": 25,
   "metadata": {},
   "outputs": [],
   "source": [
    "# df.loc[df.header.str.find(\"Заявление Председателя Банка России Эльвиры Набиуллиной\") > -1, \"rate_flag\"] = 1\n",
    "# df1.loc[df.header.str.find(\"Заявление Председателя Банка России Эльвиры Набиуллиной\") == -1]"
   ]
  },
  {
   "cell_type": "code",
   "execution_count": 34,
   "metadata": {},
   "outputs": [
    {
     "data": {
      "text/plain": [
       "['Выпускается монета к 100-летию Якутской АССР',\n",
       " 'Результаты мониторинга максимальных процентных ставок кредитных организаций',\n",
       " 'На сайте Банка России визуализирована статистика по выпущенным российскими эмитентами ценным бумагам',\n",
       " 'Выпускается монета к 220-летию МИД России',\n",
       " 'Банк России продлевает действие временного механизма поддержки кредитования субъектов МСП',\n",
       " 'Банк России начинает публикацию средних арифметических процентных ставок по вкладам физических лиц',\n",
       " 'Информация о деятельности временной администрации АО \"КС БАНК\"',\n",
       " 'Перечень кредитных организаций, в которые назначены уполномоченные представители Банка России',\n",
       " 'Результаты мониторинга максимальных процентных ставок кредитных организаций',\n",
       " 'Сергей Швецов покинет Банк России с 21 марта 2022 года',\n",
       " 'Владимир Чистюхин назначен первым заместителем Председателя Банка России, Филипп Габуния – заместителем Председателя Банка России',\n",
       " 'Дмитрий Скобелкин с 25 января 2022 года покинет Банк России',\n",
       " 'Юрий Исаев будет назначен заместителем Председателя Банка России',\n",
       " 'Алексей Гузнов назначен статс-секретарем – заместителем Председателя Банка России',\n",
       " 'Результаты мониторинга максимальных процентных ставок кредитных организаций',\n",
       " 'Банк России выпускает монеты \"Георгий Победоносец\", а также к 300-летию Российской прокуратуры и 100-летию Кабардино-Балкарской Республики',\n",
       " 'Информация о сопоставлении рейтинговых шкал российских кредитных рейтинговых агентств',\n",
       " 'Вышел очередной номер \"Вестника Банка России\"',\n",
       " 'Опубликована Программа обследований Банка России на первое полугодие 2022 года',\n",
       " 'Прекращена деятельность временной администрации по управлению кредитной организацией АО \"ОРБАНК\"',\n",
       " 'Прекращена деятельность временной администрации Общества с ограниченной ответственностью \"КАПИТАЛ ЭССЕТ МЕНЕДЖМЕНТ\"',\n",
       " 'Прекращена деятельность временной администрации по управлению кредитной организацией АКБ \"Проинвестбанк\" (АО)',\n",
       " 'Информация о порядке расчета и публикации процентной ставки RUONIA в период новогодних праздников',\n",
       " 'Вышел очередной номер \"Вестника Банка России\"',\n",
       " 'Банк России установил значение национальной антициклической надбавки Российской Федерации на уровне ноль процентов от взвешенных по риску активов',\n",
       " 'Результаты мониторинга максимальных процентных ставок кредитных организаций',\n",
       " 'Вышел очередной номер \"Вестника Банка России\"',\n",
       " 'Отозвана лицензия на осуществление банковских операций у НКО \"Премиум\" (ООО)',\n",
       " 'Банк России принял решение повысить ключевую ставку на 100 б.п., до 8,50% годовых',\n",
       " 'Банк России инициировал блокировку сайта ПК \"Бест Вей\"',\n",
       " 'Заявление Председателя Банка России Эльвиры Набиуллиной по итогам заседания Совета директоров Банка России 17 декабря 2021 года',\n",
       " 'Вышел очередной номер \"Вестника Банка России\"',\n",
       " 'Результаты мониторинга максимальных процентных ставок кредитных организаций',\n",
       " 'Северное сияние отчеканено в металле',\n",
       " 'Вышел очередной номер \"Вестника Банка России\"',\n",
       " 'Состоялось заседание Национального финансового совета',\n",
       " 'Вышел очередной номер \"Вестника Банка России\"',\n",
       " 'Информация о завершении размещения купонных облигаций Банка России',\n",
       " 'Вышел очередной номер \"Вестника Банка России\"',\n",
       " 'Информация об оценке платежной системы \"Мастеркард\"',\n",
       " 'Результаты мониторинга максимальных процентных ставок кредитных организаций',\n",
       " 'Информация о работе платежной системы Банка России 31 декабря 2021 года, 3, 4, 5 и 6 января 2022 года',\n",
       " 'Банк России обновляет порядок расчета процентной ставки RUONIA',\n",
       " 'Прекращена деятельность временной администрации по управлению кредитной организацией ООО КБ \"ПЛАТИНА\"',\n",
       " 'Информация о деятельности временной администрации АО \"АКТИВ БАНК\"',\n",
       " 'Банком России получена часть чистой прибыли \"Азиатско-Тихоокеанский Банк\" (АО) по результатам сделки с ТОО \"Pioneer Capital Invest\"',\n",
       " 'Самому доброму клоуну посвящается',\n",
       " 'Вышел очередной номер \"Вестника Банка России\"',\n",
       " 'На сайте Банка России пройдут технические работы',\n",
       " 'Вышел очередной номер \"Вестника Банка России\"',\n",
       " 'Перечень кредитных организаций, в которые назначены уполномоченные представители Банка России',\n",
       " 'Установлены факты манипулирования рынком на организованных торгах облигациями АО \"ТРИНФИКО Холдингс\"',\n",
       " 'На сайте Банка России визуализирована статистика по расширенному показателю долга нефинансового сектора и домашних хозяйств',\n",
       " 'Выступление Ксении Юдаевой на пресс-конференции: Обзор финансовой стабильности за II–III кварталы 2021 года',\n",
       " 'Вышел очередной номер \"Вестника Банка России\"',\n",
       " 'Результаты мониторинга максимальных процентных ставок кредитных организаций',\n",
       " 'Прекращена деятельность временной администрации по управлению кредитной организацией АО \"КС БАНК\"',\n",
       " 'Банк России выпускает монеты, посвященные городам трудовой доблести',\n",
       " 'Вышел очередной номер \"Вестника Банка России\"',\n",
       " 'Выступление Эльвиры Набиуллиной на пленарном заседании Государственной Думы РФ',\n",
       " 'Директор Департамента статистики Екатерина Прокунина выходит на пенсию',\n",
       " 'Вышел очередной номер \"Вестника Банка России\"',\n",
       " 'Состоялось заседание Национального финансового совета',\n",
       " 'Результаты мониторинга максимальных процентных ставок кредитных организаций',\n",
       " 'Банк России принял решение о госрегистрации вновь созданной небанковской кредитной организации – ООО РНКО \"ЮСиЭс\"',\n",
       " 'Выступление Эльвиры Набиуллиной на совместном заседании профильных комитетов Госдумы по Основным направлениям единой государственной денежно-кредитной политики на 2022 — 2024 годы',\n",
       " 'На сайте Банка России визуализирована статистика по денежным агрегатам',\n",
       " 'Вышел очередной номер \"Вестника Банка России\"',\n",
       " 'Информация о завершении размещения купонных облигаций Банка России',\n",
       " 'На сайте Банка России пройдут технические работы',\n",
       " 'Банк России выпускает монеты, посвященные Карачаево-Черкесской Республике',\n",
       " 'Результаты мониторинга максимальных процентных ставок кредитных организаций',\n",
       " 'Вышел очередной номер \"Вестника Банка России\"',\n",
       " 'Утвержден обновленный список участников RUONIA',\n",
       " 'Отозвана лицензия на осуществление банковских операций у КБ \"Спутник\" (ПАО)',\n",
       " 'Вышел очередной номер \"Вестника Банка России\"',\n",
       " 'Информация о размещении купонных облигаций Банка России',\n",
       " 'Перечень кредитных организаций, в которые назначены уполномоченные представители Банка России',\n",
       " 'Информация об оценке платежной системы \"Сбербанк\"',\n",
       " 'Состоялось заседание Национального финансового совета',\n",
       " 'Вышел очередной номер \"Вестника Банка России\"',\n",
       " 'Банк России будет использовать кредитные рейтинги кредитных организаций при проведении операций предоставления ликвидности',\n",
       " 'Банк России принял решение повысить ключевую ставку на 75 б.п., до 7,50% годовых',\n",
       " 'Информация о работе платежной системы Банка России 28, 29 октября, 1, 2, 3 и 5 ноября 2021 года',\n",
       " 'Информация о расчете и публикации Банком России ставки RUONIA и ставок группы MIACR',\n",
       " 'Работа финансового сектора в период с 30 октября по 7 ноября 2021 года',\n",
       " 'Информация об операциях Банка России с 28 по 29 октября и с 1 по 3 ноября 2021 года',\n",
       " 'Банк России окажет дополнительную поддержку кредитованию субъектов МСП',\n",
       " 'Результаты мониторинга максимальных процентных ставок кредитных организаций',\n",
       " 'Заявление Председателя Банка России Эльвиры Набиуллиной по итогам заседания Совета директоров Банка России 22 октября 2021 года',\n",
       " 'Вышел очередной номер \"Вестника Банка России\"',\n",
       " 'Банк России выпускает памятные монеты с персонажами мультсериала',\n",
       " 'Прекращена деятельность временной администрации по управлению кредитной организацией НКО \"Русское финансовое общество\" (ООО)',\n",
       " 'Использование роботов на бирже в период повышенного спроса на нефтепродукты может привести к дискриминации участников рынка: позиция ФАС и Банка России',\n",
       " 'Информация о завершении размещения купонных облигаций Банка России',\n",
       " 'Вышел очередной номер \"Вестника Банка России\"',\n",
       " 'Прекращена деятельность временной администрации акционерного общества \"Страховая группа \"ПРЕСТИЖ-ПОЛИС\"',\n",
       " 'Прекращена деятельность временной администрации по управлению кредитной организацией АО \"АКТИВ БАНК\"',\n",
       " 'Результаты мониторинга максимальных процентных ставок кредитных организаций',\n",
       " 'Денис Новак назначен уполномоченным по правам потребителей финансовых услуг',\n",
       " 'Банк России утвердил перечень системно значимых кредитных организаций',\n",
       " 'Банк России выпускает монету в честь юбилея Вахтанговского театра',\n",
       " 'Отозвана лицензия на осуществление банковских операций у АО \"ОРБАНК\"',\n",
       " 'Вышел очередной номер \"Вестника Банка России\"',\n",
       " 'Выступление Алексея Заботкина о публикации плана аналитических работ и мероприятий по Обзору денежно-кредитной политики Банка России',\n",
       " 'Банк России выпускает монету, посвященную Николаю Некрасову',\n",
       " 'ТОО \"Pioneer Capital Invest\" стал владельцем Азиатско-Тихоокеанского Банка (АО)',\n",
       " 'Банк России провел торги по продаже кредитных историй, принятых на хранение в Центральный каталог кредитных историй от ООО \"Специализированное Кредитное Бюро\"',\n",
       " 'Результаты мониторинга максимальных процентных ставок кредитных организаций',\n",
       " 'Вышел очередной номер \"Вестника Банка России\"',\n",
       " 'Банк России завершил реализацию мер по повышению финансовой устойчивости \"Азиатско-Тихоокеанский Банк\" (АО)',\n",
       " 'Совет директоров Банка России принял решение о включении ценных бумаг в Ломбардный список',\n",
       " 'Банк России установил значение национальной антициклической надбавки Российской Федерации на уровне ноль процентов от взвешенных по риску активов',\n",
       " 'Опубликована Программа обследований Банка России на IV квартал 2021 года – I квартал 2022 года',\n",
       " 'Информация для клиентов ООО КБ \"ПЛАТИНА\"',\n",
       " 'Банк России опубликовал новые статистические данные по внешней торговле услугами',\n",
       " 'Вышел очередной номер \"Вестника Банка России\"',\n",
       " 'Установлены факты манипулирования рынком на торгах ряда ценных бумаг Пермяковым А.Н., Смирновым А.А., Байрамовой Е.Ю.',\n",
       " 'Аннулирована лицензия на осуществление банковских операций у НКО \"ФИНЧЕР\" (ООО)',\n",
       " 'Опубликована новая редакция Условий проведения операций по предоставлению и погашению кредитов Банка России',\n",
       " 'Прекращена деятельность временной администрации по управлению кредитной организацией Акционерное общество \"МАЙКОПБАНК\"',\n",
       " 'Банк России перенес на 1 апреля 2022 года срок вступления в силу нового порядка расчета размера обязательных резервов и дату изменения обязательных резервных требований',\n",
       " 'Результаты мониторинга максимальных процентных ставок кредитных организаций',\n",
       " 'Вышел очередной номер \"Вестника Банка России\"',\n",
       " 'Выступление Эльвиры Набиуллиной на заседании Совета Федерации',\n",
       " 'Прекращена деятельность временной администрации по управлению кредитной организацией АО \"РУНА-БАНК\"',\n",
       " 'Отозвана лицензия на осуществление банковских операций у ООО КБ \"ПЛАТИНА\"',\n",
       " 'Победителем торгов по реализации акций \"Азиатско-Тихоокеанского Банка\" (АО) стал ТОО \"Pioneer Capital Invest\"',\n",
       " 'Прекращена деятельность временной администрации по управлению кредитной организацией ПАО \"Энергомашбанк\"',\n",
       " 'Выступление Эльвиры Набиуллиной на XVIII Международном банковском форуме',\n",
       " 'Результаты мониторинга максимальных процентных ставок кредитных организаций',\n",
       " 'Вышел очередной номер \"Вестника Банка России\"',\n",
       " 'Банк России централизует банковское регулирование и аналитику',\n",
       " 'Информация о направлении заявок кредитных организаций на участие в депозитном аукционе',\n",
       " 'Информация о сроке вступления в силу нового порядка расчета размера обязательных резервов',\n",
       " 'Банк России возложил на АСВ функции временной администрации по управлению КБ \"Спутник\" (ПАО) и ввел мораторий на удовлетворение требований кредиторов банка',\n",
       " 'Банк России принял решение повысить ключевую ставку на 25 б.п., до 6,75% годовых',\n",
       " 'Информация о деятельности временной администрации общества с ограниченной ответственностью \"Розничное и корпоративное страхование\"',\n",
       " 'Заявление Председателя Банка России Эльвиры Набиуллиной по итогам заседания Совета директоров Банка России 10 сентября 2021 года',\n",
       " 'Вышел очередной номер \"Вестника Банка России\"',\n",
       " 'Банк России выпускает монету, посвященную Федору Достоевскому',\n",
       " 'Информация о завершении размещения купонных облигаций Банка России',\n",
       " 'Вышел очередной номер \"Вестника Банка России\"',\n",
       " 'Прекращена деятельность временной администрации по управлению кредитной организацией АО \"РФИ БАНК\"',\n",
       " 'Прекращена деятельность временной администрации по управлению кредитной организацией АКБ \"ИРС\" (АО)',\n",
       " 'Результаты мониторинга максимальных процентных ставок кредитных организаций',\n",
       " 'Информация о размещении купонных облигаций Банка России',\n",
       " 'Выступление заместителя Председателя Банка России Алексея Заботкина об Основных направлениях единой государственной денежно-кредитной политики на 2022 год и период 2023 и 2024 годов',\n",
       " 'Вышел очередной номер \"Вестника Банка России\"',\n",
       " 'Прекращена деятельность временной администрации по управлению кредитной организацией АО КБ \"ИНТЕРПРОМБАНК\"',\n",
       " 'Информация о работе платежной системы Банка России 28 и 29 августа 2021 года',\n",
       " 'Прекращена деятельность временной администрации по управлению кредитной организацией ООО РНКО \"Платежный Стандарт\"',\n",
       " 'Банк России выпускает инвестиционную монету из серебра',\n",
       " 'Информация о деятельности временной администрации ООО КБ \"Мегаполис\"',\n",
       " 'Вышел очередной номер \"Вестника Банка России\"',\n",
       " 'Результаты мониторинга максимальных процентных ставок кредитных организаций',\n",
       " 'Перечень кредитных организаций, в которые назначены уполномоченные представители Банка России',\n",
       " 'Информация о работе платежной системы Банка России 21 и 22 августа 2021 года',\n",
       " 'Прекращена деятельность временной администрации по управлению кредитной организацией НКО Красноярский Краевой Расчетный Центр ООО',\n",
       " 'Информация о результатах проведенного временной администрацией обследования кредитной организации АО КБ \"ИНТЕРПРОМБАНК\"',\n",
       " 'Вышел очередной номер \"Вестника Банка России\"',\n",
       " 'Первый российский паровоз теперь на монете Банка России',\n",
       " 'Банк России меняет регулятивные требования по оценке рисков банков в отношении ВЭБ.РФ',\n",
       " 'Информация о работе платежной системы Банка России 14 августа 2021 года',\n",
       " 'Банк России изменил требования к классам ценных бумаг для включения в Ломбардный список',\n",
       " 'Банк России принял решение о проведении торгов по продаже кредитных историй, принятых на хранение от ООО \"Специализированное Кредитное Бюро\"',\n",
       " 'Результаты мониторинга максимальных процентных ставок кредитных организаций',\n",
       " 'Установлены факты манипулирования рынком на организованных торгах облигациями АО \"Коммерческая недвижимость ФПК \"Гарант-Инвест\"',\n",
       " 'Информация о завершении размещения купонных облигаций Банка России',\n",
       " 'Вышел очередной номер \"Вестника Банка России\"',\n",
       " 'Прекращена деятельность временной администрации по управлению кредитной организацией КБ \"Геобанк\" (ООО)',\n",
       " 'Прекращена деятельность временной администрации общества с ограниченной ответственностью \"Национальная страховая группа – \"РОСЭНЕРГО\"',\n",
       " 'Заместитель Председателя Банка России — руководитель ГИБР Владимир Сафронов выходит на пенсию',\n",
       " 'Банк России выпускает монету в память о великом Циолковском',\n",
       " 'Информация о деятельности временной администрации АО \"НЕФТЕПРОМБАНК\"',\n",
       " 'Отозвана лицензия на осуществление банковских операций у АО \"КС БАНК\"',\n",
       " 'Вышел очередной номер \"Вестника Банка России\"',\n",
       " 'Прекращена деятельность временной администрации по управлению кредитной организацией АО \"Заубер Банк\"',\n",
       " 'Вышел очередной номер \"Вестника Банка России\"',\n",
       " 'Установлены факты манипулирования рынком на организованных торгах биржевых облигаций ООО \"Диалекс\"',\n",
       " 'Результаты мониторинга максимальных процентных ставок кредитных организаций',\n",
       " 'Вышел очередной номер \"Вестника Банка России\"',\n",
       " 'Начинается прием сообщений о намерении принять участие в реализации акций ПАО Банк \"ФК Открытие\"',\n",
       " 'Банк России опубликовал отчет о деятельности Комитета по наблюдению за процентной ставкой RUONIA за первое полугодие 2021 года',\n",
       " 'Прекращена деятельность временной администрации общества с ограниченной ответственностью \"Розничное и корпоративное страхование\"',\n",
       " 'Информация о работе платежной системы Банка России 31 июля 2021 года',\n",
       " 'Вышел очередной номер \"Вестника Банка России\"',\n",
       " 'Банк России повышает макропруденциальные требования по необеспеченным потребительским кредитам с высокими значениями ПСК и ПДН',\n",
       " 'Вышел очередной номер \"Вестника Банка России\"',\n",
       " 'Прекращена деятельность временной администрации по управлению кредитной организацией РОСКОМСНАББАНК (ПАО)',\n",
       " 'Установлены уровни кредитного рейтинга для целей инвестирования пенсионных накоплений и пенсионных резервов в активы центральных контрагентов',\n",
       " 'Банк России изменяет обязательные резервные требования и устанавливает коэффициенты для расчета резервируемых обязательств',\n",
       " 'На сайте Банка России визуализирована статистика сектора \"Домашние хозяйства\"',\n",
       " 'Прекращена деятельность временной администрации по управлению кредитной организацией АО РНКО \"Нарат\"',\n",
       " 'Результаты мониторинга максимальных процентных ставок кредитных организаций',\n",
       " 'Отозвана лицензия на осуществление банковских операций у АО \"РУНА-БАНК\"',\n",
       " 'Отозвана лицензия на осуществление банковских операций у НКО \"Русское финансовое общество\" (ООО)',\n",
       " 'Банк России принял решение повысить ключевую ставку на 100 б.п., до 6,50% годовых',\n",
       " 'Банк России принял решение о реализации акций \"Азиатско-Тихоокеанский Банк\" (АО)',\n",
       " 'Информация о деятельности временной администрации АО \"МАЙКОПБАНК\"',\n",
       " 'Банк России изменил порядок определения процентной ставки в рамках механизмов поддержки кредитования субъектов МСП',\n",
       " 'Заявление Председателя Банка России Эльвиры Набиуллиной по итогам заседания Совета директоров Банка России 23 июля 2021 года',\n",
       " 'Вышел очередной номер \"Вестника Банка России\"',\n",
       " 'Вышел очередной номер \"Вестника Банка России\"',\n",
       " 'Вышел очередной номер \"Вестника Банка России\"',\n",
       " 'На сайте Банка России открыт раздел о поддержке малого и среднего предпринимательства',\n",
       " 'Результаты мониторинга максимальных процентных ставок кредитных организаций',\n",
       " 'Завершен прием сообщений о намерении принять участие в реализации акций \"Азиатско-Тихоокеанский Банк\" (АО)',\n",
       " 'На сайте Банка России создан подраздел финансирования устойчивого развития',\n",
       " 'Установлены факты манипулирования рынком на организованных торгах ряда опционов',\n",
       " 'Информация о работе платежной системы Банка России 17 и 18 июля 2021 года',\n",
       " 'Вышел очередной номер \"Вестника Банка России\"',\n",
       " 'Прекращена деятельность временной администрации по управлению кредитной организацией АО \"НЕФТЕПРОМБАНК\"',\n",
       " 'Банк России установил порядок направления информации о контролирующих лицах финансовых организаций',\n",
       " 'Информация о завершении размещения купонных облигаций Банка России',\n",
       " 'Банк России выпускает памятную монету, посвященную работнику нефтегазовой отрасли',\n",
       " 'Вышел очередной номер \"Вестника Банка России\"',\n",
       " 'Банк России выпускает памятные монеты, посвященные Калуге и Республике Коми',\n",
       " 'Вышел очередной номер \"Вестника Банка России\"',\n",
       " 'Информация о работе платежной системы Банка России',\n",
       " 'Вышел очередной номер \"Вестника Банка России\"',\n",
       " 'На сайте Банка России обновлен раздел \"Исследования\"',\n",
       " 'Вышел очередной номер \"Вестника Банка России\"',\n",
       " 'Банк России опубликовал предложения по расчету срочных версий процентной ставки RUONIA',\n",
       " 'Информация о допуске к конкурсу по отбору аудитора годовой финансовой отчетности Банка России за 2021 год',\n",
       " 'Евгений Писаревский освобожден от должности финансового уполномоченного по правам потребителей в сферах финансовых услуг',\n",
       " 'Вышел очередной номер \"Вестника Банка России\"',\n",
       " 'Результаты мониторинга максимальных процентных ставок кредитных организаций',\n",
       " 'Продлен срок приема сообщений о намерении принять участие в реализации акций \"Азиатско-Тихоокеанский Банк\" (АО)',\n",
       " 'Банк России начинает ежеквартальную публикацию данных о финансовых активах и обязательствах сектора \"Домашние хозяйства\"',\n",
       " 'Вышел очередной номер \"Вестника Банка России\"',\n",
       " 'Опубликована Программа обследований Банка России на второе полугодие 2021 года',\n",
       " 'Информация о результатах проведенного временной администрацией обследования страховой организации ООО \"НСГ – \"РОСЭНЕРГО\"',\n",
       " 'Информация о результатах проведенного временной администрацией обследования страховой организации АО \"Страховая группа \"Спасские ворота-М\"',\n",
       " 'Выступление Эльвиры Набиуллиной на Международном финансовом конгрессе',\n",
       " 'Банк России выпускает памятные монеты с медвежонком Умкой',\n",
       " 'На сайте Банка России обновлен раздел \"Статистика\"',\n",
       " 'Банк России продолжил выдачу разрешений на использование подхода к оценке кредитного риска на основе внутренних рейтингов',\n",
       " 'Вышел очередной номер \"Вестника Банка России\"',\n",
       " 'Утверждены рекомендации о предоставлении проектного финансирования жилья с использованием счетов эскроу',\n",
       " 'Отозвана лицензия на осуществление банковских операций у АО \"АКТИВ БАНК\"',\n",
       " 'Состоялось первое заседание совместной Рабочей группы Правительства Российской Федерации и Банка России по развитию финансовых инструментов',\n",
       " 'Прекращена деятельность временной администрации по управлению кредитной организацией БАНК \"НЕЙВА\" ООО',\n",
       " 'Информация о работе платежной системы Банка России 26 июня 2021 года',\n",
       " 'Банк России сохранил значение национальной антициклической надбавки Российской Федерации',\n",
       " 'Банк России выпускает в обращение инвестиционные монеты из драгоценного металла',\n",
       " 'Вышел очередной номер \"Вестника Банка России\"',\n",
       " 'Прекращена деятельность временной администрации по управлению кредитной организацией АО КБ \"ФорБанк\"',\n",
       " 'Прекращена деятельность временной администрации по управлению кредитной организацией ООО РНКО \"РИБ\"',\n",
       " 'Результаты мониторинга максимальных процентных ставок кредитных организаций',\n",
       " 'Прекращена деятельность временной администрации по управлению кредитной организацией ООО КБ \"Мегаполис\"',\n",
       " 'Прекращена деятельность временной администрации по управлению кредитной организацией КБ \"ССтБ\" (ООО)',\n",
       " 'Кирилл Пронин назначен директором Департамента финансовых технологий',\n",
       " 'Вышел очередной номер \"Вестника Банка России\"',\n",
       " 'Банк России с октября текущего года начнет применять упрощенный подход к формированию обязательных резервов кредитных организаций',\n",
       " 'Совет директоров Банка России принял решение о включении ценных бумаг в Ломбардный список',\n",
       " 'Вышел очередной номер \"Вестника Банка России\"',\n",
       " 'Информация о расчете и публикации Банком России ставки RUONIA и ставок группы MIACR',\n",
       " 'Перечень кредитных организаций, в которые назначены уполномоченные представители Банка России',\n",
       " 'Выступление Эльвиры Набиуллиной на пленарном заседании Государственной Думы, посвященном рассмотрению Годового отчета Банка России за 2020 год',\n",
       " 'Информация о расчетном и кассовом обслуживании клиентов Банка России 15, 16, 17 и 18 июня 2021 года',\n",
       " 'Информация об операциях Банка России с 15 по 18 июня 2021 года',\n",
       " 'Работа финансового сектора г. Москвы в период с 15 по 18 июня 2021 года',\n",
       " 'Информация о работе платежной системы Банка России 15, 16, 17 и 18 июня 2021 года',\n",
       " 'Банк России принял решение повысить ключевую ставку на 50 б.п., до 5,50% годовых',\n",
       " 'Результаты мониторинга максимальных процентных ставок кредитных организаций',\n",
       " 'Заявление Председателя Банка России Эльвиры Набиуллиной по итогам заседания Совета директоров 11 июня 2021 года',\n",
       " 'Сергей Белов переведен на должность начальника Департамента полевых учреждений Банка России',\n",
       " 'Банк России признал бюро кредитных историй акционерное общество \"Объединенное Кредитное Бюро\" квалифицированным',\n",
       " 'Отозвана лицензия на осуществление банковских операций у ПАО \"Энергомашбанк\"',\n",
       " 'Информация о работе платежной системы Банка России 14 июня 2021 года',\n",
       " 'Банк России выпускает памятную монету, посвященную Кузбассу',\n",
       " 'Вышел очередной номер \"Вестника Банка России\"',\n",
       " 'Информация о завершении размещения купонных облигаций Банка России',\n",
       " 'Отозвана лицензия на осуществление банковских операций у АО \"РФИ БАНК\"',\n",
       " 'Банк России признал бюро кредитных историй общество с ограниченной ответственностью \"Бюро кредитных историй Эквифакс\" квалифицированным',\n",
       " 'Вышел очередной номер \"Вестника Банка России\"',\n",
       " 'Национальный финансовый совет объявляет конкурс по определению аудиторской организации — аудитора годовой финансовой отчетности Банка России',\n",
       " 'Результаты мониторинга максимальных процентных ставок кредитных организаций',\n",
       " 'Состоялось заседание Национального финансового совета',\n",
       " 'Выступление Сергея Швецова и Валерия Ляха на пресс-конференции о работе Банка России по противодействию нелегальной деятельности на финансовом рынке',\n",
       " 'Прекращена деятельность временной администрации по управлению кредитной организацией ООО \"ЮМК банк\"',\n",
       " 'Отозвана лицензия на осуществление банковских операций у АО \"Заубер Банк\"',\n",
       " 'Отозвана лицензия на осуществление банковских операций у АКБ \"ИРС\" (АО)',\n",
       " 'Отозвана лицензия на осуществление банковских операций у АО РНКО \"Нарат\"',\n",
       " 'Вышел очередной номер \"Вестника Банка России\"',\n",
       " 'Банк России исключил бюро кредитных историй общество с ограниченной ответственностью \"Специализированное Кредитное Бюро\" из государственного реестра бюро кредитных историй',\n",
       " 'На сайте Банка России пройдут технические работы',\n",
       " 'Выступление Эльвиры Набиуллиной на съезде Ассоциации банков России',\n",
       " 'Банк России выпускает памятные монеты, посвященные 800-летию Нижнего Новгорода',\n",
       " 'Выступление Эльвиры Набиуллиной на совместном заседании профильных комитетов Государственной Думы, посвященном рассмотрению Годового отчета Банка России за 2020 год',\n",
       " 'Выступление Ксении Юдаевой на пресс-конференции: обзор финансовой стабильности за IV квартал 2020 – I квартал 2021 года',\n",
       " 'Максим Любомудров назначен директором Департамента надзора за системно значимыми кредитными организациями',\n",
       " 'Вышел очередной номер \"Вестника Банка России\"',\n",
       " 'Информация о размещении купонных облигаций Банка России',\n",
       " 'Перечень кредитных организаций, в которые назначены уполномоченные представители Банка России',\n",
       " 'Прекращена деятельность временной администрации по управлению кредитной организацией АО НКО \"Сетевая Расчетная Палата\"',\n",
       " 'Результаты мониторинга максимальных процентных ставок кредитных организаций',\n",
       " 'Отозвана лицензия на осуществление банковских операций у НКО Красноярский Краевой Расчетный Центр ООО',\n",
       " 'Банк России повышает макропруденциальные требования по ипотечным кредитам',\n",
       " 'Банк России уточняет порядок расчета резервного значения процентной ставки RUONIA',\n",
       " 'Вышел очередной номер \"Вестника Банка России\"',\n",
       " 'Вышел очередной номер \"Вестника Банка России\"',\n",
       " 'Результаты мониторинга максимальных процентных ставок кредитных организаций',\n",
       " 'Аннулирована лицензия на осуществление банковских операций у АО \"Тексбанк\"',\n",
       " 'Вышел очередной номер \"Вестника Банка России\"',\n",
       " 'Информация о деятельности временной администрации общества с ограниченной ответственностью \"Розничное и корпоративное страхование\"',\n",
       " 'Банк России признал бюро кредитных историй акционерное общество \"Национальное бюро кредитных историй\" квалифицированным',\n",
       " 'Результаты мониторинга максимальных процентных ставок кредитных организаций',\n",
       " 'Начинается прием сообщений о намерении принять участие в реализации акций \"Азиатско-Тихоокеанский Банк\" (АО)',\n",
       " 'Банк России выпускает в обращение памятные монеты из драгоценных металлов',\n",
       " 'Банк России изменил структуру представления данных о привлеченных средствах',\n",
       " 'Вышел очередной номер \"Вестника Банка России\"',\n",
       " 'Прекращена деятельность временной администрации Акционерного общества \"Страховая группа \"Спасские ворота-М\"',\n",
       " 'Увеличены сроки представления в Банк России первичных статистических данных по формам федерального статистического наблюдения',\n",
       " 'Информация о расчете и публикации Банком России ставки RUONIA и ставок группы MIACR',\n",
       " 'Банк России утвердил изменения в Планы участия ПАО \"МИнБанк\" и Банка \"ТРАСТ\" (ПАО)',\n",
       " 'Банк России перейдет к использованию ставок SOFR и €STR по операциям \"валютный своп\" с 1 января 2022 года',\n",
       " 'О завершении размещения купонных облигаций Банка России',\n",
       " 'Банк России высвобождает макропруденциальный запас капитала банков по потребительским кредитам и возвращается к допандемическим макропруденциальным требованиям',\n",
       " 'Совет директоров Банка России принял решение о включении ценных бумаг в Ломбардный список',\n",
       " 'Вышел очередной номер \"Вестника Банка России\"',\n",
       " 'Информация о работе платежной системы Банка России 4, 5, 6, 7 и 10 мая 2021 года',\n",
       " 'Работа финансового сектора в период с 4 по 7 мая 2021 года',\n",
       " 'Банк России опубликовал проект порядка отбора кредитных организаций для списка участников RUONIA',\n",
       " 'Информация об операциях Банка России с 4 по 7 мая 2021 года',\n",
       " 'Отозвана лицензия на осуществление банковских операций у АКБ \"Проинвестбанк\" (АО)',\n",
       " 'Банк России принял решение повысить ключевую ставку на 50 б.п., до 5,00% годовых',\n",
       " 'Результаты мониторинга максимальных процентных ставок кредитных организаций',\n",
       " 'На сайте Банка России пройдут технические работы',\n",
       " 'Заявление Председателя Банка России Эльвиры Набиуллиной по итогам заседания Совета директоров 23 апреля 2021 года',\n",
       " 'Вышел очередной номер \"Вестника Банка России\"',\n",
       " 'На сайте Банка России заработал сервис подписки на обновления',\n",
       " 'Снизилось значение норматива достаточности базового капитала ПАО КБ \"Восточный\"',\n",
       " 'Банк России выпускает памятную монету, посвященную Андрею Сахарову',\n",
       " 'Перечень кредитных организаций, в которые назначены уполномоченные представители Банка России',\n",
       " 'Отозвана лицензия на осуществление банковских операций у БАНК \"НЕЙВА\" ООО',\n",
       " 'Отозвана лицензия на осуществление банковских операций у АО КБ \"ИНТЕРПРОМБАНК\"',\n",
       " 'Аннулирована лицензия на осуществление банковских операций у АО \"Нордеа Банк\"',\n",
       " 'О завершении размещения купонных облигаций Банка России',\n",
       " 'Установлены факты манипулирования рынком на торгах ряда ценных бумаг',\n",
       " 'Вышел очередной номер \"Вестника Банка России\"',\n",
       " 'Результаты мониторинга максимальных процентных ставок кредитных организаций',\n",
       " 'Выступление Эльвиры Набиуллиной на встрече с региональными банками в Совете Федерации',\n",
       " 'Отозвана лицензия на осуществление банковских операций у АО \"НЕФТЕПРОМБАНК\"',\n",
       " 'Аннулирована лицензия на осуществление банковских операций у НКО \"ЭПС\" (ООО)',\n",
       " 'Установлены факты манипулирования рынком на организованных торгах облигациями ООО \"РИТ\", ООО \"Трансбалтстрой\", ООО \"ГарантСтрой\", ООО \"УАХМ-ФИНАНС\" и ПАО \"Волга Капитал\"',\n",
       " 'Вышел очередной номер \"Вестника Банка России\"',\n",
       " 'Отозвана лицензия на осуществление банковских операций у КБ \"Геобанк\" (ООО)',\n",
       " 'Отозвана лицензия на осуществление банковских операций у АО \"МАЙКОПБАНК\"',\n",
       " 'Отозвана лицензия на осуществление банковских операций у ООО РНКО \"РИБ\"',\n",
       " 'Михаил Ковригин назначен директором Департамента стратегического развития финансового рынка',\n",
       " 'Временная администрация общества с ограниченной ответственностью \"Национальная страховая группа – \"РОСЭНЕРГО\" установила недостачу бланков страховых полисов ОСАГО',\n",
       " 'Результаты мониторинга максимальных процентных ставок кредитных организаций',\n",
       " 'Информация об исключении сведений о Корпорации \"МаниГрам Пэймент Системс, Инк.\" из реестра операторов иностранных платежных систем',\n",
       " 'Вышел очередной номер \"Вестника Банка России\"',\n",
       " 'Банк России выпускает в обращение памятные монеты \"60-летие первого полета человека в космос\"',\n",
       " 'Прекращена деятельность временной администрации по управлению кредитной организацией Коммерческий банк \"ФинТех\" (ООО)',\n",
       " 'Опубликована Программа обследований Банка России на II и III кварталы 2021 года',\n",
       " 'Состоялось заседание Национального финансового совета',\n",
       " 'Отозвана лицензия на осуществление банковских операций у ООО КБ \"Мегаполис\"',\n",
       " 'Размещен перечень респондентов федерального статистического наблюдения по статистике внешнего сектора',\n",
       " 'Информация о признании Банком России кредитных организаций значимыми на рынке платежных услуг',\n",
       " 'Вышел очередной номер \"Вестника Банка России\"',\n",
       " 'Перечень кредитных организаций, в которые назначены уполномоченные представители Банка России',\n",
       " 'Результаты мониторинга максимальных процентных ставок кредитных организаций',\n",
       " 'Информация о плане выпуска в обращение модернизированных банкнот Банка России',\n",
       " 'Статистический бюллетень о кредитовании субъектов МСП дополнен региональным разделом',\n",
       " 'Отозвана лицензия на осуществление банковских операций у ООО \"ЮМК банк\"',\n",
       " 'Банк России принял решение повысить ключевую ставку на 25 б.п., до 4,50% годовых',\n",
       " 'Банк России сохранил значение национальной антициклической надбавки Российской Федерации и надбавок к коэффициентам риска',\n",
       " 'Информация об операциях Банка России с 7 по 11 мая и с 11 по 15 июня 2021 года',\n",
       " 'Заявление Председателя Банка России Эльвиры Набиуллиной по итогам заседания Совета директоров 19 марта 2021 года',\n",
       " 'Вышел очередной номер \"Вестника Банка России\"',\n",
       " 'Установлены факты манипулирования рынком на торгах ряда ценных бумаг Д.В. Шарчилевым',\n",
       " 'Прекращена деятельность временной администрации по управлению кредитной организацией Банк \"Прохладный\" ООО',\n",
       " 'Вышел очередной номер \"Вестника Банка России\"',\n",
       " 'Прекращена деятельность временной администрации по управлению кредитной организацией ООО КБ \"Евроазиатский Инвестиционный Банк\"',\n",
       " 'Отозвана лицензия на осуществление банковских операций у АО КБ \"ФорБанк\"',\n",
       " 'Отозвана лицензия на осуществление банковских операций у КБ \"ССтБ\" (ООО)',\n",
       " 'Отозвана лицензия на осуществление банковских операций у АО НКО \"Сетевая Расчетная Палата\"',\n",
       " 'Аннулирована лицензия на осуществление банковских операций у ООО КБ \"Альба Альянс\"',\n",
       " 'Вышел очередной номер \"Вестника Банка России\"',\n",
       " 'Результаты мониторинга максимальных процентных ставок кредитных организаций',\n",
       " 'Вышел очередной номер \"Вестника Банка России\"',\n",
       " 'Информация о завершении размещения купонных облигаций Банка России',\n",
       " 'Банк России впервые выдал лицензию на осуществление депозитарной деятельности организации, имеющей лицензию на ведение реестра владельцев ценных бумаг',\n",
       " 'Банк России выпускает в обращение памятные монеты из драгоценных металлов',\n",
       " 'На сайте Банка России пройдут технические работы',\n",
       " 'Вышел очередной номер \"Вестника Банка России\"',\n",
       " 'Установлены факты манипулирования рынком на организованных торгах облигациями ООО \"Спектр\", ООО \"РИТ\", ООО \"Трансбалтстрой\" и ООО \"УАХМ-ФИНАНС\"',\n",
       " 'Информационный бюллетень \"Сведения о рынке ипотечного жилищного кредитования в России\" дополнен региональным разделом',\n",
       " 'Результаты мониторинга максимальных процентных ставок кредитных организаций',\n",
       " 'На сайте Банка России обновлено навигационное меню',\n",
       " 'Результаты мониторинга максимальных процентных ставок кредитных организаций',\n",
       " 'Опубликован Отчет о деятельности Комитета по наблюдению за процентной ставкой RUONIA за второе полугодие 2020 года',\n",
       " 'Вышел очередной номер \"Вестника Банка России\"',\n",
       " 'Установлены факты манипулирования рынками ряда ценных бумаг',\n",
       " 'Банк России изменил параметры безотзывной кредитной линии',\n",
       " 'Прекращена деятельность временной администрации по управлению кредитной организацией АО Банк \"Онего\"',\n",
       " 'Вышел очередной номер \"Вестника Банка России\"',\n",
       " 'Информация об участии Банка России в Программе оценки финансового сектора (FSAP) МВФ и Всемирного банка в 2021 году',\n",
       " 'Прекращена деятельность временной администрации по управлению кредитной организацией ПАО АРКБ \"Росбизнесбанк\"',\n",
       " 'Банк России расширяет публикацию статистики по структуре кредитного портфеля',\n",
       " 'Выступление Владимира Чистюхина на онлайн-брифинге о состоянии сегмента вмененного страхования в России',\n",
       " 'Аннулирована лицензия на осуществление банковских операций у ООО \"Банк ПСА Финанс РУС\"',\n",
       " 'Установлены факты манипулирования рынками акций ОАО \"Сургутнефтегаз\"',\n",
       " 'Информация о размещении купонных облигаций Банка России',\n",
       " 'Прекращена деятельность временной администрации по управлению кредитной организацией \"Международный коммерческий банк\" (акционерное общество)',\n",
       " 'Выступление Эльвиры Набиуллиной на встрече Ассоциации банков России',\n",
       " 'Совет директоров Банка России принял решение о включении ценных бумаг в Ломбардный список',\n",
       " 'Вышел очередной номер \"Вестника Банка России\"',\n",
       " 'Информация о работе платежной системы Банка России 22 февраля 2021 года',\n",
       " 'Вышел очередной номер \"Вестника Банка России\"',\n",
       " 'Банк России принял решение сохранить ключевую ставку на уровне 4,25% годовых',\n",
       " 'Перечень кредитных организаций, в которые назначены уполномоченные представители Банка России',\n",
       " 'Результаты мониторинга максимальных процентных ставок кредитных организаций',\n",
       " 'Заявление Председателя Банка России Эльвиры Набиуллиной по итогам заседания Совета директоров 12 февраля 2021 года',\n",
       " 'Вышел очередной номер \"Вестника Банка России\"',\n",
       " 'Банк России расширяет публикацию статистики по выпущенным долговым ценным бумагам',\n",
       " 'Результаты мониторинга максимальных процентных ставок кредитных организаций',\n",
       " 'Платежная система НРД соответствует международному стандарту управления рисками',\n",
       " 'Вышел очередной номер \"Вестника Банка России\"',\n",
       " 'Вышел очередной номер \"Вестника Банка России\"',\n",
       " 'Информация о деятельности временных администраций ООО \"Банк \"Майский\" и Банка \"Прохладный\" ООО',\n",
       " 'Банк России выпускает в обращение памятную монету из драгоценного металла',\n",
       " 'Опубликованы новые статистические данные',\n",
       " 'Банк России вносит изменения в методологию отражения счетов эскроу в денежно-кредитной и финансовой статистике',\n",
       " 'Вышел очередной номер \"Вестника Банка России\"',\n",
       " 'Выступление директора Департамента обеспечения банковского надзора Банка России Александра Данилова на онлайн-брифинге о развитии банковского сектора в 2020 году',\n",
       " 'Банк России выпускает в обращение инвестиционную монету из драгоценного металла',\n",
       " 'Вышел очередной номер \"Вестника Банка России\"',\n",
       " 'Банк России увеличил сроки предоставления формы федерального статистического наблюдения',\n",
       " 'Информация о работе платежной системы Банка России 23 января 2021 года',\n",
       " 'Результаты мониторинга максимальных процентных ставок кредитных организаций',\n",
       " 'Вышел очередной номер \"Вестника Банка России\"',\n",
       " 'Перечень кредитных организаций, в которые назначены уполномоченные представители Банка России',\n",
       " 'Выступление Эльвиры Набиуллиной на экспертной сессии Гайдаровского форума',\n",
       " 'Выступление Алексея Заботкина на экспертной сессии Гайдаровского форума',\n",
       " 'Банк России присоединился к Глобальному кодексу Валютного рынка',\n",
       " 'Информация о завершении размещения купонных облигаций Банка России',\n",
       " 'Вышел очередной номер \"Вестника Банка России\"',\n",
       " 'Результаты мониторинга максимальных процентных ставок кредитных организаций',\n",
       " 'Банк России выпускает в обращение памятные монеты из драгоценного металла',\n",
       " 'Результаты мониторинга максимальных процентных ставок кредитных организаций',\n",
       " 'Установлены сроки составления и представления отчетности специализированными депозитариями и управляющими компаниями в 2021 году',\n",
       " 'Вышел очередной номер \"Вестника Банка России\"',\n",
       " 'Вышел очередной номер \"Вестника Банка России\"',\n",
       " 'Информация о работе платежной системы Банка России 4, 5, 6 и 8 января 2021 года',\n",
       " 'Опубликована Программа обследований Банка России на первое полугодие 2021 года',\n",
       " 'Принята Программа развития статистической деятельности Банка России',\n",
       " 'Информация о работе Системы быстрых платежей',\n",
       " 'Отозвана лицензия на осуществление банковских операций у ООО РНКО \"Платежный Стандарт\"',\n",
       " 'Банк России публикует заявление о соблюдении международных норм при администрировании процентной ставки RUONIA',\n",
       " 'Банк России присвоил статус центрального контрагента и выдал лицензию на осуществление банковских операций НКО ЦК РДК (АО)',\n",
       " 'Герман Зубарев назначен заместителем Председателя Банка России',\n",
       " 'На сайте Банка России пройдут технические работы',\n",
       " 'Размещен перечень респондентов федерального статистического наблюдения по статистике внешнего сектора',\n",
       " 'Татьяна Савицкая назначена уполномоченным по правам потребителей финансовых услуг',\n",
       " 'Результаты мониторинга максимальных процентных ставок кредитных организаций',\n",
       " 'Совет директоров Банка России принял решение о включении ценных бумаг в Ломбардный список',\n",
       " 'Вышел очередной номер \"Вестника Банка России\"',\n",
       " 'Информация о работе платежной системы Банка России 26 декабря 2020 года',\n",
       " 'Информация о порядке расчета и публикации процентной ставки RUONIA в период новогодних праздников',\n",
       " 'Банк России предоставляет новые возможности визуального анализа показателей статистики внешнего сектора',\n",
       " 'Банк России утвердил консультантов по стратегии выхода из капитала банковской группы ПАО Банк \"ФК Открытие\"',\n",
       " 'Банк России принял решение сохранить ключевую ставку на уровне 4,25% годовых',\n",
       " 'Банк России сохранил значение национальной антициклической надбавки Российской Федерации и надбавок к коэффициентам риска',\n",
       " 'Вышел очередной номер \"Вестника Банка России\"',\n",
       " 'Заявление Председателя Банка России Эльвиры Набиуллиной по итогам заседания Совета директоров 18 декабря 2020 года',\n",
       " 'Банк России подготовил аналитический комментарий об экспорте услуг в Китай',\n",
       " 'Вышел очередной номер \"Вестника Банка России\"',\n",
       " 'Информация о деятельности временной администрации ООО \"Национальная страховая группа – \"РОСЭНЕРГО\"',\n",
       " 'Информация о реализации пилотного проекта по расчету ренкинга страховщиков по количеству жалоб',\n",
       " 'Результаты мониторинга максимальных процентных ставок кредитных организаций',\n",
       " 'Банк России расширяет линейку публикаций статистики системы национальных счетов',\n",
       " 'Отозвана лицензия на осуществление банковских операций у АО Банк \"Онего\"',\n",
       " 'Отозвана лицензия на осуществление банковских операций у Коммерческого банка \"ФинТех\" (ООО)',\n",
       " 'Прекращена деятельность временной администрации по управлению кредитной организацией ООО \"Банк \"Майский\"',\n",
       " 'Перечень кредитных организаций, в которые назначены уполномоченные представители Банка России',\n",
       " 'Информация о завершении размещения купонных облигаций Банка России (выпуск КОБР-39)',\n",
       " 'Информация о завершении размещения купонных облигаций Банка России (выпуск КОБР-37)',\n",
       " 'Вышел очередной номер \"Вестника Банка России\"',\n",
       " 'Информация о переносе сроков проведения общероссийского дня приема граждан',\n",
       " 'Состоялось заседание Национального финансового совета',\n",
       " 'Выступление Эльвиры Набиуллиной на заседании Совета по развитию финансового рынка при Совете Федерации',\n",
       " 'Выступление Сергея Швецова на заседании Совета по развитию финансового рынка при Совете Федерации',\n",
       " 'Информация об оценке платежной системы \"Золотая Корона\"',\n",
       " 'Отозвана лицензия на осуществление банковских операций у кредитной организации ООО КБ \"Евроазиатский Инвестиционный Банк\"',\n",
       " 'Аннулирована лицензия на осуществление банковских операций у АО МКБ \"ДОМ-БАНК\"',\n",
       " 'Вышел очередной номер \"Вестника Банка России\"',\n",
       " 'Информация к Реестру кредитных организаций, признанных Банком России значимыми на рынке платежных услуг',\n",
       " 'Вышел очередной номер \"Вестника Банка России\"',\n",
       " 'Выступление Председателя Банка России Эльвиры Набиуллиной на съезде лидеров \"ОПОРЫ РОССИИ\"',\n",
       " 'Вышел очередной номер \"Вестника Банка России\"',\n",
       " 'Результаты мониторинга максимальных процентных ставок кредитных организаций',\n",
       " 'Прекращена деятельность временной администрации по управлению кредитной организацией АО \"ТЭМБР-БАНК\"',\n",
       " 'Информация о проведении общероссийского дня приема граждан',\n",
       " 'Банк России утвердил изменения в План участия Банка \"ТРАСТ\" (ПАО)',\n",
       " 'Выступление Ксении Юдаевой на пресс-конференции: обзор финансовой стабильности за II–III кварталы 2020 года',\n",
       " 'Вышел очередной номер \"Вестника Банка России\"',\n",
       " 'Результаты мониторинга максимальных процентных ставок кредитных организаций',\n",
       " 'Выступление Председателя Банка России Эльвиры Набиуллиной на пленарном заседании Государственной Думы РФ',\n",
       " 'Банк России выпускает в обращение памятные монеты из драгоценного и недрагоценных металлов',\n",
       " 'Меры Банка России способствуют восстановлению российской экономики – МВФ',\n",
       " 'На сайте Банка России пройдут технические работы',\n",
       " 'Вышел очередной номер \"Вестника Банка России\"',\n",
       " 'Совет директоров Банка России принял решение о включении ценных бумаг в Ломбардный список',\n",
       " 'Информация о мерах по финансовому оздоровлению АО \"РОСКОСМОСБАНК\"',\n",
       " 'Вышел очередной номер \"Вестника Банка России\"',\n",
       " 'Перечень кредитных организаций, в которые назначены уполномоченные представители Банка России',\n",
       " 'Банк России выпускает в обращение памятную монету из драгоценного металла',\n",
       " 'Прекращена деятельность временной администрации по управлению кредитной организацией АО \"Народный банк\"',\n",
       " 'Отозвана лицензия на осуществление банковских операций у кредитной организации \"Международный коммерческий банк\" (акционерное общество)',\n",
       " 'Результаты мониторинга максимальных процентных ставок кредитных организаций',\n",
       " 'Вышел очередной номер \"Вестника Банка России\"',\n",
       " 'Прекращена деятельность временной администрации по управлению кредитной организацией ООО КБ \"НЕВАСТРОЙИНВЕСТ\"',\n",
       " 'Информация о завершении размещения купонных облигаций Банка России',\n",
       " 'Вышел очередной номер \"Вестника Банка России\"',\n",
       " 'Выступление Эльвиры Набиуллиной на совместном заседании профильных комитетов Госдумы по Основным направлениям денежно-кредитной политики на 2021-2023 годы',\n",
       " 'Банк России выпускает в обращение памятные монеты из драгоценного металла',\n",
       " 'Вышел очередной номер \"Вестника Банка России\"',\n",
       " 'Результаты мониторинга максимальных процентных ставок кредитных организаций',\n",
       " 'Банк России выпускает в обращение памятную монету из драгоценного металла',\n",
       " 'На сайте Банка России пройдут технические работы',\n",
       " 'Информация о работе платежной системы Банка России 31 октября 2020 года',\n",
       " 'Утвержден перечень системно значимых кредитных организаций',\n",
       " 'Информация о деятельности временной администрации АО \"Народный банк\"',\n",
       " 'Вышел очередной номер \"Вестника Банка России\"',\n",
       " 'Результаты мониторинга максимальных процентных ставок кредитных организаций',\n",
       " 'Информация о размещении купонных облигаций Банка России',\n",
       " 'Информация о результатах проведенного временной администрацией обследования кредитной организации ООО КБ \"НЕВАСТРОЙИНВЕСТ\"',\n",
       " 'Отозвана лицензия на осуществление банковских операций у ПАО АРКБ \"Росбизнесбанк\"',\n",
       " 'Мария Тимошенко назначена директором Департамента закупок Банка России',\n",
       " 'Информация к Реестру кредитных организаций, признанных Банком России значимыми на рынке платежных услуг',\n",
       " 'Банк России принял решение сохранить ключевую ставку на уровне 4,25% годовых',\n",
       " 'Банк России обратится в суд c иском о ликвидации ряда бывших страховщиков, лишенных лицензий',\n",
       " 'Заявление Председателя Банка России Эльвиры Набиуллиной по итогам заседания Совета директоров 23 октября 2020 года',\n",
       " 'Вышел очередной номер \"Вестника Банка России\"',\n",
       " 'Банк России выпускает в обращение памятные монеты из драгоценного металла',\n",
       " 'Перечень кредитных организаций, в которые назначены уполномоченные представители Банка России',\n",
       " 'Вышел очередной номер \"Вестника Банка России\"',\n",
       " 'Установлены сроки составления и представления отчетности специализированными депозитариями и управляющими компаниями в 2020 году',\n",
       " 'Результаты мониторинга максимальных процентных ставок кредитных организаций',\n",
       " 'Вышел очередной номер \"Вестника Банка России\"',\n",
       " 'Вышел очередной номер \"Вестника Банка России\"',\n",
       " 'Платежная система Банка России полностью соответствует международному стандарту управления рисками',\n",
       " 'Банк России выпускает в обращение памятные монеты из недрагоценных металлов',\n",
       " 'На сайте Банка России проходят технические работы',\n",
       " 'Отозвана лицензия на осуществление банковских операций у ООО \"Банк \"Майский\"',\n",
       " 'Отозвана лицензия на осуществление банковских операций у Банк \"Прохладный\" ООО',\n",
       " 'Информация о результатах проведенного временной администрацией обследования кредитной организации ПАО КБ \"ПФС-БАНК\"',\n",
       " 'Информация о результатах проведенного временной администрацией обследования кредитной организации АО \"Народный банк\"',\n",
       " 'Результаты мониторинга максимальных процентных ставок кредитных организаций',\n",
       " 'Состоялось заседание Национального финансового совета',\n",
       " 'Вышел очередной номер \"Вестника Банка России\"',\n",
       " 'Информация о результатах проведенного временной администрацией обследования кредитной организации РОСКОМСНАББАНК (ПАО)',\n",
       " 'Информация о деятельности временной администрации АО \"Народный банк\"',\n",
       " 'Михаил Алексеев с 12 октября назначен заместителем Председателя Банка России',\n",
       " 'Изменение организационной структуры Банка России с 12 октября 2020 года',\n",
       " 'Отозвана лицензия на осуществление банковских операций у АО \"ТЭМБР-БАНК\"',\n",
       " 'Банк России присвоил статус центрального контрагента и выдал лицензию НКО-ЦК \"Клиринговый центр МФБ\"',\n",
       " 'Вышел очередной номер \"Вестника Банка России\"',\n",
       " 'Банк России предоставляет новые возможности визуального анализа процентных ставок по кредитам и депозитам',\n",
       " 'Установлены факты манипулирования ООО \"ИК \"ВИТУС\" рынками ценных бумаг',\n",
       " 'Вышел очередной номер \"Вестника Банка России\"',\n",
       " 'Банк России выпускает в обращение памятную монету из драгоценного металла',\n",
       " 'Вышел очередной номер \"Вестника Банка России\"',\n",
       " 'Опубликована Программа обследований Банка России на IV квартал 2020 года – I квартал 2021 года',\n",
       " 'Банк России выпускает в обращение памятную монету из драгоценного металла',\n",
       " 'Результаты мониторинга максимальных процентных ставок кредитных организаций',\n",
       " 'Установлены уровни кредитного рейтинга для целей размещения средств пенсионных резервов',\n",
       " 'Размещен перечень респондентов федерального статистического наблюдения по статистике внешнего сектора',\n",
       " 'Банк России установил факты манипулирования рынком клиентами маркет-мейкеров на торгах ряда еврооблигаций',\n",
       " 'Вышел очередной номер \"Вестника Банка России\"',\n",
       " 'Банк России принял решение сохранить ключевую ставку на уровне 4,25% годовых',\n",
       " 'Заявление Председателя Банка России Эльвиры Набиуллиной по итогам заседания Совета директоров 18 сентября 2020 года',\n",
       " 'Вышел очередной номер \"Вестника Банка России\"',\n",
       " 'Результаты мониторинга максимальных процентных ставок кредитных организаций',\n",
       " 'Совет директоров Банка России принял решение о включении ценных бумаг в Ломбардный список',\n",
       " 'Банк России выпускает в обращение памятную монету из драгоценного металла',\n",
       " 'Перечень кредитных организаций, в которые назначены уполномоченные представители Банка России',\n",
       " 'Календарь решений по ключевой ставке в 2021 году',\n",
       " 'О завершении размещения купонных облигаций Банка России',\n",
       " 'Выступление заместителя Председателя Банка России Алексея Заботкина об Основных направлениях единой государственной денежно-кредитной политики на 2021-2023 годы',\n",
       " 'Вышел очередной номер \"Вестника Банка России\"',\n",
       " 'Результаты мониторинга максимальных процентных ставок кредитных организаций',\n",
       " 'Вышел очередной номер \"Вестника Банка России\"',\n",
       " 'Вышел очередной номер \"Вестника Банка России\"',\n",
       " 'Банк России выпускает в обращение памятные монеты из драгоценного и недрагоценного металлов',\n",
       " 'Выступление Эльвиры Набиуллиной на съезде Ассоциации банков России',\n",
       " 'Вышел очередной номер \"Вестника Банка России\"',\n",
       " 'Банк России вводит новый порядок согласования примерных условий договоров репо, сделок с производными финансовыми инструментами, ценными бумагами, валютой и драгметаллами',\n",
       " 'Вышел очередной номер \"Вестника Банка России\"',\n",
       " 'Результаты мониторинга максимальных процентных ставок кредитных организаций',\n",
       " 'Вышел очередной номер \"Вестника Банка России\"',\n",
       " 'Аннулирована лицензия на осуществление банковских операций у ООО КБ \"Славянский кредит\"',\n",
       " 'Установлены факты манипулирования рынками ряда ценных бумаг',\n",
       " 'Вышел очередной номер \"Вестника Банка России\"',\n",
       " 'На сайте Банка России проходят технические работы',\n",
       " 'Установлены факты манипулирования рынками ряда ценных бумаг',\n",
       " 'Перечень кредитных организаций, в которые назначены уполномоченные представители Банка России',\n",
       " 'Информация о технических работах на сайте Банка России',\n",
       " 'Результаты мониторинга максимальных процентных ставок кредитных организаций',\n",
       " 'Вышел очередной номер \"Вестника Банка России\"',\n",
       " 'Информация о размещении купонных облигаций Банка России (выпуск КОБР-35)',\n",
       " 'Информация о размещении купонных облигаций Банка России (выпуск КОБР-36)',\n",
       " 'Банк России определил банки, где операторы финансовых платформ вправе открыть спецсчет',\n",
       " 'Банк России выпускает в обращение памятные монеты из драгоценного и недрагоценного металлов',\n",
       " 'Информация о размещении купонных облигаций Банка России',\n",
       " 'Банк России принял решение по регуляторным послаблениям и макропруденциальным мерам',\n",
       " 'Вышел очередной номер \"Вестника Банка России\"',\n",
       " 'Банк России выпускает в обращение памятные монеты из драгоценных металлов',\n",
       " 'Результаты мониторинга максимальных процентных ставок кредитных организаций',\n",
       " 'Аннулирована лицензия на осуществление банковских операций у МБО \"ОРГБАНК\" (ООО)',\n",
       " 'Вышел очередной номер \"Вестника Банка России\"',\n",
       " 'Совет директоров Банка России принял решение о включении ценных бумаг в Ломбардный список',\n",
       " 'Вышел очередной номер \"Вестника Банка России\"',\n",
       " 'Банк России сформировал комплекс предложений по итогам анализа ситуации с отрицательными ценами на фьючерсы на торгах ПАО Московская Биржа',\n",
       " 'Отозвана лицензия на осуществление банковских операций у АО \"Народный банк\"',\n",
       " 'Отозвана лицензия на осуществление банковских операций у ООО КБ \"НЕВАСТРОЙИНВЕСТ\"',\n",
       " 'Аннулирована лицензия на осуществление банковских операций у ООО КБЦА',\n",
       " 'Аннулирована лицензия на осуществление банковских операций у АКБ \"Ресурс-траст\" (АО)',\n",
       " 'Банк России принял решение снизить ключевую ставку на 25 б.п., до 4,25% годовых',\n",
       " 'Банк России снизил процентную ставку в рамках механизмов поддержки кредитования субъектов МСП и кредитования на неотложные нужды',\n",
       " 'Заявление Председателя Банка России Эльвиры Набиуллиной по итогам заседания Совета директоров 24 июля 2020 года',\n",
       " 'Вышел очередной номер \"Вестника Банка России\"',\n",
       " 'Результаты мониторинга максимальных процентных ставок кредитных организаций',\n",
       " 'Вышел очередной номер \"Вестника Банка России\"',\n",
       " 'Банк России изменил сроки составления и представления отчетности специализированных депозитариев в 2020 году',\n",
       " 'Аннулирована лицензия на осуществление банковских операций у Банка \"Кузнецкий мост\" АО',\n",
       " 'Аннулирована лицензия на осуществление банковских операций у АКБ \"ПРОМИНВЕСТБАНК\" (ПАО)',\n",
       " 'Вышел очередной номер \"Вестника Банка России\"',\n",
       " 'Банк России выпускает в обращение памятные монеты из драгоценного и недрагоценного металлов',\n",
       " 'Вышел очередной номер \"Вестника Банка России\"',\n",
       " 'Банк России упрощает подходы к формированию обязательных резервов',\n",
       " 'Банк России снижает лимит по операциям \"валютный своп\"',\n",
       " 'О размещении купонных облигаций Банка России',\n",
       " 'Перечень кредитных организаций, в которые назначены уполномоченные представители Банка России',\n",
       " 'Отозвана лицензия на осуществление банковских операций у АО БАНК \"НБТ\"',\n",
       " 'Результаты мониторинга максимальных процентных ставок кредитных организаций',\n",
       " 'Выступление Эльвиры Набиуллиной на заседании Совета по развитию финансового рынка при Совете Федерации',\n",
       " 'Банк России аккредитовал финансовый индикатор Московской Биржи',\n",
       " 'Информация о работе Системы быстрых платежей',\n",
       " 'Вышел очередной номер \"Вестника Банка России\"',\n",
       " 'Результаты мониторинга максимальных процентных ставок кредитных организаций',\n",
       " 'Василий Поздышев покидает посты, связанные с деятельностью УК ФКБС',\n",
       " 'Вышел очередной номер \"Вестника Банка России\"',\n",
       " 'Опубликована Программа обследований Банка России на второе полугодие 2020 года',\n",
       " 'Информация о работе платежной системы Банка России 1 июля 2020 года',\n",
       " 'Банк России выпускает в обращение памятную монету из недрагоценного металла',\n",
       " 'Результаты мониторинга максимальных процентных ставок кредитных организаций',\n",
       " 'Вышел очередной номер \"Вестника Банка России\"',\n",
       " 'Банк России продлевает ряд мер, введенных в связи с эпидемией коронавируса',\n",
       " 'В Банке России создан Комитет по наблюдению за RUONIA',\n",
       " 'Вышел очередной номер \"Вестника Банка России\"',\n",
       " 'Опубликован перечень респондентов федерального статистического наблюдения по статистике внешнего сектора',\n",
       " 'Светлана Золотарева возглавит Департамент стратегического развития финансового рынка',\n",
       " 'Выступление Эльвиры Набиуллиной на пленарном заседании Государственной Думы, посвященном рассмотрению Годового отчета Банка России за 2019 год',\n",
       " 'Вышел очередной номер \"Вестника Банка России\"',\n",
       " 'Информация о работе платежной системы Банка России',\n",
       " 'Банк России принял решение снизить ключевую ставку на 100 б.п., до 4,50% годовых',\n",
       " 'Банк России снизил процентную ставку в рамках механизмов поддержки кредитования субъектов МСП и кредитования на неотложные нужды',\n",
       " 'О мерах по финансовому оздоровлению АО \"ГЕНБАНК\"',\n",
       " 'О мерах по предупреждению банкротства АО \"Севастопольский Морской банк\" (г. Севастополь)',\n",
       " 'Банк России сохранил значение национальной антициклической надбавки Российской Федерации и надбавок к коэффициентам риска',\n",
       " 'Порядок представления поднадзорными Банку России организациями информации в Росфинмониторинг 24 июня и 1 июля 2020 года',\n",
       " 'Информация о раскрытии Банком России данных в соответствии с Указанием от 14.01.2020 № 5386-У',\n",
       " 'Заявление Председателя Банка России Эльвиры Набиуллиной по итогам заседания Совета директоров 19 июня 2020 года',\n",
       " 'Вышел очередной номер \"Вестника Банка России\"',\n",
       " 'Информация о расчете и публикации Банком России ставки RUONIA и ставок группы MIACR',\n",
       " 'Результаты мониторинга максимальных процентных ставок кредитных организаций',\n",
       " 'Информация об уровнях кредитных рейтингов, применяемых в соответствии с абзацем третьим пункта 38.3 Положения Банка России от 19 декабря 2019 года № 706-П \"О стандартах эмиссии ценных бумаг\"',\n",
       " 'Вышел очередной номер \"Вестника Банка России\"',\n",
       " 'Банк России изменил порядок и сроки составления и представления отчетности и иной информации финансовыми организациями в 2020 году',\n",
       " 'Перечень кредитных организаций, в которые назначены уполномоченные представители Банка России',\n",
       " 'Совет директоров Банка России принял решение о включении ценных бумаг в Ломбардный список',\n",
       " 'Вышел очередной номер \"Вестника Банка России\"',\n",
       " 'Информация о размещении купонных облигаций Банка России',\n",
       " 'Выступление Эльвиры Набиуллиной на совместном заседании профильных комитетов Государственной Думы, посвященном рассмотрению Годового отчета Банка России за 2019 год',\n",
       " 'Информация об операциях Банка России 24 июня и 1 июля 2020 года',\n",
       " 'Информация о работе платежной системы Банка России 6, 14, 20 и 27 июня 2020 года',\n",
       " 'Выступление Председателя Банка России Эльвиры Набиуллиной на пресс-конференции 5 июня 2020 года',\n",
       " 'Вышел очередной номер \"Вестника Банка России\"',\n",
       " 'Результаты мониторинга максимальных процентных ставок кредитных организаций',\n",
       " 'Вышел очередной номер \"Вестника Банка России\"',\n",
       " 'Банк России рассмотрел обращения о намерении принять участие в процедурах реализации акций \"Азиатско-Тихоокеанский Банк\" (ПАО)',\n",
       " 'Лариса Селютина возглавит Департамент инфраструктуры финансового рынка, Кирилл Пронин – Департамент инвестиционных финансовых посредников',\n",
       " 'Вышел очередной номер \"Вестника Банка России\"',\n",
       " 'Вышел очередной номер \"Вестника Банка России\"',\n",
       " 'Аннулирована лицензия на осуществление банковских операций у ООО \"Морган Стэнли Банк\"',\n",
       " 'Вышел очередной номер \"Вестника Банка России\"',\n",
       " 'Подписано соглашение о новом порядке администрирования процентной ставки RUONIA',\n",
       " 'Алексей Заботкин назначен заместителем Председателя Банка России, Департамент денежно-кредитной политики возглавит Кирилл Тремасов',\n",
       " 'Результаты мониторинга максимальных процентных ставок кредитных организаций',\n",
       " 'Выступление Председателя Банка России Эльвиры Набиуллиной на пресс-конференции 22 мая 2020 года',\n",
       " 'Банк России выпускает в обращение памятные монеты из драгоценных металлов',\n",
       " 'Вышел очередной номер \"Вестника Банка России\"',\n",
       " 'Информация о размещении купонных облигаций Банка России',\n",
       " 'Вышел очередной номер \"Вестника Банка России\"',\n",
       " 'Перечень кредитных организаций, в которые назначены уполномоченные представители Банка России',\n",
       " 'Информация о работе платежной системы Банка России 17 мая 2020 года',\n",
       " 'Вышел очередной номер \"Вестника Банка России\"',\n",
       " 'Установлены факты манипулирования рынком обыкновенных акций ПАО \"ОКС\"',\n",
       " 'Установлены факты манипулирования рынком на торгах облигациями АО \"Национальный капитал\"',\n",
       " 'Банк России расширил меры поддержки кредитования субъектов МСП, а также кредитования на неотложные нужды в целях поддержки и сохранения занятости',\n",
       " 'Информация о работе платежной системы Банка России 16, 23 и 30 мая 2020 года',\n",
       " 'Результаты мониторинга максимальных процентных ставок кредитных организаций',\n",
       " 'Вышел очередной номер \"Вестника Банка России\"',\n",
       " 'Банк России начнет с конца мая проводить долгосрочные аукционы репо',\n",
       " 'Информация о результатах проведенного временной администрацией обследования страховой организации АО СК \"Стерх\"',\n",
       " 'Выступление Председателя Банка России Эльвиры Набиуллиной на пресс-конференции 8 мая 2020 года',\n",
       " 'Вышел очередной номер \"Вестника Банка России\"',\n",
       " 'Банк России сообщает о предельных датах раскрытия информации эмитентами',\n",
       " 'Подписано акционерное соглашение по акциям ПАО Сбербанк между Банком России и Правительством РФ',\n",
       " 'Результаты мониторинга максимальных процентных ставок кредитных организаций',\n",
       " 'Банк России выпускает в обращение памятные монеты из драгоценных металлов',\n",
       " 'Информация о результатах проведенного временной администрацией обследования кредитной организации АО \"Кранбанк\"',\n",
       " 'Информация о работе платежной системы Банка России с 4 по 8 мая и 10 мая 2020 года',\n",
       " 'Банк России увеличил сроки раскрытия информации эмитентами эмиссионных ценных бумаг в 2020 году',\n",
       " 'Банк России выпускает в обращение памятные монеты из драгоценного и недрагоценных металлов',\n",
       " 'Вышел очередной номер \"Вестника Банка России\"',\n",
       " 'Информация об операциях Банка России с 4 по 8 мая 2020 года',\n",
       " 'Работа финансового сектора в период до 11 мая 2020 года',\n",
       " 'Информация о назначении А.С. Липина директором Департамента международного сотрудничества',\n",
       " 'Установлены уровни рейтинга долгосрочной кредитоспособности для целей инвестирования средств пенсионных накоплений и накоплений для жилищного обеспечения военнослужащих',\n",
       " 'Установлены уровни рейтинга долгосрочной кредитоспособности некоторых активов, принимаемых к расчету собственных средств негосударственного пенсионного фонда',\n",
       " 'Установлены уровни рейтинга долгосрочной кредитоспособности некоторых активов, принимаемых к расчету собственных средств управляющих компаний инвестиционных фондов, паевых инвестиционных фондов и негосударственных пенсионных фондов и соискателей лицензии управляющей компании',\n",
       " 'Информация о результатах проведенного временной администрацией обследования управляющей компании ООО \"КАПИТАЛ ЭССЕТ МЕНЕДЖМЕНТ\"',\n",
       " 'Выступление Эльвиры Набиуллиной на совещании по вопросам банковской деятельности под председательством спикера Государственной Думы Вячеслава Володина',\n",
       " 'Банк России выпускает в обращение памятные монеты из драгоценного металла',\n",
       " 'Аннулирована лицензия на осуществление банковских операций у НКО \"ОРС\" (АО)',\n",
       " 'Банк России вводит новый порядок регистрации правил доверительного управления паевым инвестиционным фондом, изменений и дополнений в них',\n",
       " 'Банк России вводит новый порядок ведения реестра паевых инвестиционных фондов',\n",
       " 'Банк России принял решение снизить ключевую ставку на 50 б.п., до 5,50% годовых',\n",
       " 'Банк России снизил процентную ставку в рамках механизма поддержки кредитования субъектов МСП',\n",
       " 'Заявление Председателя Банка России Эльвиры Набиуллиной по итогам заседания Совета директоров 24 апреля 2020 года',\n",
       " 'Выступление Эльвиры Набиуллиной на совещании под председательством Президента Российской Федерации Владимира Путина по вопросам банковского кредитования экономики',\n",
       " 'Вышел очередной номер \"Вестника Банка России\"',\n",
       " 'Информация к Реестру кредитных организаций, признанных Банком России значимыми на рынке платежных услуг',\n",
       " 'Информация о результатах проведенного временной администрацией обследования кредитной организации ООО КБ \"Нэклис-Банк\"',\n",
       " 'Информация о результатах проведенного временной администрацией обследования кредитной организации АО \"НВКбанк\"',\n",
       " 'Информация о размещении купонных облигаций Банка России',\n",
       " 'Результаты мониторинга максимальных процентных ставок кредитных организаций',\n",
       " 'Информация о сроках представления первичных статистических данных по формам федерального статистического наблюдения в Банк России',\n",
       " 'Банк России опубликует результаты телефонных опросов населения об инфляционных ожиданиях',\n",
       " 'Информация об отказе в утверждении базовых стандартов',\n",
       " 'Банк России утвердил дополнительные меры по защите интересов граждан и поддержке кредитования экономики',\n",
       " 'Банк России утвердил дополнительные меры по защите интересов граждан, поддержке кредитования экономики, временному смягчению ПОД/ФТ и валютного контроля',\n",
       " 'Информация о работе платежной системы Банка России 18 и 25 апреля 2020 года',\n",
       " 'Перечень кредитных организаций, в которые назначены уполномоченные представители Банка России',\n",
       " 'Выступление Председателя Банка России Эльвиры Набиуллиной на пресс-конференции 17 апреля 2020 года',\n",
       " 'Вышел очередной номер \"Вестника Банка России\"',\n",
       " 'Банк России внес изменения в план участия ПАО \"БАНК УРАЛСИБ\"',\n",
       " 'Информация о сроках представления в Банк России документов для допуска эмиссионных ценных бумаг и сроках рассмотрения Банком России указанных документов',\n",
       " 'Установлены факты манипулирования рынками ряда ценных бумаг АО \"ИК \"Еврофинансы\", ООО \"ИК \"Спарта-Финанс\" и их клиентами, а также АО \"УК \"Еврофинансы\"',\n",
       " 'Совет директоров Банка России принял решение о включении ценных бумаг в Ломбардный список',\n",
       " 'Результаты мониторинга максимальных процентных ставок кредитных организаций',\n",
       " 'Информация об особенностях регулирования корпоративных отношений в 2020 году',\n",
       " 'Банк России продал свой пакет акций ПАО Сбербанк',\n",
       " 'Информация о работе платежной системы Банка России 11 и 12 апреля 2020 года',\n",
       " 'Выступление Председателя Банка России Эльвиры Набиуллиной на пресс-конференции 10 апреля 2020 года',\n",
       " 'Вышел очередной номер \"Вестника Банка России\"',\n",
       " 'Информация о результатах проведенного временной администрацией обследования кредитной организации Акционерное общество \"Кранбанк\"',\n",
       " 'Банк России информирует о сроке рассмотрения документов, представленных для госконтроля за приобретением крупных пакетов акций ПАО',\n",
       " 'Информация о зачислении денежных средств российским гражданам, находящимся за рубежом и не имеющим возможности вернуться в Российскую Федерацию',\n",
       " 'Результаты мониторинга максимальных процентных ставок кредитных организаций',\n",
       " 'Информация о работе микрофинансовых институтов в период с 4 по 30 апреля',\n",
       " 'Информация об операциях Банка России в период с 6 по 30 апреля 2020 года',\n",
       " 'Информация о функционировании платежной системы Банка России',\n",
       " 'Вышел очередной номер \"Вестника Банка России\"',\n",
       " 'Информация о работе финансовых организаций и обеспечении непрерывности в финансовом секторе Банком России в период с 4 по 30 апреля 2020 года',\n",
       " 'Банк России утвердил дополнительные меры по поддержке кредитования экономики и защите интересов граждан',\n",
       " 'Информация о сроке раскрытия акционерными обществами списка аффилированных лиц за I квартал 2020 года и годовой бухгалтерской (финансовой) отчетности за 2019 год',\n",
       " 'Выступление Председателя Банка России Эльвиры Набиуллиной на пресс-конференции 3 апреля 2020 года',\n",
       " 'Банк России приостанавливает покупку золота на внутреннем рынке',\n",
       " 'Информация о сроке раскрытия акционерными обществами списка аффилированных лиц за I квартал 2020 года и годовой бухгалтерской (финансовой) отчетности за 2019 год',\n",
       " 'Информация о работе некредитных финансовых организаций в период с 30 марта по 3 апреля 2020 года',\n",
       " 'Дополнительные меры по поддержке кредитования малых и средних предприятий',\n",
       " 'Банк России утвердил дополнительные меры по поддержке граждан, экономики и финансового сектора в условиях пандемии коронавируса',\n",
       " 'Информация о результатах проведенного временной администрацией обследования кредитной организации АКЦИОНЕРНЫЙ КОММЕРЧЕСКИЙ БАНК \"ЧУВАШКРЕДИТПРОМБАНК\" (Публичное акционерное общество)',\n",
       " 'Информация о функционировании платежной системы Банка России 30, 31 марта, 1, 2 и 3 апреля 2020 года',\n",
       " 'Информация о работе банков и платежной системы, операциях Банка России с 30 марта по 3 апреля',\n",
       " 'Информация об установлении и опубликовании Банком России курсов иностранных валют по отношению к российскому рублю и учетных цен на драгоценные металлы, расчете и опубликовании ставок группы MIACR',\n",
       " 'Вышел очередной номер \"Вестника Банка России\"',\n",
       " 'Информация о признании Банком России кредитных организаций значимыми на рынке платежных услуг',\n",
       " 'Банк России не будет применять к кредитным организациям меры за нарушения в предоставлении отчетности в условиях пандемии коронавируса',\n",
       " 'Результаты мониторинга максимальных процентных ставок кредитных организаций',\n",
       " 'Размещен перечень респондентов федерального статистического наблюдения по статистике внешнего сектора',\n",
       " 'Совет директоров Банка России принял решение о включении ценных бумаг в Ломбардный список',\n",
       " 'Банк России принял решение сохранить ключевую ставку на уровне 6,00% годовых',\n",
       " 'Банк России утвердил меры по поддержке граждан, экономики и финансового сектора в условиях пандемии коронавируса',\n",
       " 'Установлены факты манипулирования рынками ряда ценных бумаг',\n",
       " 'Заявление Председателя Банка России Эльвиры Набиуллиной по итогам заседания Совета директоров 20 марта 2020 года',\n",
       " 'Вышел очередной номер \"Вестника Банка России\"',\n",
       " 'Перечень кредитных организаций, в которые назначены уполномоченные представители Банка России',\n",
       " 'Вышел очередной номер \"Вестника Банка России\"',\n",
       " 'О мерах по обеспечению устойчивости экономического развития',\n",
       " 'Совет директоров принял решение о временных регуляторных послаблениях для банков в части применения надбавок к коэффициентам риска',\n",
       " 'Вышел очередной номер \"Вестника Банка России\"',\n",
       " 'Банк России выпускает в обращение памятные монеты из драгоценного и недрагоценных металлов',\n",
       " 'Результаты мониторинга максимальных процентных ставок кредитных организаций',\n",
       " 'Информация о результатах проведенного временной администрацией обследования кредитной организации ПАО \"Невский Банк\"',\n",
       " 'Вышел очередной номер \"Вестника Банка России\"',\n",
       " 'Результаты мониторинга максимальных процентных ставок кредитных организаций',\n",
       " 'График публикаций аналитических материалов Банка России на март 2020 года',\n",
       " 'Изменилась методология формирования показателей брутто-объема открытых позиций по операциям с производными финансовыми инструментами внебиржевого рынка по методологии Банка международных расчетов',\n",
       " 'Информация о размещении купонных облигаций Банка России',\n",
       " 'Вышел очередной номер \"Вестника Банка России\"',\n",
       " 'Изменилась методология формирования показателей структуры оборота внутреннего валютного рынка и рынка производных финансовых инструментов по методологии Банка международных расчетов',\n",
       " 'Результаты мониторинга максимальных процентных ставок кредитных организаций',\n",
       " 'Утвержден план финансового оздоровления АО \"Газэнергобанк\"',\n",
       " 'Перечень кредитных организаций, в которые назначены уполномоченные представители Банка России',\n",
       " 'Вышел очередной номер \"Вестника Банка России\"',\n",
       " 'Банк России выпускает в обращение памятную монету из драгоценного металла',\n",
       " 'Вышел очередной номер \"Вестника Банка России\"',\n",
       " 'Вышел очередной номер \"Вестника Банка России\"',\n",
       " 'Разработан законопроект о выходе Банка России из капитала ПАО Сбербанк',\n",
       " 'Информация о продажах иностранной валюты в рамках бюджетного правила в связи с планируемой покупкой за счет средств ФНБ пакета акций ПАО Сбербанк',\n",
       " 'Результаты мониторинга максимальных процентных ставок кредитных организаций',\n",
       " 'Банк России принял решение снизить ключевую ставку на 25 б.п., до 6,00% годовых',\n",
       " 'Заявление Председателя Банка России Эльвиры Набиуллиной по итогам заседания Совета директоров 7 февраля 2020 года',\n",
       " 'Вышел очередной номер \"Вестника Банка России\"',\n",
       " 'Банк России выпускает в обращение памятные монеты из драгоценного и недрагоценных металлов',\n",
       " 'Вышел очередной номер \"Вестника Банка России\"',\n",
       " 'Результаты мониторинга максимальных процентных ставок кредитных организаций',\n",
       " 'Отозвана лицензия на осуществление банковских операций у АКБ \"АПАБАНК\" (АО)',\n",
       " 'Начинается прием сообщений о намерении принять участие в реализации акций \"Азиатско-Тихоокеанский Банк\" (ПАО)',\n",
       " 'А. Попов назначен директором Операционного департамента',\n",
       " 'График публикаций аналитических материалов Банка России на февраль 2020 года',\n",
       " 'Вышел очередной номер \"Вестника Банка России\"',\n",
       " 'Банк России будет использовать кредитные рейтинги кредитных организаций при проведении операций предоставления ликвидности на внутреннем рынке',\n",
       " 'Совет директоров Банка России принял решение о включении ценных бумаг в Ломбардный список',\n",
       " 'Информация о мерах по предупреждению банкротства АО \"Севастопольский Морской банк\"',\n",
       " 'Вышел очередной номер \"Вестника Банка России\"',\n",
       " 'Информация о деятельности временной администрации общества с ограниченной ответственностью \"Поволжский страховой альянс\"',\n",
       " 'Банк России пригласил инвестиционных консультантов участвовать в подготовке предложений по стратегии выхода из банковской группы ПАО Банк \"ФК Открытие\"',\n",
       " 'Вышел очередной номер \"Вестника Банка России\"',\n",
       " 'Отозвана лицензия на осуществление банковских операций у АО \"НВКбанк\"',\n",
       " 'Вышел очередной номер \"Вестника Банка России\"',\n",
       " 'Результаты мониторинга максимальных процентных ставок кредитных организаций',\n",
       " 'Вышел очередной номер \"Вестника Банка России\"',\n",
       " 'Опубликованы новые статистические данные',\n",
       " 'Информация о результатах проведенного временной администрацией обследования кредитной организации Общество с ограниченной ответственностью Коммерческий банк \"Кредитинвест\"',\n",
       " 'Вышел очередной номер \"Вестника Банка России\"',\n",
       " 'Отозвана лицензия на осуществление банковских операций у ПАО КБ \"ПФС-БАНК\"',\n",
       " 'Перечень кредитных организаций, в которые назначены уполномоченные представители Банка России',\n",
       " 'Результаты мониторинга максимальных процентных ставок кредитных организаций',\n",
       " 'Банк России выпускает в обращение монеты из драгоценных и недрагоценного металлов',\n",
       " 'Вышел очередной номер \"Вестника Банка России\"',\n",
       " 'Вышел очередной номер \"Вестника Банка России\"',\n",
       " 'Банк России изменил подход к установлению минимальной цены КОБР',\n",
       " 'Отозвана лицензия на осуществление банковских операций у ООО КБ \"Нэклис-Банк\"',\n",
       " 'Информация о деятельности временной администрации общества с ограниченной ответственностью \"Страховая компания \"СЕРВИСРЕЗЕРВ\"',\n",
       " 'Вышел очередной номер \"Вестника Банка России\"',\n",
       " 'График публикаций аналитических материалов Банка России на январь 2020 года',\n",
       " 'Начата публикация таблиц финансовых потоков и запасов \"от-кого-к-кому\"',\n",
       " 'Результаты мониторинга максимальных процентных ставок кредитных организаций',\n",
       " 'Опубликована Методология формирования финансовых счетов и балансов финансовых активов и обязательств системы национальных счетов Российской Федерации',\n",
       " 'Опубликованы новые статистические данные',\n",
       " 'Вышел очередной номер \"Вестника Банка России\"',\n",
       " 'Опубликована Программа обследований Банка России на первое полугодие 2020 года',\n",
       " 'Информация о функционировании платежной системы Банка России 28 декабря 2019 года',\n",
       " 'Информация о функционировании платежной системы Банка России 29 декабря 2019 года',\n",
       " 'Банк России начинает обмен информацией о нерыночных активах через личные кабинеты',\n",
       " 'Опубликована новая редакция Условий проведения операций по предоставлению и погашению кредитов Банка России',\n",
       " 'Установлены факты манипулирования рынками ряда финансовых инструментов',\n",
       " 'Вышел очередной номер \"Вестника Банка России\"',\n",
       " 'Информация о кадровых изменениях',\n",
       " 'Размещен перечень респондентов федерального статистического наблюдения по статистике внешнего сектора',\n",
       " 'Информация о функционировании платежной системы Банка России 3, 6 и 8 января 2020 года',\n",
       " 'Опубликованы данные о брутто-объеме открытых позиций по производным финансовым инструментам внебиржевого рынка в рамках Трехлетнего обзора БМР',\n",
       " 'Результаты мониторинга максимальных процентных ставок кредитных организаций',\n",
       " 'Вышел очередной номер \"Вестника Банка России\"',\n",
       " 'Банк России сохранил на прежнем уровне совокупный лимит по операциям репо в иностранной валюте',\n",
       " 'Завершено финансовое оздоровление АО \"Банк ДОМ.РФ\"',\n",
       " 'Банк России сохранил значение национальной антициклической надбавки Российской Федерации и значения надбавок к коэффициентам риска',\n",
       " 'Отозвана лицензия на осуществление банковских операций у ПАО \"Невский банк\"',\n",
       " 'Отозвана лицензия на осуществление банковских операций у АО \"Кранбанк\"',\n",
       " 'Результаты мониторинга максимальных процентных ставок кредитных организаций',\n",
       " 'Банк России принял решение снизить ключевую ставку на 25 б.п., до 6,25% годовых',\n",
       " 'Вышел очередной номер \"Вестника Банка России\"',\n",
       " 'Информация о деятельности временной администрации общества с ограниченной ответственностью \"КРК-Страхование\"',\n",
       " 'Опубликованы новые статистические данные \"Портфельные инвестиции из Российской Федерации за рубеж по субъектам Российской Федерации\"',\n",
       " 'Информация о размещении купонных облигаций Банка России',\n",
       " 'На сайте Банка России пройдут технические работы',\n",
       " 'Заявление Председателя Банка России Эльвиры Набиуллиной по итогам заседания Совета директоров 13 декабря 2019 года',\n",
       " 'Вышел очередной номер \"Вестника Банка России\"',\n",
       " 'Состоялось заседание Национального финансового совета',\n",
       " 'Перечень кредитных организаций, в которые назначены уполномоченные представители Банка России',\n",
       " 'Вышел очередной номер \"Вестника Банка России\"',\n",
       " 'Вышел очередной номер \"Вестника Банка России\"',\n",
       " 'Установлены факты манипулирования рынками валютных инструментов USDRUB_TOM и EURRUB_TOM',\n",
       " 'Вышел очередной номер \"Вестника Банка России\"',\n",
       " 'Результаты мониторинга максимальных процентных ставок кредитных организаций',\n",
       " 'Установлены факты манипулирования рынками инвестиционных паев ЗПИФ рентный \"Холи Лэнд\" и ЗПИФ рентный \"Коттеджио Парк\" под управлением ООО \"Эссет Менеджмент Солюшнс\"',\n",
       " 'Банк России выпускает в обращение памятные монеты из недрагоценных металлов',\n",
       " 'Отозвана лицензия на осуществление банковских операций у ООО \"Осколбанк\"',\n",
       " 'Банк России выпускает в обращение памятные монеты из драгоценных и недрагоценного металлов',\n",
       " 'На сайте Банка России пройдут технические работы',\n",
       " 'График публикаций аналитических материалов Банка России на декабрь 2019 года',\n",
       " 'Информация о проведении общероссийского дня приема граждан',\n",
       " 'Вышел очередной номер \"Вестника Банка России\"',\n",
       " 'Установлены факты манипулирования рынком обыкновенных акций ПАО \"Селигдар\"',\n",
       " 'Отозвана лицензия на осуществление банковских операций у АО \"Кредпромбанк\"',\n",
       " 'Отозвана лицензия на осуществление банковских операций у ООО \"РНКО \"ВЕСТ\"',\n",
       " 'Результаты мониторинга максимальных процентных ставок кредитных организаций',\n",
       " 'Установлены факты манипулирования рынком паев ЗПИФ недвижимости \"Аршин\" под управлением ЗАО \"Управляющая компания \"Диана\"',\n",
       " 'На сайте Банка России пройдут технические работы',\n",
       " 'Установлен факт осуществления ООО \"БОРСА ТРЕЙД\" брокерской деятельности без лицензии Банка России',\n",
       " 'Информация о размещении купонных облигаций Банка России',\n",
       " 'Миссия МВФ заявила о важности сохранения в России прочной макроэкономической основы',\n",
       " 'Вышел очередной номер \"Вестника Банка России\"',\n",
       " 'Выступление Председателя Банка России Эльвиры Набиуллиной на пленарном заседании Государственной Думы РФ',\n",
       " 'Информация о начале процедуры реорганизации РНКБ Банк (ПАО) и ПАО \"Крайинвестбанк\"',\n",
       " 'Отозвана лицензия на осуществление банковских операций у ООО КБ \"Кредитинвест\"',\n",
       " 'Результаты мониторинга максимальных процентных ставок кредитных организаций',\n",
       " 'Сведения об ответственном актуарии Калинине Н.Н. исключены из единого реестра ответственных актуариев',\n",
       " 'Вышел очередной номер \"Вестника Банка России\"',\n",
       " 'Отозвана лицензия на осуществление банковских операций у АКБ \"ЧУВАШКРЕДИТПРОМБАНК\" ПАО',\n",
       " 'Вышел очередной номер \"Вестника Банка России\"',\n",
       " 'Перечень кредитных организаций, в которые назначены уполномоченные представители Банка России',\n",
       " 'Банк России выпускает в обращение памятные монеты из драгоценного и недрагоценных металлов',\n",
       " 'Результаты мониторинга максимальных процентных ставок кредитных организаций',\n",
       " 'Дополненный график публикации аналитических материалов Банка России на ноябрь 2019 года',\n",
       " 'Отозвана лицензия на осуществление банковских операций у АО \"Эксперт Банк\"',\n",
       " 'График публикации аналитических материалов Банка России на ноябрь',\n",
       " 'Аннулирована лицензия на осуществление банковских операций у АО \"Данске банк\"',\n",
       " 'Совет директоров Банка России принял решение о включении ценных бумаг в Ломбардный список',\n",
       " 'Банк России повысил требования к минимальному уровню кредитных рейтингов в целях формирования Перечня и Списка субъектов для проведения операций рефинансирования',\n",
       " 'Банк России повысил требования к минимальному уровню кредитного рейтинга для включения ценных бумаг в Ломбардный список',\n",
       " 'Вышел очередной номер \"Вестника Банка России\"',\n",
       " 'Результаты проведенного временной администрацией обследования кредитной организации ООО \"РАМ Банк\"',\n",
       " 'Обновление графика заседаний Совета директоров Банка России по вопросам денежно-кредитной политики в 2020 году',\n",
       " 'Кредитные организации для работы в СБП смогут использовать внутридневные кредиты круглосуточно, в выходные и праздничные дни',\n",
       " 'Признано удовлетворительным качество функционирования Ценового центра Небанковской кредитной организации акционерного общества \"Национальный расчетный депозитарий\" при определении стоимости еврооблигаций Правительства РФ',\n",
       " 'Банк России принял решение снизить ключевую ставку на 50 б.п., до 6,50% годовых',\n",
       " 'Информация о начале процедуры реорганизации АО \"БАНК ОРЕНБУРГ\" и ОИКБ \"Русь\" (ООО)',\n",
       " 'Установлены факты манипулирования рынком паев ЗПИФ рентный \"Основная бизнес модель – Альфа\"',\n",
       " 'Установлены факты манипулирования рынком обыкновенных акций ПАО \"МРСК Центра\"',\n",
       " 'Результаты мониторинга максимальных процентных ставок кредитных организаций',\n",
       " 'А. Данилов назначен директором Департамента обеспечения банковского надзора',\n",
       " 'Установлены факты манипулирования рынками обыкновенных и привилегированных акций ПАО \"Мечел\" и рынком обыкновенных акций ПАО \"Иркутскэнерго\"',\n",
       " 'Вышел очередной номер \"Вестника Банка России\"',\n",
       " 'Результаты проведенного временной администрацией обследования кредитной организации Банк МБСП (АО)',\n",
       " 'Результаты проведенного временной администрацией обследования кредитной организации АО КБ \"Ассоциация\"',\n",
       " 'Результаты проведенного временной администрацией обследования кредитной организации Банк \"Прайм Финанс\" (АО)',\n",
       " 'Вышел очередной номер \"Вестника Банка России\"',\n",
       " 'Продлен срок действия временной администрации по управлению банком АО \"ВОКБАНК\"',\n",
       " 'Информация о размещении купонных облигаций Банка России',\n",
       " 'Банк России выпускает в обращение памятную монету из драгоценного металла',\n",
       " 'Результаты мониторинга максимальных процентных ставок кредитных организаций',\n",
       " 'Утвержден перечень системно значимых кредитных организаций',\n",
       " 'Совет директоров Банка России принял решение об уровнях кредитных рейтингов, устанавливаемых в соответствии с Указанием Банка России от 22 февраля 2017 года № 4298-У',\n",
       " 'Совет директоров Банка России принял решение об уровнях кредитных рейтингов, устанавливаемых в соответствии с Указанием Банка России от 22 февраля 2017 года № 4297-У',\n",
       " 'Вышел очередной номер \"Вестника Банка России\"',\n",
       " 'Перечень кредитных организаций, в которые назначены уполномоченные представители Банка России',\n",
       " 'Состоялось заседание Национального финансового совета',\n",
       " 'Результаты мониторинга максимальных процентных ставок кредитных организаций',\n",
       " 'Информация о деятельности временных администраций страховых организаций',\n",
       " 'Информация о функционировании платежной системы Банка России 6 октября 2019 года',\n",
       " 'Вышел очередной номер \"Вестника Банка России\"',\n",
       " 'Информация о размещении купонных облигаций Банка России',\n",
       " 'Банк России выпускает в обращение памятные монеты из драгоценного металла',\n",
       " 'Вышел очередной номер \"Вестника Банка России\"',\n",
       " 'Опубликована Программа обследований Банка России на IV квартал 2019 года и I квартал 2020 года',\n",
       " 'Вышел очередной номер \"Вестника Банка России\"',\n",
       " 'Информация о функционировании платежной системы Банка России 29 сентября 2019 года',\n",
       " 'Совет директоров Банка России принял решение об определении максимального размера процентной ставки по займам, предоставляемым КПК, СКПК физическим лицам в целях, не связанных с осуществлением ими предпринимательской деятельности, и обязательства заемщиков по которым обеспечены ипотекой',\n",
       " 'Информация о начале процедуры реорганизации ПАО \"МИнБанк\" и АО \"ВОКБАНК\"',\n",
       " 'Вышел очередной номер \"Вестника Банка России\"',\n",
       " 'Результаты мониторинга максимальных процентных ставок кредитных организаций',\n",
       " 'Информация о начале процедуры реорганизации АО РНКО \"Синергия\"',\n",
       " 'Информация о функционировании платежной системы Банка России 21 и 22 сентября 2019 года',\n",
       " 'Вышел очередной номер \"Вестника Банка России\"',\n",
       " 'Опубликованы статистические данные в рамках Трехлетнего обзора БМР \"Структура оборота валютного рынка и рынка внебиржевых производных финансовых инструментов\"',\n",
       " 'Начата процедура реорганизации ПАО Банк ЗЕНИТ, АБ \"Девон-Кредит\" (ПАО) и ПАО \"Липецккомбанк\"',\n",
       " 'На сайте Банка России проходят технические работы',\n",
       " 'Отозвана лицензия на осуществление банковских операций у АО \"ГринКомБанк\"',\n",
       " 'Результаты мониторинга максимальных процентных ставок кредитных организаций',\n",
       " 'Информация о размещении купонных облигаций Банка России',\n",
       " 'Информация о деятельности временной администрации общества с ограниченной ответственностью \"Страховая компания \"Трудовое страхование\"',\n",
       " 'Информация о деятельности временной администрации акционерного общества страховой компании \"Сибирский Спас\"',\n",
       " 'Снизилось значение норматива достаточности базового капитала ПАО \"Плюс Банк\"',\n",
       " 'Вышел очередной номер \"Вестника Банка России\"',\n",
       " 'Результаты мониторинга максимальных процентных ставок кредитных организаций',\n",
       " 'Банк России принял решение снизить ключевую ставку на 25 б.п., до 7,00% годовых',\n",
       " 'Вышел очередной номер \"Вестника Банка России\"',\n",
       " 'Внесены изменения в пресс-релиз Банка России от 27.06.2019',\n",
       " 'На сайте Банка России проходят технические работы',\n",
       " 'Заявление Председателя Банка России Эльвиры Набиуллиной по итогам заседания Совета директоров 6 сентября 2019 года',\n",
       " 'Банк России выпускает в обращение памятные монеты из драгоценного и недрагоценного металлов',\n",
       " 'Вышел очередной номер \"Вестника Банка России\"',\n",
       " 'Результаты проведенного временной администрацией обследования кредитной организации АО КБ \"ИВАНОВО\"',\n",
       " 'Перечень кредитных организаций, в которые назначены уполномоченные представители Банка России',\n",
       " 'Совет директоров Банка России принял решение о включении ценных бумаг в Ломбардный список',\n",
       " 'Совет директоров Банка России принял решение об установлении уровней кредитных рейтингов, используемых для целей применения Указания Банка России от 22 марта 2019 года № 5099-У',\n",
       " 'Вышел очередной номер \"Вестника Банка России\"',\n",
       " 'Назначен уполномоченный по правам потребителей финансовых услуг в сферах финансовых услуг',\n",
       " 'Информация о реорганизации АО \"ВОКБАНК\" в форме присоединения к ПАО \"МИнБанк\"',\n",
       " ...]"
      ]
     },
     "execution_count": 34,
     "metadata": {},
     "output_type": "execute_result"
    }
   ],
   "source": [
    "df.header.tolist()[::-1]"
   ]
  }
 ],
 "metadata": {
  "kernelspec": {
   "display_name": "Python 3",
   "language": "python",
   "name": "python3"
  },
  "language_info": {
   "codemirror_mode": {
    "name": "ipython",
    "version": 3
   },
   "file_extension": ".py",
   "mimetype": "text/x-python",
   "name": "python",
   "nbconvert_exporter": "python",
   "pygments_lexer": "ipython3",
   "version": "3.8.3"
  }
 },
 "nbformat": 4,
 "nbformat_minor": 4
}
